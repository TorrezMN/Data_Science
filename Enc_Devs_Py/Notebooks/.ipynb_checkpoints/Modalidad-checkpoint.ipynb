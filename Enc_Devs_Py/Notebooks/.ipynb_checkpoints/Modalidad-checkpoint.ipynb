{
 "cells": [
  {
   "cell_type": "code",
   "execution_count": 1,
   "id": "06d7d3c3",
   "metadata": {},
   "outputs": [],
   "source": [
    "# Importing Libs\n",
    "import pandas as pd\n",
    "import matplotlib.pyplot as plt\n",
    "%matplotlib inline"
   ]
  },
  {
   "cell_type": "code",
   "execution_count": 2,
   "id": "0faabd39",
   "metadata": {},
   "outputs": [],
   "source": [
    "plt.rcParams['figure.figsize'] = [12, 7]"
   ]
  },
  {
   "cell_type": "code",
   "execution_count": 3,
   "id": "671eeca3",
   "metadata": {},
   "outputs": [],
   "source": [
    "df = pd.read_csv('../enc_devs_py.csv')"
   ]
  },
  {
   "cell_type": "code",
   "execution_count": 4,
   "id": "57fbeaf5",
   "metadata": {},
   "outputs": [
    {
     "data": {
      "text/html": [
       " <style>\n",
       ".output_png {\n",
       "    display: table-cell;\n",
       "    text-align: center;\n",
       "    vertical-align: middle;\n",
       "}\n",
       "</style> "
      ],
      "text/plain": [
       "<IPython.core.display.HTML object>"
      ]
     },
     "execution_count": 4,
     "metadata": {},
     "output_type": "execute_result"
    }
   ],
   "source": [
    "from IPython.core.display import HTML as Center\n",
    "\n",
    "Center(\"\"\" <style>\n",
    ".output_png {\n",
    "    display: table-cell;\n",
    "    text-align: center;\n",
    "    vertical-align: middle;\n",
    "}\n",
    "</style> \"\"\")"
   ]
  },
  {
   "cell_type": "markdown",
   "id": "5f437e8f",
   "metadata": {},
   "source": [
    "# Modalidad\n",
    "---\n",
    "- Modalidad de trabajo de los encuestados."
   ]
  },
  {
   "cell_type": "code",
   "execution_count": 5,
   "id": "2a6e6af5",
   "metadata": {},
   "outputs": [
    {
     "data": {
      "text/plain": [
       "(342,)"
      ]
     },
     "execution_count": 5,
     "metadata": {},
     "output_type": "execute_result"
    }
   ],
   "source": [
    "# Cantidad de respuestas.\n",
    "df['Modalidad'].shape"
   ]
  },
  {
   "cell_type": "code",
   "execution_count": 6,
   "id": "f57b7f63",
   "metadata": {},
   "outputs": [
    {
     "data": {
      "text/plain": [
       "0"
      ]
     },
     "execution_count": 6,
     "metadata": {},
     "output_type": "execute_result"
    }
   ],
   "source": [
    "# Conteo de respuestas vacias.\n",
    "df['Modalidad'].isna().sum()"
   ]
  },
  {
   "cell_type": "code",
   "execution_count": 7,
   "id": "9cc9f296",
   "metadata": {},
   "outputs": [
    {
     "data": {
      "text/plain": [
       "Remoto                       145\n",
       "Hibrído                      110\n",
       "Presencial                    78\n",
       "Ninguna de las anteriores      9\n",
       "Name: Modalidad, dtype: int64"
      ]
     },
     "execution_count": 7,
     "metadata": {},
     "output_type": "execute_result"
    }
   ],
   "source": [
    "df['Modalidad'].value_counts()"
   ]
  },
  {
   "cell_type": "code",
   "execution_count": 8,
   "id": "ef781cdd",
   "metadata": {},
   "outputs": [
    {
     "data": {
      "text/plain": [
       "Remoto                       0.423977\n",
       "Hibrído                      0.321637\n",
       "Presencial                   0.228070\n",
       "Ninguna de las anteriores    0.026316\n",
       "Name: Modalidad, dtype: float64"
      ]
     },
     "execution_count": 8,
     "metadata": {},
     "output_type": "execute_result"
    }
   ],
   "source": [
    "df['Modalidad'].value_counts(normalize=True)"
   ]
  },
  {
   "cell_type": "code",
   "execution_count": 9,
   "id": "4d95373a",
   "metadata": {},
   "outputs": [
    {
     "data": {
      "text/plain": [
       "<AxesSubplot:title={'center':'Modalidad de Trabajo'}>"
      ]
     },
     "execution_count": 9,
     "metadata": {},
     "output_type": "execute_result"
    },
    {
     "data": {
      "image/png": "[encoded data removed]",
      "text/plain": [
       "<Figure size 864x504 with 1 Axes>"
      ]
     },
     "metadata": {},
     "output_type": "display_data"
    }
   ],
   "source": [
    "df['Modalidad'].value_counts(normalize=True).plot(\n",
    "    kind = 'pie',\n",
    "    title = 'Modalidad de Trabajo',\n",
    "    ylabel = '')"
   ]
  },
  {
   "cell_type": "code",
   "execution_count": 10,
   "id": "eaee98f6",
   "metadata": {},
   "outputs": [
    {
     "data": {
      "text/plain": [
       "Index(['Remoto', 'Hibrído', 'Presencial', 'Ninguna de las anteriores'], dtype='object')"
      ]
     },
     "execution_count": 10,
     "metadata": {},
     "output_type": "execute_result"
    }
   ],
   "source": [
    "df['Modalidad'].value_counts().keys()"
   ]
  },
  {
   "cell_type": "code",
   "execution_count": 11,
   "id": "ba359e5a",
   "metadata": {},
   "outputs": [],
   "source": [
    "df['Modalidad'].replace({\n",
    "    'Ninguna de las anteriores':'Ninguna'\n",
    "}, inplace =True)"
   ]
  },
  {
   "cell_type": "code",
   "execution_count": 12,
   "id": "1d373ade",
   "metadata": {},
   "outputs": [
    {
     "data": {
      "text/plain": [
       "Index(['Remoto', 'Hibrído', 'Presencial', 'Ninguna'], dtype='object')"
      ]
     },
     "execution_count": 12,
     "metadata": {},
     "output_type": "execute_result"
    }
   ],
   "source": [
    "df['Modalidad'].value_counts().keys()"
   ]
  },
  {
   "cell_type": "markdown",
   "id": "e11376dd",
   "metadata": {},
   "source": [
    "# Modalidad de trabajo por genero.\n",
    "---"
   ]
  },
  {
   "cell_type": "code",
   "execution_count": 13,
   "id": "09cf5119",
   "metadata": {},
   "outputs": [
    {
     "data": {
      "text/plain": [
       "Index(['Hombre', 'Mujer', 'Prefiero no compartir', 'Otros', 'Género'], dtype='object')"
      ]
     },
     "execution_count": 13,
     "metadata": {},
     "output_type": "execute_result"
    }
   ],
   "source": [
    "df['Género'].value_counts().keys()"
   ]
  },
  {
   "cell_type": "markdown",
   "id": "a99face4",
   "metadata": {},
   "source": [
    "## Genero no definido."
   ]
  },
  {
   "cell_type": "code",
   "execution_count": 14,
   "id": "f198e3f3",
   "metadata": {},
   "outputs": [
    {
     "data": {
      "text/plain": [
       "0       Remoto\n",
       "78     Hibrído\n",
       "146    Ninguna\n",
       "147     Remoto\n",
       "158     Remoto\n",
       "301     Remoto\n",
       "Name: Modalidad, dtype: object"
      ]
     },
     "execution_count": 14,
     "metadata": {},
     "output_type": "execute_result"
    }
   ],
   "source": [
    "df[df['Género'].isin(['Prefiero no compartir', 'Otros','Género' ])]['Modalidad']"
   ]
  },
  {
   "cell_type": "code",
   "execution_count": 15,
   "id": "e1963a5d",
   "metadata": {},
   "outputs": [
    {
     "data": {
      "text/plain": [
       "Remoto     4\n",
       "Ninguna    1\n",
       "Hibrído    1\n",
       "Name: Modalidad, dtype: int64"
      ]
     },
     "execution_count": 15,
     "metadata": {},
     "output_type": "execute_result"
    }
   ],
   "source": [
    "df[df['Género'].isin(['Prefiero no compartir', 'Otros','Género' ])]['Modalidad'].value_counts()"
   ]
  },
  {
   "cell_type": "code",
   "execution_count": 16,
   "id": "1bddcbea",
   "metadata": {},
   "outputs": [
    {
     "data": {
      "text/plain": [
       "0"
      ]
     },
     "execution_count": 16,
     "metadata": {},
     "output_type": "execute_result"
    }
   ],
   "source": [
    "df[df['Género'].isin(['Prefiero no compartir', 'Otros','Género' ])]['Modalidad'].isna().sum()"
   ]
  },
  {
   "cell_type": "code",
   "execution_count": 17,
   "id": "4e82921c",
   "metadata": {},
   "outputs": [
    {
     "data": {
      "text/plain": [
       "<AxesSubplot:title={'center':'Genero Indefinido - Modalidad de Trabajo'}>"
      ]
     },
     "execution_count": 17,
     "metadata": {},
     "output_type": "execute_result"
    },
    {
     "data": {
      "image/png": "[encoded data removed]",
      "text/plain": [
       "<Figure size 864x504 with 1 Axes>"
      ]
     },
     "metadata": {},
     "output_type": "display_data"
    }
   ],
   "source": [
    "df[df['Género'].isin(['Prefiero no compartir', 'Otros','Género' ])]['Modalidad'].value_counts(normalize=True).plot(\n",
    "    kind='pie',\n",
    "    title='Genero Indefinido - Modalidad de Trabajo',\n",
    "    ylabel = '')"
   ]
  },
  {
   "cell_type": "markdown",
   "id": "dbb9aa1c",
   "metadata": {},
   "source": [
    "## Hombres"
   ]
  },
  {
   "cell_type": "code",
   "execution_count": 18,
   "id": "9d66448a",
   "metadata": {},
   "outputs": [
    {
     "data": {
      "text/plain": [
       "Remoto        117\n",
       "Hibrído        94\n",
       "Presencial     60\n",
       "Ninguna         8\n",
       "Name: Modalidad, dtype: int64"
      ]
     },
     "execution_count": 18,
     "metadata": {},
     "output_type": "execute_result"
    }
   ],
   "source": [
    "df.groupby('Género').get_group('Hombre')['Modalidad'].value_counts()"
   ]
  },
  {
   "cell_type": "code",
   "execution_count": 19,
   "id": "af467474",
   "metadata": {},
   "outputs": [
    {
     "data": {
      "text/plain": [
       "Remoto        0.419355\n",
       "Hibrído       0.336918\n",
       "Presencial    0.215054\n",
       "Ninguna       0.028674\n",
       "Name: Modalidad, dtype: float64"
      ]
     },
     "execution_count": 19,
     "metadata": {},
     "output_type": "execute_result"
    }
   ],
   "source": [
    "df.groupby('Género').get_group('Hombre')['Modalidad'].value_counts(normalize=True)"
   ]
  },
  {
   "cell_type": "code",
   "execution_count": 20,
   "id": "a115098d",
   "metadata": {},
   "outputs": [
    {
     "name": "stderr",
     "output_type": "stream",
     "text": [
      "/home/torrezmn/Documents/DS_ENV/lib/python3.6/site-packages/pandas/plotting/_matplotlib/core.py:1547: MatplotlibDeprecationWarning: normalize=None does not normalize if the sum is less than 1 but this behavior is deprecated since 3.3 until two minor releases later. After the deprecation period the default value will be normalize=True. To prevent normalization pass normalize=False \n",
      "  results = ax.pie(y, labels=blabels, **kwds)\n"
     ]
    },
    {
     "data": {
      "text/plain": [
       "<AxesSubplot:title={'center':'Modalidad de Trabajo de Hombres'}>"
      ]
     },
     "execution_count": 20,
     "metadata": {},
     "output_type": "execute_result"
    },
    {
     "data": {
      "image/png": "[encoded data removed]",
      "text/plain": [
       "<Figure size 864x504 with 1 Axes>"
      ]
     },
     "metadata": {},
     "output_type": "display_data"
    }
   ],
   "source": [
    "df.groupby('Género').get_group('Hombre')['Modalidad'].value_counts(normalize=True).plot(\n",
    "    kind = 'pie',\n",
    "    title = 'Modalidad de Trabajo de Hombres', \n",
    "    ylabel = '')"
   ]
  },
  {
   "cell_type": "markdown",
   "id": "047938b3",
   "metadata": {},
   "source": [
    "## Mujer"
   ]
  },
  {
   "cell_type": "code",
   "execution_count": 21,
   "id": "a6b698f9",
   "metadata": {},
   "outputs": [
    {
     "data": {
      "text/plain": [
       "Remoto        20\n",
       "Presencial    18\n",
       "Hibrído       11\n",
       "Name: Modalidad, dtype: int64"
      ]
     },
     "execution_count": 21,
     "metadata": {},
     "output_type": "execute_result"
    }
   ],
   "source": [
    "df.groupby('Género').get_group('Mujer')['Modalidad'].value_counts()"
   ]
  },
  {
   "cell_type": "code",
   "execution_count": 22,
   "id": "b36af8ce",
   "metadata": {},
   "outputs": [
    {
     "data": {
      "text/plain": [
       "Remoto        0.408163\n",
       "Presencial    0.367347\n",
       "Hibrído       0.224490\n",
       "Name: Modalidad, dtype: float64"
      ]
     },
     "execution_count": 22,
     "metadata": {},
     "output_type": "execute_result"
    }
   ],
   "source": [
    "df.groupby('Género').get_group('Mujer')['Modalidad'].value_counts(normalize=True)"
   ]
  },
  {
   "cell_type": "code",
   "execution_count": 23,
   "id": "123dbe1c",
   "metadata": {},
   "outputs": [
    {
     "data": {
      "text/plain": [
       "<AxesSubplot:title={'center':'Modalidad de trabajo de mujeres.'}>"
      ]
     },
     "execution_count": 23,
     "metadata": {},
     "output_type": "execute_result"
    },
    {
     "data": {
      "image/png": "[encoded data removed]",
      "text/plain": [
       "<Figure size 864x504 with 1 Axes>"
      ]
     },
     "metadata": {},
     "output_type": "display_data"
    }
   ],
   "source": [
    "df.groupby('Género').get_group('Mujer')['Modalidad'].value_counts(normalize=True).plot(\n",
    "    kind='pie',\n",
    "    title='Modalidad de trabajo de mujeres.',\n",
    "    ylabel='')"
   ]
  },
  {
   "cell_type": "markdown",
   "id": "116e539f",
   "metadata": {},
   "source": [
    "## COMPARATIVA TODOS LOS GENEROS"
   ]
  },
  {
   "cell_type": "code",
   "execution_count": 24,
   "id": "ad433039",
   "metadata": {},
   "outputs": [
    {
     "data": {
      "image/png": "[encoded data removed]",
      "text/plain": [
       "<Figure size 864x504 with 3 Axes>"
      ]
     },
     "metadata": {
      "needs_background": "light"
     },
     "output_type": "display_data"
    }
   ],
   "source": [
    "plt.figure() \n",
    "plt.subplot(3,1,1)\n",
    "\n",
    "\n",
    "df.groupby('Género').get_group('Mujer')['Modalidad'].value_counts(normalize=True).plot(\n",
    "    kind='barh',\n",
    "    title='Modalidad de trabajo de mujeres.',\n",
    "    ylabel='',\n",
    "    color='pink'\n",
    "    )\n",
    "\n",
    "\n",
    "plt.subplot(3,1,2)\n",
    "df.groupby('Género').get_group('Hombre')['Modalidad'].value_counts(normalize=True).plot(\n",
    "    kind = 'barh',\n",
    "    title = 'Modalidad de Trabajo de Hombres', \n",
    "    ylabel = '',\n",
    "    color='blue')\n",
    "\n",
    "plt.subplot(3,1,3)\n",
    "df[df['Género'].isin(['Prefiero no compartir', 'Otros','Género' ])]['Modalidad'].value_counts(normalize=True).plot(\n",
    "    kind='barh',\n",
    "    title='Genero Indefinido - Modalidad de Trabajo',\n",
    "    ylabel = '',\n",
    "    color='gray',\n",
    "    )\n",
    "\n",
    "\n",
    "plt.subplots_adjust(left=0.1,\n",
    "                    bottom=0.1, \n",
    "                    right=0.9, \n",
    "                    top=0.9, \n",
    "                    wspace=0.4, \n",
    "                    hspace=0.4)"
   ]
  },
  {
   "cell_type": "markdown",
   "id": "09006ef9",
   "metadata": {},
   "source": [
    "## Modalida de Trabajo por edad\n",
    "---"
   ]
  },
  {
   "cell_type": "code",
   "execution_count": 25,
   "id": "41db458a",
   "metadata": {},
   "outputs": [
    {
     "data": {
      "text/plain": [
       "30 a 34 años    120\n",
       "25 a 29 años     98\n",
       "35 a 39 años     51\n",
       "20 a 24 años     42\n",
       "40 a 44 años     16\n",
       "15 a 19 años      6\n",
       "50 a 54 años      3\n",
       "55 a 59 años      3\n",
       "45 a 49 años      3\n",
       "Name: Edad actual , dtype: int64"
      ]
     },
     "execution_count": 25,
     "metadata": {},
     "output_type": "execute_result"
    }
   ],
   "source": [
    "df['Edad actual '].value_counts()"
   ]
  },
  {
   "cell_type": "code",
   "execution_count": 26,
   "id": "1bf09cb9",
   "metadata": {},
   "outputs": [
    {
     "data": {
      "text/plain": [
       "0"
      ]
     },
     "execution_count": 26,
     "metadata": {},
     "output_type": "execute_result"
    }
   ],
   "source": [
    "df['Edad actual '].isna().sum()"
   ]
  },
  {
   "cell_type": "code",
   "execution_count": 27,
   "id": "ef14e07f",
   "metadata": {},
   "outputs": [],
   "source": [
    "grupos_etarios = [i for i in df['Edad actual '].value_counts().keys()]"
   ]
  },
  {
   "cell_type": "code",
   "execution_count": 28,
   "id": "1d546451",
   "metadata": {},
   "outputs": [
    {
     "data": {
      "image/png": "[encoded data removed]",
      "text/plain": [
       "<Figure size 864x504 with 9 Axes>"
      ]
     },
     "metadata": {
      "needs_background": "light"
     },
     "output_type": "display_data"
    }
   ],
   "source": [
    "plt.figure() \n",
    "\n",
    "for k,v in enumerate(grupos_etarios):\n",
    "    plt.subplot(3,3,k+1)\n",
    "    df.groupby('Edad actual ').get_group(v)['Modalidad'].value_counts().plot(\n",
    "        kind='barh',\n",
    "        title='Modalidad de Trabajo {0}'.format(v))\n",
    "    \n",
    "\n",
    "plt.subplots_adjust(left=0.1,\n",
    "                    bottom=0.1, \n",
    "                    right=0.9, \n",
    "                    top=0.9, \n",
    "                    wspace=0.4, \n",
    "                    hspace=0.4)"
   ]
  },
  {
   "cell_type": "code",
   "execution_count": null,
   "id": "d4f12e01",
   "metadata": {},
   "outputs": [],
   "source": []
  },
  {
   "cell_type": "code",
   "execution_count": null,
   "id": "7c6f78f7",
   "metadata": {},
   "outputs": [],
   "source": []
  },
  {
   "cell_type": "code",
   "execution_count": null,
   "id": "1c62be6e",
   "metadata": {},
   "outputs": [],
   "source": []
  },
  {
   "cell_type": "code",
   "execution_count": null,
   "id": "a1fcbe95",
   "metadata": {},
   "outputs": [],
   "source": []
  },
  {
   "cell_type": "code",
   "execution_count": null,
   "id": "3d6ce9c6",
   "metadata": {},
   "outputs": [],
   "source": []
  }
 ],
 "metadata": {
  "kernelspec": {
   "display_name": "Python 3",
   "language": "python",
   "name": "python3"
  },
  "language_info": {
   "codemirror_mode": {
    "name": "ipython",
    "version": 3
   },
   "file_extension": ".py",
   "mimetype": "text/x-python",
   "name": "python",
   "nbconvert_exporter": "python",
   "pygments_lexer": "ipython3",
   "version": "3.6.9"
  }
 },
 "nbformat": 4,
 "nbformat_minor": 5
}
