{
 "cells": [
  {
   "cell_type": "code",
   "execution_count": 14,
   "id": "61f98778-e7b7-4439-840e-20e64d21cd8d",
   "metadata": {},
   "outputs": [],
   "source": [
    "# Importing Libs\n",
    "import pandas as pd\n",
    "import seaborn as sns\n",
    "import matplotlib.pyplot as plt\n",
    "from collections import Counter\n",
    "#from Toolkit import tool\n",
    "\n",
    "# My Tools\n",
    "\n",
    "%matplotlib inline"
   ]
  },
  {
   "cell_type": "code",
   "execution_count": 2,
   "id": "61c5e017-4387-48f5-bbc3-2fc8a3a0b79f",
   "metadata": {},
   "outputs": [],
   "source": [
    "# Reseting figure size params.\n",
    "plt.rcParams['figure.figsize'] = [12, 7] "
   ]
  },
  {
   "cell_type": "code",
   "execution_count": 3,
   "id": "211e5880-225f-482e-a011-ec16180cf5a2",
   "metadata": {},
   "outputs": [],
   "source": [
    "# Setting seaborn as default plotting lib.\n",
    "sns.set()"
   ]
  },
  {
   "cell_type": "code",
   "execution_count": 4,
   "id": "ac0a80a5-9968-4e33-971d-e84c996f66ef",
   "metadata": {},
   "outputs": [],
   "source": [
    "df = pd.read_csv('../data_fixed.csv')"
   ]
  },
  {
   "cell_type": "code",
   "execution_count": 5,
   "id": "6805c398-bcfc-42d4-8bc2-5e06ffa0456b",
   "metadata": {},
   "outputs": [],
   "source": [
    "# CUSTOM COLOR PALETTE\n",
    "# Light\n",
    "color_hombres_light = (12/255, 50/255, 196/255, 0.5)\n",
    "color_mujeres_light = (255/255, 192/255, 203/255, 0.5)\n",
    "color_neutro_light = (149/255, 165/255, 166/255, 0.5)\n",
    "# Dark\n",
    "color_hombres_dark = (12/255, 50/255, 196/255, 0.8)\n",
    "color_mujeres_dark = (255/255, 192/255, 203/255, 0.8)\n",
    "color_neutro_dark = (149/255, 165/255, 166/255, 0.8)"
   ]
  },
  {
   "cell_type": "code",
   "execution_count": 6,
   "id": "aa2c1f6e-60bc-4b4b-b205-7b4d64c00ac6",
   "metadata": {},
   "outputs": [
    {
     "data": {
      "text/html": [
       "<div>\n",
       "<style scoped>\n",
       "    .dataframe tbody tr th:only-of-type {\n",
       "        vertical-align: middle;\n",
       "    }\n",
       "\n",
       "    .dataframe tbody tr th {\n",
       "        vertical-align: top;\n",
       "    }\n",
       "\n",
       "    .dataframe thead th {\n",
       "        text-align: right;\n",
       "    }\n",
       "</style>\n",
       "<table border=\"1\" class=\"dataframe\">\n",
       "  <thead>\n",
       "    <tr style=\"text-align: right;\">\n",
       "      <th></th>\n",
       "      <th>Unnamed: 0</th>\n",
       "      <th>marca_temp</th>\n",
       "      <th>1_ocupacion</th>\n",
       "      <th>2_relacion_contractual</th>\n",
       "      <th>3_mercado_de_trabajo</th>\n",
       "      <th>4_rubro_de_trabajo</th>\n",
       "      <th>5_ROL_de_trabajo</th>\n",
       "      <th>6_años_de_experiencia</th>\n",
       "      <th>7) Nivel de seniority que Ud. considera que posee:</th>\n",
       "      <th>8) Nivel de seniority que le asignan en su trabajo actual (aunque no sea en forma explícita, si puede inferir igual indique):</th>\n",
       "      <th>...</th>\n",
       "      <th>17_1_factores_opciones_lab</th>\n",
       "      <th>18_2_factores_opciones_lab</th>\n",
       "      <th>19_tuvo_entrev_inter</th>\n",
       "      <th>20_freq_ofert_laboral</th>\n",
       "      <th>21_mayor_dif_x_emp_internacionales</th>\n",
       "      <th>22_percep_señority</th>\n",
       "      <th>23_perf_mas_req</th>\n",
       "      <th>24_educacion_formal_internacionales</th>\n",
       "      <th>25_mayor_desafio_exterior</th>\n",
       "      <th>26_ingles_nivel_min</th>\n",
       "    </tr>\n",
       "  </thead>\n",
       "  <tbody>\n",
       "    <tr>\n",
       "      <th>0</th>\n",
       "      <td>0</td>\n",
       "      <td>2022-09-15 09:15:24.726</td>\n",
       "      <td>fulltime</td>\n",
       "      <td>indef_sin_contrato</td>\n",
       "      <td>emp_ext_cli_ext</td>\n",
       "      <td>soft. factory / intermediaria</td>\n",
       "      <td>dev / software eng</td>\n",
       "      <td>11 - 15</td>\n",
       "      <td>Senior</td>\n",
       "      <td>Senior</td>\n",
       "      <td>...</td>\n",
       "      <td>Espacio para crecimiento profesional</td>\n",
       "      <td>Oportunidad de crecimiento económico</td>\n",
       "      <td>Sí</td>\n",
       "      <td>Más de 10 veces al año</td>\n",
       "      <td>El conocimiento de tecnologías o metodologías ...</td>\n",
       "      <td>En el mercado internacional, hay exigencias ma...</td>\n",
       "      <td>Un perfil con alto nivel de especialización pe...</td>\n",
       "      <td>La educación formal no tiene incidencia en el ...</td>\n",
       "      <td>La falta de experiencia en herramientas o meto...</td>\n",
       "      <td>Poder expresarse plenamente sobre temas técnic...</td>\n",
       "    </tr>\n",
       "    <tr>\n",
       "      <th>1</th>\n",
       "      <td>1</td>\n",
       "      <td>2022-09-15 09:16:09.409</td>\n",
       "      <td>fulltime</td>\n",
       "      <td>contrato_temporal</td>\n",
       "      <td>emp_local_cli_local</td>\n",
       "      <td>soft. factory / intermediaria</td>\n",
       "      <td>dev / software eng</td>\n",
       "      <td>11 - 15</td>\n",
       "      <td>Senior</td>\n",
       "      <td>Senior</td>\n",
       "      <td>...</td>\n",
       "      <td>Modalidad de trabajo remota o híbrida</td>\n",
       "      <td>Espacio para crecimiento profesional</td>\n",
       "      <td>Sí</td>\n",
       "      <td>3 a 5 veces al año</td>\n",
       "      <td>El conocimiento de tecnologías o metodologías ...</td>\n",
       "      <td>No trabajo para el exterior.</td>\n",
       "      <td>No trabajo para el exterior</td>\n",
       "      <td>La educación formal otorga las bases para tene...</td>\n",
       "      <td>No trabajo para el exterior</td>\n",
       "      <td>Lo anterior más poder expresarse verbalmente s...</td>\n",
       "    </tr>\n",
       "    <tr>\n",
       "      <th>2</th>\n",
       "      <td>2</td>\n",
       "      <td>2022-09-15 09:18:17.827</td>\n",
       "      <td>fulltime</td>\n",
       "      <td>indef_sin_contrato</td>\n",
       "      <td>emp_loc_cli_ext</td>\n",
       "      <td>soft. factory / intermediaria</td>\n",
       "      <td>dev / software eng</td>\n",
       "      <td>10.0</td>\n",
       "      <td>Mid-level o Associate</td>\n",
       "      <td>Mid-level o Associate</td>\n",
       "      <td>...</td>\n",
       "      <td>Estabilidad laboral</td>\n",
       "      <td>Seguro social y plan de retiro (jubilación)</td>\n",
       "      <td>Sí</td>\n",
       "      <td>3 a 5 veces al año</td>\n",
       "      <td>El conocimiento de tecnologías o metodologías ...</td>\n",
       "      <td>En el mercado internacional, hay exigencias ma...</td>\n",
       "      <td>Un perfil con alto nivel de especialización pe...</td>\n",
       "      <td>La educación formal otorga las bases para tene...</td>\n",
       "      <td>La falta de experiencia en escenarios muy dema...</td>\n",
       "      <td>Lo anterior más poder expresarse verbalmente s...</td>\n",
       "    </tr>\n",
       "    <tr>\n",
       "      <th>3</th>\n",
       "      <td>3</td>\n",
       "      <td>2022-09-15 09:19:28.263</td>\n",
       "      <td>fulltime</td>\n",
       "      <td>r_dependencia</td>\n",
       "      <td>emp_local_cli_local</td>\n",
       "      <td>Telefonía / Networking</td>\n",
       "      <td>Software Arch.</td>\n",
       "      <td>7.0</td>\n",
       "      <td>Senior</td>\n",
       "      <td>Senior</td>\n",
       "      <td>...</td>\n",
       "      <td>Remuneración económica</td>\n",
       "      <td>Ambiente laboral</td>\n",
       "      <td>No</td>\n",
       "      <td>3 a 5 veces al año</td>\n",
       "      <td>El idioma</td>\n",
       "      <td>No trabajo para el exterior.</td>\n",
       "      <td>No trabajo para el exterior</td>\n",
       "      <td>No he participado en procesos de selección par...</td>\n",
       "      <td>El idioma</td>\n",
       "      <td>Lo anterior más poder expresarse verbalmente s...</td>\n",
       "    </tr>\n",
       "    <tr>\n",
       "      <th>4</th>\n",
       "      <td>4</td>\n",
       "      <td>2022-09-15 09:22:02.338</td>\n",
       "      <td>fulltime</td>\n",
       "      <td>indef_sin_contrato</td>\n",
       "      <td>emp_ext_cli_ext</td>\n",
       "      <td>soft. factory / intermediaria</td>\n",
       "      <td>Data Engineer</td>\n",
       "      <td>6.0</td>\n",
       "      <td>Semi-senior</td>\n",
       "      <td>Semi-senior</td>\n",
       "      <td>...</td>\n",
       "      <td>Oportunidad de crecimiento económico</td>\n",
       "      <td>Estabilidad laboral</td>\n",
       "      <td>Sí</td>\n",
       "      <td>Más de 10 veces al año</td>\n",
       "      <td>El idioma</td>\n",
       "      <td>En el mercado internacional, hay exigencias ma...</td>\n",
       "      <td>Un perfil con alto nivel de especialización pe...</td>\n",
       "      <td>La educación formal otorga las bases para tene...</td>\n",
       "      <td>El idioma</td>\n",
       "      <td>Poder expresarse plenamente sobre temas técnic...</td>\n",
       "    </tr>\n",
       "  </tbody>\n",
       "</table>\n",
       "<p>5 rows × 28 columns</p>\n",
       "</div>"
      ],
      "text/plain": [
       "   Unnamed: 0               marca_temp 1_ocupacion 2_relacion_contractual  \\\n",
       "0           0  2022-09-15 09:15:24.726    fulltime     indef_sin_contrato   \n",
       "1           1  2022-09-15 09:16:09.409    fulltime      contrato_temporal   \n",
       "2           2  2022-09-15 09:18:17.827    fulltime     indef_sin_contrato   \n",
       "3           3  2022-09-15 09:19:28.263    fulltime          r_dependencia   \n",
       "4           4  2022-09-15 09:22:02.338    fulltime     indef_sin_contrato   \n",
       "\n",
       "  3_mercado_de_trabajo             4_rubro_de_trabajo    5_ROL_de_trabajo  \\\n",
       "0      emp_ext_cli_ext  soft. factory / intermediaria  dev / software eng   \n",
       "1  emp_local_cli_local  soft. factory / intermediaria  dev / software eng   \n",
       "2      emp_loc_cli_ext  soft. factory / intermediaria  dev / software eng   \n",
       "3  emp_local_cli_local         Telefonía / Networking      Software Arch.   \n",
       "4      emp_ext_cli_ext  soft. factory / intermediaria       Data Engineer   \n",
       "\n",
       "  6_años_de_experiencia 7) Nivel de seniority que Ud. considera que posee:  \\\n",
       "0               11 - 15                                             Senior   \n",
       "1               11 - 15                                             Senior   \n",
       "2                  10.0                              Mid-level o Associate   \n",
       "3                   7.0                                             Senior   \n",
       "4                   6.0                                        Semi-senior   \n",
       "\n",
       "  8) Nivel de seniority que le asignan en su trabajo actual (aunque no sea en forma explícita, si puede inferir igual indique):  \\\n",
       "0                                             Senior                                                                              \n",
       "1                                             Senior                                                                              \n",
       "2                              Mid-level o Associate                                                                              \n",
       "3                                             Senior                                                                              \n",
       "4                                        Semi-senior                                                                              \n",
       "\n",
       "   ...             17_1_factores_opciones_lab  \\\n",
       "0  ...   Espacio para crecimiento profesional   \n",
       "1  ...  Modalidad de trabajo remota o híbrida   \n",
       "2  ...                    Estabilidad laboral   \n",
       "3  ...                 Remuneración económica   \n",
       "4  ...   Oportunidad de crecimiento económico   \n",
       "\n",
       "                    18_2_factores_opciones_lab 19_tuvo_entrev_inter  \\\n",
       "0         Oportunidad de crecimiento económico                   Sí   \n",
       "1         Espacio para crecimiento profesional                   Sí   \n",
       "2  Seguro social y plan de retiro (jubilación)                   Sí   \n",
       "3                             Ambiente laboral                   No   \n",
       "4                          Estabilidad laboral                   Sí   \n",
       "\n",
       "    20_freq_ofert_laboral                 21_mayor_dif_x_emp_internacionales  \\\n",
       "0  Más de 10 veces al año  El conocimiento de tecnologías o metodologías ...   \n",
       "1      3 a 5 veces al año  El conocimiento de tecnologías o metodologías ...   \n",
       "2      3 a 5 veces al año  El conocimiento de tecnologías o metodologías ...   \n",
       "3      3 a 5 veces al año                                          El idioma   \n",
       "4  Más de 10 veces al año                                          El idioma   \n",
       "\n",
       "                                  22_percep_señority  \\\n",
       "0  En el mercado internacional, hay exigencias ma...   \n",
       "1                       No trabajo para el exterior.   \n",
       "2  En el mercado internacional, hay exigencias ma...   \n",
       "3                       No trabajo para el exterior.   \n",
       "4  En el mercado internacional, hay exigencias ma...   \n",
       "\n",
       "                                     23_perf_mas_req  \\\n",
       "0  Un perfil con alto nivel de especialización pe...   \n",
       "1                        No trabajo para el exterior   \n",
       "2  Un perfil con alto nivel de especialización pe...   \n",
       "3                        No trabajo para el exterior   \n",
       "4  Un perfil con alto nivel de especialización pe...   \n",
       "\n",
       "                 24_educacion_formal_internacionales  \\\n",
       "0  La educación formal no tiene incidencia en el ...   \n",
       "1  La educación formal otorga las bases para tene...   \n",
       "2  La educación formal otorga las bases para tene...   \n",
       "3  No he participado en procesos de selección par...   \n",
       "4  La educación formal otorga las bases para tene...   \n",
       "\n",
       "                           25_mayor_desafio_exterior  \\\n",
       "0  La falta de experiencia en herramientas o meto...   \n",
       "1                        No trabajo para el exterior   \n",
       "2  La falta de experiencia en escenarios muy dema...   \n",
       "3                                          El idioma   \n",
       "4                                          El idioma   \n",
       "\n",
       "                                 26_ingles_nivel_min  \n",
       "0  Poder expresarse plenamente sobre temas técnic...  \n",
       "1  Lo anterior más poder expresarse verbalmente s...  \n",
       "2  Lo anterior más poder expresarse verbalmente s...  \n",
       "3  Lo anterior más poder expresarse verbalmente s...  \n",
       "4  Poder expresarse plenamente sobre temas técnic...  \n",
       "\n",
       "[5 rows x 28 columns]"
      ]
     },
     "execution_count": 6,
     "metadata": {},
     "output_type": "execute_result"
    }
   ],
   "source": [
    "df.head()"
   ]
  },
  {
   "cell_type": "markdown",
   "id": "650ca773-e816-4e23-ac36-5541e76cb964",
   "metadata": {},
   "source": [
    "# SHOW COLUMNS"
   ]
  },
  {
   "cell_type": "code",
   "execution_count": 7,
   "id": "208f2f9f-4a5e-4ca9-8ae7-05faf7bde333",
   "metadata": {},
   "outputs": [
    {
     "name": "stdout",
     "output_type": "stream",
     "text": [
      "-->   Unnamed: 0\n",
      "-->   marca_temp\n",
      "-->   1_ocupacion\n",
      "-->   2_relacion_contractual\n",
      "-->   3_mercado_de_trabajo\n",
      "-->   4_rubro_de_trabajo\n",
      "-->   5_ROL_de_trabajo\n",
      "-->   6_años_de_experiencia\n",
      "-->   7) Nivel de seniority que Ud. considera que posee:\n",
      "-->   8) Nivel de seniority que le asignan en su trabajo actual (aunque no sea en forma explícita, si puede inferir igual indique):\n",
      "-->   9_nivel_educativo\n",
      "-->   10_lugar_educativo\n",
      "-->   11_ingreso_mensual_en_dolares\n",
      "-->   12_beneficios_percibidos\n",
      "-->   13_remuneracion_vs_compañeros\n",
      "-->   14_habilidades_tecnicas\n",
      "-->   15_estimacion_de_vacancias\n",
      "-->   16_politicas_de_retencion_capacitacion\n",
      "-->   17_1_factores_opciones_lab\n",
      "-->   18_2_factores_opciones_lab\n",
      "-->   19_tuvo_entrev_inter\n",
      "-->   20_freq_ofert_laboral\n",
      "-->   21_mayor_dif_x_emp_internacionales\n",
      "-->   22_percep_señority\n",
      "-->   23_perf_mas_req\n",
      "-->   24_educacion_formal_internacionales\n",
      "-->   25_mayor_desafio_exterior\n",
      "-->   26_ingles_nivel_min\n"
     ]
    }
   ],
   "source": [
    "for i in df.columns: print(f'-->  ', i)"
   ]
  },
  {
   "cell_type": "markdown",
   "id": "ad751926-0149-478f-ba83-483caa47b4da",
   "metadata": {},
   "source": [
    "## NIVEL EDUCATIVO"
   ]
  },
  {
   "cell_type": "markdown",
   "id": "befc63e7-2bc1-4b41-93a6-f82dcacfded3",
   "metadata": {},
   "source": [
    "Sobre el nivel educativo de los que respondieron las preguntas."
   ]
  },
  {
   "cell_type": "code",
   "execution_count": 8,
   "id": "5fb06e01-c1eb-4472-84ab-a91408cd5203",
   "metadata": {},
   "outputs": [
    {
     "data": {
      "text/plain": [
       "Grado                                                             182\n",
       "Pre-grado (inicié la universidad pero no obtuve el título aún)    104\n",
       "Maestría                                                           43\n",
       "Bachillerato                                                        9\n",
       "Phd (Doctorado)                                                     2\n",
       "Name: 9_nivel_educativo, dtype: int64"
      ]
     },
     "execution_count": 8,
     "metadata": {},
     "output_type": "execute_result"
    }
   ],
   "source": [
    "df['9_nivel_educativo'].value_counts()"
   ]
  },
  {
   "cell_type": "code",
   "execution_count": 9,
   "id": "5a814cb7-6918-4840-a5b1-7003c0587d9f",
   "metadata": {},
   "outputs": [
    {
     "data": {
      "text/plain": [
       "<AxesSubplot:>"
      ]
     },
     "execution_count": 9,
     "metadata": {},
     "output_type": "execute_result"
    },
    {
     "data": {
      "image/png": "[encoded data removed]",
      "text/plain": [
       "<Figure size 864x504 with 1 Axes>"
      ]
     },
     "metadata": {},
     "output_type": "display_data"
    }
   ],
   "source": [
    "df['9_nivel_educativo'].value_counts().plot(kind='barh')"
   ]
  },
  {
   "cell_type": "code",
   "execution_count": 10,
   "id": "119956fa-b493-42df-adb2-7025db1cb48e",
   "metadata": {},
   "outputs": [
    {
     "name": "stdout",
     "output_type": "stream",
     "text": [
      "Unnamed: 0\n",
      "marca_temp\n",
      "1_ocupacion\n",
      "2_relacion_contractual\n",
      "3_mercado_de_trabajo\n",
      "4_rubro_de_trabajo\n",
      "5_ROL_de_trabajo\n",
      "6_años_de_experiencia\n",
      "7) Nivel de seniority que Ud. considera que posee:\n",
      "8) Nivel de seniority que le asignan en su trabajo actual (aunque no sea en forma explícita, si puede inferir igual indique):\n",
      "9_nivel_educativo\n",
      "10_lugar_educativo\n",
      "11_ingreso_mensual_en_dolares\n",
      "12_beneficios_percibidos\n",
      "13_remuneracion_vs_compañeros\n",
      "14_habilidades_tecnicas\n",
      "15_estimacion_de_vacancias\n",
      "16_politicas_de_retencion_capacitacion\n",
      "17_1_factores_opciones_lab\n",
      "18_2_factores_opciones_lab\n",
      "19_tuvo_entrev_inter\n",
      "20_freq_ofert_laboral\n",
      "21_mayor_dif_x_emp_internacionales\n",
      "22_percep_señority\n",
      "23_perf_mas_req\n",
      "24_educacion_formal_internacionales\n",
      "25_mayor_desafio_exterior\n",
      "26_ingles_nivel_min\n"
     ]
    }
   ],
   "source": [
    "for i in df.columns: print(i)"
   ]
  },
  {
   "cell_type": "markdown",
   "id": "13180157-e786-4d38-8fcc-b3a15eb5d043",
   "metadata": {},
   "source": [
    "# Lugar de educacion."
   ]
  },
  {
   "cell_type": "code",
   "execution_count": 11,
   "id": "87ba7725-e266-447a-87d5-136c1a5cfd73",
   "metadata": {},
   "outputs": [],
   "source": [
    "lugar_educacion = df['10_lugar_educativo'].value_counts()"
   ]
  },
  {
   "cell_type": "code",
   "execution_count": 12,
   "id": "da4491ef-a31c-48bb-99c4-c8faa0062b95",
   "metadata": {},
   "outputs": [
    {
     "data": {
      "text/plain": [
       "<AxesSubplot:title={'center':'Lugar de educacion.'}>"
      ]
     },
     "execution_count": 12,
     "metadata": {},
     "output_type": "execute_result"
    },
    {
     "data": {
      "image/png": "[encoded data removed]",
      "text/plain": [
       "<Figure size 864x504 with 1 Axes>"
      ]
     },
     "metadata": {},
     "output_type": "display_data"
    }
   ],
   "source": [
    "lugar_educacion.plot(kind='barh', title='Lugar de educacion.')"
   ]
  },
  {
   "cell_type": "markdown",
   "id": "ccc678b8-be6e-413d-9d0d-37da46c532ff",
   "metadata": {},
   "source": [
    "# Educacion internacional."
   ]
  },
  {
   "cell_type": "code",
   "execution_count": 15,
   "id": "77aa122d-c27d-4ac3-bc0d-568389a05061",
   "metadata": {},
   "outputs": [],
   "source": [
    "ed_internacional = df['24_educacion_formal_internacionales'].value_counts()"
   ]
  },
  {
   "cell_type": "code",
   "execution_count": 16,
   "id": "212cbbe7-31f1-48a4-9a4d-3f7e698cf5ac",
   "metadata": {},
   "outputs": [
    {
     "data": {
      "text/plain": [
       "<AxesSubplot:title={'center':'Educacion internacional.'}>"
      ]
     },
     "execution_count": 16,
     "metadata": {},
     "output_type": "execute_result"
    },
    {
     "data": {
      "image/png": "[encoded data removed]",
      "text/plain": [
       "<Figure size 432x288 with 1 Axes>"
      ]
     },
     "metadata": {
      "needs_background": "light"
     },
     "output_type": "display_data"
    }
   ],
   "source": [
    "ed_internacional.plot(kind='barh', title='Educacion internacional.')"
   ]
  },
  {
   "cell_type": "code",
   "execution_count": null,
   "id": "1ff281cd-6a8b-401f-8d4d-b2e29b42ab3b",
   "metadata": {},
   "outputs": [],
   "source": []
  }
 ],
 "metadata": {
  "kernelspec": {
   "display_name": "Python 3 (ipykernel)",
   "language": "python",
   "name": "python3"
  },
  "language_info": {
   "codemirror_mode": {
    "name": "ipython",
    "version": 3
   },
   "file_extension": ".py",
   "mimetype": "text/x-python",
   "name": "python",
   "nbconvert_exporter": "python",
   "pygments_lexer": "ipython3",
   "version": "3.8.10"
  }
 },
 "nbformat": 4,
 "nbformat_minor": 5
}
