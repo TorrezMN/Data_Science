{
 "cells": [
  {
   "cell_type": "markdown",
   "id": "4902d5b4-8b7a-4f69-b9e5-f0aa2a32a6c7",
   "metadata": {},
   "source": [
    "# Exploracion general."
   ]
  },
  {
   "cell_type": "code",
   "execution_count": 9,
   "id": "8f865af8-d0bf-444d-8492-e30a5bb7c8ff",
   "metadata": {},
   "outputs": [],
   "source": [
    "# Importing Libs\n",
    "import pandas as pd\n",
    "import seaborn as sns\n",
    "import matplotlib.pyplot as plt\n",
    "from collections import Counter\n",
    "# My Tools\n",
    "%matplotlib inline"
   ]
  },
  {
   "cell_type": "code",
   "execution_count": 10,
   "id": "b564a085-7fe0-431f-8378-8a866d96d2ac",
   "metadata": {},
   "outputs": [],
   "source": [
    "# Reseting figure size params.\n",
    "plt.rcParams['figure.figsize'] = [12, 7]"
   ]
  },
  {
   "cell_type": "code",
   "execution_count": 11,
   "id": "37b5e972-ce50-4752-a7ab-7d7c0a979437",
   "metadata": {},
   "outputs": [],
   "source": [
    "# Setting seaborn as default plotting lib.\n",
    "sns.set()\n",
    "sns.set_theme(palette='pastel')"
   ]
  },
  {
   "cell_type": "code",
   "execution_count": 12,
   "id": "97abe03b-7f8b-4e8f-95e4-e8a85df8e3d8",
   "metadata": {},
   "outputs": [],
   "source": [
    "# Reading data.\n",
    "df = pd.read_csv('encuesta_baches_fixed.csv')"
   ]
  },
  {
   "cell_type": "code",
   "execution_count": 13,
   "id": "7bb59d34-8feb-47be-9597-3efa8ac9717e",
   "metadata": {},
   "outputs": [],
   "source": [
    "# helper columns\n",
    "def show_columns():\n",
    "    for i in df.columns:print(i)"
   ]
  },
  {
   "cell_type": "markdown",
   "id": "22fb4651-94aa-4c91-90ab-29b9769ba8c5",
   "metadata": {},
   "source": [
    "## Descripcion general de dataset."
   ]
  },
  {
   "cell_type": "code",
   "execution_count": 14,
   "id": "0cd17c0c-b91e-4cc2-8846-e134121c4e27",
   "metadata": {},
   "outputs": [
    {
     "data": {
      "text/plain": [
       "(439, 17)"
      ]
     },
     "execution_count": 14,
     "metadata": {},
     "output_type": "execute_result"
    }
   ],
   "source": [
    "df.shape"
   ]
  },
  {
   "cell_type": "markdown",
   "id": "46e508b3-b516-4f63-a7f1-a4af74bb11e3",
   "metadata": {},
   "source": [
    "    El dataset contiene 439 filas y 17 columnas de datos. Lo que puede traducirse en 439 respuestas a la encuesta.\n"
   ]
  },
  {
   "cell_type": "code",
   "execution_count": 15,
   "id": "511bfe0a-08c1-45bb-a29b-4469bcf97a05",
   "metadata": {},
   "outputs": [
    {
     "name": "stdout",
     "output_type": "stream",
     "text": [
      "<class 'pandas.core.frame.DataFrame'>\n",
      "RangeIndex: 439 entries, 0 to 438\n",
      "Data columns (total 17 columns):\n",
      " #   Column                    Non-Null Count  Dtype \n",
      "---  ------                    --------------  ----- \n",
      " 0   Unnamed: 0                439 non-null    int64 \n",
      " 1   marca_temporal            439 non-null    object\n",
      " 2   lugar_residencia          439 non-null    object\n",
      " 3   lugar_residencia_py       247 non-null    object\n",
      " 4   estado_calles             436 non-null    object\n",
      " 5   problema_baches           437 non-null    object\n",
      " 6   estimacion_cantidad       435 non-null    object\n",
      " 7   tipo_camino               438 non-null    object\n",
      " 8   tiempo_reparaciones       437 non-null    object\n",
      " 9   como_denunciar            436 non-null    object\n",
      " 10  acceso_informacion        438 non-null    object\n",
      " 11  sufrio_accidentes         438 non-null    object\n",
      " 12  frecuencia_mantenimiento  386 non-null    object\n",
      " 13  denunciaria_baches        435 non-null    object\n",
      " 14  util_conocer              436 non-null    object\n",
      " 15  respuesta_gubernamental   429 non-null    object\n",
      " 16  regularidad_reparaciones  434 non-null    object\n",
      "dtypes: int64(1), object(16)\n",
      "memory usage: 58.4+ KB\n"
     ]
    }
   ],
   "source": [
    "df.info()"
   ]
  },
  {
   "cell_type": "code",
   "execution_count": 16,
   "id": "b9367192-4e00-439d-a92c-114384e2dbe3",
   "metadata": {},
   "outputs": [
    {
     "name": "stdout",
     "output_type": "stream",
     "text": [
      "Unnamed: 0\n",
      "marca_temporal\n",
      "lugar_residencia\n",
      "lugar_residencia_py\n",
      "estado_calles\n",
      "problema_baches\n",
      "estimacion_cantidad\n",
      "tipo_camino\n",
      "tiempo_reparaciones\n",
      "como_denunciar\n",
      "acceso_informacion\n",
      "sufrio_accidentes\n",
      "frecuencia_mantenimiento\n",
      "denunciaria_baches\n",
      "util_conocer\n",
      "respuesta_gubernamental\n",
      "regularidad_reparaciones\n"
     ]
    }
   ],
   "source": [
    "show_columns()"
   ]
  },
  {
   "cell_type": "markdown",
   "id": "056c38ab-b5e1-45d0-84aa-a939c56899e9",
   "metadata": {
    "tags": []
   },
   "source": [
    "## MOSTRAR CONTEO GENERALIZADO POR COLUMNAS"
   ]
  },
  {
   "cell_type": "code",
   "execution_count": 17,
   "id": "6c94366a-d75a-4feb-ab07-ae77312f93a4",
   "metadata": {},
   "outputs": [
    {
     "name": "stdout",
     "output_type": "stream",
     "text": [
      "========================================\n",
      "COLUMNA -> Unnamed: 0\n",
      "0      1\n",
      "289    1\n",
      "300    1\n",
      "299    1\n",
      "298    1\n",
      "      ..\n",
      "143    1\n",
      "142    1\n",
      "141    1\n",
      "140    1\n",
      "438    1\n",
      "Name: Unnamed: 0, Length: 439, dtype: int64\n",
      "========================================\n",
      "\n",
      "\n",
      "\n",
      "\n",
      "========================================\n",
      "COLUMNA -> marca_temporal\n",
      "29/10/2022 21:02:13    1\n",
      "8/11/2022 22:41:21     1\n",
      "8/11/2022 23:27:59     1\n",
      "8/11/2022 23:25:49     1\n",
      "8/11/2022 23:21:49     1\n",
      "                      ..\n",
      "3/11/2022 12:27:04     1\n",
      "3/11/2022 12:00:17     1\n",
      "3/11/2022 11:56:01     1\n",
      "3/11/2022 11:52:08     1\n",
      "9/11/2022 20:46:50     1\n",
      "Name: marca_temporal, Length: 439, dtype: int64\n",
      "========================================\n",
      "\n",
      "\n",
      "\n",
      "\n",
      "========================================\n",
      "COLUMNA -> lugar_residencia\n",
      "Paraguay                       236\n",
      "Mexico                          47\n",
      "Argentina                       34\n",
      "Spain                           21\n",
      "Dominican Republic              19\n",
      "Peru                            15\n",
      "Venezuela                       13\n",
      "Colombia                        12\n",
      "Bolivia                         12\n",
      "Chile                            5\n",
      "Panama                           2\n",
      "Honduras                         2\n",
      "Uruguay                          2\n",
      "Anguilla                         2\n",
      "Guatemala                        2\n",
      "Italy                            1\n",
      "Cuba                             1\n",
      "Papua New Guinea                 1\n",
      "United States                    1\n",
      "Philippines                      1\n",
      "Andorra                          1\n",
      "El Salvador                      1\n",
      "Antarctica                       1\n",
      "Singapore                        1\n",
      "France                           1\n",
      "Brazil                           1\n",
      "Puerto Rico                      1\n",
      "Ecuador                          1\n",
      "Ashmore and Cartier Islands      1\n",
      "Tajikistan                       1\n",
      "Name: lugar_residencia, dtype: int64\n",
      "========================================\n",
      "\n",
      "\n",
      "\n",
      "\n",
      "========================================\n",
      "COLUMNA -> lugar_residencia_py\n",
      "Central             165\n",
      "Distrito Capital     33\n",
      "Alto Paraná          17\n",
      "Caaguazú              8\n",
      "Itapúa                7\n",
      "Cordillera            4\n",
      "Ñeembucú              3\n",
      "Amambay               3\n",
      "Paraguarí             2\n",
      "Canindeyú             1\n",
      "Misiones              1\n",
      "Alto Paraguay         1\n",
      "Concepción            1\n",
      "Presidente Hayes      1\n",
      "Name: lugar_residencia_py, dtype: int64\n",
      "========================================\n",
      "\n",
      "\n",
      "\n",
      "\n",
      "========================================\n",
      "COLUMNA -> estado_calles\n",
      "Malo          187\n",
      "Lamentable    155\n",
      "Bueno          82\n",
      "EXCELENTE      12\n",
      "Name: estado_calles, dtype: int64\n",
      "========================================\n",
      "\n",
      "\n",
      "\n",
      "\n",
      "========================================\n",
      "COLUMNA -> problema_baches\n",
      "SI       375\n",
      "NO        51\n",
      "NO SE     11\n",
      "Name: problema_baches, dtype: int64\n",
      "========================================\n",
      "\n",
      "\n",
      "\n",
      "\n",
      "========================================\n",
      "COLUMNA -> estimacion_cantidad\n",
      "MUCHOS    325\n",
      "POCOS      85\n",
      "NO SE      25\n",
      "Name: estimacion_cantidad, dtype: int64\n",
      "========================================\n",
      "\n",
      "\n",
      "\n",
      "\n",
      "========================================\n",
      "COLUMNA -> tipo_camino\n",
      "ASFALTO    291\n",
      "MIXTO       77\n",
      "PIEDRA      57\n",
      "TIERRA      13\n",
      "Name: tipo_camino, dtype: int64\n",
      "========================================\n",
      "\n",
      "\n",
      "\n",
      "\n",
      "========================================\n",
      "COLUMNA -> tiempo_reparaciones\n",
      "NO SE REPARAN    204\n",
      "MUCHO            181\n",
      "POCO              52\n",
      "Name: tiempo_reparaciones, dtype: int64\n",
      "========================================\n",
      "\n",
      "\n",
      "\n",
      "\n",
      "========================================\n",
      "COLUMNA -> como_denunciar\n",
      "NO    321\n",
      "SI    115\n",
      "Name: como_denunciar, dtype: int64\n",
      "========================================\n",
      "\n",
      "\n",
      "\n",
      "\n",
      "========================================\n",
      "COLUMNA -> acceso_informacion\n",
      "NO       230\n",
      "NO SE    159\n",
      "SI        49\n",
      "Name: acceso_informacion, dtype: int64\n",
      "========================================\n",
      "\n",
      "\n",
      "\n",
      "\n",
      "========================================\n",
      "COLUMNA -> sufrio_accidentes\n",
      "NO                   208\n",
      "SI                   150\n",
      "NO NUNCA              57\n",
      "SI FRECUENTEMENTE     23\n",
      "Name: sufrio_accidentes, dtype: int64\n",
      "========================================\n",
      "\n",
      "\n",
      "\n",
      "\n",
      "========================================\n",
      "COLUMNA -> frecuencia_mantenimiento\n",
      "REGULARMENTE      228\n",
      "FRECUENTEMENTE    158\n",
      "Name: frecuencia_mantenimiento, dtype: int64\n",
      "========================================\n",
      "\n",
      "\n",
      "\n",
      "\n",
      "========================================\n",
      "COLUMNA -> denunciaria_baches\n",
      "SI                              284\n",
      "SI NO ME LLEVA MUCHO TIEMPO.    119\n",
      "NO                               32\n",
      "Name: denunciaria_baches, dtype: int64\n",
      "========================================\n",
      "\n",
      "\n",
      "\n",
      "\n",
      "========================================\n",
      "COLUMNA -> util_conocer\n",
      "SI                        365\n",
      "NO SE                      34\n",
      "NO ME INTERESA EL TEMA     19\n",
      "NO                         18\n",
      "Name: util_conocer, dtype: int64\n",
      "========================================\n",
      "\n",
      "\n",
      "\n",
      "\n",
      "========================================\n",
      "COLUMNA -> respuesta_gubernamental\n",
      "LAMENTABLE    370\n",
      "BUENA          48\n",
      "EXCELENTE      11\n",
      "Name: respuesta_gubernamental, dtype: int64\n",
      "========================================\n",
      "\n",
      "\n",
      "\n",
      "\n",
      "========================================\n",
      "COLUMNA -> regularidad_reparaciones\n",
      "NUNCA           287\n",
      "REGULARMENTE    147\n",
      "Name: regularidad_reparaciones, dtype: int64\n",
      "========================================\n",
      "\n",
      "\n",
      "\n",
      "\n"
     ]
    }
   ],
   "source": [
    "for i in df.columns:\n",
    "    print('=='*20)\n",
    "    print(f'COLUMNA -> {i}')\n",
    "    print(df[i].value_counts())\n",
    "    print('=='*20)\n",
    "    print('\\n'*3)"
   ]
  },
  {
   "cell_type": "markdown",
   "id": "3d9f5314-f8e9-4f02-b95e-80ed9e5220b9",
   "metadata": {},
   "source": [
    "## lugar_residencia\n",
    "    - Vemos el lugar de residencia de las personas que contestaron la encuesta."
   ]
  },
  {
   "cell_type": "code",
   "execution_count": 64,
   "id": "12e7825d-c7af-4b9f-ac62-00c0a26b664c",
   "metadata": {},
   "outputs": [
    {
     "data": {
      "text/plain": [
       "0"
      ]
     },
     "execution_count": 64,
     "metadata": {},
     "output_type": "execute_result"
    }
   ],
   "source": [
    "df['lugar_residencia'].isna().sum()"
   ]
  },
  {
   "cell_type": "raw",
   "id": "cf438fcd-a24d-45c3-8511-9c6806cdbd02",
   "metadata": {},
   "source": [
    "- Ningun valor nulo. Todos los encuestados respondieron la pregunta."
   ]
  },
  {
   "cell_type": "code",
   "execution_count": 65,
   "id": "0500bf35-e98b-4bbd-9bcf-9d469afedbdf",
   "metadata": {},
   "outputs": [],
   "source": [
    "lr = df['lugar_residencia'].value_counts()"
   ]
  },
  {
   "cell_type": "code",
   "execution_count": 66,
   "id": "7c7e42cf-eb96-4edc-8321-6e08b4d5dd7a",
   "metadata": {},
   "outputs": [],
   "source": [
    "# Grafica por conteo del lugar de residencia de los que respondieron la encuesta.\n",
    "# SOLO LOS LUGARES CON MAS DE 1 RESPUESTA A LA ENCUESTA.\n",
    "mas_una_respuesta = lr[lr>1]"
   ]
  },
  {
   "cell_type": "code",
   "execution_count": 67,
   "id": "0f1ca0ea-1c78-4fe6-9baf-60ff6b50e510",
   "metadata": {},
   "outputs": [
    {
     "data": {
      "image/png": "[encoded data removed]",
      "text/plain": [
       "<Figure size 864x504 with 1 Axes>"
      ]
     },
     "metadata": {},
     "output_type": "display_data"
    }
   ],
   "source": [
    "fig1 = mas_una_respuesta.plot(\n",
    "    kind='barh',\n",
    "    title=f'Conteo de \"Lugares\" con mas de 1 respuesta.\\n TOTAL CATEGORIAS: {mas_una_respuesta.size}',\n",
    ")\n",
    "\n",
    "for k,v in enumerate(mas_una_respuesta):\n",
    "    fig1.annotate(v,(v,k),  va='center',color='blue',fontsize=10)\n",
    "plt.show()"
   ]
  },
  {
   "cell_type": "markdown",
   "id": "2b518f30-a915-4e65-86f1-63824fc26011",
   "metadata": {},
   "source": [
    "    - Puede verse que los paises con menos respuestas son: Guatemala, Anguilla, Uruguay, Honduras, Panama."
   ]
  },
  {
   "cell_type": "markdown",
   "id": "b23d3f30-c7a8-4e6d-a103-9035d74731a2",
   "metadata": {},
   "source": [
    "## lugar_residencia_py"
   ]
  },
  {
   "cell_type": "code",
   "execution_count": 71,
   "id": "379eee27-e935-4981-bd30-881abe7f8f75",
   "metadata": {},
   "outputs": [
    {
     "data": {
      "text/plain": [
       "192"
      ]
     },
     "execution_count": 71,
     "metadata": {},
     "output_type": "execute_result"
    }
   ],
   "source": [
    "df['lugar_residencia_py'].isna().sum()"
   ]
  },
  {
   "cell_type": "raw",
   "id": "f5710420-90b6-4507-9c47-8e2f1310c401",
   "metadata": {},
   "source": [
    "    - "
   ]
  },
  {
   "cell_type": "code",
   "execution_count": 68,
   "id": "6fc20a57-80b4-4dd8-bcbf-2d3c2e3df837",
   "metadata": {},
   "outputs": [],
   "source": [
    "lrpy = df['lugar_residencia_py'].value_counts()"
   ]
  },
  {
   "cell_type": "code",
   "execution_count": 69,
   "id": "37f28ac0-f6ae-4aff-beed-1571ae5e568a",
   "metadata": {},
   "outputs": [
    {
     "data": {
      "text/plain": [
       "Central             165\n",
       "Distrito Capital     33\n",
       "Alto Paraná          17\n",
       "Caaguazú              8\n",
       "Itapúa                7\n",
       "Cordillera            4\n",
       "Ñeembucú              3\n",
       "Amambay               3\n",
       "Paraguarí             2\n",
       "Canindeyú             1\n",
       "Misiones              1\n",
       "Alto Paraguay         1\n",
       "Concepción            1\n",
       "Presidente Hayes      1\n",
       "Name: lugar_residencia_py, dtype: int64"
      ]
     },
     "execution_count": 69,
     "metadata": {},
     "output_type": "execute_result"
    }
   ],
   "source": [
    "lrpy"
   ]
  },
  {
   "cell_type": "markdown",
   "id": "db084a3d-3293-48b9-8448-7996c034f4cc",
   "metadata": {},
   "source": [
    "    Tomamos en cuenta solo los lugares con cantidad de respuestas mayor a 1."
   ]
  },
  {
   "cell_type": "code",
   "execution_count": 50,
   "id": "46c25852-5feb-4d89-903e-8a5cf9a0cce6",
   "metadata": {},
   "outputs": [],
   "source": [
    "lrpy_mayor_uno = lrpy[lrpy>1]"
   ]
  },
  {
   "cell_type": "code",
   "execution_count": 52,
   "id": "23bde737-18b6-404d-8713-a3c4a4321647",
   "metadata": {},
   "outputs": [
    {
     "data": {
      "image/png": "[encoded data removed]",
      "text/plain": [
       "<Figure size 864x504 with 1 Axes>"
      ]
     },
     "metadata": {},
     "output_type": "display_data"
    }
   ],
   "source": [
    "fig2 = lrpy_mayor_uno.plot(\n",
    "    kind='barh',\n",
    "    title=f'Conteo de \"Residencia en Paraguay\" con mas de 1 respuesta.\\n TOTAL CATEGORIAS: {lrpy_mayor_uno.size}',\n",
    ")\n",
    "\n",
    "for k,v in enumerate(lrpy_mayor_uno):\n",
    "    fig2.annotate(v,(v,k),  va='center',color='blue',fontsize=10)\n",
    "plt.show()"
   ]
  },
  {
   "cell_type": "code",
   "execution_count": 54,
   "id": "55883e1b-67e9-49f9-91d9-c4a2f8c8ef21",
   "metadata": {},
   "outputs": [
    {
     "name": "stdout",
     "output_type": "stream",
     "text": [
      "Unnamed: 0\n",
      "marca_temporal\n",
      "lugar_residencia\n",
      "lugar_residencia_py\n",
      "estado_calles\n",
      "problema_baches\n",
      "estimacion_cantidad\n",
      "tipo_camino\n",
      "tiempo_reparaciones\n",
      "como_denunciar\n",
      "acceso_informacion\n",
      "sufrio_accidentes\n",
      "frecuencia_mantenimiento\n",
      "denunciaria_baches\n",
      "util_conocer\n",
      "respuesta_gubernamental\n",
      "regularidad_reparaciones\n"
     ]
    }
   ],
   "source": [
    "show_columns()"
   ]
  },
  {
   "cell_type": "markdown",
   "id": "c869e573-a139-456b-a6e9-4594795c843a",
   "metadata": {},
   "source": [
    "## estado_calles"
   ]
  },
  {
   "cell_type": "code",
   "execution_count": null,
   "id": "3b64e078-45e3-4647-b77e-0cb44fecf6b3",
   "metadata": {},
   "outputs": [],
   "source": []
  },
  {
   "cell_type": "markdown",
   "id": "d83dd651-8f50-4e9a-b583-4c7883a5e656",
   "metadata": {},
   "source": [
    "## problema_baches"
   ]
  },
  {
   "cell_type": "code",
   "execution_count": null,
   "id": "b13a7704-044c-4d33-bc3f-1b2a6a456e88",
   "metadata": {},
   "outputs": [],
   "source": []
  },
  {
   "cell_type": "markdown",
   "id": "c6f8081a-c1d1-4593-933b-3437afea38aa",
   "metadata": {},
   "source": [
    "## estimacion_cantidad"
   ]
  },
  {
   "cell_type": "code",
   "execution_count": null,
   "id": "7c87322c-b5f5-4795-b5be-2bb28376650d",
   "metadata": {},
   "outputs": [],
   "source": []
  },
  {
   "cell_type": "markdown",
   "id": "7d79ac45-fc58-4dc1-9ae4-23f0d7084657",
   "metadata": {},
   "source": [
    "## tipo_camino"
   ]
  },
  {
   "cell_type": "code",
   "execution_count": null,
   "id": "7b98bf06-44f3-4c1d-9d8a-c3de1dbb3dd7",
   "metadata": {},
   "outputs": [],
   "source": []
  },
  {
   "cell_type": "markdown",
   "id": "45961183-d0db-46d5-ae4a-0e2dd3dc4521",
   "metadata": {},
   "source": [
    "## tiempo_reparaciones"
   ]
  },
  {
   "cell_type": "code",
   "execution_count": null,
   "id": "c56c0753-39e4-4ea9-9544-182b9834c1c3",
   "metadata": {},
   "outputs": [],
   "source": []
  },
  {
   "cell_type": "code",
   "execution_count": 55,
   "id": "33054d18-0cee-4ea7-9644-180ef2b948c4",
   "metadata": {},
   "outputs": [],
   "source": [
    "## como_denunciar"
   ]
  },
  {
   "cell_type": "code",
   "execution_count": null,
   "id": "d0ee963d-b0f5-4213-9ab8-03827b33c0cd",
   "metadata": {},
   "outputs": [],
   "source": []
  },
  {
   "cell_type": "code",
   "execution_count": 56,
   "id": "d37ab001-9b78-4e3f-8597-a9e1ea529ee3",
   "metadata": {},
   "outputs": [],
   "source": [
    "## acceso_informacion"
   ]
  },
  {
   "cell_type": "code",
   "execution_count": null,
   "id": "45276289-8024-4e17-aea7-9a5905d37a02",
   "metadata": {},
   "outputs": [],
   "source": []
  },
  {
   "cell_type": "code",
   "execution_count": 57,
   "id": "3705127b-857c-4fb7-8350-432cab5cb1a5",
   "metadata": {},
   "outputs": [],
   "source": [
    "## sufrio_accidentes"
   ]
  },
  {
   "cell_type": "code",
   "execution_count": null,
   "id": "c3fff98f-80b8-4f5e-be33-0c7aabb0f57f",
   "metadata": {},
   "outputs": [],
   "source": []
  },
  {
   "cell_type": "code",
   "execution_count": 58,
   "id": "2edd131b-8adb-45f7-b822-99ba68d35de4",
   "metadata": {},
   "outputs": [],
   "source": [
    "## frecuencia_mantenimiento"
   ]
  },
  {
   "cell_type": "code",
   "execution_count": null,
   "id": "d577c878-071c-4589-a193-46fa67811b2f",
   "metadata": {},
   "outputs": [],
   "source": []
  },
  {
   "cell_type": "code",
   "execution_count": 59,
   "id": "7dde803f-849f-44c2-afa3-bc9d0dec3146",
   "metadata": {},
   "outputs": [],
   "source": [
    "## denunciaria_baches"
   ]
  },
  {
   "cell_type": "code",
   "execution_count": null,
   "id": "7dc38297-b2fc-4c40-b710-e5b352800f7c",
   "metadata": {},
   "outputs": [],
   "source": []
  },
  {
   "cell_type": "code",
   "execution_count": 60,
   "id": "7481affa-2960-4a07-a67c-26074f383c8e",
   "metadata": {},
   "outputs": [],
   "source": [
    "## util_conocer"
   ]
  },
  {
   "cell_type": "code",
   "execution_count": null,
   "id": "62a42a32-2804-42be-97c0-088cec9fd8ef",
   "metadata": {},
   "outputs": [],
   "source": []
  },
  {
   "cell_type": "code",
   "execution_count": 61,
   "id": "37e37790-ed3c-4588-bb5d-55fb4d52a1d6",
   "metadata": {},
   "outputs": [],
   "source": [
    "## respuesta_gubernamental"
   ]
  },
  {
   "cell_type": "code",
   "execution_count": null,
   "id": "5a52ffc5-9149-4a0b-ae14-511eac9c9482",
   "metadata": {},
   "outputs": [],
   "source": []
  },
  {
   "cell_type": "code",
   "execution_count": 62,
   "id": "100c3dcc-eec6-496e-871e-ea5d37a699bd",
   "metadata": {},
   "outputs": [],
   "source": [
    "## regularidad_reparaciones"
   ]
  },
  {
   "cell_type": "code",
   "execution_count": null,
   "id": "15e5687b-4a05-40c0-8051-c08d83bc4bd8",
   "metadata": {},
   "outputs": [],
   "source": []
  },
  {
   "cell_type": "code",
   "execution_count": null,
   "id": "c143207a-cdba-4312-9cd0-2314b2f8ca55",
   "metadata": {},
   "outputs": [],
   "source": []
  },
  {
   "cell_type": "code",
   "execution_count": null,
   "id": "c00de195-22ec-498d-bd58-06dbbf404732",
   "metadata": {},
   "outputs": [],
   "source": []
  },
  {
   "cell_type": "code",
   "execution_count": null,
   "id": "488ae36e-2ed0-4108-9fbc-04068c5e1c08",
   "metadata": {},
   "outputs": [],
   "source": []
  }
 ],
 "metadata": {
  "kernelspec": {
   "display_name": "Python 3 (ipykernel)",
   "language": "python",
   "name": "python3"
  },
  "language_info": {
   "codemirror_mode": {
    "name": "ipython",
    "version": 3
   },
   "file_extension": ".py",
   "mimetype": "text/x-python",
   "name": "python",
   "nbconvert_exporter": "python",
   "pygments_lexer": "ipython3",
   "version": "3.8.10"
  }
 },
 "nbformat": 4,
 "nbformat_minor": 5
}
