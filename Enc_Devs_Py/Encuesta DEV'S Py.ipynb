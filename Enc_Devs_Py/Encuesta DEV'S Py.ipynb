{
 "cells": [
  {
   "cell_type": "markdown",
   "id": "46abde53",
   "metadata": {},
   "source": [
    "# Developer's Survey - PY 2021"
   ]
  },
  {
   "cell_type": "code",
   "execution_count": 1,
   "id": "2a86386c",
   "metadata": {},
   "outputs": [
    {
     "ename": "ModuleNotFoundError",
     "evalue": "No module named 'matplotlib'",
     "output_type": "error",
     "traceback": [
      "\u001b[0;31m---------------------------------------------------------------------------\u001b[0m",
      "\u001b[0;31mModuleNotFoundError\u001b[0m                       Traceback (most recent call last)",
      "Input \u001b[0;32mIn [1]\u001b[0m, in \u001b[0;36m<cell line: 4>\u001b[0;34m()\u001b[0m\n\u001b[1;32m      2\u001b[0m \u001b[38;5;28;01mimport\u001b[39;00m \u001b[38;5;21;01mitertools\u001b[39;00m\n\u001b[1;32m      3\u001b[0m \u001b[38;5;28;01mimport\u001b[39;00m \u001b[38;5;21;01mpandas\u001b[39;00m \u001b[38;5;28;01mas\u001b[39;00m \u001b[38;5;21;01mpd\u001b[39;00m\n\u001b[0;32m----> 4\u001b[0m \u001b[38;5;28;01mimport\u001b[39;00m \u001b[38;5;21;01mmatplotlib\u001b[39;00m\u001b[38;5;21;01m.\u001b[39;00m\u001b[38;5;21;01mpyplot\u001b[39;00m \u001b[38;5;28;01mas\u001b[39;00m \u001b[38;5;21;01mplt\u001b[39;00m\n\u001b[1;32m      5\u001b[0m get_ipython()\u001b[38;5;241m.\u001b[39mrun_line_magic(\u001b[38;5;124m'\u001b[39m\u001b[38;5;124mmatplotlib\u001b[39m\u001b[38;5;124m'\u001b[39m, \u001b[38;5;124m'\u001b[39m\u001b[38;5;124minline\u001b[39m\u001b[38;5;124m'\u001b[39m)\n",
      "\u001b[0;31mModuleNotFoundError\u001b[0m: No module named 'matplotlib'"
     ]
    }
   ],
   "source": [
    "# Importing Libs\n",
    "import itertools\n",
    "import pandas as pd\n",
    "import matplotlib.pyplot as plt\n",
    "%matplotlib inline"
   ]
  },
  {
   "cell_type": "code",
   "execution_count": null,
   "id": "b3b7ee14",
   "metadata": {},
   "outputs": [],
   "source": [
    "# Reseting figure size.\n",
    "plt.rcParams['figure.figsize'] = [10, 5]"
   ]
  },
  {
   "cell_type": "code",
   "execution_count": null,
   "id": "c960faf7",
   "metadata": {},
   "outputs": [],
   "source": [
    "# Loading data in to a dataframe.\n",
    "df = pd.read_csv('enc_devs_py.csv')"
   ]
  },
  {
   "cell_type": "markdown",
   "id": "29f2b4ca",
   "metadata": {},
   "source": [
    "## DataSet initial inspection."
   ]
  },
  {
   "cell_type": "code",
   "execution_count": 107,
   "id": "05cb99b5",
   "metadata": {},
   "outputs": [
    {
     "name": "stdout",
     "output_type": "stream",
     "text": [
      "0 - Marca temporal\n",
      "1 - Modalidad\n",
      "2 - Trabajo\n",
      "3 - Tipo de trabajo\n",
      "4 - DevOps\n",
      "5 - Codificar por trabajo\n",
      "6 - Experiencia en TI\n",
      "7 - Experiencia en codificación \n",
      "8 - Primera línea de código en una máquina\n",
      "9 - Educación\n",
      "10 - Carreras o especialidades\n",
      "11 - Importancia educación formal\n",
      "12 - Género\n",
      "13 - Edad actual \n",
      "14 - Salario mensual\n",
      "15 - Programación, scripting y lenguajes de marcado\n",
      "16 - Librerías o web frameworks\n",
      "17 - Otras frameworks, librerías y herramientas\n",
      "18 - Base de datos\n",
      "19 - Plataformas\n",
      "20 - Lenguaje favorito\n",
      "21 - Lenguaje más odiado\n",
      "22 - Framework favorito\n",
      "23 - Framework más odiado\n",
      "24 - Herramientas\n"
     ]
    }
   ],
   "source": [
    "# Printing the columns in the dataset.\n",
    "for k,v in enumerate(df.columns):\n",
    "    print(f'{k} - {v}')"
   ]
  },
  {
   "cell_type": "markdown",
   "id": "2f6243c3-40d1-44bb-a80f-d7bd89b605ae",
   "metadata": {},
   "source": [
    " - We have 25 columns for this dataset. (At first sight we can see the names of each column are way to large. This needs to be fixed.)"
   ]
  },
  {
   "cell_type": "code",
   "execution_count": 108,
   "id": "bccb5910",
   "metadata": {},
   "outputs": [
    {
     "data": {
      "text/plain": [
       "(342, 25)"
      ]
     },
     "execution_count": 108,
     "metadata": {},
     "output_type": "execute_result"
    }
   ],
   "source": [
    "df.shape"
   ]
  },
  {
   "cell_type": "markdown",
   "id": "58a2189b",
   "metadata": {},
   "source": [
    "- We have a df with ***342 rows*** and ***25 columns***."
   ]
  },
  {
   "cell_type": "markdown",
   "id": "42be9c54",
   "metadata": {},
   "source": [
    "## Data Dictionary\n",
    "    - This data set has no \"data dictionary\" attached to it. So we have no way to know what each column means. For this reazon im going to make one with my own interpretation of the content in each column and its meaning."
   ]
  },
  {
   "cell_type": "markdown",
   "id": "89975a96",
   "metadata": {},
   "source": [
    "- ***Modalidad***: The modality of the work that does the person whos answering the survey. Presencial / Remoto / Hibrido.\n",
    "- ***Trabajo***: Origin of the work of the person whos answering the survey. Nacional o extranjeros.\n",
    "- ***Tipo de trabajo***: Role of the work. Dev/Designer\n",
    "- ***DevOps***: Role of the work in the DEVOPS field.\n",
    "- ***Codificar por trabajo***: The work done requires \"programming\"?\n",
    "- ***Experiencia en TI***: Years of experience in TI.\n",
    "- ***Experiencia en codificación***: Years of experience in programming.\n",
    "- ***Primera línea de código en una máquina***: It corresponds to the \"age\" that the respondent had when he wrote his first line of code on a machine.\n",
    "- ***Educación***: Level of education.\n",
    "- ***Carreras o especialidades***: Carreres or specializations.\n",
    "- ***Importancia educación formal***: An estimation on the \"importance of a formal education\".\n",
    "- ***Género***: Sex of the person who answers the survey.\n",
    "- ***Edad actual***: Current age of the person who answer the survey.\n",
    "- ***Salario mensual***: Monthly salary received.\n",
    "- ***Programación, scripting y lenguajes de marcado***: Programming language's used.\n",
    "- ***Librerías o web frameworks***: Frameworks or libraries used.\n",
    "- ***Otras frameworks, librerías y herramientas***: Other frameworks or libraries.\n",
    "- ***Base de datos***: Data Base used.\n",
    "- ***Plataformas***: Working platforms.\n",
    "- ***Lenguaje favorito***: Favorite language.\n",
    "- ***Lenguaje más odiado***: Most hated language.\n",
    "- ***Framework favorito***: Favorite framework.\n",
    "- ***Framework más odiado***: Most hated framework.\n",
    "- ***Herramientas***: Tools used to get the work done."
   ]
  },
  {
   "cell_type": "markdown",
   "id": "d8b8b917",
   "metadata": {},
   "source": [
    "## Let's make some changes.\n",
    "\n",
    "    - What i'm going to do here is to inspect each column and see if the content can be analized as it is. If not, i'll try to make'it \"usable\" making some changes to it. I'll be especially focused on the size of the content. Trying my best to avoid to work with long strings of text."
   ]
  },
  {
   "cell_type": "code",
   "execution_count": 109,
   "id": "01ea2038-b130-4955-a413-74003a8187a6",
   "metadata": {},
   "outputs": [
    {
     "data": {
      "text/plain": [
       "Index(['Marca temporal', 'Modalidad', 'Trabajo', 'Tipo de trabajo', 'DevOps',\n",
       "       'Codificar por trabajo', 'Experiencia en TI',\n",
       "       'Experiencia en codificación ',\n",
       "       'Primera línea de código en una máquina', 'Educación',\n",
       "       'Carreras o especialidades', 'Importancia educación formal', 'Género',\n",
       "       'Edad actual ', 'Salario mensual',\n",
       "       'Programación, scripting y lenguajes de marcado',\n",
       "       'Librerías o web frameworks',\n",
       "       'Otras frameworks, librerías y herramientas', 'Base de datos',\n",
       "       'Plataformas', 'Lenguaje favorito', 'Lenguaje más odiado',\n",
       "       'Framework favorito', 'Framework más odiado', 'Herramientas'],\n",
       "      dtype='object')"
      ]
     },
     "execution_count": 109,
     "metadata": {},
     "output_type": "execute_result"
    }
   ],
   "source": [
    "df.columns"
   ]
  },
  {
   "cell_type": "code",
   "execution_count": 110,
   "id": "ac9afc7a",
   "metadata": {},
   "outputs": [],
   "source": [
    "new_names = {\n",
    "    'Marca temporal': 'marca_temp', \n",
    "    'Modalidad':'modalidad', \n",
    "    'Trabajo':'trabajo', \n",
    "    'Tipo de trabajo':'tipo_de_trabajo', \n",
    "    'DevOps':'devops',\n",
    "    'Codificar por trabajo':'programar_x_trabajo', \n",
    "    'Experiencia en TI':'exp_en_IT', \n",
    "    'Experiencia en codificación ':'exp_en_programacion',\n",
    "    'Primera línea de código en una máquina':'1_linea_de_codigo', \n",
    "    'Educación':'educacion',\n",
    "    'Carreras o especialidades':'carr_especialidades', \n",
    "    'Importancia educación formal':'imp_ed_formal', \n",
    "    'Género':'genero',\n",
    "    'Edad actual ':'edad_actual', \n",
    "    'Salario mensual':'salario_mensual',\n",
    "    'Programación, scripting y lenguajes de marcado':'prog_script_leng',\n",
    "    'Librerías o web frameworks':'lib_frameworks',\n",
    "    'Otras frameworks, librerías y herramientas':'otras_lib_frameworks', \n",
    "    'Base de datos':'db',\n",
    "    'Plataformas':'plataformas', \n",
    "    'Lenguaje favorito':'leng_fav', \n",
    "    'Lenguaje más odiado':'leng_mas_odiado',\n",
    "    'Framework favorito':'fram_fav', \n",
    "    'Framework más odiado':'fram_mas_odiado', \n",
    "    'Herramientas':'herramientas'\n",
    "}\n",
    "\n",
    "# Renamin each column in the df.\n",
    "df.rename(columns=new_names, inplace=True)\n"
   ]
  },
  {
   "cell_type": "code",
   "execution_count": 111,
   "id": "3555a56a-66d2-4367-b95a-0bbbbeafe0e3",
   "metadata": {},
   "outputs": [
    {
     "data": {
      "text/plain": [
       "Index(['marca_temp', 'modalidad', 'trabajo', 'tipo_de_trabajo', 'devops',\n",
       "       'programar_x_trabajo', 'exp_en_IT', 'exp_en_programacion',\n",
       "       '1_linea_de_codigo', 'educacion', 'carr_especialidades',\n",
       "       'imp_ed_formal', 'genero', 'edad_actual', 'salario_mensual',\n",
       "       'prog_script_leng', 'lib_frameworks', 'otras_lib_frameworks', 'db',\n",
       "       'plataformas', 'leng_fav', 'leng_mas_odiado', 'fram_fav',\n",
       "       'fram_mas_odiado', 'herramientas'],\n",
       "      dtype='object')"
      ]
     },
     "execution_count": 111,
     "metadata": {},
     "output_type": "execute_result"
    }
   ],
   "source": [
    "df.columns"
   ]
  },
  {
   "cell_type": "markdown",
   "id": "500b018e-ee0b-440f-a9c4-b67abd5b72fe",
   "metadata": {},
   "source": [
    "- The new names are shorter and easy to write. None lost meaning in the process."
   ]
  },
  {
   "cell_type": "code",
   "execution_count": 112,
   "id": "3e995b9e",
   "metadata": {},
   "outputs": [
    {
     "data": {
      "text/html": [
       "<div>\n",
       "<style scoped>\n",
       "    .dataframe tbody tr th:only-of-type {\n",
       "        vertical-align: middle;\n",
       "    }\n",
       "\n",
       "    .dataframe tbody tr th {\n",
       "        vertical-align: top;\n",
       "    }\n",
       "\n",
       "    .dataframe thead th {\n",
       "        text-align: right;\n",
       "    }\n",
       "</style>\n",
       "<table border=\"1\" class=\"dataframe\">\n",
       "  <thead>\n",
       "    <tr style=\"text-align: right;\">\n",
       "      <th></th>\n",
       "      <th>marca_temp</th>\n",
       "      <th>modalidad</th>\n",
       "      <th>trabajo</th>\n",
       "      <th>tipo_de_trabajo</th>\n",
       "      <th>devops</th>\n",
       "      <th>programar_x_trabajo</th>\n",
       "      <th>exp_en_IT</th>\n",
       "      <th>exp_en_programacion</th>\n",
       "      <th>1_linea_de_codigo</th>\n",
       "      <th>educacion</th>\n",
       "      <th>...</th>\n",
       "      <th>prog_script_leng</th>\n",
       "      <th>lib_frameworks</th>\n",
       "      <th>otras_lib_frameworks</th>\n",
       "      <th>db</th>\n",
       "      <th>plataformas</th>\n",
       "      <th>leng_fav</th>\n",
       "      <th>leng_mas_odiado</th>\n",
       "      <th>fram_fav</th>\n",
       "      <th>fram_mas_odiado</th>\n",
       "      <th>herramientas</th>\n",
       "    </tr>\n",
       "  </thead>\n",
       "  <tbody>\n",
       "    <tr>\n",
       "      <th>0</th>\n",
       "      <td>2021/03/01 5:56:11 p. m. GMT-3</td>\n",
       "      <td>Remoto</td>\n",
       "      <td>Nacional (Paraguay)</td>\n",
       "      <td>QA o testing</td>\n",
       "      <td>Educador</td>\n",
       "      <td>No</td>\n",
       "      <td>Menos de 5 años</td>\n",
       "      <td>NaN</td>\n",
       "      <td>22 a 23 años</td>\n",
       "      <td>Educación universitaria</td>\n",
       "      <td>...</td>\n",
       "      <td>JavaScript;Java;C++;SQL</td>\n",
       "      <td>NaN</td>\n",
       "      <td>NaN</td>\n",
       "      <td>MySQL;PostgreSQL;IBM DB2</td>\n",
       "      <td>GNU/Linux;Microsoft Windows;MacOS</td>\n",
       "      <td>SQL</td>\n",
       "      <td>NaN</td>\n",
       "      <td>NaN</td>\n",
       "      <td>NaN</td>\n",
       "      <td>GitHub;Slack;Jira;Microsoft Team;Discord</td>\n",
       "    </tr>\n",
       "    <tr>\n",
       "      <th>1</th>\n",
       "      <td>2021/03/01 5:57:32 p. m. GMT-3</td>\n",
       "      <td>Hibrído</td>\n",
       "      <td>Nacional (Paraguay)</td>\n",
       "      <td>Desarrollador full-stack;Aplicaciones de escri...</td>\n",
       "      <td>Administrador de sistemas;Educador</td>\n",
       "      <td>Sí</td>\n",
       "      <td>15 a 19 años</td>\n",
       "      <td>15 a 19 años</td>\n",
       "      <td>20 a 21 años</td>\n",
       "      <td>Educación universitaria;Autodidacta</td>\n",
       "      <td>...</td>\n",
       "      <td>JavaScript;C#;HTML/CSS;SQL</td>\n",
       "      <td>ASP.NET;ASP.NET Core</td>\n",
       "      <td>.NET;Xamarin</td>\n",
       "      <td>MySQL;Microsoft SQL Server</td>\n",
       "      <td>GNU/Linux;Microsoft Windows;Microsoft Azure;Wo...</td>\n",
       "      <td>C#</td>\n",
       "      <td>Java</td>\n",
       "      <td>ASP.NET Core</td>\n",
       "      <td>Laravel</td>\n",
       "      <td>GitHub;Microsoft Team;Microsoft Azure</td>\n",
       "    </tr>\n",
       "    <tr>\n",
       "      <th>2</th>\n",
       "      <td>2021/03/01 5:57:57 p. m. GMT-3</td>\n",
       "      <td>Hibrído</td>\n",
       "      <td>Nacional (Paraguay)</td>\n",
       "      <td>Desarrollador front-end</td>\n",
       "      <td>NaN</td>\n",
       "      <td>Sí</td>\n",
       "      <td>Menos de 5 años</td>\n",
       "      <td>Menos de 5 años</td>\n",
       "      <td>20 a 21 años</td>\n",
       "      <td>Educación universitaria</td>\n",
       "      <td>...</td>\n",
       "      <td>JavaScript;TypeScript;PHP;C;C#;HTML/CSS;SQL</td>\n",
       "      <td>React.js;Angular;JQuery;ASP.NET Core</td>\n",
       "      <td>Opció.NET Coren 3</td>\n",
       "      <td>NaN</td>\n",
       "      <td>GNU/Linux;Microsoft Windows;MacOS</td>\n",
       "      <td>C#</td>\n",
       "      <td>Genexus</td>\n",
       "      <td>ASP.NET Core</td>\n",
       "      <td>Django</td>\n",
       "      <td>GitHub;Slack;GitLab;Google Suite (Docs, Meet, ...</td>\n",
       "    </tr>\n",
       "    <tr>\n",
       "      <th>3</th>\n",
       "      <td>2021/03/01 5:59:04 p. m. GMT-3</td>\n",
       "      <td>Hibrído</td>\n",
       "      <td>Ambas</td>\n",
       "      <td>Desarrollador full-stack</td>\n",
       "      <td>Administrador de sistemas</td>\n",
       "      <td>Sí</td>\n",
       "      <td>5 a 9 años</td>\n",
       "      <td>5 a 9 años</td>\n",
       "      <td>10 a 11 años</td>\n",
       "      <td>Educación universitaria;Master;Autodidacta</td>\n",
       "      <td>...</td>\n",
       "      <td>JavaScript;TypeScript;PHP;HTML/CSS;SQL;Dart</td>\n",
       "      <td>Angular;Angular.js;JQuery;Laravel</td>\n",
       "      <td>Flutter</td>\n",
       "      <td>MySQL;MariaDB;PostgreSQL;Microsoft SQL Server;...</td>\n",
       "      <td>GNU/Linux;Microsoft Windows;MacOS;Android;iOS</td>\n",
       "      <td>PHP</td>\n",
       "      <td>NaN</td>\n",
       "      <td>Laravel</td>\n",
       "      <td>NaN</td>\n",
       "      <td>GitHub;Slack;Trello</td>\n",
       "    </tr>\n",
       "    <tr>\n",
       "      <th>4</th>\n",
       "      <td>2021/03/01 5:59:44 p. m. GMT-3</td>\n",
       "      <td>Remoto</td>\n",
       "      <td>Nacional (Paraguay)</td>\n",
       "      <td>Desarrollador mobile</td>\n",
       "      <td>NaN</td>\n",
       "      <td>Sí</td>\n",
       "      <td>5 a 9 años</td>\n",
       "      <td>5 a 9 años</td>\n",
       "      <td>16 a 17 años</td>\n",
       "      <td>Educación básica;Educación secundaria;Autodidacta</td>\n",
       "      <td>...</td>\n",
       "      <td>PHP;Java;Kotlin;Swift</td>\n",
       "      <td>Laravel</td>\n",
       "      <td>NaN</td>\n",
       "      <td>MySQL</td>\n",
       "      <td>Microsoft Windows;MacOS</td>\n",
       "      <td>Kotlin</td>\n",
       "      <td>C++</td>\n",
       "      <td>Laravel</td>\n",
       "      <td>NaN</td>\n",
       "      <td>GitHub;Slack;Confluence;Trello;Discord</td>\n",
       "    </tr>\n",
       "  </tbody>\n",
       "</table>\n",
       "<p>5 rows × 25 columns</p>\n",
       "</div>"
      ],
      "text/plain": [
       "                       marca_temp modalidad              trabajo  \\\n",
       "0  2021/03/01 5:56:11 p. m. GMT-3    Remoto  Nacional (Paraguay)   \n",
       "1  2021/03/01 5:57:32 p. m. GMT-3   Hibrído  Nacional (Paraguay)   \n",
       "2  2021/03/01 5:57:57 p. m. GMT-3   Hibrído  Nacional (Paraguay)   \n",
       "3  2021/03/01 5:59:04 p. m. GMT-3   Hibrído                Ambas   \n",
       "4  2021/03/01 5:59:44 p. m. GMT-3    Remoto  Nacional (Paraguay)   \n",
       "\n",
       "                                     tipo_de_trabajo  \\\n",
       "0                                       QA o testing   \n",
       "1  Desarrollador full-stack;Aplicaciones de escri...   \n",
       "2                            Desarrollador front-end   \n",
       "3                           Desarrollador full-stack   \n",
       "4                               Desarrollador mobile   \n",
       "\n",
       "                               devops programar_x_trabajo        exp_en_IT  \\\n",
       "0                            Educador                  No  Menos de 5 años   \n",
       "1  Administrador de sistemas;Educador                  Sí     15 a 19 años   \n",
       "2                                 NaN                  Sí  Menos de 5 años   \n",
       "3           Administrador de sistemas                  Sí       5 a 9 años   \n",
       "4                                 NaN                  Sí       5 a 9 años   \n",
       "\n",
       "  exp_en_programacion 1_linea_de_codigo  \\\n",
       "0                 NaN      22 a 23 años   \n",
       "1        15 a 19 años      20 a 21 años   \n",
       "2     Menos de 5 años      20 a 21 años   \n",
       "3          5 a 9 años      10 a 11 años   \n",
       "4          5 a 9 años      16 a 17 años   \n",
       "\n",
       "                                           educacion  ...  \\\n",
       "0                            Educación universitaria  ...   \n",
       "1                Educación universitaria;Autodidacta  ...   \n",
       "2                            Educación universitaria  ...   \n",
       "3         Educación universitaria;Master;Autodidacta  ...   \n",
       "4  Educación básica;Educación secundaria;Autodidacta  ...   \n",
       "\n",
       "                              prog_script_leng  \\\n",
       "0                      JavaScript;Java;C++;SQL   \n",
       "1                   JavaScript;C#;HTML/CSS;SQL   \n",
       "2  JavaScript;TypeScript;PHP;C;C#;HTML/CSS;SQL   \n",
       "3  JavaScript;TypeScript;PHP;HTML/CSS;SQL;Dart   \n",
       "4                        PHP;Java;Kotlin;Swift   \n",
       "\n",
       "                         lib_frameworks otras_lib_frameworks  \\\n",
       "0                                   NaN                  NaN   \n",
       "1                  ASP.NET;ASP.NET Core         .NET;Xamarin   \n",
       "2  React.js;Angular;JQuery;ASP.NET Core    Opció.NET Coren 3   \n",
       "3     Angular;Angular.js;JQuery;Laravel              Flutter   \n",
       "4                               Laravel                  NaN   \n",
       "\n",
       "                                                  db  \\\n",
       "0                           MySQL;PostgreSQL;IBM DB2   \n",
       "1                         MySQL;Microsoft SQL Server   \n",
       "2                                                NaN   \n",
       "3  MySQL;MariaDB;PostgreSQL;Microsoft SQL Server;...   \n",
       "4                                              MySQL   \n",
       "\n",
       "                                         plataformas leng_fav leng_mas_odiado  \\\n",
       "0                  GNU/Linux;Microsoft Windows;MacOS      SQL             NaN   \n",
       "1  GNU/Linux;Microsoft Windows;Microsoft Azure;Wo...       C#            Java   \n",
       "2                  GNU/Linux;Microsoft Windows;MacOS       C#         Genexus   \n",
       "3      GNU/Linux;Microsoft Windows;MacOS;Android;iOS      PHP             NaN   \n",
       "4                            Microsoft Windows;MacOS   Kotlin             C++   \n",
       "\n",
       "       fram_fav fram_mas_odiado  \\\n",
       "0           NaN             NaN   \n",
       "1  ASP.NET Core         Laravel   \n",
       "2  ASP.NET Core          Django   \n",
       "3       Laravel             NaN   \n",
       "4       Laravel             NaN   \n",
       "\n",
       "                                        herramientas  \n",
       "0           GitHub;Slack;Jira;Microsoft Team;Discord  \n",
       "1              GitHub;Microsoft Team;Microsoft Azure  \n",
       "2  GitHub;Slack;GitLab;Google Suite (Docs, Meet, ...  \n",
       "3                                GitHub;Slack;Trello  \n",
       "4             GitHub;Slack;Confluence;Trello;Discord  \n",
       "\n",
       "[5 rows x 25 columns]"
      ]
     },
     "execution_count": 112,
     "metadata": {},
     "output_type": "execute_result"
    }
   ],
   "source": [
    "# Let's see the df head.\n",
    "df.head()"
   ]
  },
  {
   "cell_type": "markdown",
   "id": "a902b134",
   "metadata": {},
   "source": [
    "### Modalidad"
   ]
  },
  {
   "cell_type": "code",
   "execution_count": 113,
   "id": "c3080a3a-dd94-40ee-a7d9-e4a0dbf2a999",
   "metadata": {},
   "outputs": [
    {
     "data": {
      "text/plain": [
       "Index(['Remoto', 'Hibrído', 'Presencial', 'Ninguna de las anteriores'], dtype='object')"
      ]
     },
     "execution_count": 113,
     "metadata": {},
     "output_type": "execute_result"
    }
   ],
   "source": [
    "# Let's see the content of the column 'modalidad'.\n",
    "df['modalidad'].value_counts().keys()"
   ]
  },
  {
   "cell_type": "code",
   "execution_count": 114,
   "id": "78c63150-978b-464f-962c-d3910c969b76",
   "metadata": {},
   "outputs": [],
   "source": [
    "# One of the options 'Ninguna de las anteriores' its a long string. Let's make it shorter."
   ]
  },
  {
   "cell_type": "code",
   "execution_count": 115,
   "id": "d290a004",
   "metadata": {},
   "outputs": [],
   "source": [
    "df['modalidad'].replace({\n",
    "    'Ninguna de las anteriores': 'Ninguna',\n",
    "}, regex=True, inplace=True)"
   ]
  },
  {
   "cell_type": "code",
   "execution_count": 116,
   "id": "527b4685",
   "metadata": {},
   "outputs": [
    {
     "data": {
      "text/plain": [
       "Remoto        145\n",
       "Hibrído       110\n",
       "Presencial     78\n",
       "Ninguna         9\n",
       "Name: modalidad, dtype: int64"
      ]
     },
     "execution_count": 116,
     "metadata": {},
     "output_type": "execute_result"
    }
   ],
   "source": [
    "df.modalidad.value_counts()"
   ]
  },
  {
   "cell_type": "markdown",
   "id": "9b3a97f3",
   "metadata": {},
   "source": [
    "### Trabajo"
   ]
  },
  {
   "cell_type": "code",
   "execution_count": 117,
   "id": "120e8e91",
   "metadata": {},
   "outputs": [
    {
     "data": {
      "text/plain": [
       "Nacional (Paraguay)    259\n",
       "Ambas                   44\n",
       "Internacional           39\n",
       "Name: trabajo, dtype: int64"
      ]
     },
     "execution_count": 117,
     "metadata": {},
     "output_type": "execute_result"
    }
   ],
   "source": [
    "# First let's see the content of the column.\n",
    "df['trabajo'].value_counts()"
   ]
  },
  {
   "cell_type": "code",
   "execution_count": 118,
   "id": "fc66a735-04ae-405b-909d-769a8975e50a",
   "metadata": {},
   "outputs": [],
   "source": [
    "# No need of changes here."
   ]
  },
  {
   "cell_type": "markdown",
   "id": "4e1c09ea",
   "metadata": {},
   "source": [
    "### Tipo de Trabajo"
   ]
  },
  {
   "cell_type": "code",
   "execution_count": 119,
   "id": "50d2ec9b",
   "metadata": {},
   "outputs": [
    {
     "data": {
      "text/plain": [
       "Desarrollador full-stack                                                                                                                      55\n",
       "Desarrollador back-end                                                                                                                        29\n",
       "Desarrollador front-end                                                                                                                       16\n",
       "Aplicaciones de escritorio o empresariales                                                                                                    15\n",
       "Desarrollador back-end;Desarrollador front-end                                                                                                13\n",
       "                                                                                                                                              ..\n",
       "Desarrollador full-stack;Desarrollador mobile;Administrador de base de datos;Project Leader                                                    1\n",
       "Desarrollador front-end;Administrador de base de datos;Project Leader                                                                          1\n",
       "Desarrollador mobile;Desarrollador de videojuegos                                                                                              1\n",
       "Desarrollador back-end;Desarrollador front-end;Desarrollador full-stack;Desarrollador mobile;Desarrollador de videojuegos                      1\n",
       "Desarrollador back-end;Desarrollador front-end;Desarrollador full-stack;Desarrollador mobile;Administrador de base de datos;Project Leader     1\n",
       "Name: tipo_de_trabajo, Length: 90, dtype: int64"
      ]
     },
     "execution_count": 119,
     "metadata": {},
     "output_type": "execute_result"
    }
   ],
   "source": [
    "# Column content\n",
    "df['tipo_de_trabajo'].value_counts()"
   ]
  },
  {
   "cell_type": "code",
   "execution_count": 120,
   "id": "66b4ded8-1e90-4513-853c-62b2faa83a4a",
   "metadata": {},
   "outputs": [],
   "source": [
    "# Here we see a series of composed strings. So wee need to do something to make it shorter."
   ]
  },
  {
   "cell_type": "code",
   "execution_count": 121,
   "id": "7b8a0dd9",
   "metadata": {},
   "outputs": [],
   "source": [
    "df['tipo_de_trabajo'].replace({\n",
    "    'Desarrollador':'Dev',\n",
    "    'Project Leader':'Project Lead',\n",
    "    'Aplicaciones':'Aps',\n",
    "    'Administrador de base de datos':'DB Admin',\n",
    "    'de escritorio o empresariales':'para Esc. o Emp.',\n",
    "    'sistemas embebidos':'sist. embebidos',\n",
    "    \n",
    "    \n",
    "},regex=True, inplace=True)"
   ]
  },
  {
   "cell_type": "code",
   "execution_count": 244,
   "id": "cbd33a31",
   "metadata": {},
   "outputs": [
    {
     "data": {
      "text/plain": [
       "{'Aps para Esc. o Emp.',\n",
       " 'DB Admin',\n",
       " 'Dev back-end',\n",
       " 'Dev de sist. embebidos',\n",
       " 'Dev de videojuegos',\n",
       " 'Dev front-end',\n",
       " 'Dev full-stack',\n",
       " 'Dev mobile',\n",
       " 'Project Lead',\n",
       " 'QA o testing'}"
      ]
     },
     "execution_count": 244,
     "metadata": {},
     "output_type": "execute_result"
    }
   ],
   "source": [
    "set(itertools.chain.from_iterable([i.split(';') for i in df['tipo_de_trabajo'].value_counts().keys()]))\n",
    "    "
   ]
  },
  {
   "cell_type": "code",
   "execution_count": 245,
   "id": "b2ab5ce0-57ac-4d4c-96db-d3aadcb33534",
   "metadata": {},
   "outputs": [],
   "source": [
    "# Now it is possible to work with the content of this column."
   ]
  },
  {
   "cell_type": "markdown",
   "id": "2ef66115",
   "metadata": {},
   "source": [
    "### DevOps"
   ]
  },
  {
   "cell_type": "code",
   "execution_count": 251,
   "id": "57a5a3c1",
   "metadata": {},
   "outputs": [
    {
     "data": {
      "text/plain": [
       "{'Data Scientist ML Specialist',\n",
       " 'Diseñador',\n",
       " 'Educador',\n",
       " 'Inv. Cientifico',\n",
       " 'Sys Admin'}"
      ]
     },
     "execution_count": 251,
     "metadata": {},
     "output_type": "execute_result"
    }
   ],
   "source": [
    "# Show the content of the column.\n",
    "set(itertools.chain.from_iterable([i.split(';') for i in df.devops.value_counts().keys()]))\n",
    "    "
   ]
  },
  {
   "cell_type": "code",
   "execution_count": 252,
   "id": "04020d6c",
   "metadata": {},
   "outputs": [],
   "source": [
    "df['devops'].replace({\n",
    "    'Científico de datos o especialista Machine Learning':'Data Scientist ML Specialist',\n",
    "    'Administrador de sistemas':'Sys Admin',\n",
    "    'Investigador científico':'Inv. Cientifico',\n",
    "}, regex=True, inplace = True)"
   ]
  },
  {
   "cell_type": "code",
   "execution_count": 255,
   "id": "59ce6399",
   "metadata": {},
   "outputs": [
    {
     "data": {
      "text/plain": [
       "{'Data Scientist ML Specialist',\n",
       " 'Diseñador',\n",
       " 'Educador',\n",
       " 'Inv. Cientifico',\n",
       " 'Sys Admin'}"
      ]
     },
     "execution_count": 255,
     "metadata": {},
     "output_type": "execute_result"
    }
   ],
   "source": [
    "set(itertools.chain.from_iterable([i.split(';') for i in df['devops'].value_counts().keys()]))\n",
    "    "
   ]
  },
  {
   "cell_type": "code",
   "execution_count": 256,
   "id": "3795b6ea-a691-436c-8a24-1776be9658ac",
   "metadata": {},
   "outputs": [],
   "source": [
    "# Now it is possible to work with the content of this column."
   ]
  },
  {
   "cell_type": "markdown",
   "id": "4e96ca5b",
   "metadata": {},
   "source": [
    "### 'programar_x_trabajo' "
   ]
  },
  {
   "cell_type": "code",
   "execution_count": 257,
   "id": "f9258bba",
   "metadata": {},
   "outputs": [
    {
     "data": {
      "text/plain": [
       "Sí    317\n",
       "No     25\n",
       "Name: programar_x_trabajo, dtype: int64"
      ]
     },
     "execution_count": 257,
     "metadata": {},
     "output_type": "execute_result"
    }
   ],
   "source": [
    "# Show the column content.\n",
    "df['programar_x_trabajo'].value_counts()"
   ]
  },
  {
   "cell_type": "code",
   "execution_count": 258,
   "id": "3db428b8-48c8-485e-bd98-52b82c63a163",
   "metadata": {},
   "outputs": [],
   "source": [
    "# No need to do changes."
   ]
  },
  {
   "cell_type": "markdown",
   "id": "ce231bbe",
   "metadata": {},
   "source": [
    "### 'exp_en_IT'"
   ]
  },
  {
   "cell_type": "code",
   "execution_count": 259,
   "id": "25b54616",
   "metadata": {},
   "outputs": [
    {
     "data": {
      "text/plain": [
       "Index(['5-9', '<5', '10-14', '15-19', '20-24', '25-29', '30-34', '35-39',\n",
       "       '>50', '45-49'],\n",
       "      dtype='object')"
      ]
     },
     "execution_count": 259,
     "metadata": {},
     "output_type": "execute_result"
    }
   ],
   "source": [
    "df['exp_en_IT'].value_counts().keys()"
   ]
  },
  {
   "cell_type": "code",
   "execution_count": 260,
   "id": "022d27a0-b4ab-4a5e-970d-82c51ea4aafb",
   "metadata": {},
   "outputs": [],
   "source": [
    "# Numbers and strings together. I am going to convert it into only numbers but of type string. \n",
    "# All measurements are in \"years\"."
   ]
  },
  {
   "cell_type": "code",
   "execution_count": 261,
   "id": "b4ab80ff",
   "metadata": {},
   "outputs": [],
   "source": [
    "df['exp_en_IT'].replace({\n",
    "    \"5 a 9 años\":\"5-9\",\n",
    "    \"Menos de 5 años\":\"<5\",\n",
    "    \"10 a 14 años\":\"10-14\",\n",
    "    \"15 a 19 años\":\"15-19\",\n",
    "    \"20 a 24 años\":\"20-24\",\n",
    "    \"25 a 29 años\":\"25-29\",\n",
    "    \"30 a 34 años\":\"30-34\",\n",
    "    \"35 a 39 años\":\"35-39\",\n",
    "    \"más de 50 años\":\">50\",\n",
    "    \"45 a 49 años\":\"45-49\",\n",
    "},regex=True, inplace =True)"
   ]
  },
  {
   "cell_type": "code",
   "execution_count": 262,
   "id": "45711ad7",
   "metadata": {},
   "outputs": [
    {
     "data": {
      "text/plain": [
       "5-9      124\n",
       "<5        94\n",
       "10-14     82\n",
       "15-19     20\n",
       "20-24      9\n",
       "25-29      5\n",
       "30-34      4\n",
       "35-39      2\n",
       ">50        1\n",
       "45-49      1\n",
       "Name: exp_en_IT, dtype: int64"
      ]
     },
     "execution_count": 262,
     "metadata": {},
     "output_type": "execute_result"
    }
   ],
   "source": [
    "# Show the changes.\n",
    "df['exp_en_IT'].value_counts()"
   ]
  },
  {
   "cell_type": "markdown",
   "id": "1efd69ea",
   "metadata": {},
   "source": [
    "### 'exp_en_programacion'"
   ]
  },
  {
   "cell_type": "code",
   "execution_count": 263,
   "id": "46414229",
   "metadata": {},
   "outputs": [
    {
     "data": {
      "text/plain": [
       "Index(['5-9', '<5', '10-14', '15-19', '20-24', '25-29', '30-34', '35-39'], dtype='object')"
      ]
     },
     "execution_count": 263,
     "metadata": {},
     "output_type": "execute_result"
    }
   ],
   "source": [
    "# Show the column content.\n",
    "df['exp_en_programacion'].value_counts().keys()"
   ]
  },
  {
   "cell_type": "code",
   "execution_count": 264,
   "id": "5c08aac2-7c00-4f0a-8cab-3004a8f05a45",
   "metadata": {},
   "outputs": [],
   "source": [
    "# The same as the previous case. Numbers and strings together. \n",
    "# I am going to convert it into only numbers but of type string. All measurements are in \"years\"."
   ]
  },
  {
   "cell_type": "code",
   "execution_count": 265,
   "id": "c6d17163",
   "metadata": {},
   "outputs": [],
   "source": [
    "df['exp_en_programacion'].replace({\n",
    "    \"5 a 9 años\":\"5-9\",\n",
    "    \"Menos de 5 años\":\"<5\",\n",
    "    \"10 a 14 años\":\"10-14\",\n",
    "    \"15 a 19 años\":\"15-19\",\n",
    "    \"20 a 24 años\":\"20-24\",\n",
    "    \"25 a 29 años\":\"25-29\",\n",
    "    \"30 a 34 años\":\"30-34\",\n",
    "    \"35 a 39 años\":\"35-39\",\n",
    "}, regex=True, inplace=True)"
   ]
  },
  {
   "cell_type": "code",
   "execution_count": 266,
   "id": "77f25eb6",
   "metadata": {},
   "outputs": [
    {
     "data": {
      "text/plain": [
       "5-9      125\n",
       "<5       111\n",
       "10-14     64\n",
       "15-19     20\n",
       "20-24      7\n",
       "25-29      6\n",
       "30-34      4\n",
       "35-39      2\n",
       "Name: exp_en_programacion, dtype: int64"
      ]
     },
     "execution_count": 266,
     "metadata": {},
     "output_type": "execute_result"
    }
   ],
   "source": [
    "# Show the changes.\n",
    "df['exp_en_programacion'].value_counts()"
   ]
  },
  {
   "cell_type": "markdown",
   "id": "b805fc6b",
   "metadata": {},
   "source": [
    "### '1_linea_de_codigo' "
   ]
  },
  {
   "cell_type": "code",
   "execution_count": 267,
   "id": "6a12f633",
   "metadata": {},
   "outputs": [
    {
     "data": {
      "text/plain": [
       "Index(['<10', '10-11', '14-15', '12-13', '16-17', '18-19', '20-21', '>30',\n",
       "       '26-27', '22-23', '28-29', '24-25'],\n",
       "      dtype='object')"
      ]
     },
     "execution_count": 267,
     "metadata": {},
     "output_type": "execute_result"
    }
   ],
   "source": [
    "# Printing the values in the column.\n",
    "df['1_linea_de_codigo'].value_counts().keys()"
   ]
  },
  {
   "cell_type": "code",
   "execution_count": 268,
   "id": "060acc28-560a-4af9-b3af-3d2eb65595c2",
   "metadata": {},
   "outputs": [],
   "source": [
    "# The same as the previous case. Numbers and strings together. \n",
    "# I am going to convert it into only numbers but of type string. All measurements are in \"years\"."
   ]
  },
  {
   "cell_type": "code",
   "execution_count": 269,
   "id": "29991baa",
   "metadata": {},
   "outputs": [],
   "source": [
    "df['1_linea_de_codigo'].replace({\n",
    "    'Menos de 10 años': '<10',\n",
    "    '10 a 11 años':'10-11', \n",
    "    '14 a 15 años':'14-15', \n",
    "    '12 a 13 años':'12-13',\n",
    "    '16 a 17 años':'16-17', \n",
    "    '18 a 19 años':'18-19', \n",
    "    '20 a 21 años':'20-21', \n",
    "    'más de 30 años':'>30',\n",
    "    '26 a 27 años':'26-27', \n",
    "    '22 a 23 años':'22-23', \n",
    "    '24 a 25 años':'24-25', \n",
    "    '28 a 29 años':'28-29',\n",
    "},regex=True, inplace=True)"
   ]
  },
  {
   "cell_type": "code",
   "execution_count": 270,
   "id": "67e0097f",
   "metadata": {},
   "outputs": [
    {
     "data": {
      "text/plain": [
       "<10      101\n",
       "10-11     55\n",
       "14-15     51\n",
       "12-13     37\n",
       "16-17     31\n",
       "18-19     27\n",
       "20-21     16\n",
       ">30        6\n",
       "26-27      4\n",
       "22-23      4\n",
       "28-29      3\n",
       "24-25      3\n",
       "Name: 1_linea_de_codigo, dtype: int64"
      ]
     },
     "execution_count": 270,
     "metadata": {},
     "output_type": "execute_result"
    }
   ],
   "source": [
    "# Printing the changes.\n",
    "df['1_linea_de_codigo'].value_counts()"
   ]
  },
  {
   "cell_type": "markdown",
   "id": "a39f6abb",
   "metadata": {},
   "source": [
    "### 'educación'"
   ]
  },
  {
   "cell_type": "code",
   "execution_count": 276,
   "id": "c53fb3a7",
   "metadata": {},
   "outputs": [
    {
     "data": {
      "text/plain": [
       "{'Autodidacta',\n",
       " 'Doctorado',\n",
       " 'Ed. Basica',\n",
       " 'Ed. Secundaria',\n",
       " 'Ed. Universitaria',\n",
       " 'Master'}"
      ]
     },
     "execution_count": 276,
     "metadata": {},
     "output_type": "execute_result"
    }
   ],
   "source": [
    "set(itertools.chain.from_iterable([i.split(';') for i in df['educacion'].value_counts().keys()]))"
   ]
  },
  {
   "cell_type": "code",
   "execution_count": 277,
   "id": "cc60575e-4b8c-4ee0-817a-881ba069620a",
   "metadata": {},
   "outputs": [],
   "source": [
    "# Some of the strings in the column can be shortened."
   ]
  },
  {
   "cell_type": "code",
   "execution_count": 278,
   "id": "f48c47cb",
   "metadata": {},
   "outputs": [],
   "source": [
    "df['educacion'].replace({\n",
    "    'Educación universitaria':'Ed. Universitaria',\n",
    "    'Educación básica': 'Ed. Basica',\n",
    "    'Educación secundaria': 'Ed. Secundaria',\n",
    "    'Autodidacta': 'Autodidacta',\n",
    "},regex=True, inplace=True)"
   ]
  },
  {
   "cell_type": "code",
   "execution_count": 279,
   "id": "481eeedb",
   "metadata": {},
   "outputs": [
    {
     "data": {
      "text/plain": [
       "Ed. Universitaria                                                           151\n",
       "Ed. Basica;Ed. Secundaria;Ed. Universitaria                                  42\n",
       "Ed. Basica;Ed. Secundaria;Ed. Universitaria;Autodidacta                      36\n",
       "Ed. Universitaria;Autodidacta                                                29\n",
       "Master                                                                       17\n",
       "Ed. Secundaria                                                               12\n",
       "Ed. Basica;Ed. Secundaria                                                    11\n",
       "Ed. Basica;Ed. Secundaria;Autodidacta                                        10\n",
       "Ed. Secundaria;Autodidacta                                                    8\n",
       "Ed. Universitaria;Master                                                      8\n",
       "Ed. Basica;Ed. Secundaria;Ed. Universitaria;Master                            4\n",
       "Ed. Universitaria;Master;Autodidacta                                          3\n",
       "Autodidacta                                                                   2\n",
       "Ed. Basica;Ed. Secundaria;Ed. Universitaria;Master;Autodidacta                2\n",
       "Ed. Secundaria;Ed. Universitaria;Master                                       1\n",
       "Ed. Secundaria;Ed. Universitaria;Autodidacta                                  1\n",
       "Master;Autodidacta                                                            1\n",
       "Ed. Secundaria;Ed. Universitaria                                              1\n",
       "Doctorado                                                                     1\n",
       "Ed. Basica;Ed. Secundaria;Ed. Universitaria;Master;Doctorado;Autodidacta      1\n",
       "Ed. Basica;Ed. Secundaria;Master;Autodidacta                                  1\n",
       "Name: educacion, dtype: int64"
      ]
     },
     "execution_count": 279,
     "metadata": {},
     "output_type": "execute_result"
    }
   ],
   "source": [
    "# Show the changes made.\n",
    "df['educacion'].value_counts()"
   ]
  },
  {
   "cell_type": "markdown",
   "id": "b51c7010",
   "metadata": {},
   "source": [
    "### 'carr_especialidades' "
   ]
  },
  {
   "cell_type": "code",
   "execution_count": 280,
   "id": "43b381fc",
   "metadata": {},
   "outputs": [
    {
     "data": {
      "text/plain": [
       "Index(['Ing. Informática', 'Análisis de Sist.',\n",
       "       'Programación;Análisis de Sist.', 'Programación;Ing. Informática',\n",
       "       'Programación', 'Programación;Análisis de Sist.;Ing. Informática',\n",
       "       'Ninguna', 'Análisis de Sist.;Ing. Informática', 'Ing. Electrónica',\n",
       "       'Otras', 'Programación;Análisis de Sist.;Otras',\n",
       "       'Ing. Informática;Otras', 'Otras Ing.', 'Análisis de Sist.;Otras',\n",
       "       'Programación;Análisis de Sist.;Diseño Gráfico',\n",
       "       'Programación;Diseño Gráfico',\n",
       "       'Programación;Análisis de Sist.;Ing. Informática;Otras',\n",
       "       'Programación;Ing. Informática;Otras',\n",
       "       'Programación;Diseño Gráfico;Otras', 'Programación;Otras',\n",
       "       'Análisis de Sist.;Diseño Gráfico', 'Ing. Informática;Diseño Gráfico',\n",
       "       'Programación;Análisis de Sist.;Ing. Informática;Matemático',\n",
       "       'Programación;Otras Ing.;Diseño Gráfico', 'Matemático',\n",
       "       'Programación;Análisis de Sist.;Ing. Civil;Otras Ing.',\n",
       "       'Análisis de Sist.;Ing. Electrónica',\n",
       "       'Programación;Análisis de Sist.;Ing. Informática;Ing. Electrónica',\n",
       "       'Análisis de Sist.;Ninguna',\n",
       "       'Análisis de Sist.;Ing. Informática;Diseño Gráfico',\n",
       "       'Programación;Análisis de Sist.;Ing. Informática;Diseño Gráfico;Otras',\n",
       "       'Diseño Gráfico'],\n",
       "      dtype='object')"
      ]
     },
     "execution_count": 280,
     "metadata": {},
     "output_type": "execute_result"
    }
   ],
   "source": [
    "df['carr_especialidades'].value_counts().keys()"
   ]
  },
  {
   "cell_type": "code",
   "execution_count": 281,
   "id": "4cd8ab29-7f1d-44c7-9fbf-1172cbf22282",
   "metadata": {},
   "outputs": [],
   "source": [
    "# Again, some of the values in this column are long strings. I'm going to make it a bit shorter."
   ]
  },
  {
   "cell_type": "code",
   "execution_count": 283,
   "id": "95bdc2d3",
   "metadata": {},
   "outputs": [
    {
     "data": {
      "text/plain": [
       "{'Análisis de Sist.',\n",
       " 'Diseño Gráfico',\n",
       " 'Ing. Civil',\n",
       " 'Ing. Electrónica',\n",
       " 'Ing. Informática',\n",
       " 'Matemático',\n",
       " 'Ninguna',\n",
       " 'Otras',\n",
       " 'Otras Ing.',\n",
       " 'Programación'}"
      ]
     },
     "execution_count": 283,
     "metadata": {},
     "output_type": "execute_result"
    }
   ],
   "source": [
    "set(itertools.chain.from_iterable([i.split(';') for i in df['carr_especialidades'].value_counts().keys()]))"
   ]
  },
  {
   "cell_type": "code",
   "execution_count": 284,
   "id": "38c57baf",
   "metadata": {},
   "outputs": [],
   "source": [
    "# Replacing careers or specialities for shorter strings names.\n",
    "df['carr_especialidades'].replace({\n",
    "    'Ingeniero Informática': 'Ing. Informática',\n",
    "    'Análisis de sistemas':'Análisis de Sist.',\n",
    "    'Ingeniero Electrónica':'Ing. Electrónica',\n",
    "    'Otras ingenerías':'Otras Ing.',\n",
    "    'Diseño gráfico':'Diseño Gráfico',\n",
    "    'Ingeniero Civil':'Ing. Civil',\n",
    "},regex=True, inplace=True)"
   ]
  },
  {
   "cell_type": "code",
   "execution_count": 285,
   "id": "a2c87dc4",
   "metadata": {},
   "outputs": [
    {
     "data": {
      "text/plain": [
       "Ing. Informática                                                        107\n",
       "Análisis de Sist.                                                        69\n",
       "Programación;Análisis de Sist.                                           33\n",
       "Programación;Ing. Informática                                            21\n",
       "Programación                                                             17\n",
       "Programación;Análisis de Sist.;Ing. Informática                          17\n",
       "Ninguna                                                                  15\n",
       "Análisis de Sist.;Ing. Informática                                       11\n",
       "Ing. Electrónica                                                          6\n",
       "Otras                                                                     5\n",
       "Programación;Análisis de Sist.;Otras                                      5\n",
       "Ing. Informática;Otras                                                    4\n",
       "Otras Ing.                                                                4\n",
       "Análisis de Sist.;Otras                                                   3\n",
       "Programación;Análisis de Sist.;Diseño Gráfico                             3\n",
       "Programación;Diseño Gráfico                                               2\n",
       "Programación;Análisis de Sist.;Ing. Informática;Otras                     2\n",
       "Programación;Ing. Informática;Otras                                       2\n",
       "Programación;Diseño Gráfico;Otras                                         2\n",
       "Programación;Otras                                                        2\n",
       "Análisis de Sist.;Diseño Gráfico                                          1\n",
       "Ing. Informática;Diseño Gráfico                                           1\n",
       "Programación;Análisis de Sist.;Ing. Informática;Matemático                1\n",
       "Programación;Otras Ing.;Diseño Gráfico                                    1\n",
       "Matemático                                                                1\n",
       "Programación;Análisis de Sist.;Ing. Civil;Otras Ing.                      1\n",
       "Análisis de Sist.;Ing. Electrónica                                        1\n",
       "Programación;Análisis de Sist.;Ing. Informática;Ing. Electrónica          1\n",
       "Análisis de Sist.;Ninguna                                                 1\n",
       "Análisis de Sist.;Ing. Informática;Diseño Gráfico                         1\n",
       "Programación;Análisis de Sist.;Ing. Informática;Diseño Gráfico;Otras      1\n",
       "Diseño Gráfico                                                            1\n",
       "Name: carr_especialidades, dtype: int64"
      ]
     },
     "execution_count": 285,
     "metadata": {},
     "output_type": "execute_result"
    }
   ],
   "source": [
    "# Printing the changes.\n",
    "df['carr_especialidades'].value_counts()"
   ]
  },
  {
   "cell_type": "markdown",
   "id": "1f9936ff",
   "metadata": {},
   "source": [
    "### 'imp_ed_formal' "
   ]
  },
  {
   "cell_type": "code",
   "execution_count": 286,
   "id": "a9881678",
   "metadata": {},
   "outputs": [
    {
     "data": {
      "text/plain": [
       "Index(['+ || -', 'BASTANTE', 'MUY', 'NO', 'CRITICO'], dtype='object')"
      ]
     },
     "execution_count": 286,
     "metadata": {},
     "output_type": "execute_result"
    }
   ],
   "source": [
    "# Show the column content.\n",
    "df['imp_ed_formal' ].value_counts().keys()"
   ]
  },
  {
   "cell_type": "code",
   "execution_count": 287,
   "id": "98d00164",
   "metadata": {},
   "outputs": [],
   "source": [
    "# Let's make some changes to get shorter strings.\n",
    "\n",
    "df['imp_ed_formal' ].replace({\n",
    "    'Más o menos importante': '+ || -',\n",
    "    'Bastante importante':'BASTANTE', \n",
    "    'Muy importante':'MUY',\n",
    "    'No importa, no es necesario':'NO', \n",
    "    'Crítico':'CRITICO',\n",
    "},regex=True, inplace=True)"
   ]
  },
  {
   "cell_type": "code",
   "execution_count": 288,
   "id": "c841c64a",
   "metadata": {},
   "outputs": [
    {
     "data": {
      "text/plain": [
       "Index(['+ || -', 'BASTANTE', 'MUY', 'NO', 'CRITICO'], dtype='object')"
      ]
     },
     "execution_count": 288,
     "metadata": {},
     "output_type": "execute_result"
    }
   ],
   "source": [
    "# Print the changes made.\n",
    "df['imp_ed_formal' ].value_counts().keys()"
   ]
  },
  {
   "cell_type": "markdown",
   "id": "d39ad50f",
   "metadata": {},
   "source": [
    "### 'genero'"
   ]
  },
  {
   "cell_type": "code",
   "execution_count": 289,
   "id": "43020009",
   "metadata": {},
   "outputs": [
    {
     "data": {
      "text/plain": [
       "Index(['HOMBRE', 'MUJER', 'NO COMPARTO'], dtype='object')"
      ]
     },
     "execution_count": 289,
     "metadata": {},
     "output_type": "execute_result"
    }
   ],
   "source": [
    "# Show the column content.\n",
    "df['genero'].value_counts().keys()"
   ]
  },
  {
   "cell_type": "code",
   "execution_count": 290,
   "id": "4550fa9c",
   "metadata": {},
   "outputs": [],
   "source": [
    "# GROUP GENRES BY MINORITIES.\n",
    "# I know in advance that the categories 'Prefiero no compartir', 'Otros' and 'Género' have \n",
    "# very low values and do not represent a relevant number.\n",
    "# For this reason I am going to group them in a single category 'I DO NOT SHARE'."
   ]
  },
  {
   "cell_type": "code",
   "execution_count": 291,
   "id": "7a4c8eea",
   "metadata": {},
   "outputs": [],
   "source": [
    "# Making the changes. \n",
    "df['genero'].replace({\n",
    "    'Hombre':'HOMBRE', \n",
    "    'Mujer':'MUJER',\n",
    "    'Prefiero no compartir':'NO COMPARTO', \n",
    "    'Otros':'NO COMPARTO', \n",
    "    'Género':'NO COMPARTO',\n",
    "}, regex=True, inplace=True)"
   ]
  },
  {
   "cell_type": "code",
   "execution_count": 292,
   "id": "1d876c93",
   "metadata": {},
   "outputs": [
    {
     "data": {
      "text/plain": [
       "HOMBRE         279\n",
       "MUJER           49\n",
       "NO COMPARTO      6\n",
       "Name: genero, dtype: int64"
      ]
     },
     "execution_count": 292,
     "metadata": {},
     "output_type": "execute_result"
    }
   ],
   "source": [
    "# Printing the changes.\n",
    "df['genero'].value_counts()"
   ]
  },
  {
   "cell_type": "code",
   "execution_count": 293,
   "id": "c1795804-fae8-4500-aed1-a7a67ebfbcca",
   "metadata": {},
   "outputs": [
    {
     "data": {
      "text/plain": [
       "Index(['marca_temp', 'modalidad', 'trabajo', 'tipo_de_trabajo', 'devops',\n",
       "       'programar_x_trabajo', 'exp_en_IT', 'exp_en_programacion',\n",
       "       '1_linea_de_codigo', 'educacion', 'carr_especialidades',\n",
       "       'imp_ed_formal', 'genero', 'edad_actual', 'salario_mensual',\n",
       "       'prog_script_leng', 'lib_frameworks', 'otras_lib_frameworks', 'db',\n",
       "       'plataformas', 'leng_fav', 'leng_mas_odiado', 'fram_fav',\n",
       "       'fram_mas_odiado', 'herramientas'],\n",
       "      dtype='object')"
      ]
     },
     "execution_count": 293,
     "metadata": {},
     "output_type": "execute_result"
    }
   ],
   "source": [
    "df.columns"
   ]
  },
  {
   "cell_type": "markdown",
   "id": "b73b8cb1",
   "metadata": {},
   "source": [
    "### 'edad_actual' "
   ]
  },
  {
   "cell_type": "code",
   "execution_count": 294,
   "id": "651a23ae",
   "metadata": {},
   "outputs": [
    {
     "data": {
      "text/plain": [
       "Index(['30-34', '25-29', '35-39', '20-24', '40-44', '15-19', '45-49', '55-59',\n",
       "       '50-54'],\n",
       "      dtype='object')"
      ]
     },
     "execution_count": 294,
     "metadata": {},
     "output_type": "execute_result"
    }
   ],
   "source": [
    "# Print the column content.\n",
    "df['edad_actual'].value_counts().keys()"
   ]
  },
  {
   "cell_type": "markdown",
   "id": "f8277ff9-29df-450b-a903-a8dff4cfad6a",
   "metadata": {},
   "source": [
    "NOTE: The content of this column could be more useful if it were single data not ranges of data."
   ]
  },
  {
   "cell_type": "code",
   "execution_count": 295,
   "id": "6bdf7469-0ca3-41ee-8a6f-621876b48b9d",
   "metadata": {},
   "outputs": [],
   "source": [
    "# The same thing happens as in the previous cases. \n",
    "# Time series in the form of numbers and letters. Let's make some changes."
   ]
  },
  {
   "cell_type": "code",
   "execution_count": 296,
   "id": "3a1ee993",
   "metadata": {},
   "outputs": [],
   "source": [
    "# Make some changes by replacing.\n",
    "df['edad_actual' ].replace({\n",
    "    '30 a 34 años': '30-34', \n",
    "    '25 a 29 años':'25-29', \n",
    "    '35 a 39 años':'35-39', \n",
    "    '20 a 24 años':'20-24', \n",
    "    '40 a 44 años':'40-44',  \n",
    "    '15 a 19 años':'15-19',  \n",
    "    '50 a 54 años':'50-54',  \n",
    "    '55 a 59 años':'55-59', \n",
    "    '45 a 49 años':'45-49', \n",
    "}, regex=True, inplace=True)"
   ]
  },
  {
   "cell_type": "code",
   "execution_count": 297,
   "id": "99ed9292",
   "metadata": {},
   "outputs": [
    {
     "data": {
      "text/plain": [
       "30-34    120\n",
       "25-29     98\n",
       "35-39     51\n",
       "20-24     42\n",
       "40-44     16\n",
       "15-19      6\n",
       "45-49      3\n",
       "55-59      3\n",
       "50-54      3\n",
       "Name: edad_actual, dtype: int64"
      ]
     },
     "execution_count": 297,
     "metadata": {},
     "output_type": "execute_result"
    }
   ],
   "source": [
    "# Show the changes.\n",
    "df['edad_actual' ].value_counts()"
   ]
  },
  {
   "cell_type": "markdown",
   "id": "421de090",
   "metadata": {},
   "source": [
    "### 'salario_mensual'"
   ]
  },
  {
   "cell_type": "code",
   "execution_count": 298,
   "id": "ec0306f5",
   "metadata": {},
   "outputs": [
    {
     "data": {
      "text/plain": [
       "Index(['5 a 7 M. Gs.', '7 a 9 M. Gs.', '3.5 a 5 M. Gs.', '9 a 12 M. Gs.',\n",
       "       'MINIMO a 3.5 M. Gs.', '12 a 15 M. Gs.', '> 27 M. Gs.',\n",
       "       '15 a 18 M. Gs.', '< MINIMO Gs.', '18 a 21 M. Gs.', 'MINIMO',\n",
       "       '21 a 24 M. Gs.', '24 a 27 M. Gs.'],\n",
       "      dtype='object')"
      ]
     },
     "execution_count": 298,
     "metadata": {},
     "output_type": "execute_result"
    }
   ],
   "source": [
    "# First lets see what's in the column.\n",
    "df['salario_mensual'].value_counts().keys()"
   ]
  },
  {
   "cell_type": "code",
   "execution_count": 299,
   "id": "1e81dd56-b75e-45c1-b3a7-b4b8c949beb5",
   "metadata": {},
   "outputs": [],
   "source": [
    "# The column content it's a series of long strings. I'm going to change that."
   ]
  },
  {
   "cell_type": "code",
   "execution_count": 300,
   "id": "0daf6d89",
   "metadata": {},
   "outputs": [],
   "source": [
    "df[\"salario_mensual\"].replace({\n",
    "    \"Entre 5.000.000 a 7.000.000 gs\":\"5 a 7 M. Gs.\",\n",
    "    \"Entre 7.000.000 a 9.000.000 gs\":\"7 a 9 M. Gs.\",\n",
    "    \"Entre 3.500.000 a 5.000.000 gs\":\"3.5 a 5 M. Gs.\",\n",
    "    \"Entre 9.000.000 a 12.000.000 gs\":\"9 a 12 M. Gs.\",\n",
    "    \"Entre 2.192.839 gs a 3.500.000 gs\":\"MINIMO a 3.5 M. Gs.\",\n",
    "    \"Entre 12.000.000 a 15.000.000 gs\":\"12 a 15 M. Gs.\",\n",
    "    \"Más de 27.000.000 gs\":\"> 27 M. Gs.\",\n",
    "    \"Entre 15.000.000 a 18.000.000 gs\":\"15 a 18 M. Gs.\",\n",
    "    \"Menos del salario mínimo ( 2.192.839 gs)\":\"< MINIMO Gs.\",\n",
    "    \"Entre 18.000.000 a 21.000.000 gs\":\"18 a 21 M. Gs.\",\n",
    "    \"Salario mínimo 2.192.839 gs\":\"MINIMO\",\n",
    "    \"Entre 21.000.000 a 24.000.000 gs\":\"21 a 24 M. Gs.\",\n",
    "    \"Entre 24.000.000 a 27.000.000 gs\":\"24 a 27 M. Gs.\",\n",
    "}, inplace=True)"
   ]
  },
  {
   "cell_type": "code",
   "execution_count": 301,
   "id": "e7e9fd8d",
   "metadata": {},
   "outputs": [
    {
     "data": {
      "text/plain": [
       "5 a 7 M. Gs.           62\n",
       "7 a 9 M. Gs.           50\n",
       "3.5 a 5 M. Gs.         46\n",
       "9 a 12 M. Gs.          45\n",
       "MINIMO a 3.5 M. Gs.    39\n",
       "12 a 15 M. Gs.         28\n",
       "> 27 M. Gs.            17\n",
       "15 a 18 M. Gs.         14\n",
       "< MINIMO Gs.           13\n",
       "18 a 21 M. Gs.          9\n",
       "MINIMO                  8\n",
       "21 a 24 M. Gs.          7\n",
       "24 a 27 M. Gs.          4\n",
       "Name: salario_mensual, dtype: int64"
      ]
     },
     "execution_count": 301,
     "metadata": {},
     "output_type": "execute_result"
    }
   ],
   "source": [
    "# Print the changes. \n",
    "df['salario_mensual'].value_counts()"
   ]
  },
  {
   "cell_type": "markdown",
   "id": "946afbf1",
   "metadata": {},
   "source": [
    "### 'prog_script_leng'"
   ]
  },
  {
   "cell_type": "code",
   "execution_count": 302,
   "id": "468af679",
   "metadata": {},
   "outputs": [
    {
     "data": {
      "text/plain": [
       "JavaScript;PHP;HTML/CSS;SQL                                                 10\n",
       "JavaScript;TypeScript;Python;Java;HTML/CSS;SQL                               5\n",
       "JavaScript;TypeScript;Java;HTML/CSS;SQL                                      5\n",
       "JavaScript;PHP;HTML/CSS;SQL;Bash/Shell/PowerShell                            5\n",
       "JavaScript;TypeScript;PHP;Python;Java;HTML/CSS;SQL;Bash/Shell/PowerShell     4\n",
       "                                                                            ..\n",
       "Python;C#;VBA                                                                1\n",
       "JavaScript;Python;Java;C;HTML/CSS;Genexus                                    1\n",
       "JavaScript;PHP;C#;HTML/CSS                                                   1\n",
       "JavaScript;PHP;C;HTML/CSS;Fox Pro                                            1\n",
       "JavaScript;Python;Java;C;HTML/CSS;SQL;Genexus                                1\n",
       "Name: prog_script_leng, Length: 270, dtype: int64"
      ]
     },
     "execution_count": 302,
     "metadata": {},
     "output_type": "execute_result"
    }
   ],
   "source": [
    "df['prog_script_leng'].value_counts()"
   ]
  },
  {
   "cell_type": "code",
   "execution_count": 303,
   "id": "0be5c9ca",
   "metadata": {},
   "outputs": [
    {
     "data": {
      "text/plain": [
       "{'Assembly',\n",
       " 'Bash/Shell/PowerShell',\n",
       " 'C',\n",
       " 'C#',\n",
       " 'C++',\n",
       " 'COBOL',\n",
       " 'Dart',\n",
       " 'Fox Pro',\n",
       " 'Genexus',\n",
       " 'Go',\n",
       " 'HTML/CSS',\n",
       " 'Haskell',\n",
       " 'Java',\n",
       " 'JavaScript',\n",
       " 'Kotlin',\n",
       " 'Objective-C',\n",
       " 'Oracle form',\n",
       " 'PHP',\n",
       " 'Perl',\n",
       " 'Python',\n",
       " 'R',\n",
       " 'RPG',\n",
       " 'Ruby',\n",
       " 'Rust',\n",
       " 'SQL',\n",
       " 'Scala',\n",
       " 'Swift',\n",
       " 'TypeScript',\n",
       " 'VBA'}"
      ]
     },
     "execution_count": 303,
     "metadata": {},
     "output_type": "execute_result"
    }
   ],
   "source": [
    "set(list(itertools.chain.from_iterable([i.split(';') for i in df['prog_script_leng'].value_counts().keys()])))"
   ]
  },
  {
   "cell_type": "code",
   "execution_count": 304,
   "id": "27452bc1-1567-406c-bec4-5277f004dc74",
   "metadata": {},
   "outputs": [],
   "source": [
    "# This are short strings so we can work with this."
   ]
  },
  {
   "cell_type": "markdown",
   "id": "38018284",
   "metadata": {},
   "source": [
    "### 'lib_frameworks'"
   ]
  },
  {
   "cell_type": "code",
   "execution_count": 305,
   "id": "6a655e2b",
   "metadata": {},
   "outputs": [
    {
     "data": {
      "text/plain": [
       "{'ASP.NET',\n",
       " 'ASP.NET Core',\n",
       " 'Angular',\n",
       " 'Angular.js',\n",
       " 'CakePHP',\n",
       " 'CodeIgniter',\n",
       " 'Django',\n",
       " 'Express',\n",
       " 'Flask',\n",
       " 'Gatsby',\n",
       " 'JQuery',\n",
       " 'Laravel',\n",
       " 'React.js',\n",
       " 'Ruby on Rails',\n",
       " 'Spring',\n",
       " 'Symfony',\n",
       " 'Vue.js'}"
      ]
     },
     "execution_count": 305,
     "metadata": {},
     "output_type": "execute_result"
    }
   ],
   "source": [
    "# Printing the column content.\n",
    "set(list(itertools.chain.from_iterable([i.split(';') for i in df['lib_frameworks'].value_counts().keys()])))"
   ]
  },
  {
   "cell_type": "markdown",
   "id": "421277f1",
   "metadata": {},
   "source": [
    "### 'otras_lib_frameworks' "
   ]
  },
  {
   "cell_type": "code",
   "execution_count": 306,
   "id": "765d62d9",
   "metadata": {},
   "outputs": [
    {
     "data": {
      "text/plain": [
       "Index(['Node.js', '.NET', '.NET;NET Core', 'Node.js;React Native',\n",
       "       'Node.js;Flutter', 'Node.js;.NET', 'Flutter', 'Node.js;Cordova',\n",
       "       'Node.js;.NET;NET Core', 'React Native', 'Cordova',\n",
       "       'Node.js;.NET;Flutter', 'Node.js;Pandas', 'Ansible',\n",
       "       'Node.js;React Native;Unity 3D;Flutter',\n",
       "       'Node.js;Pandas;TensorFlow;React Native;Keras;Torch/PyTorch',\n",
       "       'Pandas;TensorFlow;Keras', 'Node.js;React Native;Cordova', 'Pandas',\n",
       "       'Node.js;React Native;Flutter', 'Flutter;Xamarin', '.NET;Xamarin',\n",
       "       'Node.js;Pandas;TensorFlow', 'Node.js;.NET;React Native',\n",
       "       'Node.js;Keras;Hadoop', 'Node.js;Pandas;Cordova',\n",
       "       'Node.js;Pandas;Unity 3D', 'Node.js;.NET;Unity 3D;Unreal Engine',\n",
       "       'Node.js;TensorFlow;Cordova',\n",
       "       'Pandas;TensorFlow;Unity 3D;Flutter;Keras;Chef',\n",
       "       '.NET;NET Core;Pandas;Cordova', 'React Native;Unity 3D;Flutter',\n",
       "       '.NET;Pandas;TensorFlow;Ansible;Keras;Torch/PyTorch;Hadoop;Puppet;Chef',\n",
       "       'Node.js;.NET;NET Core;React Native;Unity 3D;Flutter;Cordova;Xamarin',\n",
       "       'Pandas;Keras', 'Unity 3D',\n",
       "       'Node.js;.NET;NET Core;Pandas;Ansible;Puppet;Chef', 'Node.js;Hadoop',\n",
       "       '.NET;NET Core;TensorFlow;Unity 3D;Keras;Xamarin;Hadoop;Chef',\n",
       "       'Pandas;Flutter', 'Node.js;Ansible',\n",
       "       'Node.js;.NET;Pandas;TensorFlow;Torch/PyTorch;Hadoop',\n",
       "       'Pandas;TensorFlow;Torch/PyTorch',\n",
       "       'Pandas;TensorFlow;Keras;Torch/PyTorch;Hadoop',\n",
       "       'React Native;Ansible;Flutter;Puppet;Chef',\n",
       "       'Node.js;Pandas;TensorFlow;Flutter;Keras', 'TensorFlow;Keras;Hadoop',\n",
       "       'Node.js;.NET;NET Core;Pandas;TensorFlow;React Native;Flutter;Cordova;Xamarin',\n",
       "       'Node.js;Ansible;Hadoop', 'NET Core;Hadoop', '.NET;Pandas;Flutter',\n",
       "       'Node.js;Flutter;Cordova',\n",
       "       'Node.js;React Native;Unity 3D;Unreal Engine', 'TensorFlow',\n",
       "       'Pandas;TensorFlow;React Native', '.NET;Pandas',\n",
       "       'Pandas;TensorFlow;Keras;Cordova', 'Node.js;TensorFlow;Flutter',\n",
       "       'Node.js;.NET;React Native;Xamarin', '.NET;Cordova', 'Pandas;Xamarin',\n",
       "       'Node.js;React Native;Unreal Engine', 'Node.js;Xamarin',\n",
       "       'Pandas;TensorFlow;Flutter;Keras;Cordova;Xamarin',\n",
       "       'Pandas;TensorFlow;Hadoop', 'Node.js;.NET;Unity 3D;Flutter',\n",
       "       '.NET;NET Core;Xamarin', 'Node.js;Pandas;TensorFlow;Chef',\n",
       "       'Node.js;.NET;NET Core;TensorFlow;Keras',\n",
       "       'Node.js;TensorFlow;Flutter;Cordova', 'Node.js;.NET;NET Core;Xamarin',\n",
       "       'Node.js;Pandas;React Native;Flutter;Cordova', 'Pandas;TensorFlow',\n",
       "       'Node.js;React Native;Cordova;Unreal Engine', '.NET;Pandas;TensorFlow',\n",
       "       'Opció.NET Coren 3', 'React Native;Unity 3D',\n",
       "       'Node.js;Pandas;TensorFlow;React Native;Unity 3D;Flutter;Unreal Engine',\n",
       "       '.NET;React Native;Flutter', 'Node.js;Unity 3D',\n",
       "       'Node.js;.NET;React Native;Flutter;Xamarin', 'Unity 3D;Cordova',\n",
       "       'Pandas;Cordova', 'Node.js;.NET;Pandas;Hadoop',\n",
       "       'Node.js;.NET;React Native;Cordova', 'Node.js;TensorFlow',\n",
       "       'Node.js;Flutter;Hadoop', 'React Native;Flutter',\n",
       "       'Node.js;.NET;Pandas;Keras', 'Node.js;.NET;React Native;Flutter'],\n",
       "      dtype='object')"
      ]
     },
     "execution_count": 306,
     "metadata": {},
     "output_type": "execute_result"
    }
   ],
   "source": [
    "# Print the column content\n",
    "df['otras_lib_frameworks' ].value_counts().keys()"
   ]
  },
  {
   "cell_type": "code",
   "execution_count": 307,
   "id": "334b5920-25e2-4404-aec7-c6ff2c218ebb",
   "metadata": {},
   "outputs": [
    {
     "data": {
      "text/plain": [
       "{'.NET',\n",
       " 'Ansible',\n",
       " 'Chef',\n",
       " 'Cordova',\n",
       " 'Flutter',\n",
       " 'Hadoop',\n",
       " 'Keras',\n",
       " 'NET Core',\n",
       " 'Node.js',\n",
       " 'Opció.NET Coren 3',\n",
       " 'Pandas',\n",
       " 'Puppet',\n",
       " 'React Native',\n",
       " 'TensorFlow',\n",
       " 'Torch/PyTorch',\n",
       " 'Unity 3D',\n",
       " 'Unreal Engine',\n",
       " 'Xamarin'}"
      ]
     },
     "execution_count": 307,
     "metadata": {},
     "output_type": "execute_result"
    }
   ],
   "source": [
    "# Let's see if some name needs to be changed.\n",
    "set(list(itertools.chain.from_iterable([i.split(';') for i in df['otras_lib_frameworks'].value_counts().keys()])))"
   ]
  },
  {
   "cell_type": "markdown",
   "id": "9b758081",
   "metadata": {},
   "source": [
    "### 'db'"
   ]
  },
  {
   "cell_type": "code",
   "execution_count": 308,
   "id": "7d0fb4ae",
   "metadata": {},
   "outputs": [
    {
     "data": {
      "text/plain": [
       "Index(['PostgreSQL', 'MySQL;PostgreSQL;Oracle',\n",
       "       'MySQL;PostgreSQL;Microsoft SQL Server', 'MySQL;PostgreSQL',\n",
       "       'PostgreSQL;Oracle', 'MySQL;MariaDB', 'Microsoft SQL Server',\n",
       "       'MySQL;MariaDB;PostgreSQL',\n",
       "       'MySQL;PostgreSQL;Microsoft SQL Server;Oracle', 'Oracle',\n",
       "       ...\n",
       "       'MySQL;MariaDB;PostgreSQL;Microsoft SQL Server;SQLite;IBM DB2',\n",
       "       'MySQL;MariaDB;PostgreSQL;MongoDB;Redis',\n",
       "       'MySQL;MariaDB;MongoDB;Firebase',\n",
       "       'MySQL;MariaDB;PostgreSQL;SQLite;MongoDB;Firebase',\n",
       "       'MySQL;MariaDB;PostgreSQL;SQLite;MongoDB;Redis;Couchbase',\n",
       "       'Microsoft SQL Server;SQLite;Oracle',\n",
       "       'MySQL;MariaDB;PostgreSQL;Microsoft SQL Server;MongoDB;Redis;Elasticsearch',\n",
       "       'MySQL;PostgreSQL;Microsoft SQL Server;SQLite;MongoDB;Oracle;Couchbase;Elasticsearch',\n",
       "       'MySQL;MariaDB;PostgreSQL;Oracle;Elasticsearch',\n",
       "       'MySQL;MariaDB;PostgreSQL;Microsoft SQL Server;MongoDB'],\n",
       "      dtype='object', length=154)"
      ]
     },
     "execution_count": 308,
     "metadata": {},
     "output_type": "execute_result"
    }
   ],
   "source": [
    "# Print the column values.\n",
    "df['db'].value_counts().keys()"
   ]
  },
  {
   "cell_type": "code",
   "execution_count": 309,
   "id": "252e8bfa-08ab-4cca-92d0-5f4d77edbae3",
   "metadata": {},
   "outputs": [
    {
     "data": {
      "text/plain": [
       "{'Cassandra',\n",
       " 'Couchbase',\n",
       " 'DynamoDB',\n",
       " 'Elasticsearch',\n",
       " 'Firebase',\n",
       " 'IBM DB2',\n",
       " 'MariaDB',\n",
       " 'Microsoft SQL Server',\n",
       " 'MongoDB',\n",
       " 'MySQL',\n",
       " 'Oracle',\n",
       " 'PostgreSQL',\n",
       " 'Redis',\n",
       " 'SQLite'}"
      ]
     },
     "execution_count": 309,
     "metadata": {},
     "output_type": "execute_result"
    }
   ],
   "source": [
    "set(itertools.chain.from_iterable([i.split(';') for i in df['db'].value_counts().keys()]))"
   ]
  },
  {
   "cell_type": "code",
   "execution_count": 310,
   "id": "127e3621-51fc-49e2-ba42-7ffeb4f8eb69",
   "metadata": {},
   "outputs": [],
   "source": [
    "# All looks fine."
   ]
  },
  {
   "cell_type": "markdown",
   "id": "359284f0",
   "metadata": {},
   "source": [
    "### 'plataformas' "
   ]
  },
  {
   "cell_type": "code",
   "execution_count": 311,
   "id": "be55b4c4",
   "metadata": {},
   "outputs": [
    {
     "data": {
      "text/plain": [
       "Index(['GNU/Linux;Microsoft Windows', 'Microsoft Windows', 'GNU/Linux',\n",
       "       'GNU/Linux;Microsoft Windows;Docker',\n",
       "       'GNU/Linux;Microsoft Windows;Android',\n",
       "       'GNU/Linux;Microsoft Windows;MacOS', 'GNU/Linux;MacOS',\n",
       "       'Microsoft Windows;Android', 'GNU/Linux;Microsoft Windows;Docker;AWS',\n",
       "       'GNU/Linux;Microsoft Windows;AWS',\n",
       "       ...\n",
       "       'GNU/Linux;Microsoft Windows;Docker;Arduino',\n",
       "       'GNU/Linux;Microsoft Windows;Docker;Kubernetes;Heroku',\n",
       "       'GNU/Linux;Microsoft Windows;MacOS;Docker;AWS;Heroku',\n",
       "       'GNU/Linux;Microsoft Windows;Docker;AWS;Android;Raspberry Pi;Kubernetes',\n",
       "       'GNU/Linux;Microsoft Windows;MacOS;Docker;AWS;Android;Raspberry Pi;WordPress;Heroku;Arduino',\n",
       "       'GNU/Linux;MacOS;Docker;AWS;Raspberry Pi;Microsoft Azure;WordPress;Google Cloud Platform;Kubernetes;Heroku',\n",
       "       'GNU/Linux;Microsoft Windows;MacOS;AWS;Android;iOS',\n",
       "       'GNU/Linux;Microsoft Windows;MacOS;Docker;iOS;Heroku',\n",
       "       'GNU/Linux;Microsoft Windows;MacOS;AWS;Android;Google Cloud Platform;iOS',\n",
       "       'GNU/Linux;Microsoft Windows;MacOS;Docker;Android;iOS'],\n",
       "      dtype='object', length=161)"
      ]
     },
     "execution_count": 311,
     "metadata": {},
     "output_type": "execute_result"
    }
   ],
   "source": [
    "# Print the column content.\n",
    "df['plataformas' ].value_counts().keys()"
   ]
  },
  {
   "cell_type": "code",
   "execution_count": 312,
   "id": "cf87d0e7-e8d4-4aab-8a20-42f7131c43cf",
   "metadata": {},
   "outputs": [
    {
     "data": {
      "text/plain": [
       "{'AWS',\n",
       " 'Android',\n",
       " 'Arduino',\n",
       " 'Docker',\n",
       " 'GNU/Linux',\n",
       " 'Google Cloud Platform',\n",
       " 'Heroku',\n",
       " 'Kubernetes',\n",
       " 'MacOS',\n",
       " 'Microsoft Azure',\n",
       " 'Microsoft Windows',\n",
       " 'Raspberry Pi',\n",
       " 'WordPress',\n",
       " 'iOS'}"
      ]
     },
     "execution_count": 312,
     "metadata": {},
     "output_type": "execute_result"
    }
   ],
   "source": [
    "set(itertools.chain.from_iterable([i.split(';') for i in df['plataformas'].value_counts().keys()]))"
   ]
  },
  {
   "cell_type": "code",
   "execution_count": 313,
   "id": "89372734-b083-44b1-859c-c1411a250958",
   "metadata": {},
   "outputs": [],
   "source": [
    "# Everything looks good here."
   ]
  },
  {
   "cell_type": "markdown",
   "id": "f71df151",
   "metadata": {},
   "source": [
    "### 'leng_fav' "
   ]
  },
  {
   "cell_type": "code",
   "execution_count": 203,
   "id": "cac7853a",
   "metadata": {},
   "outputs": [
    {
     "data": {
      "text/plain": [
       "Index(['Java', 'Python', 'JavaScript', 'PHP', 'C#', 'SQL', 'TypeScript',\n",
       "       'HTML/CSS', 'Oracle form', 'Kotlin', 'Genexus', 'Go', 'C++', 'Dart',\n",
       "       'C', 'Ruby', 'Otro', 'VBA', 'Swift', 'Bash/Shell/PowerShell', 'Rust',\n",
       "       'COBOL', 'OpcióFox Pron 27'],\n",
       "      dtype='object')"
      ]
     },
     "execution_count": 203,
     "metadata": {},
     "output_type": "execute_result"
    }
   ],
   "source": [
    "# Printing the column values.\n",
    "df['leng_fav' ].value_counts().keys()"
   ]
  },
  {
   "cell_type": "code",
   "execution_count": 204,
   "id": "ce2dd901-0054-49ff-b182-0949f5c14b8d",
   "metadata": {},
   "outputs": [],
   "source": [
    "# Everything its fine here."
   ]
  },
  {
   "cell_type": "markdown",
   "id": "15a1855a",
   "metadata": {},
   "source": [
    "### 'leng_mas_odiado'"
   ]
  },
  {
   "cell_type": "code",
   "execution_count": 206,
   "id": "bdc9861f",
   "metadata": {},
   "outputs": [
    {
     "data": {
      "text/plain": [
       "Index(['Java', 'PHP', 'JavaScript', 'Fox Pro', 'Genexus', 'C', 'C++',\n",
       "       'Assembly', 'VBA', 'COBOL', 'HTML/CSS', 'Ruby', 'Oracle form',\n",
       "       'Bash/Shell/PowerShell', 'Objective-C', 'SQL', 'RPG', 'C#', 'Spring',\n",
       "       'Perl', 'TypeScript', 'R', 'Haskell', 'Swift', 'Go', 'Kotlin',\n",
       "       'Python'],\n",
       "      dtype='object')"
      ]
     },
     "execution_count": 206,
     "metadata": {},
     "output_type": "execute_result"
    }
   ],
   "source": [
    "# Printing the column values.\n",
    "df['leng_mas_odiado'].value_counts().keys()"
   ]
  },
  {
   "cell_type": "markdown",
   "id": "3e7c5bd9",
   "metadata": {},
   "source": [
    "### 'fram_fav' "
   ]
  },
  {
   "cell_type": "code",
   "execution_count": 213,
   "id": "ce841f79",
   "metadata": {},
   "outputs": [
    {
     "data": {
      "text/plain": [
       "Index(['React.js', 'Laravel', 'Spring', 'Django', 'Angular', 'Vue.js',\n",
       "       'ASP.NET', 'Express', 'ASP.NET Core', 'JQuery', 'Ruby on Rails',\n",
       "       'Angular.js', 'Flask', 'CakePHP', 'CodeIgniter'],\n",
       "      dtype='object')"
      ]
     },
     "execution_count": 213,
     "metadata": {},
     "output_type": "execute_result"
    }
   ],
   "source": [
    "# Print the column values.\n",
    "df['fram_fav' ].value_counts().keys()"
   ]
  },
  {
   "cell_type": "code",
   "execution_count": 214,
   "id": "03ed9e1a-6d1e-4e04-88de-47b411fe22bb",
   "metadata": {},
   "outputs": [],
   "source": [
    "# Looks good."
   ]
  },
  {
   "cell_type": "markdown",
   "id": "eab745b4",
   "metadata": {},
   "source": [
    "### 'fram_mas_odiado' "
   ]
  },
  {
   "cell_type": "code",
   "execution_count": 215,
   "id": "eaf194a2",
   "metadata": {},
   "outputs": [
    {
     "data": {
      "text/plain": [
       "Index(['Spring', 'JQuery', 'ASP.NET', 'Angular', 'Laravel', 'Angular.js',\n",
       "       'React.js', 'Ruby on Rails', 'CakePHP', 'ASP.NET Core', 'CodeIgniter',\n",
       "       'Django', 'Express', 'Vue.js', 'Flask', 'Gastby'],\n",
       "      dtype='object')"
      ]
     },
     "execution_count": 215,
     "metadata": {},
     "output_type": "execute_result"
    }
   ],
   "source": [
    "# Print the column values.\n",
    "df['fram_mas_odiado' ].value_counts().keys()"
   ]
  },
  {
   "cell_type": "code",
   "execution_count": 216,
   "id": "cb1deea2-26a1-4362-9d26-f01969714cfa",
   "metadata": {},
   "outputs": [],
   "source": [
    "# No problem here."
   ]
  },
  {
   "cell_type": "markdown",
   "id": "de7e923d",
   "metadata": {},
   "source": [
    "### 'herramientas'"
   ]
  },
  {
   "cell_type": "code",
   "execution_count": 221,
   "id": "6f1d4344",
   "metadata": {},
   "outputs": [
    {
     "data": {
      "text/plain": [
       "Index(['GitHub;GitLab',\n",
       "       'GitHub;Slack;GitLab;Google Suite (Docs, Meet, etc);Trello',\n",
       "       'GitHub;Slack;GitLab;Jira;Google Suite (Docs, Meet, etc);Confluence;Microsoft Team;Trello',\n",
       "       'GitHub;Slack;GitLab;Jira;Google Suite (Docs, Meet, etc);Confluence',\n",
       "       'GitHub;Slack;GitLab;Google Suite (Docs, Meet, etc);Trello;Discord',\n",
       "       'Microsoft Team', 'GitHub;GitLab;Google Suite (Docs, Meet, etc);Trello',\n",
       "       'GitHub;Slack;GitLab;Jira;Google Suite (Docs, Meet, etc);Microsoft Team;Trello',\n",
       "       'GitHub;Slack;GitLab;Jira;Google Suite (Docs, Meet, etc);Trello',\n",
       "       'GitHub;GitLab;Google Suite (Docs, Meet, etc)',\n",
       "       ...\n",
       "       'Slack;GitLab;Trello',\n",
       "       'GitHub;Slack;GitLab;Jira;Google Suite (Docs, Meet, etc);Confluence;Microsoft Team;Trello;Facebook Workplace;Discord',\n",
       "       'GitHub;GitLab;Google Suite (Docs, Meet, etc);Confluence;Microsoft Team;Microsoft Azure',\n",
       "       'Slack;Google Suite (Docs, Meet, etc)',\n",
       "       'GitHub;GitLab;Jira;Google Suite (Docs, Meet, etc);Microsoft Team;Microsoft Azure;Trello;Discord',\n",
       "       'GitHub;Slack;Jira;Google Suite (Docs, Meet, etc);Trello',\n",
       "       'GitHub;GitLab;Jira;Google Suite (Docs, Meet, etc);Microsoft Team;Microsoft Azure',\n",
       "       'GitHub;Slack;Google Suite (Docs, Meet, etc);Microsoft Team;Trello',\n",
       "       'GitHub;Microsoft Team;Microsoft Azure;Discord',\n",
       "       'Slack;GitLab;Jira;Google Suite (Docs, Meet, etc);Confluence;Microsoft Team'],\n",
       "      dtype='object', length=164)"
      ]
     },
     "execution_count": 221,
     "metadata": {},
     "output_type": "execute_result"
    }
   ],
   "source": [
    "# Print column content.\n",
    "df['herramientas'].value_counts().keys()"
   ]
  },
  {
   "cell_type": "code",
   "execution_count": 229,
   "id": "500104f1-fb3b-4465-8b37-db73e754ffc9",
   "metadata": {},
   "outputs": [
    {
     "data": {
      "text/plain": [
       "{'Confluence',\n",
       " 'Discord',\n",
       " 'Facebook Workplace',\n",
       " 'GitHub',\n",
       " 'GitLab',\n",
       " 'Google Suite',\n",
       " 'Jira',\n",
       " 'Microsoft Azure',\n",
       " 'Microsoft Team',\n",
       " 'Slack',\n",
       " 'Trello'}"
      ]
     },
     "execution_count": 229,
     "metadata": {},
     "output_type": "execute_result"
    }
   ],
   "source": [
    "set(itertools.chain.from_iterable([i.split(';') for i in df['herramientas'].value_counts().keys()]))"
   ]
  },
  {
   "cell_type": "code",
   "execution_count": 230,
   "id": "6cf4087f-ac90-4e0d-b62b-bcfa63c5d2ba",
   "metadata": {},
   "outputs": [],
   "source": [
    "# \"Google Suite\" it's a large string. So im gona make it shorter."
   ]
  },
  {
   "cell_type": "code",
   "execution_count": 231,
   "id": "7c1aae8b",
   "metadata": {},
   "outputs": [],
   "source": [
    "tools = []\n",
    "for i in df['herramientas'].value_counts().keys():\n",
    "    for j in i.split(';'):\n",
    "        tools.append(j)"
   ]
  },
  {
   "cell_type": "code",
   "execution_count": 232,
   "id": "e9d19d44",
   "metadata": {},
   "outputs": [],
   "source": [
    "def replace_google(row):\n",
    "    if('Google Suite (Docs, Meet, etc)' in str(row)):\n",
    "        return(row.replace('Google Suite (Docs, Meet, etc)', 'Google Suite'))\n",
    "    else:\n",
    "        return(row)"
   ]
  },
  {
   "cell_type": "code",
   "execution_count": 233,
   "id": "f8d77a0b",
   "metadata": {},
   "outputs": [],
   "source": [
    "df['herramientas'] = df['herramientas'].map(replace_google)"
   ]
  },
  {
   "cell_type": "code",
   "execution_count": 235,
   "id": "dd258c94",
   "metadata": {},
   "outputs": [
    {
     "data": {
      "text/plain": [
       "Index(['GitHub;GitLab', 'GitHub;Slack;GitLab;Google Suite;Trello',\n",
       "       'GitHub;Slack;GitLab;Jira;Google Suite;Confluence',\n",
       "       'GitHub;Slack;GitLab;Jira;Google Suite;Confluence;Microsoft Team;Trello',\n",
       "       'GitHub;Slack;GitLab;Google Suite;Trello;Discord',\n",
       "       'GitHub;GitLab;Google Suite;Trello',\n",
       "       'GitHub;Slack;GitLab;Jira;Google Suite;Trello',\n",
       "       'GitHub;Slack;GitLab;Jira;Google Suite;Microsoft Team;Trello',\n",
       "       'GitHub;GitLab;Google Suite', 'Microsoft Team',\n",
       "       ...\n",
       "       'GitHub;Slack;Jira;Confluence', 'GitLab;Microsoft Azure',\n",
       "       'GitHub;Slack;Microsoft Team',\n",
       "       'Slack;Google Suite;Microsoft Team;Trello',\n",
       "       'GitHub;GitLab;Jira;Google Suite;Microsoft Team;Discord',\n",
       "       'GitHub;Slack;Jira;Google Suite;Trello',\n",
       "       'GitHub;GitLab;Jira;Confluence', 'GitHub;Slack;GitLab;Jira;Discord',\n",
       "       'Google Suite;Discord',\n",
       "       'GitHub;Slack;Jira;Google Suite;Confluence;Trello'],\n",
       "      dtype='object', length=164)"
      ]
     },
     "execution_count": 235,
     "metadata": {},
     "output_type": "execute_result"
    }
   ],
   "source": [
    "df['herramientas'].value_counts().keys()"
   ]
  },
  {
   "cell_type": "code",
   "execution_count": 239,
   "id": "80572113-9cae-46e9-87f6-d568b888df53",
   "metadata": {},
   "outputs": [
    {
     "data": {
      "text/plain": [
       "{'Confluence',\n",
       " 'Discord',\n",
       " 'Facebook Workplace',\n",
       " 'GitHub',\n",
       " 'GitLab',\n",
       " 'Google Suite',\n",
       " 'Jira',\n",
       " 'Microsoft Azure',\n",
       " 'Microsoft Team',\n",
       " 'Slack',\n",
       " 'Trello'}"
      ]
     },
     "execution_count": 239,
     "metadata": {},
     "output_type": "execute_result"
    }
   ],
   "source": [
    "set(itertools.chain.from_iterable([i.split(';') for i in df['herramientas'].value_counts().keys()]))"
   ]
  },
  {
   "cell_type": "code",
   "execution_count": 240,
   "id": "79d77bdb",
   "metadata": {},
   "outputs": [],
   "source": [
    "# Exporting the df.\n",
    "df.to_csv('enc_devs_py_2021_fixed.csv', index=False)"
   ]
  },
  {
   "cell_type": "code",
   "execution_count": 241,
   "id": "91cd9265",
   "metadata": {},
   "outputs": [],
   "source": [
    "# Whit this changes now it is posible to work with the data."
   ]
  },
  {
   "cell_type": "code",
   "execution_count": null,
   "id": "1da99e72",
   "metadata": {},
   "outputs": [],
   "source": []
  }
 ],
 "metadata": {
  "kernelspec": {
   "display_name": "Python 3 (ipykernel)",
   "language": "python",
   "name": "python3"
  },
  "language_info": {
   "codemirror_mode": {
    "name": "ipython",
    "version": 3
   },
   "file_extension": ".py",
   "mimetype": "text/x-python",
   "name": "python",
   "nbconvert_exporter": "python",
   "pygments_lexer": "ipython3",
   "version": "3.8.10"
  }
 },
 "nbformat": 4,
 "nbformat_minor": 5
}
