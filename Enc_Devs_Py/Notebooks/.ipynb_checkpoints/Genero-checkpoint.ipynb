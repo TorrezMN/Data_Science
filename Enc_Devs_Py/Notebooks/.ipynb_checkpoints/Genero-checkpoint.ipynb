{
 "cells": [
  {
   "cell_type": "code",
   "execution_count": 2,
   "id": "197a72a2",
   "metadata": {},
   "outputs": [],
   "source": [
    "# Importing Libs\n",
    "import pandas as pd\n",
    "import matplotlib.pyplot as plt\n",
    "%matplotlib inline"
   ]
  },
  {
   "cell_type": "code",
   "execution_count": 3,
   "id": "3165e103",
   "metadata": {},
   "outputs": [],
   "source": [
    "plt.rcParams['figure.figsize'] = [12, 7]"
   ]
  },
  {
   "cell_type": "code",
   "execution_count": 4,
   "id": "9101c2c5",
   "metadata": {},
   "outputs": [],
   "source": [
    "df = pd.read_csv('../enc_devs_py.csv')"
   ]
  },
  {
   "cell_type": "code",
   "execution_count": 5,
   "id": "cd9d3b4d",
   "metadata": {},
   "outputs": [
    {
     "data": {
      "text/html": [
       " <style>\n",
       ".output_png {\n",
       "    display: table-cell;\n",
       "    text-align: center;\n",
       "    vertical-align: middle;\n",
       "}\n",
       "</style> "
      ],
      "text/plain": [
       "<IPython.core.display.HTML object>"
      ]
     },
     "execution_count": 5,
     "metadata": {},
     "output_type": "execute_result"
    }
   ],
   "source": [
    "from IPython.core.display import HTML as Center\n",
    "\n",
    "Center(\"\"\" <style>\n",
    ".output_png {\n",
    "    display: table-cell;\n",
    "    text-align: center;\n",
    "    vertical-align: middle;\n",
    "}\n",
    "</style> \"\"\")"
   ]
  },
  {
   "cell_type": "markdown",
   "id": "cff92d89",
   "metadata": {},
   "source": [
    "# GENERO "
   ]
  },
  {
   "cell_type": "markdown",
   "id": "5325a949",
   "metadata": {},
   "source": [
    "- GENERAL"
   ]
  },
  {
   "cell_type": "code",
   "execution_count": 6,
   "id": "fe6902bb",
   "metadata": {},
   "outputs": [
    {
     "data": {
      "text/plain": [
       "(342,)"
      ]
     },
     "execution_count": 6,
     "metadata": {},
     "output_type": "execute_result"
    }
   ],
   "source": [
    "df['Género'].shape"
   ]
  },
  {
   "cell_type": "code",
   "execution_count": 7,
   "id": "fc9ece8c",
   "metadata": {},
   "outputs": [
    {
     "data": {
      "text/plain": [
       "8"
      ]
     },
     "execution_count": 7,
     "metadata": {},
     "output_type": "execute_result"
    }
   ],
   "source": [
    "df['Género'].isna().sum()"
   ]
  },
  {
   "cell_type": "code",
   "execution_count": 8,
   "id": "99f54288",
   "metadata": {},
   "outputs": [
    {
     "data": {
      "text/plain": [
       "Hombre                   279\n",
       "Mujer                     49\n",
       "Prefiero no compartir      3\n",
       "Otros                      2\n",
       "Género                     1\n",
       "Name: Género, dtype: int64"
      ]
     },
     "execution_count": 8,
     "metadata": {},
     "output_type": "execute_result"
    }
   ],
   "source": [
    "df['Género'].value_counts()"
   ]
  },
  {
   "cell_type": "code",
   "execution_count": 9,
   "id": "972ac88a",
   "metadata": {},
   "outputs": [],
   "source": [
    "df['Género'].replace({\n",
    "    'Prefiero no compartir':'ND',\n",
    "    'Otros':'ND',\n",
    "    'Género':'ND',\n",
    "},inplace=True)"
   ]
  },
  {
   "cell_type": "code",
   "execution_count": 10,
   "id": "1c1a6475",
   "metadata": {},
   "outputs": [
    {
     "data": {
      "text/plain": [
       "Hombre    279\n",
       "Mujer      49\n",
       "ND          6\n",
       "Name: Género, dtype: int64"
      ]
     },
     "execution_count": 10,
     "metadata": {},
     "output_type": "execute_result"
    }
   ],
   "source": [
    "df['Género'].value_counts()"
   ]
  },
  {
   "cell_type": "code",
   "execution_count": 11,
   "id": "07e7a871",
   "metadata": {},
   "outputs": [
    {
     "data": {
      "text/plain": [
       "Hombre    0.835329\n",
       "Mujer     0.146707\n",
       "ND        0.017964\n",
       "Name: Género, dtype: float64"
      ]
     },
     "execution_count": 11,
     "metadata": {},
     "output_type": "execute_result"
    }
   ],
   "source": [
    "df['Género'].value_counts(normalize=True)"
   ]
  },
  {
   "cell_type": "code",
   "execution_count": 12,
   "id": "9b3d30f0",
   "metadata": {},
   "outputs": [
    {
     "data": {
      "text/plain": [
       "<AxesSubplot:title={'center':'GENERO'}>"
      ]
     },
     "execution_count": 12,
     "metadata": {},
     "output_type": "execute_result"
    },
    {
     "data": {
      "image/png": "[encoded data removed]",
      "text/plain": [
       "<Figure size 864x504 with 1 Axes>"
      ]
     },
     "metadata": {},
     "output_type": "display_data"
    }
   ],
   "source": [
    "df['Género'].value_counts(normalize=True).plot(kind='pie', title='GENERO', ylabel='', legend=True)"
   ]
  },
  {
   "cell_type": "markdown",
   "id": "5d0d7e4c",
   "metadata": {},
   "source": [
    "- GENERO POR EDADES"
   ]
  },
  {
   "cell_type": "code",
   "execution_count": 13,
   "id": "ce4a8396",
   "metadata": {},
   "outputs": [
    {
     "data": {
      "text/plain": [
       "['30 a 34 años',\n",
       " '25 a 29 años',\n",
       " '35 a 39 años',\n",
       " '20 a 24 años',\n",
       " '40 a 44 años',\n",
       " '15 a 19 años',\n",
       " '50 a 54 años',\n",
       " '55 a 59 años',\n",
       " '45 a 49 años']"
      ]
     },
     "execution_count": 13,
     "metadata": {},
     "output_type": "execute_result"
    }
   ],
   "source": [
    "edades = [i for i in df['Edad actual '].value_counts().keys()]\n",
    "\n",
    "edades_agrupadas = df.groupby('Edad actual ')\n",
    "edades\n"
   ]
  },
  {
   "cell_type": "code",
   "execution_count": 14,
   "id": "20b61d44",
   "metadata": {},
   "outputs": [
    {
     "data": {
      "image/png": "[encoded data removed]",
      "text/plain": [
       "<Figure size 864x504 with 9 Axes>"
      ]
     },
     "metadata": {},
     "output_type": "display_data"
    }
   ],
   "source": [
    "plt.figure() \n",
    "\n",
    "\n",
    "for k,v in enumerate(edades):\n",
    "    plt.subplot(3,3,k+1)\n",
    "    edades_agrupadas.get_group(v)['Género'].value_counts(normalize=True).plot(\n",
    "            kind='pie', title='Genero - {0} - {1}'.format(v, edades_agrupadas.get_group(v)['Género'].shape[0]), ylabel='')\n",
    "\n",
    "\n",
    "\n",
    "\n",
    "\n",
    "plt.subplots_adjust(left=0.1,\n",
    "                    bottom=0.1, \n",
    "                    right=0.9, \n",
    "                    top=0.9, \n",
    "                    wspace=0.4, \n",
    "                    hspace=0.4)"
   ]
  },
  {
   "cell_type": "markdown",
   "id": "e0bad9b3",
   "metadata": {},
   "source": [
    "\n",
    "- GENERO POR PROFESION"
   ]
  },
  {
   "cell_type": "code",
   "execution_count": 15,
   "id": "2935b304",
   "metadata": {},
   "outputs": [],
   "source": [
    "generos = df.groupby('Género')"
   ]
  },
  {
   "cell_type": "markdown",
   "id": "dd558d79",
   "metadata": {},
   "source": [
    " - HOMBRES"
   ]
  },
  {
   "cell_type": "code",
   "execution_count": 16,
   "id": "a36c899b",
   "metadata": {},
   "outputs": [],
   "source": [
    "hombres_df = generos.get_group('Hombre')"
   ]
  },
  {
   "cell_type": "code",
   "execution_count": 17,
   "id": "0b61fade",
   "metadata": {},
   "outputs": [],
   "source": [
    "trabajos_hombres = {}\n",
    "def set_trabajos_hombres(work):\n",
    "    if(isinstance(work, str)):\n",
    "        for i in work.split(';'):\n",
    "            trabajos_hombres[i]=0\n",
    "def count_trabajos_hombres(work):\n",
    "    if(isinstance(work, str)):\n",
    "        for i in work.split(';'):\n",
    "            trabajos_hombres[i]+=1\n",
    "            \n"
   ]
  },
  {
   "cell_type": "code",
   "execution_count": 18,
   "id": "ff10524f",
   "metadata": {},
   "outputs": [
    {
     "data": {
      "text/plain": [
       "7      None\n",
       "9      None\n",
       "11     None\n",
       "12     None\n",
       "14     None\n",
       "       ... \n",
       "336    None\n",
       "337    None\n",
       "338    None\n",
       "339    None\n",
       "341    None\n",
       "Name: Tipo de trabajo, Length: 279, dtype: object"
      ]
     },
     "execution_count": 18,
     "metadata": {},
     "output_type": "execute_result"
    }
   ],
   "source": [
    "hombres_df['Tipo de trabajo'].map(set_trabajos_hombres)\n",
    "hombres_df['Tipo de trabajo'].map(count_trabajos_hombres)"
   ]
  },
  {
   "cell_type": "code",
   "execution_count": 35,
   "id": "ae9a2831",
   "metadata": {},
   "outputs": [
    {
     "data": {
      "text/html": [
       "<div>\n",
       "<style scoped>\n",
       "    .dataframe tbody tr th:only-of-type {\n",
       "        vertical-align: middle;\n",
       "    }\n",
       "\n",
       "    .dataframe tbody tr th {\n",
       "        vertical-align: top;\n",
       "    }\n",
       "\n",
       "    .dataframe thead th {\n",
       "        text-align: right;\n",
       "    }\n",
       "</style>\n",
       "<table border=\"1\" class=\"dataframe\">\n",
       "  <thead>\n",
       "    <tr style=\"text-align: right;\">\n",
       "      <th></th>\n",
       "      <th>trabajo</th>\n",
       "      <th>count</th>\n",
       "    </tr>\n",
       "  </thead>\n",
       "  <tbody>\n",
       "    <tr>\n",
       "      <th>0</th>\n",
       "      <td>Desarrollador back-end</td>\n",
       "      <td>121</td>\n",
       "    </tr>\n",
       "    <tr>\n",
       "      <th>1</th>\n",
       "      <td>Desarrollador full-stack</td>\n",
       "      <td>142</td>\n",
       "    </tr>\n",
       "    <tr>\n",
       "      <th>2</th>\n",
       "      <td>Desarrollador front-end</td>\n",
       "      <td>87</td>\n",
       "    </tr>\n",
       "    <tr>\n",
       "      <th>3</th>\n",
       "      <td>Aplicaciones de escritorio o empresariales</td>\n",
       "      <td>62</td>\n",
       "    </tr>\n",
       "    <tr>\n",
       "      <th>4</th>\n",
       "      <td>Administrador de base de datos</td>\n",
       "      <td>61</td>\n",
       "    </tr>\n",
       "    <tr>\n",
       "      <th>5</th>\n",
       "      <td>Desarrollador mobile</td>\n",
       "      <td>49</td>\n",
       "    </tr>\n",
       "    <tr>\n",
       "      <th>6</th>\n",
       "      <td>Desarrollador de sistemas embebidos</td>\n",
       "      <td>20</td>\n",
       "    </tr>\n",
       "    <tr>\n",
       "      <th>7</th>\n",
       "      <td>Project Leader</td>\n",
       "      <td>53</td>\n",
       "    </tr>\n",
       "    <tr>\n",
       "      <th>8</th>\n",
       "      <td>QA o testing</td>\n",
       "      <td>23</td>\n",
       "    </tr>\n",
       "    <tr>\n",
       "      <th>9</th>\n",
       "      <td>Desarrollador de videojuegos</td>\n",
       "      <td>3</td>\n",
       "    </tr>\n",
       "  </tbody>\n",
       "</table>\n",
       "</div>"
      ],
      "text/plain": [
       "                                      trabajo  count\n",
       "0                      Desarrollador back-end    121\n",
       "1                    Desarrollador full-stack    142\n",
       "2                     Desarrollador front-end     87\n",
       "3  Aplicaciones de escritorio o empresariales     62\n",
       "4              Administrador de base de datos     61\n",
       "5                        Desarrollador mobile     49\n",
       "6         Desarrollador de sistemas embebidos     20\n",
       "7                              Project Leader     53\n",
       "8                                QA o testing     23\n",
       "9                Desarrollador de videojuegos      3"
      ]
     },
     "execution_count": 35,
     "metadata": {},
     "output_type": "execute_result"
    }
   ],
   "source": [
    "df_trabajos_hombres = pd.DataFrame(data=[i for i in trabajos_hombres.items()], columns=['trabajo', 'count'])\n",
    "df_trabajos_hombres"
   ]
  },
  {
   "cell_type": "markdown",
   "id": "609ead93",
   "metadata": {},
   "source": [
    "- Mujeres"
   ]
  },
  {
   "cell_type": "code",
   "execution_count": 20,
   "id": "8f4791f0",
   "metadata": {},
   "outputs": [],
   "source": [
    "mujeres_df = generos.get_group('Mujer')"
   ]
  },
  {
   "cell_type": "code",
   "execution_count": 21,
   "id": "43f6fd61",
   "metadata": {},
   "outputs": [],
   "source": [
    "trabajos_mujeres = {}\n",
    "def set_trabajos_mujeres(work):\n",
    "    if(isinstance(work, str)):\n",
    "        for i in work.split(';'):\n",
    "            trabajos_mujeres[i]=0\n",
    "def count_trabajos_mujeres(work):\n",
    "    if(isinstance(work, str)):\n",
    "        for i in work.split(';'):\n",
    "            trabajos_mujeres[i]+=1\n",
    "            "
   ]
  },
  {
   "cell_type": "code",
   "execution_count": 22,
   "id": "8d047c92",
   "metadata": {},
   "outputs": [
    {
     "data": {
      "text/plain": [
       "13     None\n",
       "52     None\n",
       "70     None\n",
       "80     None\n",
       "109    None\n",
       "112    None\n",
       "113    None\n",
       "121    None\n",
       "130    None\n",
       "131    None\n",
       "153    None\n",
       "157    None\n",
       "164    None\n",
       "168    None\n",
       "169    None\n",
       "198    None\n",
       "201    None\n",
       "205    None\n",
       "213    None\n",
       "214    None\n",
       "216    None\n",
       "218    None\n",
       "219    None\n",
       "221    None\n",
       "228    None\n",
       "230    None\n",
       "231    None\n",
       "235    None\n",
       "237    None\n",
       "252    None\n",
       "264    None\n",
       "271    None\n",
       "274    None\n",
       "276    None\n",
       "278    None\n",
       "286    None\n",
       "289    None\n",
       "293    None\n",
       "294    None\n",
       "295    None\n",
       "299    None\n",
       "302    None\n",
       "304    None\n",
       "305    None\n",
       "310    None\n",
       "313    None\n",
       "323    None\n",
       "335    None\n",
       "340    None\n",
       "Name: Tipo de trabajo, dtype: object"
      ]
     },
     "execution_count": 22,
     "metadata": {},
     "output_type": "execute_result"
    }
   ],
   "source": [
    "mujeres_df['Tipo de trabajo'].map(set_trabajos_mujeres)\n",
    "mujeres_df['Tipo de trabajo'].map(count_trabajos_mujeres)"
   ]
  },
  {
   "cell_type": "code",
   "execution_count": 42,
   "id": "6c56519d",
   "metadata": {},
   "outputs": [
    {
     "data": {
      "text/html": [
       "<div>\n",
       "<style scoped>\n",
       "    .dataframe tbody tr th:only-of-type {\n",
       "        vertical-align: middle;\n",
       "    }\n",
       "\n",
       "    .dataframe tbody tr th {\n",
       "        vertical-align: top;\n",
       "    }\n",
       "\n",
       "    .dataframe thead th {\n",
       "        text-align: right;\n",
       "    }\n",
       "</style>\n",
       "<table border=\"1\" class=\"dataframe\">\n",
       "  <thead>\n",
       "    <tr style=\"text-align: right;\">\n",
       "      <th></th>\n",
       "      <th>trabajo</th>\n",
       "      <th>count</th>\n",
       "    </tr>\n",
       "  </thead>\n",
       "  <tbody>\n",
       "    <tr>\n",
       "      <th>0</th>\n",
       "      <td>Desarrollador back-end</td>\n",
       "      <td>12</td>\n",
       "    </tr>\n",
       "    <tr>\n",
       "      <th>1</th>\n",
       "      <td>Desarrollador front-end</td>\n",
       "      <td>12</td>\n",
       "    </tr>\n",
       "    <tr>\n",
       "      <th>2</th>\n",
       "      <td>Desarrollador full-stack</td>\n",
       "      <td>14</td>\n",
       "    </tr>\n",
       "    <tr>\n",
       "      <th>3</th>\n",
       "      <td>Desarrollador mobile</td>\n",
       "      <td>5</td>\n",
       "    </tr>\n",
       "    <tr>\n",
       "      <th>4</th>\n",
       "      <td>Project Leader</td>\n",
       "      <td>7</td>\n",
       "    </tr>\n",
       "    <tr>\n",
       "      <th>5</th>\n",
       "      <td>QA o testing</td>\n",
       "      <td>9</td>\n",
       "    </tr>\n",
       "    <tr>\n",
       "      <th>6</th>\n",
       "      <td>Desarrollador de sistemas embebidos</td>\n",
       "      <td>3</td>\n",
       "    </tr>\n",
       "    <tr>\n",
       "      <th>7</th>\n",
       "      <td>Aplicaciones de escritorio o empresariales</td>\n",
       "      <td>13</td>\n",
       "    </tr>\n",
       "    <tr>\n",
       "      <th>8</th>\n",
       "      <td>Administrador de base de datos</td>\n",
       "      <td>10</td>\n",
       "    </tr>\n",
       "    <tr>\n",
       "      <th>9</th>\n",
       "      <td>Desarrollador de videojuegos</td>\n",
       "      <td>0</td>\n",
       "    </tr>\n",
       "  </tbody>\n",
       "</table>\n",
       "</div>"
      ],
      "text/plain": [
       "                                      trabajo  count\n",
       "0                      Desarrollador back-end     12\n",
       "1                     Desarrollador front-end     12\n",
       "2                    Desarrollador full-stack     14\n",
       "3                        Desarrollador mobile      5\n",
       "4                              Project Leader      7\n",
       "5                                QA o testing      9\n",
       "6         Desarrollador de sistemas embebidos      3\n",
       "7  Aplicaciones de escritorio o empresariales     13\n",
       "8              Administrador de base de datos     10\n",
       "9                Desarrollador de videojuegos      0"
      ]
     },
     "execution_count": 42,
     "metadata": {},
     "output_type": "execute_result"
    }
   ],
   "source": [
    "df_trabajos_mujeres = pd.DataFrame(data=[i for i in trabajos_mujeres.items()], columns=['trabajo', 'count'])\n",
    "#df_trabajos_mujeres.append(['Desarrollador de videojuegos',0],ignore_index=True)\n",
    "df_trabajos_mujeres.loc[9] = ['Desarrollador de videojuegos',0 ]\n",
    "df_trabajos_mujeres"
   ]
  },
  {
   "cell_type": "markdown",
   "id": "13a91f1e",
   "metadata": {},
   "source": [
    "# ROLES HOMBRES VS MUJERES"
   ]
  },
  {
   "cell_type": "code",
   "execution_count": 46,
   "id": "70da257a",
   "metadata": {},
   "outputs": [
    {
     "data": {
      "text/plain": [
       "<AxesSubplot:>"
      ]
     },
     "execution_count": 46,
     "metadata": {},
     "output_type": "execute_result"
    },
    {
     "data": {
      "image/png": "[encoded data removed]",
      "text/plain": [
       "<Figure size 864x504 with 1 Axes>"
      ]
     },
     "metadata": {
      "needs_background": "light"
     },
     "output_type": "display_data"
    }
   ],
   "source": [
    "ax = df_trabajos_hombres.set_index('trabajo').plot(kind='barh',color='blue')\n",
    "df_trabajos_mujeres.set_index('trabajo').plot(kind='barh',color='pink',ax=ax, xlabel='')"
   ]
  },
  {
   "cell_type": "code",
   "execution_count": null,
   "id": "43a0e34b",
   "metadata": {},
   "outputs": [],
   "source": []
  },
  {
   "cell_type": "code",
   "execution_count": null,
   "id": "4e75f7fb",
   "metadata": {},
   "outputs": [],
   "source": []
  },
  {
   "cell_type": "code",
   "execution_count": null,
   "id": "a0d6044e",
   "metadata": {},
   "outputs": [],
   "source": []
  },
  {
   "cell_type": "code",
   "execution_count": null,
   "id": "04b43769",
   "metadata": {},
   "outputs": [],
   "source": []
  },
  {
   "cell_type": "code",
   "execution_count": null,
   "id": "30347afe",
   "metadata": {},
   "outputs": [],
   "source": []
  },
  {
   "cell_type": "code",
   "execution_count": null,
   "id": "a38490ec",
   "metadata": {},
   "outputs": [],
   "source": []
  },
  {
   "cell_type": "code",
   "execution_count": null,
   "id": "4cbed3ca",
   "metadata": {},
   "outputs": [],
   "source": []
  },
  {
   "cell_type": "code",
   "execution_count": null,
   "id": "5c4d7693",
   "metadata": {},
   "outputs": [],
   "source": []
  },
  {
   "cell_type": "code",
   "execution_count": null,
   "id": "b19d1ed9",
   "metadata": {},
   "outputs": [],
   "source": []
  },
  {
   "cell_type": "code",
   "execution_count": null,
   "id": "4a9a4c89",
   "metadata": {},
   "outputs": [],
   "source": []
  },
  {
   "cell_type": "code",
   "execution_count": null,
   "id": "065ad551",
   "metadata": {},
   "outputs": [],
   "source": []
  }
 ],
 "metadata": {
  "kernelspec": {
   "display_name": "Python 3",
   "language": "python",
   "name": "python3"
  },
  "language_info": {
   "codemirror_mode": {
    "name": "ipython",
    "version": 3
   },
   "file_extension": ".py",
   "mimetype": "text/x-python",
   "name": "python",
   "nbconvert_exporter": "python",
   "pygments_lexer": "ipython3",
   "version": "3.6.9"
  }
 },
 "nbformat": 4,
 "nbformat_minor": 5
}
