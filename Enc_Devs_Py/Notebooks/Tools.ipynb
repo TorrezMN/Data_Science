{
 "cells": [
  {
   "cell_type": "code",
   "execution_count": 1,
   "id": "b0738bcc",
   "metadata": {},
   "outputs": [],
   "source": [
    "# Importing Libs\n",
    "import pandas as pd\n",
    "import seaborn as sns\n",
    "import matplotlib.pyplot as plt\n",
    "from collections import Counter\n",
    "import numpy\n",
    "\n",
    "# My Tools\n",
    "from toolkit.tools import print_column_uniques, make_df, get_column_uniques\n",
    "\n",
    "\n",
    "%matplotlib inline"
   ]
  },
  {
   "cell_type": "code",
   "execution_count": 2,
   "id": "9ac92ece",
   "metadata": {},
   "outputs": [],
   "source": [
    "plt.rcParams[\"figure.figsize\"] = [12, 7]"
   ]
  },
  {
   "cell_type": "code",
   "execution_count": 3,
   "id": "745c0ac3-963a-4776-9aa9-b9a91a9aaa5b",
   "metadata": {},
   "outputs": [],
   "source": [
    "sns.set()\n",
    "sns.set_palette(\"pastel\")"
   ]
  },
  {
   "cell_type": "code",
   "execution_count": 4,
   "id": "04d46050",
   "metadata": {},
   "outputs": [],
   "source": [
    "df = pd.read_csv(\"../enc_devs_py.csv\")"
   ]
  },
  {
   "cell_type": "code",
   "execution_count": 5,
   "id": "804d9e85",
   "metadata": {},
   "outputs": [
    {
     "data": {
      "text/html": [
       " <style>\n",
       ".output_png {\n",
       "    display: table-cell;\n",
       "    text-align: center;\n",
       "    vertical-align: middle;\n",
       "}\n",
       "</style> "
      ],
      "text/plain": [
       "<IPython.core.display.HTML object>"
      ]
     },
     "execution_count": 5,
     "metadata": {},
     "output_type": "execute_result"
    }
   ],
   "source": [
    "from IPython.core.display import HTML as Center\n",
    "\n",
    "Center(\n",
    "    \"\"\" <style>\n",
    ".output_png {\n",
    "    display: table-cell;\n",
    "    text-align: center;\n",
    "    vertical-align: middle;\n",
    "}\n",
    "</style> \"\"\"\n",
    ")"
   ]
  },
  {
   "cell_type": "markdown",
   "id": "cf7f5918",
   "metadata": {},
   "source": [
    "### Tech Used\n",
    "- Tecnologias utilizadas por los que respondieron la encuesta."
   ]
  },
  {
   "cell_type": "code",
   "execution_count": 6,
   "id": "f6568780",
   "metadata": {},
   "outputs": [
    {
     "data": {
      "text/plain": [
       "Index(['Marca temporal', 'Modalidad', 'Trabajo', 'Tipo de trabajo', 'DevOps',\n",
       "       'Codificar por trabajo', 'Experiencia en TI',\n",
       "       'Experiencia en codificación ',\n",
       "       'Primera línea de código en una máquina', 'Educación',\n",
       "       'Carreras o especialidades', 'Importancia educación formal', 'Género',\n",
       "       'Edad actual ', 'Salario mensual',\n",
       "       'Programación, scripting y lenguajes de marcado',\n",
       "       'Librerías o web frameworks',\n",
       "       'Otras frameworks, librerías y herramientas', 'Base de datos',\n",
       "       'Plataformas', 'Lenguaje favorito', 'Lenguaje más odiado',\n",
       "       'Framework favorito', 'Framework más odiado', 'Herramientas'],\n",
       "      dtype='object')"
      ]
     },
     "execution_count": 6,
     "metadata": {},
     "output_type": "execute_result"
    }
   ],
   "source": [
    "df.columns"
   ]
  },
  {
   "cell_type": "markdown",
   "id": "3800d71e-bf4a-4bb3-98c7-61768f790704",
   "metadata": {},
   "source": [
    "# 'Programación, scripting y lenguajes de marcado'"
   ]
  },
  {
   "cell_type": "code",
   "execution_count": 14,
   "id": "0213d824-9810-4660-bfe2-13ecbe15f3be",
   "metadata": {},
   "outputs": [
    {
     "data": {
      "text/plain": [
       "['Python',\n",
       " 'Rust',\n",
       " 'SQL',\n",
       " 'Go',\n",
       " 'JavaScript',\n",
       " 'Perl',\n",
       " 'Scala',\n",
       " 'VBA',\n",
       " 'Fox Pro',\n",
       " 'R',\n",
       " 'Objective-C',\n",
       " 'Kotlin',\n",
       " 'Swift',\n",
       " 'C#',\n",
       " 'Bash/Shell/PowerShell',\n",
       " 'Genexus',\n",
       " 'Dart',\n",
       " 'Haskell',\n",
       " 'C',\n",
       " 'RPG',\n",
       " 'COBOL',\n",
       " 'PHP',\n",
       " 'TypeScript',\n",
       " 'Assembly',\n",
       " 'Ruby',\n",
       " 'HTML/CSS',\n",
       " 'Oracle form',\n",
       " 'C++',\n",
       " 'Java']"
      ]
     },
     "execution_count": 14,
     "metadata": {},
     "output_type": "execute_result"
    }
   ],
   "source": [
    "get_column_uniques(df,'Programación, scripting y lenguajes de marcado')"
   ]
  },
  {
   "cell_type": "markdown",
   "id": "000fc871-b4e4-4395-83e3-b6fe132fa620",
   "metadata": {},
   "source": [
    "# 'Librerías o web frameworks'\n"
   ]
  },
  {
   "cell_type": "code",
   "execution_count": 15,
   "id": "6a19ccab-d9ca-4560-b8f7-88eaf1f30660",
   "metadata": {},
   "outputs": [
    {
     "data": {
      "text/plain": [
       "['Angular.js',\n",
       " 'Express',\n",
       " 'Symfony',\n",
       " 'Gatsby',\n",
       " 'Laravel',\n",
       " 'JQuery',\n",
       " 'Flask',\n",
       " 'Vue.js',\n",
       " 'CakePHP',\n",
       " 'Spring',\n",
       " 'Django',\n",
       " 'CodeIgniter',\n",
       " 'ASP.NET Core',\n",
       " 'React.js',\n",
       " 'Ruby on Rails',\n",
       " 'Angular',\n",
       " 'ASP.NET']"
      ]
     },
     "execution_count": 15,
     "metadata": {},
     "output_type": "execute_result"
    }
   ],
   "source": [
    "get_column_uniques(df, 'Librerías o web frameworks')"
   ]
  },
  {
   "cell_type": "markdown",
   "id": "27fc2b47-3c89-479b-9fb5-438286b4b0e4",
   "metadata": {},
   "source": [
    "#  'Otras frameworks, librerías y herramientas'"
   ]
  },
  {
   "cell_type": "code",
   "execution_count": 16,
   "id": "cedb59a4-7403-40c1-b2a1-2d15a559e755",
   "metadata": {},
   "outputs": [
    {
     "data": {
      "text/plain": [
       "['Flutter',\n",
       " 'Puppet',\n",
       " 'Ansible',\n",
       " 'Xamarin',\n",
       " 'React Native',\n",
       " 'Unreal Engine',\n",
       " 'Pandas',\n",
       " 'Cordova',\n",
       " 'Hadoop',\n",
       " 'NET Core',\n",
       " 'Chef',\n",
       " '.NET',\n",
       " 'Unity 3D',\n",
       " 'TensorFlow',\n",
       " 'Torch/PyTorch',\n",
       " 'Keras',\n",
       " 'Node.js',\n",
       " 'Opció.NET Coren 3']"
      ]
     },
     "execution_count": 16,
     "metadata": {},
     "output_type": "execute_result"
    }
   ],
   "source": [
    "get_column_uniques(df, 'Otras frameworks, librerías y herramientas')"
   ]
  },
  {
   "cell_type": "markdown",
   "id": "c3e14352-45ba-4bcb-b234-8b41b6f5731c",
   "metadata": {},
   "source": [
    "# 'Base de datos'"
   ]
  },
  {
   "cell_type": "code",
   "execution_count": 17,
   "id": "957d881f-d239-4b28-8079-228a1eb9f6a7",
   "metadata": {},
   "outputs": [
    {
     "data": {
      "text/plain": [
       "['Elasticsearch',\n",
       " 'SQLite',\n",
       " 'Couchbase',\n",
       " 'Oracle',\n",
       " 'Microsoft SQL Server',\n",
       " 'MySQL',\n",
       " 'MariaDB',\n",
       " 'Cassandra',\n",
       " 'Redis',\n",
       " 'PostgreSQL',\n",
       " 'Firebase',\n",
       " 'DynamoDB',\n",
       " 'MongoDB',\n",
       " 'IBM DB2']"
      ]
     },
     "execution_count": 17,
     "metadata": {},
     "output_type": "execute_result"
    }
   ],
   "source": [
    "get_column_uniques(df,'Base de datos')"
   ]
  },
  {
   "cell_type": "markdown",
   "id": "23cecf5f-06ab-4000-8f45-223e40ac555f",
   "metadata": {},
   "source": [
    "#  'Plataformas'"
   ]
  },
  {
   "cell_type": "code",
   "execution_count": 18,
   "id": "7219086d-47d4-4a80-b733-ee153db3cf92",
   "metadata": {},
   "outputs": [
    {
     "data": {
      "text/plain": [
       "['Arduino',\n",
       " 'Google Cloud Platform',\n",
       " 'Docker',\n",
       " 'iOS',\n",
       " 'Raspberry Pi',\n",
       " 'WordPress',\n",
       " 'Microsoft Azure',\n",
       " 'AWS',\n",
       " 'Microsoft Windows',\n",
       " 'Android',\n",
       " 'GNU/Linux',\n",
       " 'Heroku',\n",
       " 'MacOS',\n",
       " 'Kubernetes']"
      ]
     },
     "execution_count": 18,
     "metadata": {},
     "output_type": "execute_result"
    }
   ],
   "source": [
    "get_column_uniques(df,'Plataformas')"
   ]
  },
  {
   "cell_type": "markdown",
   "id": "b3946a5a-f892-4fbc-bf52-5df65c5bf5b6",
   "metadata": {},
   "source": [
    "# 'Lenguaje favorito'"
   ]
  },
  {
   "cell_type": "code",
   "execution_count": 20,
   "id": "33c8de1f-cb6d-45a2-b522-6edd1573903a",
   "metadata": {},
   "outputs": [
    {
     "data": {
      "text/plain": [
       "['Python',\n",
       " 'Rust',\n",
       " 'SQL',\n",
       " 'Go',\n",
       " 'OpcióFox Pron 27',\n",
       " 'JavaScript',\n",
       " 'VBA',\n",
       " 'Kotlin',\n",
       " 'Swift',\n",
       " 'C#',\n",
       " 'Bash/Shell/PowerShell',\n",
       " 'Genexus',\n",
       " 'Dart',\n",
       " 'C',\n",
       " 'COBOL',\n",
       " 'Otro',\n",
       " 'PHP',\n",
       " 'TypeScript',\n",
       " 'Ruby',\n",
       " 'Oracle form',\n",
       " 'HTML/CSS',\n",
       " 'C++',\n",
       " 'Java']"
      ]
     },
     "execution_count": 20,
     "metadata": {},
     "output_type": "execute_result"
    }
   ],
   "source": [
    "get_column_uniques(df,'Lenguaje favorito')"
   ]
  },
  {
   "cell_type": "code",
   "execution_count": 23,
   "id": "17c69d11-f9bb-44d6-ad7c-a23cdb646eaa",
   "metadata": {},
   "outputs": [
    {
     "data": {
      "text/plain": [
       "Java                     70\n",
       "Python                   58\n",
       "JavaScript               47\n",
       "PHP                      46\n",
       "C#                       23\n",
       "SQL                      21\n",
       "TypeScript               16\n",
       "Oracle form               6\n",
       "HTML/CSS                  6\n",
       "Genexus                   5\n",
       "Kotlin                    5\n",
       "Otro                      4\n",
       "Ruby                      4\n",
       "Dart                      4\n",
       "Go                        4\n",
       "C                         4\n",
       "C++                       4\n",
       "VBA                       2\n",
       "Swift                     2\n",
       "Bash/Shell/PowerShell     1\n",
       "OpcióFox Pron 27          1\n",
       "Rust                      1\n",
       "COBOL                     1\n",
       "Name: Lenguaje favorito, dtype: int64"
      ]
     },
     "execution_count": 23,
     "metadata": {},
     "output_type": "execute_result"
    }
   ],
   "source": [
    "df['Lenguaje favorito'].value_counts()"
   ]
  },
  {
   "cell_type": "code",
   "execution_count": 24,
   "id": "fb21c676-003b-45f7-89b4-1f3a5c1891cd",
   "metadata": {},
   "outputs": [
    {
     "data": {
      "image/png": "[encoded data removed]",
      "text/plain": [
       "<Figure size 864x504 with 1 Axes>"
      ]
     },
     "metadata": {},
     "output_type": "display_data"
    }
   ],
   "source": [
    "leng_fav_df = df['Lenguaje favorito'].value_counts()\n",
    "leng_fav_plot = leng_fav_df.plot(kind='barh')"
   ]
  },
  {
   "cell_type": "markdown",
   "id": "c61b29d4-5abf-40f4-964e-aab7c843a824",
   "metadata": {},
   "source": [
    "# 'Lenguaje más odiado'"
   ]
  },
  {
   "cell_type": "code",
   "execution_count": 27,
   "id": "b6c1b237-2b77-405d-b481-478e5fe4147c",
   "metadata": {},
   "outputs": [
    {
     "data": {
      "image/png": "[encoded data removed]",
      "text/plain": [
       "<Figure size 864x504 with 1 Axes>"
      ]
     },
     "metadata": {},
     "output_type": "display_data"
    }
   ],
   "source": [
    "lang_odiado_df = df['Lenguaje más odiado'].value_counts()\n",
    "lang_odiado_plot = lang_odiado_df.plot(kind='barh', color='red')"
   ]
  },
  {
   "cell_type": "markdown",
   "id": "85e56296-8d2a-45db-a0a3-57b20c96bfa2",
   "metadata": {},
   "source": [
    "# 'Framework favorito'"
   ]
  },
  {
   "cell_type": "code",
   "execution_count": 29,
   "id": "61308e55-8716-4fea-977a-6a1ec15b9042",
   "metadata": {},
   "outputs": [
    {
     "data": {
      "image/png": "[encoded data removed]",
      "text/plain": [
       "<Figure size 864x504 with 1 Axes>"
      ]
     },
     "metadata": {},
     "output_type": "display_data"
    }
   ],
   "source": [
    "fram_fav_df = df['Framework favorito'].value_counts()\n",
    "fram_fav_plot = fram_fav_df.plot(kind='barh')"
   ]
  },
  {
   "cell_type": "markdown",
   "id": "490689ec-63d8-43af-b9c8-092f0d7a5812",
   "metadata": {},
   "source": [
    "# 'Framework más odiado'"
   ]
  },
  {
   "cell_type": "code",
   "execution_count": 32,
   "id": "1c54241c-9254-43dd-8778-4b4cb888d6e0",
   "metadata": {},
   "outputs": [
    {
     "data": {
      "image/png": "[encoded data removed]",
      "text/plain": [
       "<Figure size 864x504 with 1 Axes>"
      ]
     },
     "metadata": {},
     "output_type": "display_data"
    }
   ],
   "source": [
    "fram_mas_odiado_df = df['Framework más odiado'].value_counts()\n",
    "fram_mas_odiado_plot = fram_mas_odiado_df.plot(kind='barh')"
   ]
  },
  {
   "cell_type": "markdown",
   "id": "3e40f427-8fd1-43f7-b16f-d76521380c74",
   "metadata": {},
   "source": [
    "# 'Herramientas'"
   ]
  },
  {
   "cell_type": "code",
   "execution_count": 34,
   "id": "5ff88c2a-9924-403a-9708-7903e875c342",
   "metadata": {},
   "outputs": [
    {
     "data": {
      "text/plain": [
       "['Jira',\n",
       " 'Slack',\n",
       " 'GitLab',\n",
       " 'Facebook Workplace',\n",
       " 'Trello',\n",
       " 'Microsoft Team',\n",
       " 'Confluence',\n",
       " 'GitHub',\n",
       " 'Discord',\n",
       " 'Microsoft Azure',\n",
       " 'Google Suite (Docs, Meet, etc)']"
      ]
     },
     "execution_count": 34,
     "metadata": {},
     "output_type": "execute_result"
    }
   ],
   "source": [
    "get_column_uniques(df,'Herramientas')"
   ]
  },
  {
   "cell_type": "code",
   "execution_count": null,
   "id": "665187db-1a7d-4766-a40d-2d1e5600e2e4",
   "metadata": {},
   "outputs": [],
   "source": []
  }
 ],
 "metadata": {
  "kernelspec": {
   "display_name": "Python 3 (ipykernel)",
   "language": "python",
   "name": "python3"
  },
  "language_info": {
   "codemirror_mode": {
    "name": "ipython",
    "version": 3
   },
   "file_extension": ".py",
   "mimetype": "text/x-python",
   "name": "python",
   "nbconvert_exporter": "python",
   "pygments_lexer": "ipython3",
   "version": "3.8.10"
  }
 },
 "nbformat": 4,
 "nbformat_minor": 5
}
