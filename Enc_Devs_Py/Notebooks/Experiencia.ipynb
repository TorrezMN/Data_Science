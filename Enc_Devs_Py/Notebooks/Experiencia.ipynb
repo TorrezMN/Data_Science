{
 "cells": [
  {
   "cell_type": "code",
   "execution_count": 1,
   "id": "71accf53",
   "metadata": {},
   "outputs": [],
   "source": [
    "# Importing Libs\n",
    "import pandas as pd\n",
    "import matplotlib.pyplot as plt\n",
    "%matplotlib inline"
   ]
  },
  {
   "cell_type": "code",
   "execution_count": 2,
   "id": "a4d40d69",
   "metadata": {},
   "outputs": [],
   "source": [
    "plt.rcParams['figure.figsize'] = [12, 7]"
   ]
  },
  {
   "cell_type": "code",
   "execution_count": 3,
   "id": "9ee3cf24",
   "metadata": {},
   "outputs": [],
   "source": [
    "df = pd.read_csv('../enc_devs_py.csv')"
   ]
  },
  {
   "cell_type": "code",
   "execution_count": 4,
   "id": "bbd77f21",
   "metadata": {},
   "outputs": [
    {
     "data": {
      "text/html": [
       " <style>\n",
       ".output_png {\n",
       "    display: table-cell;\n",
       "    text-align: center;\n",
       "    vertical-align: middle;\n",
       "}\n",
       "</style> "
      ],
      "text/plain": [
       "<IPython.core.display.HTML object>"
      ]
     },
     "execution_count": 4,
     "metadata": {},
     "output_type": "execute_result"
    }
   ],
   "source": [
    "from IPython.core.display import HTML as Center\n",
    "\n",
    "Center(\"\"\" <style>\n",
    ".output_png {\n",
    "    display: table-cell;\n",
    "    text-align: center;\n",
    "    vertical-align: middle;\n",
    "}\n",
    "</style> \"\"\")"
   ]
  },
  {
   "cell_type": "markdown",
   "id": "7b00fe16",
   "metadata": {},
   "source": [
    "### EXPERIENCIA\n",
    "- Experiencia en ti."
   ]
  },
  {
   "cell_type": "markdown",
   "id": "b5b261dd",
   "metadata": {},
   "source": [
    "- GENERAL"
   ]
  },
  {
   "cell_type": "code",
   "execution_count": 5,
   "id": "db4089c4",
   "metadata": {},
   "outputs": [
    {
     "data": {
      "text/plain": [
       "5 a 9 años         124\n",
       "Menos de 5 años     94\n",
       "10 a 14 años        82\n",
       "15 a 19 años        20\n",
       "20 a 24 años         9\n",
       "25 a 29 años         5\n",
       "30 a 34 años         4\n",
       "35 a 39 años         2\n",
       "45 a 49 años         1\n",
       "más de 50 años       1\n",
       "Name: Experiencia en TI, dtype: int64"
      ]
     },
     "execution_count": 5,
     "metadata": {},
     "output_type": "execute_result"
    }
   ],
   "source": [
    "df['Experiencia en TI'].value_counts()"
   ]
  },
  {
   "cell_type": "code",
   "execution_count": 6,
   "id": "3c19d042",
   "metadata": {},
   "outputs": [
    {
     "data": {
      "text/plain": [
       "5 a 9 años         0.362573\n",
       "Menos de 5 años    0.274854\n",
       "10 a 14 años       0.239766\n",
       "15 a 19 años       0.058480\n",
       "20 a 24 años       0.026316\n",
       "25 a 29 años       0.014620\n",
       "30 a 34 años       0.011696\n",
       "35 a 39 años       0.005848\n",
       "45 a 49 años       0.002924\n",
       "más de 50 años     0.002924\n",
       "Name: Experiencia en TI, dtype: float64"
      ]
     },
     "execution_count": 6,
     "metadata": {},
     "output_type": "execute_result"
    }
   ],
   "source": [
    "df['Experiencia en TI'].value_counts(normalize=True)"
   ]
  },
  {
   "cell_type": "code",
   "execution_count": 7,
   "id": "a37163f0",
   "metadata": {},
   "outputs": [
    {
     "data": {
      "text/plain": [
       "<AxesSubplot:title={'center':'EXPERIENCIA EN TI - AÑOS'}>"
      ]
     },
     "execution_count": 7,
     "metadata": {},
     "output_type": "execute_result"
    },
    {
     "data": {
      "image/png": "[encoded data removed]",
      "text/plain": [
       "<Figure size 864x504 with 1 Axes>"
      ]
     },
     "metadata": {
      "needs_background": "light"
     },
     "output_type": "display_data"
    }
   ],
   "source": [
    "df['Experiencia en TI'].value_counts().plot(kind='barh', title='EXPERIENCIA EN TI - AÑOS')"
   ]
  },
  {
   "cell_type": "markdown",
   "id": "9afc22ab",
   "metadata": {},
   "source": [
    "- Experiencia en ti por genero."
   ]
  },
  {
   "cell_type": "code",
   "execution_count": 8,
   "id": "ee21df91",
   "metadata": {},
   "outputs": [],
   "source": [
    "genero = df.groupby('Género')"
   ]
  },
  {
   "cell_type": "markdown",
   "id": "b2dc2faa",
   "metadata": {},
   "source": [
    "- SOLO HOMBRES"
   ]
  },
  {
   "cell_type": "code",
   "execution_count": 9,
   "id": "f519f222",
   "metadata": {},
   "outputs": [
    {
     "data": {
      "text/plain": [
       "5 a 9 años         98\n",
       "Menos de 5 años    75\n",
       "10 a 14 años       71\n",
       "15 a 19 años       15\n",
       "20 a 24 años        9\n",
       "25 a 29 años        5\n",
       "30 a 34 años        4\n",
       "más de 50 años      1\n",
       "35 a 39 años        1\n",
       "Name: Experiencia en TI, dtype: int64"
      ]
     },
     "execution_count": 9,
     "metadata": {},
     "output_type": "execute_result"
    }
   ],
   "source": [
    "genero.get_group('Hombre')['Experiencia en TI'].value_counts()"
   ]
  },
  {
   "cell_type": "code",
   "execution_count": 10,
   "id": "9d0674e6",
   "metadata": {},
   "outputs": [
    {
     "data": {
      "text/plain": [
       "5 a 9 años         0.351254\n",
       "Menos de 5 años    0.268817\n",
       "10 a 14 años       0.254480\n",
       "15 a 19 años       0.053763\n",
       "20 a 24 años       0.032258\n",
       "25 a 29 años       0.017921\n",
       "30 a 34 años       0.014337\n",
       "más de 50 años     0.003584\n",
       "35 a 39 años       0.003584\n",
       "Name: Experiencia en TI, dtype: float64"
      ]
     },
     "execution_count": 10,
     "metadata": {},
     "output_type": "execute_result"
    }
   ],
   "source": [
    "genero.get_group('Hombre')['Experiencia en TI'].value_counts(normalize=True)"
   ]
  },
  {
   "cell_type": "markdown",
   "id": "da4e4e4f",
   "metadata": {},
   "source": [
    "- SOLO MUJERES"
   ]
  },
  {
   "cell_type": "code",
   "execution_count": 11,
   "id": "da69e83f",
   "metadata": {},
   "outputs": [
    {
     "data": {
      "text/plain": [
       "5 a 9 años         23\n",
       "Menos de 5 años    14\n",
       "10 a 14 años        7\n",
       "15 a 19 años        4\n",
       "35 a 39 años        1\n",
       "Name: Experiencia en TI, dtype: int64"
      ]
     },
     "execution_count": 11,
     "metadata": {},
     "output_type": "execute_result"
    }
   ],
   "source": [
    "genero.get_group('Mujer')['Experiencia en TI'].value_counts()"
   ]
  },
  {
   "cell_type": "code",
   "execution_count": 12,
   "id": "8a46b567",
   "metadata": {},
   "outputs": [
    {
     "data": {
      "text/plain": [
       "5 a 9 años         0.469388\n",
       "Menos de 5 años    0.285714\n",
       "10 a 14 años       0.142857\n",
       "15 a 19 años       0.081633\n",
       "35 a 39 años       0.020408\n",
       "Name: Experiencia en TI, dtype: float64"
      ]
     },
     "execution_count": 12,
     "metadata": {},
     "output_type": "execute_result"
    }
   ],
   "source": [
    "genero.get_group('Mujer')['Experiencia en TI'].value_counts(normalize=True)"
   ]
  },
  {
   "cell_type": "markdown",
   "id": "c26ab2c2",
   "metadata": {},
   "source": [
    "#### EXPERIENCIA EN TI _ AMBOS GENEROS"
   ]
  },
  {
   "cell_type": "code",
   "execution_count": 13,
   "id": "d4292933",
   "metadata": {},
   "outputs": [
    {
     "data": {
      "image/png": "[encoded data removed]",
      "text/plain": [
       "<Figure size 864x504 with 2 Axes>"
      ]
     },
     "metadata": {
      "needs_background": "light"
     },
     "output_type": "display_data"
    }
   ],
   "source": [
    "plt.figure() \n",
    "plt.subplot(3,1,1)\n",
    "\n",
    "genero.get_group('Mujer')['Experiencia en TI'].value_counts().plot(kind='barh', title='EXPERIENCAI EN TI - MUJERES', ylabel='', color='pink')\n",
    "\n",
    "plt.subplot(3,1,2)\n",
    "\n",
    "genero.get_group('Mujer')['Experiencia en TI'].value_counts().plot(kind='barh', title='EXPERIENCAI EN TI - HOMBRES', ylabel='')\n",
    "plt.subplots_adjust(left=0.1,\n",
    "                    bottom=0.1, \n",
    "                    right=0.9, \n",
    "                    top=0.9, \n",
    "                    wspace=0.4, \n",
    "                    hspace=0.4)"
   ]
  },
  {
   "cell_type": "markdown",
   "id": "c88de42e",
   "metadata": {},
   "source": [
    "#### Experiencia en codificación "
   ]
  },
  {
   "cell_type": "markdown",
   "id": "b73dcefd",
   "metadata": {},
   "source": [
    "- GENERAL "
   ]
  },
  {
   "cell_type": "code",
   "execution_count": 14,
   "id": "8ec1661f",
   "metadata": {},
   "outputs": [
    {
     "data": {
      "text/plain": [
       "5 a 9 años         125\n",
       "Menos de 5 años    111\n",
       "10 a 14 años        64\n",
       "15 a 19 años        20\n",
       "20 a 24 años         7\n",
       "25 a 29 años         6\n",
       "30 a 34 años         4\n",
       "35 a 39 años         2\n",
       "Name: Experiencia en codificación , dtype: int64"
      ]
     },
     "execution_count": 14,
     "metadata": {},
     "output_type": "execute_result"
    }
   ],
   "source": [
    "df['Experiencia en codificación '].value_counts()"
   ]
  },
  {
   "cell_type": "code",
   "execution_count": 15,
   "id": "30074af9",
   "metadata": {},
   "outputs": [
    {
     "data": {
      "text/plain": [
       "5 a 9 años         0.368732\n",
       "Menos de 5 años    0.327434\n",
       "10 a 14 años       0.188791\n",
       "15 a 19 años       0.058997\n",
       "20 a 24 años       0.020649\n",
       "25 a 29 años       0.017699\n",
       "30 a 34 años       0.011799\n",
       "35 a 39 años       0.005900\n",
       "Name: Experiencia en codificación , dtype: float64"
      ]
     },
     "execution_count": 15,
     "metadata": {},
     "output_type": "execute_result"
    }
   ],
   "source": [
    "df['Experiencia en codificación '].value_counts(normalize=True)"
   ]
  },
  {
   "cell_type": "code",
   "execution_count": 16,
   "id": "9129fe97",
   "metadata": {},
   "outputs": [
    {
     "data": {
      "text/plain": [
       "<AxesSubplot:title={'center':'EXPERIENCIA EN CODIFICACION'}>"
      ]
     },
     "execution_count": 16,
     "metadata": {},
     "output_type": "execute_result"
    },
    {
     "data": {
      "image/png": "[encoded data removed]",
      "text/plain": [
       "<Figure size 864x504 with 1 Axes>"
      ]
     },
     "metadata": {
      "needs_background": "light"
     },
     "output_type": "display_data"
    }
   ],
   "source": [
    "df['Experiencia en codificación '].value_counts(normalize=True).plot(kind='barh', title='EXPERIENCIA EN CODIFICACION')"
   ]
  },
  {
   "cell_type": "code",
   "execution_count": 17,
   "id": "49a58b5d",
   "metadata": {},
   "outputs": [],
   "source": [
    "genero = df.groupby('Género')"
   ]
  },
  {
   "cell_type": "markdown",
   "id": "876defdf",
   "metadata": {},
   "source": [
    "- SOLO HOMBRES"
   ]
  },
  {
   "cell_type": "code",
   "execution_count": 18,
   "id": "e4c6a6cd",
   "metadata": {},
   "outputs": [
    {
     "data": {
      "text/plain": [
       "5 a 9 años         97\n",
       "Menos de 5 años    90\n",
       "10 a 14 años       57\n",
       "15 a 19 años       16\n",
       "20 a 24 años        7\n",
       "25 a 29 años        6\n",
       "30 a 34 años        4\n",
       "35 a 39 años        1\n",
       "Name: Experiencia en codificación , dtype: int64"
      ]
     },
     "execution_count": 18,
     "metadata": {},
     "output_type": "execute_result"
    }
   ],
   "source": [
    "genero.get_group('Hombre')['Experiencia en codificación '].value_counts()"
   ]
  },
  {
   "cell_type": "code",
   "execution_count": 19,
   "id": "32aff037",
   "metadata": {},
   "outputs": [
    {
     "data": {
      "text/plain": [
       "5 a 9 años         0.348921\n",
       "Menos de 5 años    0.323741\n",
       "10 a 14 años       0.205036\n",
       "15 a 19 años       0.057554\n",
       "20 a 24 años       0.025180\n",
       "25 a 29 años       0.021583\n",
       "30 a 34 años       0.014388\n",
       "35 a 39 años       0.003597\n",
       "Name: Experiencia en codificación , dtype: float64"
      ]
     },
     "execution_count": 19,
     "metadata": {},
     "output_type": "execute_result"
    }
   ],
   "source": [
    "genero.get_group('Hombre')['Experiencia en codificación '].value_counts(normalize=True)"
   ]
  },
  {
   "cell_type": "code",
   "execution_count": 20,
   "id": "3b7339e2",
   "metadata": {},
   "outputs": [
    {
     "data": {
      "text/plain": [
       "<AxesSubplot:title={'center':'EXPERIENCIA EN CODIFICACION'}>"
      ]
     },
     "execution_count": 20,
     "metadata": {},
     "output_type": "execute_result"
    },
    {
     "data": {
      "image/png": "[encoded data removed]",
      "text/plain": [
       "<Figure size 864x504 with 1 Axes>"
      ]
     },
     "metadata": {
      "needs_background": "light"
     },
     "output_type": "display_data"
    }
   ],
   "source": [
    "genero.get_group('Hombre')['Experiencia en codificación '].value_counts().plot(kind='barh',title='EXPERIENCIA EN CODIFICACION', ylabel='')"
   ]
  },
  {
   "cell_type": "markdown",
   "id": "1342e919",
   "metadata": {},
   "source": [
    "- SOLO MUJERES"
   ]
  },
  {
   "cell_type": "code",
   "execution_count": 21,
   "id": "90047073",
   "metadata": {},
   "outputs": [
    {
     "data": {
      "text/plain": [
       "5 a 9 años         23\n",
       "Menos de 5 años    17\n",
       "10 a 14 años        5\n",
       "15 a 19 años        2\n",
       "35 a 39 años        1\n",
       "Name: Experiencia en codificación , dtype: int64"
      ]
     },
     "execution_count": 21,
     "metadata": {},
     "output_type": "execute_result"
    }
   ],
   "source": [
    "genero.get_group('Mujer')['Experiencia en codificación '].value_counts()"
   ]
  },
  {
   "cell_type": "code",
   "execution_count": 22,
   "id": "a434ed18",
   "metadata": {},
   "outputs": [
    {
     "data": {
      "text/plain": [
       "5 a 9 años         0.479167\n",
       "Menos de 5 años    0.354167\n",
       "10 a 14 años       0.104167\n",
       "15 a 19 años       0.041667\n",
       "35 a 39 años       0.020833\n",
       "Name: Experiencia en codificación , dtype: float64"
      ]
     },
     "execution_count": 22,
     "metadata": {},
     "output_type": "execute_result"
    }
   ],
   "source": [
    "genero.get_group('Mujer')['Experiencia en codificación '].value_counts(normalize=True)"
   ]
  },
  {
   "cell_type": "code",
   "execution_count": 23,
   "id": "87386511",
   "metadata": {},
   "outputs": [
    {
     "data": {
      "text/plain": [
       "<AxesSubplot:title={'center':'EXPERIENCAI EN CODIFICACION - MUJERES'}>"
      ]
     },
     "execution_count": 23,
     "metadata": {},
     "output_type": "execute_result"
    },
    {
     "data": {
      "image/png": "[encoded data removed]",
      "text/plain": [
       "<Figure size 864x504 with 1 Axes>"
      ]
     },
     "metadata": {
      "needs_background": "light"
     },
     "output_type": "display_data"
    }
   ],
   "source": [
    "genero.get_group('Mujer')['Experiencia en codificación '].value_counts().plot(kind='barh', title='EXPERIENCAI EN CODIFICACION - MUJERES', ylabel='')"
   ]
  },
  {
   "cell_type": "markdown",
   "id": "933c26c0",
   "metadata": {},
   "source": [
    "- EXPERIENCIA EN CODIFICAcION - MIXTO"
   ]
  },
  {
   "cell_type": "code",
   "execution_count": 24,
   "id": "52bdc85d",
   "metadata": {},
   "outputs": [
    {
     "data": {
      "image/png": "[encoded data removed]",
      "text/plain": [
       "<Figure size 864x504 with 2 Axes>"
      ]
     },
     "metadata": {
      "needs_background": "light"
     },
     "output_type": "display_data"
    }
   ],
   "source": [
    "plt.figure() \n",
    "plt.subplot(3,1,1)\n",
    "\n",
    "genero.get_group('Hombre')['Experiencia en codificación '].value_counts().plot(kind='barh',title='EXPERIENCIA EN CODIFICACION', ylabel='', color='blue')\n",
    "plt.subplot(3,1,2)\n",
    "\n",
    "genero.get_group('Mujer')['Experiencia en codificación '].value_counts().plot(kind='barh', title='EXPERIENCAI EN CODIFICACION - MUJERES', ylabel='', color='pink')\n",
    "\n",
    "\n",
    "plt.subplots_adjust(left=0.1,\n",
    "                    bottom=0.1, \n",
    "                    right=0.9, \n",
    "                    top=0.9, \n",
    "                    wspace=0.4, \n",
    "                    hspace=0.4)"
   ]
  },
  {
   "cell_type": "code",
   "execution_count": null,
   "id": "3a52f364",
   "metadata": {},
   "outputs": [],
   "source": []
  }
 ],
 "metadata": {
  "kernelspec": {
   "display_name": "Python 3",
   "language": "python",
   "name": "python3"
  },
  "language_info": {
   "codemirror_mode": {
    "name": "ipython",
    "version": 3
   },
   "file_extension": ".py",
   "mimetype": "text/x-python",
   "name": "python",
   "nbconvert_exporter": "python",
   "pygments_lexer": "ipython3",
   "version": "3.6.9"
  }
 },
 "nbformat": 4,
 "nbformat_minor": 5
}
