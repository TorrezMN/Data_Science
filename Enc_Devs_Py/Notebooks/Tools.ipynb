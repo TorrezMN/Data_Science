{
 "cells": [
  {
   "cell_type": "code",
   "execution_count": 1,
   "id": "b0738bcc",
   "metadata": {},
   "outputs": [],
   "source": [
    "# Importing Libs\n",
    "import pandas as pd\n",
    "import seaborn as sns\n",
    "import matplotlib.pyplot as plt\n",
    "from collections import Counter\n",
    "import numpy\n",
    "\n",
    "# My Tools\n",
    "from toolkit.tools import print_column_uniques, make_df, get_column_uniques\n",
    "\n",
    "\n",
    "%matplotlib inline"
   ]
  },
  {
   "cell_type": "code",
   "execution_count": 2,
   "id": "9ac92ece",
   "metadata": {},
   "outputs": [],
   "source": [
    "plt.rcParams[\"figure.figsize\"] = [12, 7]"
   ]
  },
  {
   "cell_type": "code",
   "execution_count": 3,
   "id": "745c0ac3-963a-4776-9aa9-b9a91a9aaa5b",
   "metadata": {},
   "outputs": [],
   "source": [
    "sns.set()\n",
    "sns.set_palette(\"pastel\")"
   ]
  },
  {
   "cell_type": "code",
   "execution_count": 4,
   "id": "04d46050",
   "metadata": {},
   "outputs": [],
   "source": [
    "df = pd.read_csv(\"../enc_devs_py.csv\")"
   ]
  },
  {
   "cell_type": "code",
   "execution_count": 5,
   "id": "804d9e85",
   "metadata": {},
   "outputs": [
    {
     "data": {
      "text/html": [
       " <style>\n",
       ".output_png {\n",
       "    display: table-cell;\n",
       "    text-align: center;\n",
       "    vertical-align: middle;\n",
       "}\n",
       "</style> "
      ],
      "text/plain": [
       "<IPython.core.display.HTML object>"
      ]
     },
     "execution_count": 5,
     "metadata": {},
     "output_type": "execute_result"
    }
   ],
   "source": [
    "from IPython.core.display import HTML as Center\n",
    "\n",
    "Center(\n",
    "    \"\"\" <style>\n",
    ".output_png {\n",
    "    display: table-cell;\n",
    "    text-align: center;\n",
    "    vertical-align: middle;\n",
    "}\n",
    "</style> \"\"\"\n",
    ")"
   ]
  },
  {
   "cell_type": "markdown",
   "id": "cf7f5918",
   "metadata": {},
   "source": [
    "### Tech Used\n",
    "- Tecnologias utilizadas por los que respondieron la encuesta."
   ]
  },
  {
   "cell_type": "code",
   "execution_count": 6,
   "id": "f6568780",
   "metadata": {},
   "outputs": [
    {
     "data": {
      "text/plain": [
       "Index(['Marca temporal', 'Modalidad', 'Trabajo', 'Tipo de trabajo', 'DevOps',\n",
       "       'Codificar por trabajo', 'Experiencia en TI',\n",
       "       'Experiencia en codificación ',\n",
       "       'Primera línea de código en una máquina', 'Educación',\n",
       "       'Carreras o especialidades', 'Importancia educación formal', 'Género',\n",
       "       'Edad actual ', 'Salario mensual',\n",
       "       'Programación, scripting y lenguajes de marcado',\n",
       "       'Librerías o web frameworks',\n",
       "       'Otras frameworks, librerías y herramientas', 'Base de datos',\n",
       "       'Plataformas', 'Lenguaje favorito', 'Lenguaje más odiado',\n",
       "       'Framework favorito', 'Framework más odiado', 'Herramientas'],\n",
       "      dtype='object')"
      ]
     },
     "execution_count": 6,
     "metadata": {},
     "output_type": "execute_result"
    }
   ],
   "source": [
    "df.columns"
   ]
  },
  {
   "cell_type": "markdown",
   "id": "908094ec-7051-4c46-bad4-50b71bf17dc2",
   "metadata": {},
   "source": [
    "# Frameworks"
   ]
  },
  {
   "cell_type": "code",
   "execution_count": 7,
   "id": "8488e496-0881-43c9-a018-7f8b99fd96d9",
   "metadata": {},
   "outputs": [],
   "source": [
    "df[\"framworks\"] = (\n",
    "    df[\"Librerías o web frameworks\"] + df[\"Otras frameworks, librerías y herramientas\"]\n",
    ")"
   ]
  },
  {
   "cell_type": "code",
   "execution_count": 8,
   "id": "bd715a3a-47cb-4081-82ba-03e41d998922",
   "metadata": {},
   "outputs": [],
   "source": [
    "df[\"framworks\"].fillna(\"Sin Respuesta\", inplace=True)"
   ]
  },
  {
   "cell_type": "code",
   "execution_count": 9,
   "id": "f13cc243-f5ec-4faf-8f73-f260a6f89ae2",
   "metadata": {},
   "outputs": [],
   "source": [
    "f = get_column_uniques(df, \"framworks\")"
   ]
  },
  {
   "cell_type": "code",
   "execution_count": 10,
   "id": "f2196e4c-2ad1-46d5-a673-552d75a4d86a",
   "metadata": {},
   "outputs": [
    {
     "data": {
      "text/plain": [
       "90"
      ]
     },
     "execution_count": 10,
     "metadata": {},
     "output_type": "execute_result"
    }
   ],
   "source": [
    "len(f)"
   ]
  },
  {
   "cell_type": "code",
   "execution_count": 11,
   "id": "575043b6-bc42-4a06-9a4a-e91102f49de9",
   "metadata": {},
   "outputs": [
    {
     "data": {
      "text/html": [
       "<div>\n",
       "<style scoped>\n",
       "    .dataframe tbody tr th:only-of-type {\n",
       "        vertical-align: middle;\n",
       "    }\n",
       "\n",
       "    .dataframe tbody tr th {\n",
       "        vertical-align: top;\n",
       "    }\n",
       "\n",
       "    .dataframe thead th {\n",
       "        text-align: right;\n",
       "    }\n",
       "</style>\n",
       "<table border=\"1\" class=\"dataframe\">\n",
       "  <thead>\n",
       "    <tr style=\"text-align: right;\">\n",
       "      <th></th>\n",
       "      <th>count</th>\n",
       "    </tr>\n",
       "    <tr>\n",
       "      <th>cat</th>\n",
       "      <th></th>\n",
       "    </tr>\n",
       "  </thead>\n",
       "  <tbody>\n",
       "    <tr>\n",
       "      <th>JQueryUnity 3D</th>\n",
       "      <td>1</td>\n",
       "    </tr>\n",
       "    <tr>\n",
       "      <th>DjangoPandas</th>\n",
       "      <td>4</td>\n",
       "    </tr>\n",
       "    <tr>\n",
       "      <th>CodeIgniter.NET</th>\n",
       "      <td>1</td>\n",
       "    </tr>\n",
       "    <tr>\n",
       "      <th>CodeIgniterPandas</th>\n",
       "      <td>1</td>\n",
       "    </tr>\n",
       "    <tr>\n",
       "      <th>Ansible</th>\n",
       "      <td>6</td>\n",
       "    </tr>\n",
       "    <tr>\n",
       "      <th>...</th>\n",
       "      <td>...</td>\n",
       "    </tr>\n",
       "    <tr>\n",
       "      <th>SymfonyNode.js</th>\n",
       "      <td>7</td>\n",
       "    </tr>\n",
       "    <tr>\n",
       "      <th>LaravelPandas</th>\n",
       "      <td>4</td>\n",
       "    </tr>\n",
       "    <tr>\n",
       "      <th>Hadoop</th>\n",
       "      <td>12</td>\n",
       "    </tr>\n",
       "    <tr>\n",
       "      <th>CakePHPFlutter</th>\n",
       "      <td>1</td>\n",
       "    </tr>\n",
       "    <tr>\n",
       "      <th>Flutter</th>\n",
       "      <td>50</td>\n",
       "    </tr>\n",
       "  </tbody>\n",
       "</table>\n",
       "<p>90 rows × 1 columns</p>\n",
       "</div>"
      ],
      "text/plain": [
       "                   count\n",
       "cat                     \n",
       "JQueryUnity 3D         1\n",
       "DjangoPandas           4\n",
       "CodeIgniter.NET        1\n",
       "CodeIgniterPandas      1\n",
       "Ansible                6\n",
       "...                  ...\n",
       "SymfonyNode.js         7\n",
       "LaravelPandas          4\n",
       "Hadoop                12\n",
       "CakePHPFlutter         1\n",
       "Flutter               50\n",
       "\n",
       "[90 rows x 1 columns]"
      ]
     },
     "execution_count": 11,
     "metadata": {},
     "output_type": "execute_result"
    }
   ],
   "source": [
    "make_df(df, \"framworks\")"
   ]
  },
  {
   "cell_type": "code",
   "execution_count": null,
   "id": "0213d824-9810-4660-bfe2-13ecbe15f3be",
   "metadata": {},
   "outputs": [],
   "source": []
  },
  {
   "cell_type": "code",
   "execution_count": null,
   "id": "6a19ccab-d9ca-4560-b8f7-88eaf1f30660",
   "metadata": {},
   "outputs": [],
   "source": []
  },
  {
   "cell_type": "code",
   "execution_count": null,
   "id": "cedb59a4-7403-40c1-b2a1-2d15a559e755",
   "metadata": {},
   "outputs": [],
   "source": []
  },
  {
   "cell_type": "code",
   "execution_count": null,
   "id": "dad4e6e4-bb36-4984-b1f6-17ffc1dcc55d",
   "metadata": {},
   "outputs": [],
   "source": []
  },
  {
   "cell_type": "code",
   "execution_count": null,
   "id": "957d881f-d239-4b28-8079-228a1eb9f6a7",
   "metadata": {},
   "outputs": [],
   "source": []
  },
  {
   "cell_type": "code",
   "execution_count": null,
   "id": "9d9adb4d-81c6-47b2-b81d-6c666845390d",
   "metadata": {},
   "outputs": [],
   "source": []
  },
  {
   "cell_type": "code",
   "execution_count": null,
   "id": "b356a08a-1bdb-4948-84bb-3da5c0349cc6",
   "metadata": {},
   "outputs": [],
   "source": []
  },
  {
   "cell_type": "code",
   "execution_count": null,
   "id": "95795aa4-e0da-4923-8830-c47b652cdc35",
   "metadata": {},
   "outputs": [],
   "source": []
  }
 ],
 "metadata": {
  "kernelspec": {
   "display_name": "Python 3 (ipykernel)",
   "language": "python",
   "name": "python3"
  },
  "language_info": {
   "codemirror_mode": {
    "name": "ipython",
    "version": 3
   },
   "file_extension": ".py",
   "mimetype": "text/x-python",
   "name": "python",
   "nbconvert_exporter": "python",
   "pygments_lexer": "ipython3",
   "version": "3.11.1"
  }
 },
 "nbformat": 4,
 "nbformat_minor": 5
}
