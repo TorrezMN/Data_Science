{
 "cells": [
  {
   "cell_type": "code",
   "execution_count": 1,
   "id": "b0738bcc",
   "metadata": {},
   "outputs": [],
   "source": [
    "# Importing Libs\n",
    "import pandas as pd\n",
    "import matplotlib.pyplot as plt\n",
    "\n",
    "%matplotlib inline"
   ]
  },
  {
   "cell_type": "code",
   "execution_count": 2,
   "id": "9ac92ece",
   "metadata": {},
   "outputs": [],
   "source": [
    "plt.rcParams[\"figure.figsize\"] = [12, 7]"
   ]
  },
  {
   "cell_type": "code",
   "execution_count": 3,
   "id": "04d46050",
   "metadata": {},
   "outputs": [],
   "source": [
    "df = pd.read_csv(\"../enc_devs_py.csv\")"
   ]
  },
  {
   "cell_type": "code",
   "execution_count": 4,
   "id": "804d9e85",
   "metadata": {},
   "outputs": [
    {
     "data": {
      "text/html": [
       " <style>\n",
       ".output_png {\n",
       "    display: table-cell;\n",
       "    text-align: center;\n",
       "    vertical-align: middle;\n",
       "}\n",
       "</style> "
      ],
      "text/plain": [
       "<IPython.core.display.HTML object>"
      ]
     },
     "execution_count": 4,
     "metadata": {},
     "output_type": "execute_result"
    }
   ],
   "source": [
    "from IPython.core.display import HTML as Center\n",
    "\n",
    "Center(\n",
    "    \"\"\" <style>\n",
    ".output_png {\n",
    "    display: table-cell;\n",
    "    text-align: center;\n",
    "    vertical-align: middle;\n",
    "}\n",
    "</style> \"\"\"\n",
    ")"
   ]
  },
  {
   "cell_type": "markdown",
   "id": "cf7f5918",
   "metadata": {},
   "source": [
    "### Tech Used\n",
    "- Tecnologias utilizadas por los que respondieron la encuesta."
   ]
  },
  {
   "cell_type": "code",
   "execution_count": 5,
   "id": "f6568780",
   "metadata": {},
   "outputs": [
    {
     "data": {
      "text/plain": [
       "Index(['Marca temporal', 'Modalidad', 'Trabajo', 'Tipo de trabajo', 'DevOps',\n",
       "       'Codificar por trabajo', 'Experiencia en TI',\n",
       "       'Experiencia en codificación ',\n",
       "       'Primera línea de código en una máquina', 'Educación',\n",
       "       'Carreras o especialidades', 'Importancia educación formal', 'Género',\n",
       "       'Edad actual ', 'Salario mensual',\n",
       "       'Programación, scripting y lenguajes de marcado',\n",
       "       'Librerías o web frameworks',\n",
       "       'Otras frameworks, librerías y herramientas', 'Base de datos',\n",
       "       'Plataformas', 'Lenguaje favorito', 'Lenguaje más odiado',\n",
       "       'Framework favorito', 'Framework más odiado', 'Herramientas'],\n",
       "      dtype='object')"
      ]
     },
     "execution_count": 5,
     "metadata": {},
     "output_type": "execute_result"
    }
   ],
   "source": [
    "df.columns"
   ]
  },
  {
   "cell_type": "markdown",
   "id": "f68109d2",
   "metadata": {},
   "source": [
    "### DevOps"
   ]
  },
  {
   "cell_type": "code",
   "execution_count": 6,
   "id": "2908925c",
   "metadata": {},
   "outputs": [
    {
     "data": {
      "text/plain": [
       "Administrador de sistemas                                                                                                   69\n",
       "Diseñador                                                                                                                   20\n",
       "Científico de datos o especialista Machine Learning                                                                          9\n",
       "Educador                                                                                                                     8\n",
       "Administrador de sistemas;Diseñador                                                                                          6\n",
       "Administrador de sistemas;Educador                                                                                           5\n",
       "Administrador de sistemas;Investigador científico                                                                            5\n",
       "Administrador de sistemas;Científico de datos o especialista Machine Learning                                                4\n",
       "Investigador científico                                                                                                      2\n",
       "Científico de datos o especialista Machine Learning;Diseñador                                                                2\n",
       "Administrador de sistemas;Científico de datos o especialista Machine Learning;Investigador científico;Diseñador              2\n",
       "Investigador científico;Diseñador                                                                                            2\n",
       "Administrador de sistemas;Científico de datos o especialista Machine Learning;Investigador científico                        2\n",
       "Diseñador;Educador                                                                                                           2\n",
       "Administrador de sistemas;Científico de datos o especialista Machine Learning;Diseñador                                      1\n",
       "Científico de datos o especialista Machine Learning;Investigador científico                                                  1\n",
       "Administrador de sistemas;Científico de datos o especialista Machine Learning;Investigador científico;Diseñador;Educador     1\n",
       "Científico de datos o especialista Machine Learning;Educador                                                                 1\n",
       "Investigador científico;Educador                                                                                             1\n",
       "Name: DevOps, dtype: int64"
      ]
     },
     "execution_count": 6,
     "metadata": {},
     "output_type": "execute_result"
    }
   ],
   "source": [
    "df[\"DevOps\"].value_counts()"
   ]
  },
  {
   "cell_type": "code",
   "execution_count": 7,
   "id": "1898cae8",
   "metadata": {},
   "outputs": [],
   "source": [
    "devops_roles = {}\n",
    "\n",
    "\n",
    "def set_devops_rol(rol):\n",
    "    if isinstance(rol, str):\n",
    "        for i in rol.split(\";\"):\n",
    "            devops_roles[i] = 0\n",
    "\n",
    "\n",
    "def count_devops_rol(rol):\n",
    "    if isinstance(rol, str):\n",
    "        for i in rol.split(\";\"):\n",
    "            devops_roles[i] += 1"
   ]
  },
  {
   "cell_type": "code",
   "execution_count": 8,
   "id": "991b33a8",
   "metadata": {},
   "outputs": [
    {
     "data": {
      "text/plain": [
       "0      None\n",
       "1      None\n",
       "2      None\n",
       "3      None\n",
       "4      None\n",
       "       ... \n",
       "337    None\n",
       "338    None\n",
       "339    None\n",
       "340    None\n",
       "341    None\n",
       "Name: DevOps, Length: 342, dtype: object"
      ]
     },
     "execution_count": 8,
     "metadata": {},
     "output_type": "execute_result"
    }
   ],
   "source": [
    "df[\"DevOps\"].map(set_devops_rol)\n",
    "df[\"DevOps\"].map(count_devops_rol)"
   ]
  },
  {
   "cell_type": "code",
   "execution_count": 9,
   "id": "96757cd8",
   "metadata": {},
   "outputs": [
    {
     "name": "stdout",
     "output_type": "stream",
     "text": [
      "{'Educador': 18, 'Administrador de sistemas': 95, 'Diseñador': 36, 'Investigador científico': 16, 'Científico de datos o especialista Machine Learning': 23}\n"
     ]
    }
   ],
   "source": [
    "print(devops_roles)"
   ]
  },
  {
   "cell_type": "code",
   "execution_count": 10,
   "id": "dc034bdb",
   "metadata": {},
   "outputs": [],
   "source": [
    "devops_df = pd.DataFrame(\n",
    "    data=[i for i in devops_roles.items()], columns=[\"rol\", \"count\"]\n",
    ").set_index(\"rol\")"
   ]
  },
  {
   "cell_type": "code",
   "execution_count": 11,
   "id": "2d44f147",
   "metadata": {},
   "outputs": [
    {
     "data": {
      "text/html": [
       "<div>\n",
       "<style scoped>\n",
       "    .dataframe tbody tr th:only-of-type {\n",
       "        vertical-align: middle;\n",
       "    }\n",
       "\n",
       "    .dataframe tbody tr th {\n",
       "        vertical-align: top;\n",
       "    }\n",
       "\n",
       "    .dataframe thead th {\n",
       "        text-align: right;\n",
       "    }\n",
       "</style>\n",
       "<table border=\"1\" class=\"dataframe\">\n",
       "  <thead>\n",
       "    <tr style=\"text-align: right;\">\n",
       "      <th></th>\n",
       "      <th>count</th>\n",
       "    </tr>\n",
       "    <tr>\n",
       "      <th>rol</th>\n",
       "      <th></th>\n",
       "    </tr>\n",
       "  </thead>\n",
       "  <tbody>\n",
       "    <tr>\n",
       "      <th>Educador</th>\n",
       "      <td>18</td>\n",
       "    </tr>\n",
       "    <tr>\n",
       "      <th>Administrador de sistemas</th>\n",
       "      <td>95</td>\n",
       "    </tr>\n",
       "    <tr>\n",
       "      <th>Diseñador</th>\n",
       "      <td>36</td>\n",
       "    </tr>\n",
       "    <tr>\n",
       "      <th>Investigador científico</th>\n",
       "      <td>16</td>\n",
       "    </tr>\n",
       "    <tr>\n",
       "      <th>Científico de datos o especialista Machine Learning</th>\n",
       "      <td>23</td>\n",
       "    </tr>\n",
       "  </tbody>\n",
       "</table>\n",
       "</div>"
      ],
      "text/plain": [
       "                                                    count\n",
       "rol                                                      \n",
       "Educador                                               18\n",
       "Administrador de sistemas                              95\n",
       "Diseñador                                              36\n",
       "Investigador científico                                16\n",
       "Científico de datos o especialista Machine Lear...     23"
      ]
     },
     "execution_count": 11,
     "metadata": {},
     "output_type": "execute_result"
    }
   ],
   "source": [
    "devops_df.head()"
   ]
  },
  {
   "cell_type": "code",
   "execution_count": 12,
   "id": "5aabdb10",
   "metadata": {},
   "outputs": [
    {
     "data": {
      "text/html": [
       "<div>\n",
       "<style scoped>\n",
       "    .dataframe tbody tr th:only-of-type {\n",
       "        vertical-align: middle;\n",
       "    }\n",
       "\n",
       "    .dataframe tbody tr th {\n",
       "        vertical-align: top;\n",
       "    }\n",
       "\n",
       "    .dataframe thead th {\n",
       "        text-align: right;\n",
       "    }\n",
       "</style>\n",
       "<table border=\"1\" class=\"dataframe\">\n",
       "  <thead>\n",
       "    <tr style=\"text-align: right;\">\n",
       "      <th></th>\n",
       "      <th>count</th>\n",
       "    </tr>\n",
       "    <tr>\n",
       "      <th>rol</th>\n",
       "      <th></th>\n",
       "    </tr>\n",
       "  </thead>\n",
       "  <tbody>\n",
       "    <tr>\n",
       "      <th>Educador</th>\n",
       "      <td>18</td>\n",
       "    </tr>\n",
       "    <tr>\n",
       "      <th>Administrador de sistemas</th>\n",
       "      <td>95</td>\n",
       "    </tr>\n",
       "    <tr>\n",
       "      <th>Diseñador</th>\n",
       "      <td>36</td>\n",
       "    </tr>\n",
       "    <tr>\n",
       "      <th>Investigador científico</th>\n",
       "      <td>16</td>\n",
       "    </tr>\n",
       "    <tr>\n",
       "      <th>Científico de datos o especialista Machine Learning</th>\n",
       "      <td>23</td>\n",
       "    </tr>\n",
       "  </tbody>\n",
       "</table>\n",
       "</div>"
      ],
      "text/plain": [
       "                                                    count\n",
       "rol                                                      \n",
       "Educador                                               18\n",
       "Administrador de sistemas                              95\n",
       "Diseñador                                              36\n",
       "Investigador científico                                16\n",
       "Científico de datos o especialista Machine Lear...     23"
      ]
     },
     "execution_count": 12,
     "metadata": {},
     "output_type": "execute_result"
    }
   ],
   "source": [
    "devops_df"
   ]
  },
  {
   "cell_type": "code",
   "execution_count": 13,
   "id": "b7b9b2f9",
   "metadata": {},
   "outputs": [
    {
     "data": {
      "text/plain": [
       "<AxesSubplot:title={'center':'DEVOPS ROL COUNT'}, ylabel='rol'>"
      ]
     },
     "execution_count": 13,
     "metadata": {},
     "output_type": "execute_result"
    },
    {
     "data": {
      "image/png": "[encoded data removed]",
      "text/plain": [
       "<Figure size 864x504 with 1 Axes>"
      ]
     },
     "metadata": {
      "needs_background": "light"
     },
     "output_type": "display_data"
    }
   ],
   "source": [
    "devops_df.plot(kind=\"barh\", title=\"DEVOPS ROL COUNT\")"
   ]
  },
  {
   "cell_type": "markdown",
   "id": "39f34740",
   "metadata": {},
   "source": [
    "### Programación, scripting y lenguajes de marcado"
   ]
  },
  {
   "cell_type": "code",
   "execution_count": 14,
   "id": "9385c9c2",
   "metadata": {},
   "outputs": [
    {
     "data": {
      "text/plain": [
       "JavaScript;PHP;HTML/CSS;SQL                          10\n",
       "JavaScript;TypeScript;Python;Java;HTML/CSS;SQL        5\n",
       "JavaScript;PHP;HTML/CSS;SQL;Bash/Shell/PowerShell     5\n",
       "JavaScript;TypeScript;Java;HTML/CSS;SQL               5\n",
       "JavaScript;Java;HTML/CSS;SQL                          4\n",
       "                                                     ..\n",
       "JavaScript;TypeScript;PHP                             1\n",
       "JavaScript;Java;C++;HTML/CSS;SQL                      1\n",
       "PHP;Python;C;C++;R                                    1\n",
       "C#;HTML/CSS;SQL;Oracle form                           1\n",
       "JavaScript;TypeScript;PHP;Go;HTML/CSS;SQL             1\n",
       "Name: Programación, scripting y lenguajes de marcado, Length: 270, dtype: int64"
      ]
     },
     "execution_count": 14,
     "metadata": {},
     "output_type": "execute_result"
    }
   ],
   "source": [
    "df[\"Programación, scripting y lenguajes de marcado\"].value_counts()"
   ]
  },
  {
   "cell_type": "code",
   "execution_count": 15,
   "id": "86236771",
   "metadata": {},
   "outputs": [],
   "source": [
    "lang = {}\n",
    "\n",
    "\n",
    "def set_langs(lan):\n",
    "    if isinstance(lan, str):\n",
    "        for i in lan.split(\";\"):\n",
    "            lang[i] = 0\n",
    "\n",
    "\n",
    "def count_langs(lan):\n",
    "    if isinstance(lan, str):\n",
    "        for i in lan.split(\";\"):\n",
    "            lang[i] += 1"
   ]
  },
  {
   "cell_type": "code",
   "execution_count": 16,
   "id": "8100aba1",
   "metadata": {},
   "outputs": [
    {
     "data": {
      "text/plain": [
       "0      None\n",
       "1      None\n",
       "2      None\n",
       "3      None\n",
       "4      None\n",
       "       ... \n",
       "337    None\n",
       "338    None\n",
       "339    None\n",
       "340    None\n",
       "341    None\n",
       "Name: Programación, scripting y lenguajes de marcado, Length: 342, dtype: object"
      ]
     },
     "execution_count": 16,
     "metadata": {},
     "output_type": "execute_result"
    }
   ],
   "source": [
    "df[\"Programación, scripting y lenguajes de marcado\"].map(set_langs)\n",
    "df[\"Programación, scripting y lenguajes de marcado\"].map(count_langs)"
   ]
  },
  {
   "cell_type": "code",
   "execution_count": 17,
   "id": "4d5d1fd4",
   "metadata": {},
   "outputs": [],
   "source": [
    "lang_df = pd.DataFrame(\n",
    "    data=[i for i in lang.items()], columns=[\"lang\", \"count\"]\n",
    ").set_index(\"lang\")"
   ]
  },
  {
   "cell_type": "code",
   "execution_count": 18,
   "id": "d50c68f8",
   "metadata": {},
   "outputs": [
    {
     "data": {
      "text/html": [
       "<div>\n",
       "<style scoped>\n",
       "    .dataframe tbody tr th:only-of-type {\n",
       "        vertical-align: middle;\n",
       "    }\n",
       "\n",
       "    .dataframe tbody tr th {\n",
       "        vertical-align: top;\n",
       "    }\n",
       "\n",
       "    .dataframe thead th {\n",
       "        text-align: right;\n",
       "    }\n",
       "</style>\n",
       "<table border=\"1\" class=\"dataframe\">\n",
       "  <thead>\n",
       "    <tr style=\"text-align: right;\">\n",
       "      <th></th>\n",
       "      <th>count</th>\n",
       "    </tr>\n",
       "    <tr>\n",
       "      <th>lang</th>\n",
       "      <th></th>\n",
       "    </tr>\n",
       "  </thead>\n",
       "  <tbody>\n",
       "    <tr>\n",
       "      <th>JavaScript</th>\n",
       "      <td>273</td>\n",
       "    </tr>\n",
       "    <tr>\n",
       "      <th>Java</th>\n",
       "      <td>204</td>\n",
       "    </tr>\n",
       "    <tr>\n",
       "      <th>C++</th>\n",
       "      <td>61</td>\n",
       "    </tr>\n",
       "    <tr>\n",
       "      <th>SQL</th>\n",
       "      <td>264</td>\n",
       "    </tr>\n",
       "    <tr>\n",
       "      <th>C#</th>\n",
       "      <td>82</td>\n",
       "    </tr>\n",
       "  </tbody>\n",
       "</table>\n",
       "</div>"
      ],
      "text/plain": [
       "            count\n",
       "lang             \n",
       "JavaScript    273\n",
       "Java          204\n",
       "C++            61\n",
       "SQL           264\n",
       "C#             82"
      ]
     },
     "execution_count": 18,
     "metadata": {},
     "output_type": "execute_result"
    }
   ],
   "source": [
    "lang_df.head()"
   ]
  },
  {
   "cell_type": "code",
   "execution_count": 19,
   "id": "a8ebdadb",
   "metadata": {},
   "outputs": [
    {
     "data": {
      "text/html": [
       "<div>\n",
       "<style scoped>\n",
       "    .dataframe tbody tr th:only-of-type {\n",
       "        vertical-align: middle;\n",
       "    }\n",
       "\n",
       "    .dataframe tbody tr th {\n",
       "        vertical-align: top;\n",
       "    }\n",
       "\n",
       "    .dataframe thead th {\n",
       "        text-align: right;\n",
       "    }\n",
       "</style>\n",
       "<table border=\"1\" class=\"dataframe\">\n",
       "  <thead>\n",
       "    <tr style=\"text-align: right;\">\n",
       "      <th></th>\n",
       "      <th>count</th>\n",
       "    </tr>\n",
       "    <tr>\n",
       "      <th>lang</th>\n",
       "      <th></th>\n",
       "    </tr>\n",
       "  </thead>\n",
       "  <tbody>\n",
       "    <tr>\n",
       "      <th>JavaScript</th>\n",
       "      <td>273</td>\n",
       "    </tr>\n",
       "    <tr>\n",
       "      <th>SQL</th>\n",
       "      <td>264</td>\n",
       "    </tr>\n",
       "    <tr>\n",
       "      <th>HTML/CSS</th>\n",
       "      <td>257</td>\n",
       "    </tr>\n",
       "    <tr>\n",
       "      <th>Java</th>\n",
       "      <td>204</td>\n",
       "    </tr>\n",
       "    <tr>\n",
       "      <th>Python</th>\n",
       "      <td>165</td>\n",
       "    </tr>\n",
       "    <tr>\n",
       "      <th>PHP</th>\n",
       "      <td>153</td>\n",
       "    </tr>\n",
       "    <tr>\n",
       "      <th>TypeScript</th>\n",
       "      <td>103</td>\n",
       "    </tr>\n",
       "    <tr>\n",
       "      <th>Bash/Shell/PowerShell</th>\n",
       "      <td>97</td>\n",
       "    </tr>\n",
       "    <tr>\n",
       "      <th>C</th>\n",
       "      <td>83</td>\n",
       "    </tr>\n",
       "    <tr>\n",
       "      <th>C#</th>\n",
       "      <td>82</td>\n",
       "    </tr>\n",
       "    <tr>\n",
       "      <th>C++</th>\n",
       "      <td>61</td>\n",
       "    </tr>\n",
       "    <tr>\n",
       "      <th>Oracle form</th>\n",
       "      <td>42</td>\n",
       "    </tr>\n",
       "    <tr>\n",
       "      <th>Dart</th>\n",
       "      <td>31</td>\n",
       "    </tr>\n",
       "    <tr>\n",
       "      <th>Fox Pro</th>\n",
       "      <td>29</td>\n",
       "    </tr>\n",
       "    <tr>\n",
       "      <th>Go</th>\n",
       "      <td>27</td>\n",
       "    </tr>\n",
       "    <tr>\n",
       "      <th>Genexus</th>\n",
       "      <td>26</td>\n",
       "    </tr>\n",
       "    <tr>\n",
       "      <th>Ruby</th>\n",
       "      <td>26</td>\n",
       "    </tr>\n",
       "    <tr>\n",
       "      <th>Swift</th>\n",
       "      <td>24</td>\n",
       "    </tr>\n",
       "    <tr>\n",
       "      <th>Kotlin</th>\n",
       "      <td>24</td>\n",
       "    </tr>\n",
       "    <tr>\n",
       "      <th>VBA</th>\n",
       "      <td>22</td>\n",
       "    </tr>\n",
       "    <tr>\n",
       "      <th>R</th>\n",
       "      <td>19</td>\n",
       "    </tr>\n",
       "    <tr>\n",
       "      <th>Objective-C</th>\n",
       "      <td>16</td>\n",
       "    </tr>\n",
       "    <tr>\n",
       "      <th>Perl</th>\n",
       "      <td>12</td>\n",
       "    </tr>\n",
       "    <tr>\n",
       "      <th>COBOL</th>\n",
       "      <td>11</td>\n",
       "    </tr>\n",
       "    <tr>\n",
       "      <th>Assembly</th>\n",
       "      <td>9</td>\n",
       "    </tr>\n",
       "    <tr>\n",
       "      <th>Rust</th>\n",
       "      <td>7</td>\n",
       "    </tr>\n",
       "    <tr>\n",
       "      <th>Scala</th>\n",
       "      <td>6</td>\n",
       "    </tr>\n",
       "    <tr>\n",
       "      <th>Haskell</th>\n",
       "      <td>4</td>\n",
       "    </tr>\n",
       "    <tr>\n",
       "      <th>RPG</th>\n",
       "      <td>4</td>\n",
       "    </tr>\n",
       "  </tbody>\n",
       "</table>\n",
       "</div>"
      ],
      "text/plain": [
       "                       count\n",
       "lang                        \n",
       "JavaScript               273\n",
       "SQL                      264\n",
       "HTML/CSS                 257\n",
       "Java                     204\n",
       "Python                   165\n",
       "PHP                      153\n",
       "TypeScript               103\n",
       "Bash/Shell/PowerShell     97\n",
       "C                         83\n",
       "C#                        82\n",
       "C++                       61\n",
       "Oracle form               42\n",
       "Dart                      31\n",
       "Fox Pro                   29\n",
       "Go                        27\n",
       "Genexus                   26\n",
       "Ruby                      26\n",
       "Swift                     24\n",
       "Kotlin                    24\n",
       "VBA                       22\n",
       "R                         19\n",
       "Objective-C               16\n",
       "Perl                      12\n",
       "COBOL                     11\n",
       "Assembly                   9\n",
       "Rust                       7\n",
       "Scala                      6\n",
       "Haskell                    4\n",
       "RPG                        4"
      ]
     },
     "execution_count": 19,
     "metadata": {},
     "output_type": "execute_result"
    }
   ],
   "source": [
    "lang_df.sort_values(by=[\"count\"], ascending=False)"
   ]
  },
  {
   "cell_type": "code",
   "execution_count": 20,
   "id": "3acf0fdb",
   "metadata": {},
   "outputs": [
    {
     "data": {
      "text/plain": [
       "<AxesSubplot:title={'center':'Lenguajes Utilizados'}>"
      ]
     },
     "execution_count": 20,
     "metadata": {},
     "output_type": "execute_result"
    },
    {
     "data": {
      "image/png": "[encoded data removed]",
      "text/plain": [
       "<Figure size 864x504 with 1 Axes>"
      ]
     },
     "metadata": {
      "needs_background": "light"
     },
     "output_type": "display_data"
    }
   ],
   "source": [
    "lang_df.sort_values(by=[\"count\"], ascending=False).plot(\n",
    "    kind=\"barh\", title=\"Lenguajes Utilizados\", xlabel=\"\"\n",
    ")"
   ]
  },
  {
   "cell_type": "markdown",
   "id": "9d7d8054",
   "metadata": {},
   "source": [
    "### Librerías o web frameworks"
   ]
  },
  {
   "cell_type": "code",
   "execution_count": 21,
   "id": "d6d31233",
   "metadata": {},
   "outputs": [
    {
     "data": {
      "text/plain": [
       "JQuery                                                                                12\n",
       "Spring                                                                                 8\n",
       "JQuery;Laravel                                                                         6\n",
       "ASP.NET;ASP.NET Core                                                                   6\n",
       "JQuery;Vue.js;Laravel                                                                  5\n",
       "                                                                                      ..\n",
       "React.js;Angular;Vue.js;Spring;Flask                                                   1\n",
       "React.js;JQuery;ASP.NET;Django;Symfony                                                 1\n",
       "Angular;Angular.js;Vue.js                                                              1\n",
       "React.js;Angular.js;ASP.NET;ASP.NET Core;Spring;Flask;CakePHP;Ruby on Rails;Gatsby     1\n",
       "React.js;Angular.js;Spring;Django;Laravel;Ruby on Rails                                1\n",
       "Name: Librerías o web frameworks, Length: 201, dtype: int64"
      ]
     },
     "execution_count": 21,
     "metadata": {},
     "output_type": "execute_result"
    }
   ],
   "source": [
    "df[\"Librerías o web frameworks\"].value_counts()"
   ]
  },
  {
   "cell_type": "code",
   "execution_count": 22,
   "id": "391694bb",
   "metadata": {},
   "outputs": [],
   "source": [
    "frameworks = {}\n",
    "\n",
    "\n",
    "def set_frameworks(fm):\n",
    "    if isinstance(fm, str):\n",
    "        for i in fm.split(\";\"):\n",
    "            frameworks[i] = 0\n",
    "\n",
    "\n",
    "def count_frameworks(fm):\n",
    "    if isinstance(fm, str):\n",
    "        for i in fm.split(\";\"):\n",
    "            frameworks[i] += 1"
   ]
  },
  {
   "cell_type": "code",
   "execution_count": 23,
   "id": "ed5385e8",
   "metadata": {},
   "outputs": [
    {
     "data": {
      "text/plain": [
       "0      None\n",
       "1      None\n",
       "2      None\n",
       "3      None\n",
       "4      None\n",
       "       ... \n",
       "337    None\n",
       "338    None\n",
       "339    None\n",
       "340    None\n",
       "341    None\n",
       "Name: Librerías o web frameworks, Length: 342, dtype: object"
      ]
     },
     "execution_count": 23,
     "metadata": {},
     "output_type": "execute_result"
    }
   ],
   "source": [
    "df[\"Librerías o web frameworks\"].map(set_frameworks)\n",
    "df[\"Librerías o web frameworks\"].map(count_frameworks)"
   ]
  },
  {
   "cell_type": "code",
   "execution_count": 24,
   "id": "2207c881",
   "metadata": {},
   "outputs": [],
   "source": [
    "frameworks_df = pd.DataFrame(\n",
    "    data=[i for i in frameworks.items()], columns=[\"framework\", \"count\"]\n",
    ").set_index(\"framework\")"
   ]
  },
  {
   "cell_type": "code",
   "execution_count": 25,
   "id": "34adc2c9",
   "metadata": {},
   "outputs": [
    {
     "data": {
      "text/html": [
       "<div>\n",
       "<style scoped>\n",
       "    .dataframe tbody tr th:only-of-type {\n",
       "        vertical-align: middle;\n",
       "    }\n",
       "\n",
       "    .dataframe tbody tr th {\n",
       "        vertical-align: top;\n",
       "    }\n",
       "\n",
       "    .dataframe thead th {\n",
       "        text-align: right;\n",
       "    }\n",
       "</style>\n",
       "<table border=\"1\" class=\"dataframe\">\n",
       "  <thead>\n",
       "    <tr style=\"text-align: right;\">\n",
       "      <th></th>\n",
       "      <th>count</th>\n",
       "    </tr>\n",
       "    <tr>\n",
       "      <th>framework</th>\n",
       "      <th></th>\n",
       "    </tr>\n",
       "  </thead>\n",
       "  <tbody>\n",
       "    <tr>\n",
       "      <th>ASP.NET</th>\n",
       "      <td>46</td>\n",
       "    </tr>\n",
       "    <tr>\n",
       "      <th>ASP.NET Core</th>\n",
       "      <td>33</td>\n",
       "    </tr>\n",
       "    <tr>\n",
       "      <th>React.js</th>\n",
       "      <td>128</td>\n",
       "    </tr>\n",
       "    <tr>\n",
       "      <th>Angular</th>\n",
       "      <td>84</td>\n",
       "    </tr>\n",
       "    <tr>\n",
       "      <th>JQuery</th>\n",
       "      <td>175</td>\n",
       "    </tr>\n",
       "  </tbody>\n",
       "</table>\n",
       "</div>"
      ],
      "text/plain": [
       "              count\n",
       "framework          \n",
       "ASP.NET          46\n",
       "ASP.NET Core     33\n",
       "React.js        128\n",
       "Angular          84\n",
       "JQuery          175"
      ]
     },
     "execution_count": 25,
     "metadata": {},
     "output_type": "execute_result"
    }
   ],
   "source": [
    "frameworks_df.head()"
   ]
  },
  {
   "cell_type": "code",
   "execution_count": 26,
   "id": "8b20f1fd",
   "metadata": {},
   "outputs": [
    {
     "data": {
      "text/html": [
       "<div>\n",
       "<style scoped>\n",
       "    .dataframe tbody tr th:only-of-type {\n",
       "        vertical-align: middle;\n",
       "    }\n",
       "\n",
       "    .dataframe tbody tr th {\n",
       "        vertical-align: top;\n",
       "    }\n",
       "\n",
       "    .dataframe thead th {\n",
       "        text-align: right;\n",
       "    }\n",
       "</style>\n",
       "<table border=\"1\" class=\"dataframe\">\n",
       "  <thead>\n",
       "    <tr style=\"text-align: right;\">\n",
       "      <th></th>\n",
       "      <th>count</th>\n",
       "    </tr>\n",
       "    <tr>\n",
       "      <th>framework</th>\n",
       "      <th></th>\n",
       "    </tr>\n",
       "  </thead>\n",
       "  <tbody>\n",
       "    <tr>\n",
       "      <th>JQuery</th>\n",
       "      <td>175</td>\n",
       "    </tr>\n",
       "    <tr>\n",
       "      <th>React.js</th>\n",
       "      <td>128</td>\n",
       "    </tr>\n",
       "    <tr>\n",
       "      <th>Django</th>\n",
       "      <td>103</td>\n",
       "    </tr>\n",
       "    <tr>\n",
       "      <th>Spring</th>\n",
       "      <td>99</td>\n",
       "    </tr>\n",
       "    <tr>\n",
       "      <th>Laravel</th>\n",
       "      <td>87</td>\n",
       "    </tr>\n",
       "    <tr>\n",
       "      <th>Angular</th>\n",
       "      <td>84</td>\n",
       "    </tr>\n",
       "    <tr>\n",
       "      <th>Angular.js</th>\n",
       "      <td>74</td>\n",
       "    </tr>\n",
       "    <tr>\n",
       "      <th>Vue.js</th>\n",
       "      <td>62</td>\n",
       "    </tr>\n",
       "    <tr>\n",
       "      <th>Express</th>\n",
       "      <td>58</td>\n",
       "    </tr>\n",
       "    <tr>\n",
       "      <th>Flask</th>\n",
       "      <td>48</td>\n",
       "    </tr>\n",
       "    <tr>\n",
       "      <th>ASP.NET</th>\n",
       "      <td>46</td>\n",
       "    </tr>\n",
       "    <tr>\n",
       "      <th>ASP.NET Core</th>\n",
       "      <td>33</td>\n",
       "    </tr>\n",
       "    <tr>\n",
       "      <th>Ruby on Rails</th>\n",
       "      <td>27</td>\n",
       "    </tr>\n",
       "    <tr>\n",
       "      <th>CodeIgniter</th>\n",
       "      <td>24</td>\n",
       "    </tr>\n",
       "    <tr>\n",
       "      <th>Symfony</th>\n",
       "      <td>14</td>\n",
       "    </tr>\n",
       "    <tr>\n",
       "      <th>CakePHP</th>\n",
       "      <td>14</td>\n",
       "    </tr>\n",
       "    <tr>\n",
       "      <th>Gatsby</th>\n",
       "      <td>9</td>\n",
       "    </tr>\n",
       "  </tbody>\n",
       "</table>\n",
       "</div>"
      ],
      "text/plain": [
       "               count\n",
       "framework           \n",
       "JQuery           175\n",
       "React.js         128\n",
       "Django           103\n",
       "Spring            99\n",
       "Laravel           87\n",
       "Angular           84\n",
       "Angular.js        74\n",
       "Vue.js            62\n",
       "Express           58\n",
       "Flask             48\n",
       "ASP.NET           46\n",
       "ASP.NET Core      33\n",
       "Ruby on Rails     27\n",
       "CodeIgniter       24\n",
       "Symfony           14\n",
       "CakePHP           14\n",
       "Gatsby             9"
      ]
     },
     "execution_count": 26,
     "metadata": {},
     "output_type": "execute_result"
    }
   ],
   "source": [
    "frameworks_df.sort_values(by=[\"count\"], ascending=False)"
   ]
  },
  {
   "cell_type": "code",
   "execution_count": 27,
   "id": "c85ead88",
   "metadata": {},
   "outputs": [
    {
     "data": {
      "text/plain": [
       "<AxesSubplot:title={'center':'Frameworks Utilizados'}>"
      ]
     },
     "execution_count": 27,
     "metadata": {},
     "output_type": "execute_result"
    },
    {
     "data": {
      "image/png": "[encoded data removed]",
      "text/plain": [
       "<Figure size 864x504 with 1 Axes>"
      ]
     },
     "metadata": {
      "needs_background": "light"
     },
     "output_type": "display_data"
    }
   ],
   "source": [
    "frameworks_df.sort_values(by=[\"count\"]).plot(\n",
    "    kind=\"barh\", title=\"Frameworks Utilizados\", xlabel=\"\"\n",
    ")"
   ]
  },
  {
   "cell_type": "markdown",
   "id": "defc939c",
   "metadata": {},
   "source": [
    "\n",
    "### Otras frameworks, librerías y herramientas\n"
   ]
  },
  {
   "cell_type": "code",
   "execution_count": 28,
   "id": "0723adc9",
   "metadata": {},
   "outputs": [
    {
     "data": {
      "text/plain": [
       "Node.js                                                54\n",
       ".NET                                                   15\n",
       ".NET;NET Core                                          14\n",
       "Node.js;React Native                                   13\n",
       "Node.js;Flutter                                        12\n",
       "                                                       ..\n",
       ".NET;NET Core;Xamarin                                   1\n",
       "Node.js;.NET;Pandas;TensorFlow;Torch/PyTorch;Hadoop     1\n",
       "Node.js;TensorFlow;Cordova                              1\n",
       ".NET;NET Core;Pandas;Cordova                            1\n",
       "Node.js;.NET;NET Core;TensorFlow;Keras                  1\n",
       "Name: Otras frameworks, librerías y herramientas, Length: 90, dtype: int64"
      ]
     },
     "execution_count": 28,
     "metadata": {},
     "output_type": "execute_result"
    }
   ],
   "source": [
    "df[\"Otras frameworks, librerías y herramientas\"].value_counts()"
   ]
  },
  {
   "cell_type": "code",
   "execution_count": 29,
   "id": "595d13bc",
   "metadata": {},
   "outputs": [],
   "source": [
    "other_tools = {}\n",
    "\n",
    "\n",
    "def set_tools(tool):\n",
    "    if isinstance(tool, str):\n",
    "        for i in tool.split(\";\"):\n",
    "            other_tools[i] = 0\n",
    "\n",
    "\n",
    "def count_tools(tool):\n",
    "    if isinstance(tool, str):\n",
    "        for i in tool.split(\";\"):\n",
    "            other_tools[i] += 1"
   ]
  },
  {
   "cell_type": "code",
   "execution_count": 30,
   "id": "fbb937fe",
   "metadata": {},
   "outputs": [
    {
     "data": {
      "text/plain": [
       "0      None\n",
       "1      None\n",
       "2      None\n",
       "3      None\n",
       "4      None\n",
       "       ... \n",
       "337    None\n",
       "338    None\n",
       "339    None\n",
       "340    None\n",
       "341    None\n",
       "Name: Otras frameworks, librerías y herramientas, Length: 342, dtype: object"
      ]
     },
     "execution_count": 30,
     "metadata": {},
     "output_type": "execute_result"
    }
   ],
   "source": [
    "df[\"Otras frameworks, librerías y herramientas\"].map(set_tools)\n",
    "df[\"Otras frameworks, librerías y herramientas\"].map(count_tools)"
   ]
  },
  {
   "cell_type": "code",
   "execution_count": 31,
   "id": "03789a9f",
   "metadata": {},
   "outputs": [
    {
     "data": {
      "text/plain": [
       "{'.NET': 76,\n",
       " 'Xamarin': 14,\n",
       " 'Opció.NET Coren 3': 1,\n",
       " 'Flutter': 51,\n",
       " 'Node.js': 158,\n",
       " 'React Native': 46,\n",
       " 'Ansible': 7,\n",
       " 'Hadoop': 13,\n",
       " 'Unity 3D': 15,\n",
       " 'Unreal Engine': 5,\n",
       " 'Pandas': 40,\n",
       " 'TensorFlow': 29,\n",
       " 'Cordova': 30,\n",
       " 'Chef': 6,\n",
       " 'Puppet': 3,\n",
       " 'Keras': 17,\n",
       " 'Torch/PyTorch': 6,\n",
       " 'NET Core': 30}"
      ]
     },
     "execution_count": 31,
     "metadata": {},
     "output_type": "execute_result"
    }
   ],
   "source": [
    "other_tools"
   ]
  },
  {
   "cell_type": "code",
   "execution_count": 32,
   "id": "74475a44",
   "metadata": {},
   "outputs": [],
   "source": [
    "tools_df = pd.DataFrame(\n",
    "    data=[i for i in other_tools.items()], columns=[\"tool\", \"count\"]\n",
    ").set_index(\"tool\")"
   ]
  },
  {
   "cell_type": "code",
   "execution_count": 33,
   "id": "b0d6f718",
   "metadata": {},
   "outputs": [
    {
     "data": {
      "text/html": [
       "<div>\n",
       "<style scoped>\n",
       "    .dataframe tbody tr th:only-of-type {\n",
       "        vertical-align: middle;\n",
       "    }\n",
       "\n",
       "    .dataframe tbody tr th {\n",
       "        vertical-align: top;\n",
       "    }\n",
       "\n",
       "    .dataframe thead th {\n",
       "        text-align: right;\n",
       "    }\n",
       "</style>\n",
       "<table border=\"1\" class=\"dataframe\">\n",
       "  <thead>\n",
       "    <tr style=\"text-align: right;\">\n",
       "      <th></th>\n",
       "      <th>count</th>\n",
       "    </tr>\n",
       "    <tr>\n",
       "      <th>tool</th>\n",
       "      <th></th>\n",
       "    </tr>\n",
       "  </thead>\n",
       "  <tbody>\n",
       "    <tr>\n",
       "      <th>.NET</th>\n",
       "      <td>76</td>\n",
       "    </tr>\n",
       "    <tr>\n",
       "      <th>Xamarin</th>\n",
       "      <td>14</td>\n",
       "    </tr>\n",
       "    <tr>\n",
       "      <th>Opció.NET Coren 3</th>\n",
       "      <td>1</td>\n",
       "    </tr>\n",
       "    <tr>\n",
       "      <th>Flutter</th>\n",
       "      <td>51</td>\n",
       "    </tr>\n",
       "    <tr>\n",
       "      <th>Node.js</th>\n",
       "      <td>158</td>\n",
       "    </tr>\n",
       "  </tbody>\n",
       "</table>\n",
       "</div>"
      ],
      "text/plain": [
       "                   count\n",
       "tool                    \n",
       ".NET                  76\n",
       "Xamarin               14\n",
       "Opció.NET Coren 3      1\n",
       "Flutter               51\n",
       "Node.js              158"
      ]
     },
     "execution_count": 33,
     "metadata": {},
     "output_type": "execute_result"
    }
   ],
   "source": [
    "tools_df.head()"
   ]
  },
  {
   "cell_type": "code",
   "execution_count": 34,
   "id": "9be0cb06",
   "metadata": {},
   "outputs": [
    {
     "data": {
      "text/html": [
       "<div>\n",
       "<style scoped>\n",
       "    .dataframe tbody tr th:only-of-type {\n",
       "        vertical-align: middle;\n",
       "    }\n",
       "\n",
       "    .dataframe tbody tr th {\n",
       "        vertical-align: top;\n",
       "    }\n",
       "\n",
       "    .dataframe thead th {\n",
       "        text-align: right;\n",
       "    }\n",
       "</style>\n",
       "<table border=\"1\" class=\"dataframe\">\n",
       "  <thead>\n",
       "    <tr style=\"text-align: right;\">\n",
       "      <th></th>\n",
       "      <th>count</th>\n",
       "    </tr>\n",
       "    <tr>\n",
       "      <th>tool</th>\n",
       "      <th></th>\n",
       "    </tr>\n",
       "  </thead>\n",
       "  <tbody>\n",
       "    <tr>\n",
       "      <th>Node.js</th>\n",
       "      <td>158</td>\n",
       "    </tr>\n",
       "    <tr>\n",
       "      <th>.NET</th>\n",
       "      <td>76</td>\n",
       "    </tr>\n",
       "    <tr>\n",
       "      <th>Flutter</th>\n",
       "      <td>51</td>\n",
       "    </tr>\n",
       "    <tr>\n",
       "      <th>React Native</th>\n",
       "      <td>46</td>\n",
       "    </tr>\n",
       "    <tr>\n",
       "      <th>Pandas</th>\n",
       "      <td>40</td>\n",
       "    </tr>\n",
       "    <tr>\n",
       "      <th>Cordova</th>\n",
       "      <td>30</td>\n",
       "    </tr>\n",
       "    <tr>\n",
       "      <th>NET Core</th>\n",
       "      <td>30</td>\n",
       "    </tr>\n",
       "    <tr>\n",
       "      <th>TensorFlow</th>\n",
       "      <td>29</td>\n",
       "    </tr>\n",
       "    <tr>\n",
       "      <th>Keras</th>\n",
       "      <td>17</td>\n",
       "    </tr>\n",
       "    <tr>\n",
       "      <th>Unity 3D</th>\n",
       "      <td>15</td>\n",
       "    </tr>\n",
       "    <tr>\n",
       "      <th>Xamarin</th>\n",
       "      <td>14</td>\n",
       "    </tr>\n",
       "    <tr>\n",
       "      <th>Hadoop</th>\n",
       "      <td>13</td>\n",
       "    </tr>\n",
       "    <tr>\n",
       "      <th>Ansible</th>\n",
       "      <td>7</td>\n",
       "    </tr>\n",
       "    <tr>\n",
       "      <th>Chef</th>\n",
       "      <td>6</td>\n",
       "    </tr>\n",
       "    <tr>\n",
       "      <th>Torch/PyTorch</th>\n",
       "      <td>6</td>\n",
       "    </tr>\n",
       "    <tr>\n",
       "      <th>Unreal Engine</th>\n",
       "      <td>5</td>\n",
       "    </tr>\n",
       "    <tr>\n",
       "      <th>Puppet</th>\n",
       "      <td>3</td>\n",
       "    </tr>\n",
       "    <tr>\n",
       "      <th>Opció.NET Coren 3</th>\n",
       "      <td>1</td>\n",
       "    </tr>\n",
       "  </tbody>\n",
       "</table>\n",
       "</div>"
      ],
      "text/plain": [
       "                   count\n",
       "tool                    \n",
       "Node.js              158\n",
       ".NET                  76\n",
       "Flutter               51\n",
       "React Native          46\n",
       "Pandas                40\n",
       "Cordova               30\n",
       "NET Core              30\n",
       "TensorFlow            29\n",
       "Keras                 17\n",
       "Unity 3D              15\n",
       "Xamarin               14\n",
       "Hadoop                13\n",
       "Ansible                7\n",
       "Chef                   6\n",
       "Torch/PyTorch          6\n",
       "Unreal Engine          5\n",
       "Puppet                 3\n",
       "Opció.NET Coren 3      1"
      ]
     },
     "execution_count": 34,
     "metadata": {},
     "output_type": "execute_result"
    }
   ],
   "source": [
    "tools_df.sort_values(by=[\"count\"], ascending=False)"
   ]
  },
  {
   "cell_type": "code",
   "execution_count": 35,
   "id": "25342cc9",
   "metadata": {},
   "outputs": [
    {
     "data": {
      "text/plain": [
       "<AxesSubplot:title={'center':'Tools Most USED'}, ylabel='tool'>"
      ]
     },
     "execution_count": 35,
     "metadata": {},
     "output_type": "execute_result"
    },
    {
     "data": {
      "image/png": "[encoded data removed]",
      "text/plain": [
       "<Figure size 864x504 with 1 Axes>"
      ]
     },
     "metadata": {
      "needs_background": "light"
     },
     "output_type": "display_data"
    }
   ],
   "source": [
    "tools_df.sort_values(by=[\"count\"], ascending=False).plot(\n",
    "    kind=\"barh\", title=\"Tools Most USED\", ylabel=\"\"\n",
    ")"
   ]
  },
  {
   "cell_type": "markdown",
   "id": "adda51d4",
   "metadata": {},
   "source": [
    "### Base de datos\n"
   ]
  },
  {
   "cell_type": "code",
   "execution_count": 36,
   "id": "a7191c8d",
   "metadata": {},
   "outputs": [
    {
     "data": {
      "text/plain": [
       "PostgreSQL                                                                                    18\n",
       "MySQL;PostgreSQL;Oracle                                                                       11\n",
       "MySQL;PostgreSQL;Microsoft SQL Server                                                         10\n",
       "MySQL;MariaDB                                                                                  9\n",
       "PostgreSQL;Oracle                                                                              9\n",
       "                                                                                              ..\n",
       "MariaDB;MongoDB;Firebase;Elasticsearch                                                         1\n",
       "MySQL;MariaDB;PostgreSQL;Microsoft SQL Server;SQLite;MongoDB;Redis;Oracle;Firebase;IBM DB2     1\n",
       "MySQL;MariaDB;PostgreSQL;SQLite;MongoDB;Redis;DynamoDB;Cassandra                               1\n",
       "MySQL;MariaDB;PostgreSQL;SQLite;MongoDB;Redis;Elasticsearch                                    1\n",
       "MySQL;MariaDB;PostgreSQL;MongoDB;IBM DB2                                                       1\n",
       "Name: Base de datos, Length: 154, dtype: int64"
      ]
     },
     "execution_count": 36,
     "metadata": {},
     "output_type": "execute_result"
    }
   ],
   "source": [
    "df[\"Base de datos\"].value_counts()"
   ]
  },
  {
   "cell_type": "code",
   "execution_count": 37,
   "id": "4bb3b9ed",
   "metadata": {},
   "outputs": [],
   "source": [
    "dbs = {}\n",
    "\n",
    "\n",
    "def set_db(db):\n",
    "    if isinstance(db, str):\n",
    "        for i in db.split(\";\"):\n",
    "            dbs[i] = 0\n",
    "\n",
    "\n",
    "def count_db(db):\n",
    "    if isinstance(db, str):\n",
    "        for i in db.split(\";\"):\n",
    "            dbs[i] += 1"
   ]
  },
  {
   "cell_type": "code",
   "execution_count": 38,
   "id": "2aa1e39d",
   "metadata": {},
   "outputs": [
    {
     "data": {
      "text/plain": [
       "0      None\n",
       "1      None\n",
       "2      None\n",
       "3      None\n",
       "4      None\n",
       "       ... \n",
       "337    None\n",
       "338    None\n",
       "339    None\n",
       "340    None\n",
       "341    None\n",
       "Name: Base de datos, Length: 342, dtype: object"
      ]
     },
     "execution_count": 38,
     "metadata": {},
     "output_type": "execute_result"
    }
   ],
   "source": [
    "df[\"Base de datos\"].map(set_db)\n",
    "df[\"Base de datos\"].map(count_db)"
   ]
  },
  {
   "cell_type": "code",
   "execution_count": 39,
   "id": "223fee0d",
   "metadata": {},
   "outputs": [],
   "source": [
    "dbs_df = pd.DataFrame(data=[i for i in dbs.items()], columns=[\"db\", \"count\"]).set_index(\n",
    "    \"db\"\n",
    ")"
   ]
  },
  {
   "cell_type": "code",
   "execution_count": 40,
   "id": "3e2b5504",
   "metadata": {},
   "outputs": [
    {
     "data": {
      "text/html": [
       "<div>\n",
       "<style scoped>\n",
       "    .dataframe tbody tr th:only-of-type {\n",
       "        vertical-align: middle;\n",
       "    }\n",
       "\n",
       "    .dataframe tbody tr th {\n",
       "        vertical-align: top;\n",
       "    }\n",
       "\n",
       "    .dataframe thead th {\n",
       "        text-align: right;\n",
       "    }\n",
       "</style>\n",
       "<table border=\"1\" class=\"dataframe\">\n",
       "  <thead>\n",
       "    <tr style=\"text-align: right;\">\n",
       "      <th></th>\n",
       "      <th>count</th>\n",
       "    </tr>\n",
       "    <tr>\n",
       "      <th>db</th>\n",
       "      <th></th>\n",
       "    </tr>\n",
       "  </thead>\n",
       "  <tbody>\n",
       "    <tr>\n",
       "      <th>MySQL</th>\n",
       "      <td>250</td>\n",
       "    </tr>\n",
       "    <tr>\n",
       "      <th>PostgreSQL</th>\n",
       "      <td>269</td>\n",
       "    </tr>\n",
       "    <tr>\n",
       "      <th>IBM DB2</th>\n",
       "      <td>27</td>\n",
       "    </tr>\n",
       "    <tr>\n",
       "      <th>Microsoft SQL Server</th>\n",
       "      <td>155</td>\n",
       "    </tr>\n",
       "    <tr>\n",
       "      <th>MariaDB</th>\n",
       "      <td>126</td>\n",
       "    </tr>\n",
       "  </tbody>\n",
       "</table>\n",
       "</div>"
      ],
      "text/plain": [
       "                      count\n",
       "db                         \n",
       "MySQL                   250\n",
       "PostgreSQL              269\n",
       "IBM DB2                  27\n",
       "Microsoft SQL Server    155\n",
       "MariaDB                 126"
      ]
     },
     "execution_count": 40,
     "metadata": {},
     "output_type": "execute_result"
    }
   ],
   "source": [
    "dbs_df.head()"
   ]
  },
  {
   "cell_type": "code",
   "execution_count": 41,
   "id": "9ff71eff",
   "metadata": {},
   "outputs": [
    {
     "data": {
      "text/html": [
       "<div>\n",
       "<style scoped>\n",
       "    .dataframe tbody tr th:only-of-type {\n",
       "        vertical-align: middle;\n",
       "    }\n",
       "\n",
       "    .dataframe tbody tr th {\n",
       "        vertical-align: top;\n",
       "    }\n",
       "\n",
       "    .dataframe thead th {\n",
       "        text-align: right;\n",
       "    }\n",
       "</style>\n",
       "<table border=\"1\" class=\"dataframe\">\n",
       "  <thead>\n",
       "    <tr style=\"text-align: right;\">\n",
       "      <th></th>\n",
       "      <th>count</th>\n",
       "    </tr>\n",
       "    <tr>\n",
       "      <th>db</th>\n",
       "      <th></th>\n",
       "    </tr>\n",
       "  </thead>\n",
       "  <tbody>\n",
       "    <tr>\n",
       "      <th>PostgreSQL</th>\n",
       "      <td>269</td>\n",
       "    </tr>\n",
       "    <tr>\n",
       "      <th>MySQL</th>\n",
       "      <td>250</td>\n",
       "    </tr>\n",
       "    <tr>\n",
       "      <th>Microsoft SQL Server</th>\n",
       "      <td>155</td>\n",
       "    </tr>\n",
       "    <tr>\n",
       "      <th>Oracle</th>\n",
       "      <td>150</td>\n",
       "    </tr>\n",
       "    <tr>\n",
       "      <th>MariaDB</th>\n",
       "      <td>126</td>\n",
       "    </tr>\n",
       "    <tr>\n",
       "      <th>SQLite</th>\n",
       "      <td>103</td>\n",
       "    </tr>\n",
       "    <tr>\n",
       "      <th>MongoDB</th>\n",
       "      <td>101</td>\n",
       "    </tr>\n",
       "    <tr>\n",
       "      <th>Firebase</th>\n",
       "      <td>52</td>\n",
       "    </tr>\n",
       "    <tr>\n",
       "      <th>Redis</th>\n",
       "      <td>45</td>\n",
       "    </tr>\n",
       "    <tr>\n",
       "      <th>Elasticsearch</th>\n",
       "      <td>28</td>\n",
       "    </tr>\n",
       "    <tr>\n",
       "      <th>IBM DB2</th>\n",
       "      <td>27</td>\n",
       "    </tr>\n",
       "    <tr>\n",
       "      <th>Cassandra</th>\n",
       "      <td>10</td>\n",
       "    </tr>\n",
       "    <tr>\n",
       "      <th>DynamoDB</th>\n",
       "      <td>6</td>\n",
       "    </tr>\n",
       "    <tr>\n",
       "      <th>Couchbase</th>\n",
       "      <td>4</td>\n",
       "    </tr>\n",
       "  </tbody>\n",
       "</table>\n",
       "</div>"
      ],
      "text/plain": [
       "                      count\n",
       "db                         \n",
       "PostgreSQL              269\n",
       "MySQL                   250\n",
       "Microsoft SQL Server    155\n",
       "Oracle                  150\n",
       "MariaDB                 126\n",
       "SQLite                  103\n",
       "MongoDB                 101\n",
       "Firebase                 52\n",
       "Redis                    45\n",
       "Elasticsearch            28\n",
       "IBM DB2                  27\n",
       "Cassandra                10\n",
       "DynamoDB                  6\n",
       "Couchbase                 4"
      ]
     },
     "execution_count": 41,
     "metadata": {},
     "output_type": "execute_result"
    }
   ],
   "source": [
    "dbs_df.sort_values(by=[\"count\"], ascending=False)"
   ]
  },
  {
   "cell_type": "code",
   "execution_count": 42,
   "id": "9c194972",
   "metadata": {},
   "outputs": [
    {
     "data": {
      "text/plain": [
       "<AxesSubplot:title={'center':'BASES DE DATOS USADAS'}>"
      ]
     },
     "execution_count": 42,
     "metadata": {},
     "output_type": "execute_result"
    },
    {
     "data": {
      "image/png": "[encoded data removed]",
      "text/plain": [
       "<Figure size 864x504 with 1 Axes>"
      ]
     },
     "metadata": {
      "needs_background": "light"
     },
     "output_type": "display_data"
    }
   ],
   "source": [
    "dbs_df.plot(kind=\"barh\", title=\"BASES DE DATOS USADAS\", ylabel=\"\", xlabel=\"\")"
   ]
  },
  {
   "cell_type": "markdown",
   "id": "d38e80df",
   "metadata": {},
   "source": [
    "### Plataformas"
   ]
  },
  {
   "cell_type": "code",
   "execution_count": 43,
   "id": "ef26fe76",
   "metadata": {},
   "outputs": [
    {
     "data": {
      "text/plain": [
       "GNU/Linux;Microsoft Windows                                                                                                                        55\n",
       "Microsoft Windows                                                                                                                                  40\n",
       "GNU/Linux;Microsoft Windows;Android                                                                                                                12\n",
       "GNU/Linux                                                                                                                                          12\n",
       "GNU/Linux;Microsoft Windows;Docker                                                                                                                 12\n",
       "                                                                                                                                                   ..\n",
       "Microsoft Windows;Android;Heroku                                                                                                                    1\n",
       "GNU/Linux;Microsoft Windows;MacOS;Docker;AWS;Android;Raspberry Pi;Microsoft Azure;WordPress;Google Cloud Platform;iOS;Kubernetes;Heroku;Arduino     1\n",
       "GNU/Linux;Microsoft Windows;MacOS;Android;iOS;Arduino                                                                                               1\n",
       "GNU/Linux;Microsoft Windows;MacOS;Docker;AWS;Android;iOS;Kubernetes;Heroku;Arduino                                                                  1\n",
       "Microsoft Windows;Google Cloud Platform                                                                                                             1\n",
       "Name: Plataformas, Length: 161, dtype: int64"
      ]
     },
     "execution_count": 43,
     "metadata": {},
     "output_type": "execute_result"
    }
   ],
   "source": [
    "df[\"Plataformas\"].value_counts()"
   ]
  },
  {
   "cell_type": "code",
   "execution_count": 44,
   "id": "c106350e",
   "metadata": {},
   "outputs": [],
   "source": [
    "platf = {}\n",
    "\n",
    "\n",
    "def set_platf(plat):\n",
    "    if isinstance(plat, str):\n",
    "        for i in plat.split(\";\"):\n",
    "            platf[i] = 0\n",
    "\n",
    "\n",
    "def count_platf(plat):\n",
    "    if isinstance(plat, str):\n",
    "        for i in plat.split(\";\"):\n",
    "            platf[i] += 1"
   ]
  },
  {
   "cell_type": "code",
   "execution_count": 45,
   "id": "e13cc07e",
   "metadata": {},
   "outputs": [
    {
     "data": {
      "text/plain": [
       "0      None\n",
       "1      None\n",
       "2      None\n",
       "3      None\n",
       "4      None\n",
       "       ... \n",
       "337    None\n",
       "338    None\n",
       "339    None\n",
       "340    None\n",
       "341    None\n",
       "Name: Plataformas, Length: 342, dtype: object"
      ]
     },
     "execution_count": 45,
     "metadata": {},
     "output_type": "execute_result"
    }
   ],
   "source": [
    "df[\"Plataformas\"].map(set_platf)\n",
    "df[\"Plataformas\"].map(count_platf)"
   ]
  },
  {
   "cell_type": "code",
   "execution_count": 46,
   "id": "6549508c",
   "metadata": {},
   "outputs": [
    {
     "data": {
      "text/plain": [
       "{'GNU/Linux': 259,\n",
       " 'Microsoft Windows': 280,\n",
       " 'MacOS': 111,\n",
       " 'Microsoft Azure': 26,\n",
       " 'WordPress': 56,\n",
       " 'Android': 88,\n",
       " 'iOS': 44,\n",
       " 'AWS': 74,\n",
       " 'Docker': 111,\n",
       " 'Raspberry Pi': 32,\n",
       " 'Heroku': 36,\n",
       " 'Arduino': 29,\n",
       " 'Kubernetes': 32,\n",
       " 'Google Cloud Platform': 33}"
      ]
     },
     "execution_count": 46,
     "metadata": {},
     "output_type": "execute_result"
    }
   ],
   "source": [
    "platf"
   ]
  },
  {
   "cell_type": "code",
   "execution_count": 47,
   "id": "ea5ceb53",
   "metadata": {},
   "outputs": [],
   "source": [
    "platf_df = pd.DataFrame(\n",
    "    data=[i for i in platf.items()], columns=[\"platf\", \"count\"]\n",
    ").set_index(\"platf\")"
   ]
  },
  {
   "cell_type": "code",
   "execution_count": 48,
   "id": "490e0ca1",
   "metadata": {},
   "outputs": [
    {
     "data": {
      "text/html": [
       "<div>\n",
       "<style scoped>\n",
       "    .dataframe tbody tr th:only-of-type {\n",
       "        vertical-align: middle;\n",
       "    }\n",
       "\n",
       "    .dataframe tbody tr th {\n",
       "        vertical-align: top;\n",
       "    }\n",
       "\n",
       "    .dataframe thead th {\n",
       "        text-align: right;\n",
       "    }\n",
       "</style>\n",
       "<table border=\"1\" class=\"dataframe\">\n",
       "  <thead>\n",
       "    <tr style=\"text-align: right;\">\n",
       "      <th></th>\n",
       "      <th>count</th>\n",
       "    </tr>\n",
       "    <tr>\n",
       "      <th>platf</th>\n",
       "      <th></th>\n",
       "    </tr>\n",
       "  </thead>\n",
       "  <tbody>\n",
       "    <tr>\n",
       "      <th>GNU/Linux</th>\n",
       "      <td>259</td>\n",
       "    </tr>\n",
       "    <tr>\n",
       "      <th>Microsoft Windows</th>\n",
       "      <td>280</td>\n",
       "    </tr>\n",
       "    <tr>\n",
       "      <th>MacOS</th>\n",
       "      <td>111</td>\n",
       "    </tr>\n",
       "    <tr>\n",
       "      <th>Microsoft Azure</th>\n",
       "      <td>26</td>\n",
       "    </tr>\n",
       "    <tr>\n",
       "      <th>WordPress</th>\n",
       "      <td>56</td>\n",
       "    </tr>\n",
       "  </tbody>\n",
       "</table>\n",
       "</div>"
      ],
      "text/plain": [
       "                   count\n",
       "platf                   \n",
       "GNU/Linux            259\n",
       "Microsoft Windows    280\n",
       "MacOS                111\n",
       "Microsoft Azure       26\n",
       "WordPress             56"
      ]
     },
     "execution_count": 48,
     "metadata": {},
     "output_type": "execute_result"
    }
   ],
   "source": [
    "platf_df.head()"
   ]
  },
  {
   "cell_type": "code",
   "execution_count": 49,
   "id": "832f9320",
   "metadata": {},
   "outputs": [
    {
     "data": {
      "text/html": [
       "<div>\n",
       "<style scoped>\n",
       "    .dataframe tbody tr th:only-of-type {\n",
       "        vertical-align: middle;\n",
       "    }\n",
       "\n",
       "    .dataframe tbody tr th {\n",
       "        vertical-align: top;\n",
       "    }\n",
       "\n",
       "    .dataframe thead th {\n",
       "        text-align: right;\n",
       "    }\n",
       "</style>\n",
       "<table border=\"1\" class=\"dataframe\">\n",
       "  <thead>\n",
       "    <tr style=\"text-align: right;\">\n",
       "      <th></th>\n",
       "      <th>count</th>\n",
       "    </tr>\n",
       "    <tr>\n",
       "      <th>platf</th>\n",
       "      <th></th>\n",
       "    </tr>\n",
       "  </thead>\n",
       "  <tbody>\n",
       "    <tr>\n",
       "      <th>Microsoft Windows</th>\n",
       "      <td>280</td>\n",
       "    </tr>\n",
       "    <tr>\n",
       "      <th>GNU/Linux</th>\n",
       "      <td>259</td>\n",
       "    </tr>\n",
       "    <tr>\n",
       "      <th>MacOS</th>\n",
       "      <td>111</td>\n",
       "    </tr>\n",
       "    <tr>\n",
       "      <th>Docker</th>\n",
       "      <td>111</td>\n",
       "    </tr>\n",
       "    <tr>\n",
       "      <th>Android</th>\n",
       "      <td>88</td>\n",
       "    </tr>\n",
       "    <tr>\n",
       "      <th>AWS</th>\n",
       "      <td>74</td>\n",
       "    </tr>\n",
       "    <tr>\n",
       "      <th>WordPress</th>\n",
       "      <td>56</td>\n",
       "    </tr>\n",
       "    <tr>\n",
       "      <th>iOS</th>\n",
       "      <td>44</td>\n",
       "    </tr>\n",
       "    <tr>\n",
       "      <th>Heroku</th>\n",
       "      <td>36</td>\n",
       "    </tr>\n",
       "    <tr>\n",
       "      <th>Google Cloud Platform</th>\n",
       "      <td>33</td>\n",
       "    </tr>\n",
       "    <tr>\n",
       "      <th>Raspberry Pi</th>\n",
       "      <td>32</td>\n",
       "    </tr>\n",
       "    <tr>\n",
       "      <th>Kubernetes</th>\n",
       "      <td>32</td>\n",
       "    </tr>\n",
       "    <tr>\n",
       "      <th>Arduino</th>\n",
       "      <td>29</td>\n",
       "    </tr>\n",
       "    <tr>\n",
       "      <th>Microsoft Azure</th>\n",
       "      <td>26</td>\n",
       "    </tr>\n",
       "  </tbody>\n",
       "</table>\n",
       "</div>"
      ],
      "text/plain": [
       "                       count\n",
       "platf                       \n",
       "Microsoft Windows        280\n",
       "GNU/Linux                259\n",
       "MacOS                    111\n",
       "Docker                   111\n",
       "Android                   88\n",
       "AWS                       74\n",
       "WordPress                 56\n",
       "iOS                       44\n",
       "Heroku                    36\n",
       "Google Cloud Platform     33\n",
       "Raspberry Pi              32\n",
       "Kubernetes                32\n",
       "Arduino                   29\n",
       "Microsoft Azure           26"
      ]
     },
     "execution_count": 49,
     "metadata": {},
     "output_type": "execute_result"
    }
   ],
   "source": [
    "platf_df.sort_values(by=[\"count\"], ascending=False)"
   ]
  },
  {
   "cell_type": "code",
   "execution_count": 50,
   "id": "61868202",
   "metadata": {},
   "outputs": [
    {
     "data": {
      "text/plain": [
       "<AxesSubplot:title={'center':'Plataformas mas utilizadas'}>"
      ]
     },
     "execution_count": 50,
     "metadata": {},
     "output_type": "execute_result"
    },
    {
     "data": {
      "image/png": "[encoded data removed]",
      "text/plain": [
       "<Figure size 864x504 with 1 Axes>"
      ]
     },
     "metadata": {
      "needs_background": "light"
     },
     "output_type": "display_data"
    }
   ],
   "source": [
    "platf_df.plot(kind=\"barh\", title=\"Plataformas mas utilizadas\", xlabel=\"\")"
   ]
  },
  {
   "cell_type": "markdown",
   "id": "54046772",
   "metadata": {},
   "source": [
    "### Herramientas"
   ]
  },
  {
   "cell_type": "code",
   "execution_count": 51,
   "id": "eb8aa315",
   "metadata": {},
   "outputs": [
    {
     "data": {
      "text/plain": [
       "GitHub;GitLab                                                                                      9\n",
       "GitHub;Slack;GitLab;Google Suite (Docs, Meet, etc);Trello                                          9\n",
       "GitHub;Slack;GitLab;Jira;Google Suite (Docs, Meet, etc);Confluence                                 8\n",
       "GitHub;Slack;GitLab;Jira;Google Suite (Docs, Meet, etc);Confluence;Microsoft Team;Trello           8\n",
       "GitHub;Slack;GitLab;Google Suite (Docs, Meet, etc);Trello;Discord                                  7\n",
       "                                                                                                  ..\n",
       "GitHub;Facebook Workplace                                                                          1\n",
       "GitHub;GitLab;Jira;Google Suite (Docs, Meet, etc);Microsoft Team;Microsoft Azure;Trello;Discord    1\n",
       "GitHub;Slack;Google Suite (Docs, Meet, etc);Trello;Discord                                         1\n",
       "GitHub;GitLab;Jira;Microsoft Team;Discord                                                          1\n",
       "GitHub;GitLab;Jira;Google Suite (Docs, Meet, etc);Trello;Discord                                   1\n",
       "Name: Herramientas, Length: 164, dtype: int64"
      ]
     },
     "execution_count": 51,
     "metadata": {},
     "output_type": "execute_result"
    }
   ],
   "source": [
    "df[\"Herramientas\"].value_counts()"
   ]
  },
  {
   "cell_type": "code",
   "execution_count": 52,
   "id": "db545b58",
   "metadata": {},
   "outputs": [],
   "source": [
    "herramientas = {}\n",
    "\n",
    "\n",
    "def set_herramientas(tool):\n",
    "    if isinstance(tool, str):\n",
    "        for i in tool.split(\";\"):\n",
    "            herramientas[i] = 0\n",
    "\n",
    "\n",
    "def count_herramientas(tool):\n",
    "    if isinstance(tool, str):\n",
    "        for i in tool.split(\";\"):\n",
    "            herramientas[i] += 1"
   ]
  },
  {
   "cell_type": "code",
   "execution_count": 53,
   "id": "a9618a63",
   "metadata": {},
   "outputs": [
    {
     "data": {
      "text/plain": [
       "0      None\n",
       "1      None\n",
       "2      None\n",
       "3      None\n",
       "4      None\n",
       "       ... \n",
       "337    None\n",
       "338    None\n",
       "339    None\n",
       "340    None\n",
       "341    None\n",
       "Name: Herramientas, Length: 342, dtype: object"
      ]
     },
     "execution_count": 53,
     "metadata": {},
     "output_type": "execute_result"
    }
   ],
   "source": [
    "df[\"Herramientas\"].map(set_herramientas)\n",
    "df[\"Herramientas\"].map(count_herramientas)"
   ]
  },
  {
   "cell_type": "code",
   "execution_count": 54,
   "id": "4d7c31c1",
   "metadata": {},
   "outputs": [
    {
     "data": {
      "text/plain": [
       "{'GitHub': 283,\n",
       " 'Slack': 186,\n",
       " 'Jira': 155,\n",
       " 'Microsoft Team': 141,\n",
       " 'Discord': 98,\n",
       " 'Microsoft Azure': 36,\n",
       " 'GitLab': 206,\n",
       " 'Google Suite (Docs, Meet, etc)': 212,\n",
       " 'Trello': 157,\n",
       " 'Confluence': 80,\n",
       " 'Facebook Workplace': 7}"
      ]
     },
     "execution_count": 54,
     "metadata": {},
     "output_type": "execute_result"
    }
   ],
   "source": [
    "herramientas"
   ]
  },
  {
   "cell_type": "code",
   "execution_count": 55,
   "id": "79a7ea50",
   "metadata": {},
   "outputs": [],
   "source": [
    "tools_df = pd.DataFrame(\n",
    "    data=[i for i in herramientas.items()], columns=[\"tool\", \"count\"]\n",
    ").set_index(\"tool\")"
   ]
  },
  {
   "cell_type": "code",
   "execution_count": 56,
   "id": "496a9c6c",
   "metadata": {},
   "outputs": [
    {
     "data": {
      "text/html": [
       "<div>\n",
       "<style scoped>\n",
       "    .dataframe tbody tr th:only-of-type {\n",
       "        vertical-align: middle;\n",
       "    }\n",
       "\n",
       "    .dataframe tbody tr th {\n",
       "        vertical-align: top;\n",
       "    }\n",
       "\n",
       "    .dataframe thead th {\n",
       "        text-align: right;\n",
       "    }\n",
       "</style>\n",
       "<table border=\"1\" class=\"dataframe\">\n",
       "  <thead>\n",
       "    <tr style=\"text-align: right;\">\n",
       "      <th></th>\n",
       "      <th>count</th>\n",
       "    </tr>\n",
       "    <tr>\n",
       "      <th>tool</th>\n",
       "      <th></th>\n",
       "    </tr>\n",
       "  </thead>\n",
       "  <tbody>\n",
       "    <tr>\n",
       "      <th>GitHub</th>\n",
       "      <td>283</td>\n",
       "    </tr>\n",
       "    <tr>\n",
       "      <th>Slack</th>\n",
       "      <td>186</td>\n",
       "    </tr>\n",
       "    <tr>\n",
       "      <th>Jira</th>\n",
       "      <td>155</td>\n",
       "    </tr>\n",
       "    <tr>\n",
       "      <th>Microsoft Team</th>\n",
       "      <td>141</td>\n",
       "    </tr>\n",
       "    <tr>\n",
       "      <th>Discord</th>\n",
       "      <td>98</td>\n",
       "    </tr>\n",
       "  </tbody>\n",
       "</table>\n",
       "</div>"
      ],
      "text/plain": [
       "                count\n",
       "tool                 \n",
       "GitHub            283\n",
       "Slack             186\n",
       "Jira              155\n",
       "Microsoft Team    141\n",
       "Discord            98"
      ]
     },
     "execution_count": 56,
     "metadata": {},
     "output_type": "execute_result"
    }
   ],
   "source": [
    "tools_df.head()"
   ]
  },
  {
   "cell_type": "code",
   "execution_count": 57,
   "id": "44951284",
   "metadata": {},
   "outputs": [
    {
     "data": {
      "text/html": [
       "<div>\n",
       "<style scoped>\n",
       "    .dataframe tbody tr th:only-of-type {\n",
       "        vertical-align: middle;\n",
       "    }\n",
       "\n",
       "    .dataframe tbody tr th {\n",
       "        vertical-align: top;\n",
       "    }\n",
       "\n",
       "    .dataframe thead th {\n",
       "        text-align: right;\n",
       "    }\n",
       "</style>\n",
       "<table border=\"1\" class=\"dataframe\">\n",
       "  <thead>\n",
       "    <tr style=\"text-align: right;\">\n",
       "      <th></th>\n",
       "      <th>count</th>\n",
       "    </tr>\n",
       "    <tr>\n",
       "      <th>tool</th>\n",
       "      <th></th>\n",
       "    </tr>\n",
       "  </thead>\n",
       "  <tbody>\n",
       "    <tr>\n",
       "      <th>GitHub</th>\n",
       "      <td>283</td>\n",
       "    </tr>\n",
       "    <tr>\n",
       "      <th>Slack</th>\n",
       "      <td>186</td>\n",
       "    </tr>\n",
       "    <tr>\n",
       "      <th>Jira</th>\n",
       "      <td>155</td>\n",
       "    </tr>\n",
       "    <tr>\n",
       "      <th>Microsoft Team</th>\n",
       "      <td>141</td>\n",
       "    </tr>\n",
       "    <tr>\n",
       "      <th>Discord</th>\n",
       "      <td>98</td>\n",
       "    </tr>\n",
       "    <tr>\n",
       "      <th>Microsoft Azure</th>\n",
       "      <td>36</td>\n",
       "    </tr>\n",
       "    <tr>\n",
       "      <th>GitLab</th>\n",
       "      <td>206</td>\n",
       "    </tr>\n",
       "    <tr>\n",
       "      <th>Google Suite (Docs, Meet, etc)</th>\n",
       "      <td>212</td>\n",
       "    </tr>\n",
       "    <tr>\n",
       "      <th>Trello</th>\n",
       "      <td>157</td>\n",
       "    </tr>\n",
       "    <tr>\n",
       "      <th>Confluence</th>\n",
       "      <td>80</td>\n",
       "    </tr>\n",
       "    <tr>\n",
       "      <th>Facebook Workplace</th>\n",
       "      <td>7</td>\n",
       "    </tr>\n",
       "  </tbody>\n",
       "</table>\n",
       "</div>"
      ],
      "text/plain": [
       "                                count\n",
       "tool                                 \n",
       "GitHub                            283\n",
       "Slack                             186\n",
       "Jira                              155\n",
       "Microsoft Team                    141\n",
       "Discord                            98\n",
       "Microsoft Azure                    36\n",
       "GitLab                            206\n",
       "Google Suite (Docs, Meet, etc)    212\n",
       "Trello                            157\n",
       "Confluence                         80\n",
       "Facebook Workplace                  7"
      ]
     },
     "execution_count": 57,
     "metadata": {},
     "output_type": "execute_result"
    }
   ],
   "source": [
    "tools_df"
   ]
  },
  {
   "cell_type": "code",
   "execution_count": 58,
   "id": "6c515f18",
   "metadata": {},
   "outputs": [
    {
     "data": {
      "text/plain": [
       "<AxesSubplot:title={'center':'Herramientas utilizadas'}>"
      ]
     },
     "execution_count": 58,
     "metadata": {},
     "output_type": "execute_result"
    },
    {
     "data": {
      "image/png": "[encoded data removed]",
      "text/plain": [
       "<Figure size 864x504 with 1 Axes>"
      ]
     },
     "metadata": {
      "needs_background": "light"
     },
     "output_type": "display_data"
    }
   ],
   "source": [
    "tools_df.plot(kind=\"barh\", title=\"Herramientas utilizadas\", xlabel=\"\")"
   ]
  },
  {
   "cell_type": "markdown",
   "id": "22552095",
   "metadata": {},
   "source": [
    "### 'Lenguaje favorito'"
   ]
  },
  {
   "cell_type": "code",
   "execution_count": 59,
   "id": "0a3487af",
   "metadata": {},
   "outputs": [
    {
     "data": {
      "text/plain": [
       "Java                     70\n",
       "Python                   58\n",
       "JavaScript               47\n",
       "PHP                      46\n",
       "C#                       23\n",
       "SQL                      21\n",
       "TypeScript               16\n",
       "Oracle form               6\n",
       "HTML/CSS                  6\n",
       "Genexus                   5\n",
       "Kotlin                    5\n",
       "Go                        4\n",
       "Otro                      4\n",
       "C++                       4\n",
       "Ruby                      4\n",
       "C                         4\n",
       "Dart                      4\n",
       "VBA                       2\n",
       "Swift                     2\n",
       "OpcióFox Pron 27          1\n",
       "Rust                      1\n",
       "COBOL                     1\n",
       "Bash/Shell/PowerShell     1\n",
       "Name: Lenguaje favorito, dtype: int64"
      ]
     },
     "execution_count": 59,
     "metadata": {},
     "output_type": "execute_result"
    }
   ],
   "source": [
    "df[\"Lenguaje favorito\"].value_counts()"
   ]
  },
  {
   "cell_type": "code",
   "execution_count": 60,
   "id": "e8c99699",
   "metadata": {},
   "outputs": [
    {
     "data": {
      "text/plain": [
       "Java                     0.208955\n",
       "Python                   0.173134\n",
       "JavaScript               0.140299\n",
       "PHP                      0.137313\n",
       "C#                       0.068657\n",
       "SQL                      0.062687\n",
       "TypeScript               0.047761\n",
       "Oracle form              0.017910\n",
       "HTML/CSS                 0.017910\n",
       "Genexus                  0.014925\n",
       "Kotlin                   0.014925\n",
       "Go                       0.011940\n",
       "Otro                     0.011940\n",
       "C++                      0.011940\n",
       "Ruby                     0.011940\n",
       "C                        0.011940\n",
       "Dart                     0.011940\n",
       "VBA                      0.005970\n",
       "Swift                    0.005970\n",
       "OpcióFox Pron 27         0.002985\n",
       "Rust                     0.002985\n",
       "COBOL                    0.002985\n",
       "Bash/Shell/PowerShell    0.002985\n",
       "Name: Lenguaje favorito, dtype: float64"
      ]
     },
     "execution_count": 60,
     "metadata": {},
     "output_type": "execute_result"
    }
   ],
   "source": [
    "df[\"Lenguaje favorito\"].value_counts(normalize=True)"
   ]
  },
  {
   "cell_type": "code",
   "execution_count": 61,
   "id": "cbf469bb",
   "metadata": {},
   "outputs": [
    {
     "data": {
      "text/plain": [
       "<AxesSubplot:title={'center':'Lenguaje Favorto'}>"
      ]
     },
     "execution_count": 61,
     "metadata": {},
     "output_type": "execute_result"
    },
    {
     "data": {
      "image/png": "[encoded data removed]",
      "text/plain": [
       "<Figure size 864x504 with 1 Axes>"
      ]
     },
     "metadata": {
      "needs_background": "light"
     },
     "output_type": "display_data"
    }
   ],
   "source": [
    "df[\"Lenguaje favorito\"].value_counts().plot(\n",
    "    kind=\"barh\", title=\"Lenguaje Favorto\", color=\"green\"\n",
    ")"
   ]
  },
  {
   "cell_type": "markdown",
   "id": "a35fc5cc",
   "metadata": {},
   "source": [
    "### 'Lenguaje más odiado'"
   ]
  },
  {
   "cell_type": "code",
   "execution_count": 62,
   "id": "8586a2f9",
   "metadata": {},
   "outputs": [
    {
     "data": {
      "text/plain": [
       "Java                     62\n",
       "PHP                      52\n",
       "JavaScript               28\n",
       "Fox Pro                  15\n",
       "Genexus                  15\n",
       "C                        13\n",
       "C++                      10\n",
       "Assembly                  9\n",
       "VBA                       8\n",
       "COBOL                     7\n",
       "HTML/CSS                  6\n",
       "Ruby                      5\n",
       "Oracle form               5\n",
       "Bash/Shell/PowerShell     4\n",
       "SQL                       3\n",
       "C#                        3\n",
       "Objective-C               3\n",
       "RPG                       3\n",
       "R                         2\n",
       "Spring                    2\n",
       "Perl                      2\n",
       "Haskell                   2\n",
       "TypeScript                2\n",
       "Swift                     1\n",
       "Kotlin                    1\n",
       "Go                        1\n",
       "Python                    1\n",
       "Name: Lenguaje más odiado, dtype: int64"
      ]
     },
     "execution_count": 62,
     "metadata": {},
     "output_type": "execute_result"
    }
   ],
   "source": [
    "df[\"Lenguaje más odiado\"].value_counts()"
   ]
  },
  {
   "cell_type": "code",
   "execution_count": 63,
   "id": "70d87d7e",
   "metadata": {},
   "outputs": [
    {
     "data": {
      "text/plain": [
       "Java                     0.233962\n",
       "PHP                      0.196226\n",
       "JavaScript               0.105660\n",
       "Fox Pro                  0.056604\n",
       "Genexus                  0.056604\n",
       "C                        0.049057\n",
       "C++                      0.037736\n",
       "Assembly                 0.033962\n",
       "VBA                      0.030189\n",
       "COBOL                    0.026415\n",
       "HTML/CSS                 0.022642\n",
       "Ruby                     0.018868\n",
       "Oracle form              0.018868\n",
       "Bash/Shell/PowerShell    0.015094\n",
       "SQL                      0.011321\n",
       "C#                       0.011321\n",
       "Objective-C              0.011321\n",
       "RPG                      0.011321\n",
       "R                        0.007547\n",
       "Spring                   0.007547\n",
       "Perl                     0.007547\n",
       "Haskell                  0.007547\n",
       "TypeScript               0.007547\n",
       "Swift                    0.003774\n",
       "Kotlin                   0.003774\n",
       "Go                       0.003774\n",
       "Python                   0.003774\n",
       "Name: Lenguaje más odiado, dtype: float64"
      ]
     },
     "execution_count": 63,
     "metadata": {},
     "output_type": "execute_result"
    }
   ],
   "source": [
    "df[\"Lenguaje más odiado\"].value_counts(normalize=True)"
   ]
  },
  {
   "cell_type": "code",
   "execution_count": 64,
   "id": "02bb0686",
   "metadata": {},
   "outputs": [
    {
     "data": {
      "text/plain": [
       "<AxesSubplot:title={'center':'Lenguaje MAS ODIADO'}>"
      ]
     },
     "execution_count": 64,
     "metadata": {},
     "output_type": "execute_result"
    },
    {
     "data": {
      "image/png": "[encoded data removed]",
      "text/plain": [
       "<Figure size 864x504 with 1 Axes>"
      ]
     },
     "metadata": {
      "needs_background": "light"
     },
     "output_type": "display_data"
    }
   ],
   "source": [
    "df[\"Lenguaje más odiado\"].value_counts().plot(\n",
    "    kind=\"barh\", title=\"Lenguaje MAS ODIADO\", color=\"red\"\n",
    ")"
   ]
  },
  {
   "cell_type": "markdown",
   "id": "eee8f7ac",
   "metadata": {},
   "source": [
    "### LENGUAJE FAVORITO Y MAS ODIADO"
   ]
  },
  {
   "cell_type": "code",
   "execution_count": 65,
   "id": "ae74bfe3",
   "metadata": {},
   "outputs": [
    {
     "data": {
      "text/plain": [
       "<matplotlib.legend.Legend at 0x7fbd77c40080>"
      ]
     },
     "execution_count": 65,
     "metadata": {},
     "output_type": "execute_result"
    },
    {
     "data": {
      "image/png": "[encoded data removed]",
      "text/plain": [
       "<Figure size 960x1600 with 1 Axes>"
      ]
     },
     "metadata": {
      "needs_background": "light"
     },
     "output_type": "display_data"
    }
   ],
   "source": [
    "plt.figure(figsize=(12, 20), dpi=80)\n",
    "plt.subplot(3, 1, 1)\n",
    "df[\"Lenguaje favorito\"].value_counts().plot(kind=\"barh\", color=\"green\")\n",
    "df[\"Lenguaje más odiado\"].value_counts().plot(kind=\"barh\", color=\"red\", width=0.3)\n",
    "plt.legend()"
   ]
  },
  {
   "cell_type": "markdown",
   "id": "83198822",
   "metadata": {},
   "source": [
    "### 'Framework favorito'"
   ]
  },
  {
   "cell_type": "code",
   "execution_count": 66,
   "id": "6429cced",
   "metadata": {},
   "outputs": [
    {
     "data": {
      "text/plain": [
       "59"
      ]
     },
     "execution_count": 66,
     "metadata": {},
     "output_type": "execute_result"
    }
   ],
   "source": [
    "df[\"Framework favorito\"].isna().sum()"
   ]
  },
  {
   "cell_type": "code",
   "execution_count": 67,
   "id": "a2a3ac6b",
   "metadata": {},
   "outputs": [
    {
     "data": {
      "text/plain": [
       "React.js         49\n",
       "Laravel          46\n",
       "Spring           44\n",
       "Django           34\n",
       "Angular          25\n",
       "Vue.js           18\n",
       "ASP.NET          14\n",
       "ASP.NET Core     11\n",
       "Express          11\n",
       "JQuery           10\n",
       "Ruby on Rails     6\n",
       "Flask             5\n",
       "Angular.js        5\n",
       "CakePHP           3\n",
       "CodeIgniter       2\n",
       "Name: Framework favorito, dtype: int64"
      ]
     },
     "execution_count": 67,
     "metadata": {},
     "output_type": "execute_result"
    }
   ],
   "source": [
    "df[\"Framework favorito\"].value_counts()"
   ]
  },
  {
   "cell_type": "code",
   "execution_count": 68,
   "id": "280f97be",
   "metadata": {},
   "outputs": [
    {
     "data": {
      "text/plain": [
       "React.js         0.173145\n",
       "Laravel          0.162544\n",
       "Spring           0.155477\n",
       "Django           0.120141\n",
       "Angular          0.088339\n",
       "Vue.js           0.063604\n",
       "ASP.NET          0.049470\n",
       "ASP.NET Core     0.038869\n",
       "Express          0.038869\n",
       "JQuery           0.035336\n",
       "Ruby on Rails    0.021201\n",
       "Flask            0.017668\n",
       "Angular.js       0.017668\n",
       "CakePHP          0.010601\n",
       "CodeIgniter      0.007067\n",
       "Name: Framework favorito, dtype: float64"
      ]
     },
     "execution_count": 68,
     "metadata": {},
     "output_type": "execute_result"
    }
   ],
   "source": [
    "df[\"Framework favorito\"].value_counts(normalize=True)"
   ]
  },
  {
   "cell_type": "code",
   "execution_count": 69,
   "id": "1524d6b4",
   "metadata": {},
   "outputs": [
    {
     "data": {
      "text/plain": [
       "<AxesSubplot:title={'center':'FRAMEWORK FAVORITO'}>"
      ]
     },
     "execution_count": 69,
     "metadata": {},
     "output_type": "execute_result"
    },
    {
     "data": {
      "image/png": "[encoded data removed]",
      "text/plain": [
       "<Figure size 864x504 with 1 Axes>"
      ]
     },
     "metadata": {
      "needs_background": "light"
     },
     "output_type": "display_data"
    }
   ],
   "source": [
    "df[\"Framework favorito\"].value_counts().plot(\n",
    "    kind=\"bar\", title=\"FRAMEWORK FAVORITO\", width=0.4\n",
    ")"
   ]
  },
  {
   "cell_type": "markdown",
   "id": "2147bf73",
   "metadata": {},
   "source": [
    "### 'Framework más odiado'"
   ]
  },
  {
   "cell_type": "code",
   "execution_count": 70,
   "id": "c07dee57",
   "metadata": {},
   "outputs": [
    {
     "data": {
      "text/plain": [
       "146"
      ]
     },
     "execution_count": 70,
     "metadata": {},
     "output_type": "execute_result"
    }
   ],
   "source": [
    "df[\"Framework más odiado\"].isna().sum()"
   ]
  },
  {
   "cell_type": "code",
   "execution_count": 71,
   "id": "e588dd91",
   "metadata": {},
   "outputs": [
    {
     "data": {
      "text/plain": [
       "Spring           23\n",
       "JQuery           23\n",
       "ASP.NET          22\n",
       "Angular          19\n",
       "Laravel          16\n",
       "React.js         15\n",
       "Angular.js       15\n",
       "Ruby on Rails    14\n",
       "ASP.NET Core     12\n",
       "CakePHP          12\n",
       "CodeIgniter       9\n",
       "Django            6\n",
       "Express           4\n",
       "Vue.js            3\n",
       "Flask             2\n",
       "Gastby            1\n",
       "Name: Framework más odiado, dtype: int64"
      ]
     },
     "execution_count": 71,
     "metadata": {},
     "output_type": "execute_result"
    }
   ],
   "source": [
    "df[\"Framework más odiado\"].value_counts()"
   ]
  },
  {
   "cell_type": "code",
   "execution_count": 72,
   "id": "8a1fe868",
   "metadata": {},
   "outputs": [
    {
     "data": {
      "text/plain": [
       "Spring           0.117347\n",
       "JQuery           0.117347\n",
       "ASP.NET          0.112245\n",
       "Angular          0.096939\n",
       "Laravel          0.081633\n",
       "React.js         0.076531\n",
       "Angular.js       0.076531\n",
       "Ruby on Rails    0.071429\n",
       "ASP.NET Core     0.061224\n",
       "CakePHP          0.061224\n",
       "CodeIgniter      0.045918\n",
       "Django           0.030612\n",
       "Express          0.020408\n",
       "Vue.js           0.015306\n",
       "Flask            0.010204\n",
       "Gastby           0.005102\n",
       "Name: Framework más odiado, dtype: float64"
      ]
     },
     "execution_count": 72,
     "metadata": {},
     "output_type": "execute_result"
    }
   ],
   "source": [
    "df[\"Framework más odiado\"].value_counts(normalize=True)"
   ]
  },
  {
   "cell_type": "code",
   "execution_count": 73,
   "id": "3e75cff5",
   "metadata": {},
   "outputs": [
    {
     "data": {
      "text/plain": [
       "<AxesSubplot:title={'center':'FAMEWORK MAS ODIADO'}>"
      ]
     },
     "execution_count": 73,
     "metadata": {},
     "output_type": "execute_result"
    },
    {
     "data": {
      "image/png": "[encoded data removed]",
      "text/plain": [
       "<Figure size 864x504 with 1 Axes>"
      ]
     },
     "metadata": {
      "needs_background": "light"
     },
     "output_type": "display_data"
    }
   ],
   "source": [
    "df[\"Framework más odiado\"].value_counts().plot(\n",
    "    kind=\"bar\", title=\"FAMEWORK MAS ODIADO\", width=0.4\n",
    ")"
   ]
  },
  {
   "cell_type": "code",
   "execution_count": 74,
   "id": "04b8dc64",
   "metadata": {},
   "outputs": [
    {
     "data": {
      "text/plain": [
       "<AxesSubplot:title={'center':'FAMEWORK MAS ODIADO'}>"
      ]
     },
     "execution_count": 74,
     "metadata": {},
     "output_type": "execute_result"
    },
    {
     "data": {
      "image/png": "[encoded data removed]",
      "text/plain": [
       "<Figure size 960x1600 with 1 Axes>"
      ]
     },
     "metadata": {
      "needs_background": "light"
     },
     "output_type": "display_data"
    }
   ],
   "source": [
    "plt.figure(figsize=(12, 20), dpi=80)\n",
    "plt.subplot(3, 1, 1)\n",
    "df[\"Framework favorito\"].value_counts().plot(\n",
    "    kind=\"bar\", title=\"FRAMEWORK FAVORITO\", color=\"green\"\n",
    ")\n",
    "df[\"Framework más odiado\"].value_counts().plot(\n",
    "    kind=\"bar\", title=\"FAMEWORK MAS ODIADO\", color=\"red\", width=0.3\n",
    ")"
   ]
  },
  {
   "cell_type": "code",
   "execution_count": null,
   "id": "4a56bc15",
   "metadata": {},
   "outputs": [],
   "source": []
  },
  {
   "cell_type": "markdown",
   "id": "f7180926",
   "metadata": {},
   "source": [
    "# TECNOLOGIAS MAS USADAS EN PY"
   ]
  },
  {
   "cell_type": "markdown",
   "id": "ad5482b4",
   "metadata": {},
   "source": [
    " - Que tipo de tecnologias se utiliza mas en Paraguay.?"
   ]
  },
  {
   "cell_type": "code",
   "execution_count": 76,
   "id": "d7d5c9af",
   "metadata": {},
   "outputs": [
    {
     "data": {
      "text/plain": [
       "Index(['Marca temporal', 'Modalidad', 'Trabajo', 'Tipo de trabajo', 'DevOps',\n",
       "       'Codificar por trabajo', 'Experiencia en TI',\n",
       "       'Experiencia en codificación ',\n",
       "       'Primera línea de código en una máquina', 'Educación',\n",
       "       'Carreras o especialidades', 'Importancia educación formal', 'Género',\n",
       "       'Edad actual ', 'Salario mensual',\n",
       "       'Programación, scripting y lenguajes de marcado',\n",
       "       'Librerías o web frameworks',\n",
       "       'Otras frameworks, librerías y herramientas', 'Base de datos',\n",
       "       'Plataformas', 'Lenguaje favorito', 'Lenguaje más odiado',\n",
       "       'Framework favorito', 'Framework más odiado', 'Herramientas'],\n",
       "      dtype='object')"
      ]
     },
     "execution_count": 76,
     "metadata": {},
     "output_type": "execute_result"
    }
   ],
   "source": [
    "df.columns"
   ]
  },
  {
   "cell_type": "code",
   "execution_count": 88,
   "id": "8e9bb2e7",
   "metadata": {},
   "outputs": [
    {
     "data": {
      "text/plain": [
       "Index(['Nacional (Paraguay)', 'Ambas', 'Internacional'], dtype='object')"
      ]
     },
     "execution_count": 88,
     "metadata": {},
     "output_type": "execute_result"
    }
   ],
   "source": [
    "df[\"Trabajo\"].value_counts().keys()"
   ]
  },
  {
   "cell_type": "code",
   "execution_count": 79,
   "id": "38add7fd",
   "metadata": {},
   "outputs": [],
   "source": [
    "tipo_trabajo = df.groupby(\"Trabajo\")"
   ]
  },
  {
   "cell_type": "markdown",
   "id": "2ebab6bb",
   "metadata": {},
   "source": [
    "# NACIONAL"
   ]
  },
  {
   "cell_type": "code",
   "execution_count": 90,
   "id": "2a12a469",
   "metadata": {},
   "outputs": [],
   "source": [
    "nacional = tipo_trabajo.get_group(\"Nacional (Paraguay)\")"
   ]
  },
  {
   "cell_type": "code",
   "execution_count": null,
   "id": "6b1aa681",
   "metadata": {},
   "outputs": [],
   "source": []
  }
 ],
 "metadata": {
  "kernelspec": {
   "display_name": "Python 3",
   "language": "python",
   "name": "python3"
  },
  "language_info": {
   "codemirror_mode": {
    "name": "ipython",
    "version": 3
   },
   "file_extension": ".py",
   "mimetype": "text/x-python",
   "name": "python",
   "nbconvert_exporter": "python",
   "pygments_lexer": "ipython3",
   "version": "3.6.9"
  }
 },
 "nbformat": 4,
 "nbformat_minor": 5
}
