{
 "cells": [
  {
   "cell_type": "code",
   "execution_count": 1,
   "id": "b2961b07",
   "metadata": {},
   "outputs": [],
   "source": [
    "# Importing Libs\n",
    "import pandas as pd\n",
    "import seaborn as sns\n",
    "import matplotlib.pyplot as plt\n",
    "from collections import Counter\n",
    "import numpy\n",
    "\n",
    "# My Tools\n",
    "from toolkit.tools import print_column_uniques, make_df,get_column_uniques\n",
    "\n",
    "\n",
    "%matplotlib inline"
   ]
  },
  {
   "cell_type": "code",
   "execution_count": 2,
   "id": "65a236df",
   "metadata": {},
   "outputs": [],
   "source": [
    "# Reseting figure size params.\n",
    "plt.rcParams[\"figure.figsize\"] = [12, 7]"
   ]
  },
  {
   "cell_type": "code",
   "execution_count": 3,
   "id": "e06c562a",
   "metadata": {},
   "outputs": [],
   "source": [
    "# Setting seaborn as default plotting lib.\n",
    "sns.set()\n",
    "sns.set_palette(\"pastel\")"
   ]
  },
  {
   "cell_type": "code",
   "execution_count": 4,
   "id": "1f2d8431",
   "metadata": {},
   "outputs": [],
   "source": [
    "# Creating the dataset.\n",
    "df = pd.read_csv(\"../enc_devs_py_2021_fixed.csv\")"
   ]
  },
  {
   "cell_type": "code",
   "execution_count": 5,
   "id": "e8c740e2-86f2-479a-87ef-d1b61b21c636",
   "metadata": {},
   "outputs": [],
   "source": [
    "# COLORS\n",
    "# ============================\n",
    "# Light\n",
    "color_hombres_light = '#8ecae6'\n",
    "color_mujeres_light = '#ffafcc'\n",
    "color_neutro_light = '#d4a373'\n",
    "# Dark\n",
    "color_hombres_dark = '#023047'\n",
    "color_mujeres_dark = '#ff006e'\n",
    "color_neutro_dark = '#ffb703'"
   ]
  },
  {
   "cell_type": "markdown",
   "id": "1fc328e4",
   "metadata": {},
   "source": [
    "# Education\n",
    "\n",
    "    - About the \"education level\" of the people who answered the survey."
   ]
  },
  {
   "cell_type": "markdown",
   "id": "32489e77",
   "metadata": {},
   "source": [
    "## General Education\n",
    "    - column name : 'educacion'"
   ]
  },
  {
   "cell_type": "code",
   "execution_count": 6,
   "id": "a304a836",
   "metadata": {},
   "outputs": [
    {
     "data": {
      "text/plain": [
       "Ed. Universitaria                                                           151\n",
       "Ed. Basica;Ed. Secundaria;Ed. Universitaria                                  42\n",
       "Ed. Basica;Ed. Secundaria;Ed. Universitaria;Autodidacta                      36\n",
       "Ed. Universitaria;Autodidacta                                                29\n",
       "Master                                                                       17\n",
       "Ed. Secundaria                                                               12\n",
       "Ed. Basica;Ed. Secundaria                                                    11\n",
       "Ed. Basica;Ed. Secundaria;Autodidacta                                        10\n",
       "Ed. Universitaria;Master                                                      8\n",
       "Ed. Secundaria;Autodidacta                                                    8\n",
       "Ed. Basica;Ed. Secundaria;Ed. Universitaria;Master                            4\n",
       "Ed. Universitaria;Master;Autodidacta                                          3\n",
       "Autodidacta                                                                   2\n",
       "Ed. Basica;Ed. Secundaria;Ed. Universitaria;Master;Autodidacta                2\n",
       "Master;Autodidacta                                                            1\n",
       "Ed. Secundaria;Ed. Universitaria;Master                                       1\n",
       "Ed. Secundaria;Ed. Universitaria                                              1\n",
       "Ed. Secundaria;Ed. Universitaria;Autodidacta                                  1\n",
       "Ed. Basica;Ed. Secundaria;Ed. Universitaria;Master;Doctorado;Autodidacta      1\n",
       "Ed. Basica;Ed. Secundaria;Master;Autodidacta                                  1\n",
       "Doctorado                                                                     1\n",
       "Name: educacion, dtype: int64"
      ]
     },
     "execution_count": 6,
     "metadata": {},
     "output_type": "execute_result"
    }
   ],
   "source": [
    "# First lets print the column content.\n",
    "df[\"educacion\"].value_counts()"
   ]
  },
  {
   "cell_type": "code",
   "execution_count": 7,
   "id": "457c93f9-d3cf-4f34-aece-507e09f3dea6",
   "metadata": {},
   "outputs": [
    {
     "name": "stdout",
     "output_type": "stream",
     "text": [
      "{'Ed. Secundaria', 'Master', 'Doctorado', 'Ed. Universitaria', 'Autodidacta', 'Ed. Basica'}\n"
     ]
    }
   ],
   "source": [
    "# Printing \"unique\" values in the column.\n",
    "print_column_uniques(df, \"educacion\")"
   ]
  },
  {
   "cell_type": "code",
   "execution_count": 46,
   "id": "fbb4d68f",
   "metadata": {},
   "outputs": [
    {
     "name": "stdout",
     "output_type": "stream",
     "text": [
      "              Levels  TotalCount\n",
      "0     Ed. Secundaria         130\n",
      "1             Master          38\n",
      "2          Doctorado           2\n",
      "3  Ed. Universitaria         279\n",
      "4        Autodidacta          94\n",
      "5         Ed. Basica         107\n"
     ]
    },
    {
     "data": {
      "text/plain": [
       "<Figure size 648x360 with 0 Axes>"
      ]
     },
     "metadata": {},
     "output_type": "display_data"
    },
    {
     "data": {
      "image/png": "[encoded data removed]",
      "text/plain": [
       "<Figure size 864x504 with 1 Axes>"
      ]
     },
     "metadata": {},
     "output_type": "display_data"
    }
   ],
   "source": [
    "# Making a plot for this column.\n",
    "fig = plt.figure(figsize=(9, 5))\n",
    "# Declaring the plot.\n",
    "nv_ed = make_df(df, \"educacion\",\"Levels\", \"Total Count\")\n",
    "\n",
    "nv_ed_plot = nv_ed.plot(\n",
    "    kind=\"barh\", \n",
    "    title=\"General Level of Education\",\n",
    "    xlabel='LA OA!',\n",
    "    legend=True)\n",
    "\n",
    "\n",
    "nv_ed_plot.set_yticks([0,1,2,3,4,5], minor=False)\n",
    "nv_ed_plot.set_yticklabels(['Ed. Secundaria', 'Master', 'Doctorado', 'Ed. Universitaria', 'Autodidacta', 'Ed. Basica'], fontdict=None, minor=False)\n",
    "\n",
    "cat_values = [i for i in nv_ed.TotalCount.value_counts().keys()]\n",
    "\n",
    "\n",
    "print(nv_ed)\n",
    "\n",
    "# Plot annotations.\n",
    "for k, v in enumerate(cat_values):\n",
    "    nv_ed_plot.annotate(v, (v, k), va=\"center\")\n",
    "\n",
    "    #nv_ed_plot.annotate(v, (v,k),va='center')\n",
    "\n",
    "plt.show()\n"
   ]
  },
  {
   "cell_type": "code",
   "execution_count": 47,
   "id": "a5f50f8a-58c1-42f4-9914-fc9dd94fc948",
   "metadata": {},
   "outputs": [
    {
     "data": {
      "text/plain": [
       "[Ed. Universitaria]                                                                151\n",
       "[Ed. Basica, Ed. Secundaria, Ed. Universitaria]                                     42\n",
       "[Ed. Basica, Ed. Secundaria, Ed. Universitaria, Autodidacta]                        36\n",
       "[Ed. Universitaria, Autodidacta]                                                    29\n",
       "[Master]                                                                            17\n",
       "[Ed. Secundaria]                                                                    12\n",
       "[Ed. Basica, Ed. Secundaria]                                                        11\n",
       "[Ed. Basica, Ed. Secundaria, Autodidacta]                                           10\n",
       "[Ed. Universitaria, Master]                                                          8\n",
       "[Ed. Secundaria, Autodidacta]                                                        8\n",
       "[Ed. Basica, Ed. Secundaria, Ed. Universitaria, Master]                              4\n",
       "[Ed. Universitaria, Master, Autodidacta]                                             3\n",
       "[Autodidacta]                                                                        2\n",
       "[Ed. Basica, Ed. Secundaria, Ed. Universitaria, Master, Autodidacta]                 2\n",
       "[Master, Autodidacta]                                                                1\n",
       "[Ed. Secundaria, Ed. Universitaria, Master]                                          1\n",
       "[Ed. Secundaria, Ed. Universitaria]                                                  1\n",
       "[Ed. Secundaria, Ed. Universitaria, Autodidacta]                                     1\n",
       "[Ed. Basica, Ed. Secundaria, Ed. Universitaria, Master, Doctorado, Autodidacta]      1\n",
       "[Ed. Basica, Ed. Secundaria, Master, Autodidacta]                                    1\n",
       "[Doctorado]                                                                          1\n",
       "Name: educacion, dtype: int64"
      ]
     },
     "execution_count": 47,
     "metadata": {},
     "output_type": "execute_result"
    }
   ],
   "source": [
    "df['educacion'].str.split(';').value_counts()"
   ]
  },
  {
   "cell_type": "markdown",
   "id": "8e15d48b",
   "metadata": {},
   "source": [
    "## Carers or Specialties\n",
    "    - column name : 'carr_especialidades'"
   ]
  },
  {
   "cell_type": "code",
   "execution_count": 10,
   "id": "a629e37e",
   "metadata": {},
   "outputs": [
    {
     "data": {
      "text/plain": [
       "Ing. Informática                                                        107\n",
       "Análisis de Sist.                                                        69\n",
       "Programación;Análisis de Sist.                                           33\n",
       "Programación;Ing. Informática                                            21\n",
       "Programación                                                             17\n",
       "Programación;Análisis de Sist.;Ing. Informática                          17\n",
       "Ninguna                                                                  15\n",
       "Análisis de Sist.;Ing. Informática                                       11\n",
       "Ing. Electrónica                                                          6\n",
       "Otras                                                                     5\n",
       "Programación;Análisis de Sist.;Otras                                      5\n",
       "Ing. Informática;Otras                                                    4\n",
       "Otras Ing.                                                                4\n",
       "Análisis de Sist.;Otras                                                   3\n",
       "Programación;Análisis de Sist.;Diseño Gráfico                             3\n",
       "Programación;Diseño Gráfico;Otras                                         2\n",
       "Programación;Análisis de Sist.;Ing. Informática;Otras                     2\n",
       "Programación;Otras                                                        2\n",
       "Programación;Diseño Gráfico                                               2\n",
       "Programación;Ing. Informática;Otras                                       2\n",
       "Programación;Análisis de Sist.;Ing. Informática;Matemático                1\n",
       "Matemático                                                                1\n",
       "Programación;Otras Ing.;Diseño Gráfico                                    1\n",
       "Programación;Análisis de Sist.;Ing. Civil;Otras Ing.                      1\n",
       "Diseño Gráfico                                                            1\n",
       "Análisis de Sist.;Diseño Gráfico                                          1\n",
       "Ing. Informática;Diseño Gráfico                                           1\n",
       "Programación;Análisis de Sist.;Ing. Informática;Ing. Electrónica          1\n",
       "Análisis de Sist.;Ing. Electrónica                                        1\n",
       "Análisis de Sist.;Ninguna                                                 1\n",
       "Programación;Análisis de Sist.;Ing. Informática;Diseño Gráfico;Otras      1\n",
       "Análisis de Sist.;Ing. Informática;Diseño Gráfico                         1\n",
       "Name: carr_especialidades, dtype: int64"
      ]
     },
     "execution_count": 10,
     "metadata": {},
     "output_type": "execute_result"
    }
   ],
   "source": [
    "# Printing the column content.\n",
    "df[\"carr_especialidades\"].value_counts()"
   ]
  },
  {
   "cell_type": "code",
   "execution_count": 11,
   "id": "bb3dd0b1",
   "metadata": {},
   "outputs": [
    {
     "ename": "TypeError",
     "evalue": "make_df() missing 2 required positional arguments: 'x_label' and 'y_label'",
     "output_type": "error",
     "traceback": [
      "\u001b[0;31m---------------------------------------------------------------------------\u001b[0m",
      "\u001b[0;31mTypeError\u001b[0m                                 Traceback (most recent call last)",
      "Input \u001b[0;32mIn [11]\u001b[0m, in \u001b[0;36m<cell line: 4>\u001b[0;34m()\u001b[0m\n\u001b[1;32m      2\u001b[0m fig \u001b[38;5;241m=\u001b[39m plt\u001b[38;5;241m.\u001b[39mfigure(figsize\u001b[38;5;241m=\u001b[39m(\u001b[38;5;241m9\u001b[39m, \u001b[38;5;241m5\u001b[39m))\n\u001b[1;32m      3\u001b[0m \u001b[38;5;66;03m# Plot.\u001b[39;00m\n\u001b[0;32m----> 4\u001b[0m carr_df \u001b[38;5;241m=\u001b[39m \u001b[43mmake_df\u001b[49m\u001b[43m(\u001b[49m\u001b[43mdf\u001b[49m\u001b[43m,\u001b[49m\u001b[43m \u001b[49m\u001b[38;5;124;43m\"\u001b[39;49m\u001b[38;5;124;43mcarr_especialidades\u001b[39;49m\u001b[38;5;124;43m\"\u001b[39;49m\u001b[43m)\u001b[49m\u001b[38;5;241m.\u001b[39mplot(\n\u001b[1;32m      5\u001b[0m     kind\u001b[38;5;241m=\u001b[39m\u001b[38;5;124m\"\u001b[39m\u001b[38;5;124mbarh\u001b[39m\u001b[38;5;124m\"\u001b[39m,\n\u001b[1;32m      6\u001b[0m     title\u001b[38;5;241m=\u001b[39m\u001b[38;5;124m\"\u001b[39m\u001b[38;5;124mCareers or Specialties - General\u001b[39m\u001b[38;5;124m\"\u001b[39m,\n\u001b[1;32m      7\u001b[0m     xlabel\u001b[38;5;241m=\u001b[39m\u001b[38;5;124m\"\u001b[39m\u001b[38;5;124mCarers / Specialties\u001b[39m\u001b[38;5;124m\"\u001b[39m,\n\u001b[1;32m      8\u001b[0m     legend\u001b[38;5;241m=\u001b[39m\u001b[38;5;28;01mFalse\u001b[39;00m,\n\u001b[1;32m      9\u001b[0m )\n\u001b[1;32m     11\u001b[0m \u001b[38;5;66;03m# Plot annotations.\u001b[39;00m\n\u001b[1;32m     12\u001b[0m \u001b[38;5;28;01mfor\u001b[39;00m k, v \u001b[38;5;129;01min\u001b[39;00m \u001b[38;5;28menumerate\u001b[39m([i \u001b[38;5;28;01mfor\u001b[39;00m i \u001b[38;5;129;01min\u001b[39;00m make_df(df, \u001b[38;5;124m\"\u001b[39m\u001b[38;5;124mcarr_especialidades\u001b[39m\u001b[38;5;124m\"\u001b[39m)[\u001b[38;5;124m\"\u001b[39m\u001b[38;5;124mcount\u001b[39m\u001b[38;5;124m\"\u001b[39m]]):\n",
      "\u001b[0;31mTypeError\u001b[0m: make_df() missing 2 required positional arguments: 'x_label' and 'y_label'"
     ]
    },
    {
     "data": {
      "text/plain": [
       "<Figure size 648x360 with 0 Axes>"
      ]
     },
     "metadata": {},
     "output_type": "display_data"
    }
   ],
   "source": [
    "# Creating a plot for this column.\n",
    "fig = plt.figure(figsize=(9, 5))\n",
    "# Plot.\n",
    "carr_df = make_df(df, \"carr_especialidades\").plot(\n",
    "    kind=\"barh\",\n",
    "    title=\"Careers or Specialties - General\",\n",
    "    xlabel=\"Carers / Specialties\",\n",
    "    legend=False,\n",
    ")\n",
    "\n",
    "# Plot annotations.\n",
    "for k, v in enumerate([i for i in make_df(df, \"carr_especialidades\")[\"count\"]]):\n",
    "    carr_df.annotate(v, (v, k), va=\"center\")\n",
    "plt.show()"
   ]
  },
  {
   "cell_type": "markdown",
   "id": "3ea9d5a7",
   "metadata": {},
   "source": [
    "## Importance of Formal Education\n",
    "    - column name : 'imp_ed_formal'"
   ]
  },
  {
   "cell_type": "code",
   "execution_count": null,
   "id": "ec9e0977",
   "metadata": {},
   "outputs": [],
   "source": [
    "# Ploting a figure for this column.\n",
    "fig = plt.figure(figsize=(9, 5))\n",
    "ax1 = plt.subplot(111)\n",
    "# Plot\n",
    "exp_df = (\n",
    "    df[\"imp_ed_formal\"]\n",
    "    .value_counts()\n",
    "    .plot(kind=\"barh\", title=\"Importancia de la educacion formal.\")\n",
    ")\n",
    "# Plot annotations.\n",
    "for k, v in enumerate(df[\"imp_ed_formal\"].value_counts().values):\n",
    "    exp_df.annotate(v, (v, k), va=\"center\")\n",
    "plt.show()"
   ]
  },
  {
   "cell_type": "markdown",
   "id": "168d13ab",
   "metadata": {},
   "source": [
    "## Educational Level x Gender\n",
    "\n",
    "    - We explore the \"educational level\" of the people who answered the survey by gender."
   ]
  },
  {
   "cell_type": "code",
   "execution_count": null,
   "id": "97d9d62f",
   "metadata": {},
   "outputs": [],
   "source": [
    "# Making groups by gender.\n",
    "gen = df.groupby(\"genero\")"
   ]
  },
  {
   "cell_type": "code",
   "execution_count": null,
   "id": "629091f3",
   "metadata": {},
   "outputs": [],
   "source": [
    "# Print genders keys.\n",
    "df[\"genero\"].value_counts().keys()"
   ]
  },
  {
   "cell_type": "markdown",
   "id": "b0345f51",
   "metadata": {},
   "source": [
    "### Education Level - HOMBRE\n",
    "    - Education level for the group of MENS. "
   ]
  },
  {
   "cell_type": "code",
   "execution_count": null,
   "id": "3bb112e2",
   "metadata": {},
   "outputs": [],
   "source": [
    "# Available Columns:\n",
    "#'educación'\n",
    "#'carreras_o_especialidades'\n",
    "#'importancia_educación_formal'"
   ]
  },
  {
   "cell_type": "code",
   "execution_count": null,
   "id": "ed8bd1ed",
   "metadata": {},
   "outputs": [],
   "source": [
    "# Print group 'HOMBRE' and the column 'educacion' with its value counts.\n",
    "gen.get_group(\"HOMBRE\")[\"educacion\"].value_counts()"
   ]
  },
  {
   "cell_type": "code",
   "execution_count": null,
   "id": "59657094",
   "metadata": {},
   "outputs": [],
   "source": [
    "# Making a plot for this 'relation'.\n",
    "fig = plt.figure(figsize=(9, 5))\n",
    "# Plot\n",
    "ed_hombres_df = make_df(gen.get_group(\"HOMBRE\"), \"educacion\").plot(\n",
    "    kind=\"barh\",\n",
    "    title=\"Education Level - HOMBRE\",\n",
    "    xlabel=\"Education Level\",\n",
    "    fontsize=13,\n",
    "    legend=False,\n",
    ")\n",
    "# Plot annotations.\n",
    "for k, v in enumerate(\n",
    "    [i for i in make_df(gen.get_group(\"HOMBRE\"), \"educacion\")[\"count\"]]\n",
    "):\n",
    "    if v < 10:\n",
    "        # if count its less than 10, value will be painted in 'red'.\n",
    "        ed_hombres_df.annotate(v, (v, k), va=\"center\", color=\"red\")\n",
    "    else:\n",
    "        # if count its greather than 10, value will be painted in 'blue'.\n",
    "        ed_hombres_df.annotate(v, (v, k), va=\"center\", color=\"black\")\n",
    "plt.show()"
   ]
  },
  {
   "cell_type": "markdown",
   "id": "ba7296a1",
   "metadata": {},
   "source": [
    "### Careers or Specialties - HOMBRE\n",
    "\n",
    "    - Column name : 'carr_especialidades'"
   ]
  },
  {
   "cell_type": "code",
   "execution_count": null,
   "id": "f5d74428",
   "metadata": {},
   "outputs": [],
   "source": [
    "# Print 'value counts' of this column.\n",
    "gen.get_group(\"HOMBRE\")[\"carr_especialidades\"].value_counts()"
   ]
  },
  {
   "cell_type": "code",
   "execution_count": null,
   "id": "95a39c2a",
   "metadata": {},
   "outputs": [],
   "source": [
    "# Making a plot for this column.\n",
    "fig = plt.figure(figsize=(9, 5))\n",
    "# Plot\n",
    "carr_hombres_df = make_df(gen.get_group(\"HOMBRE\"), \"carr_especialidades\").plot(\n",
    "    kind=\"barh\",\n",
    "    title=\"Carers or Specialties - HOMBRES\",\n",
    "    xlabel=\"Carers / Specialties\",\n",
    ")\n",
    "# Plot annotations.\n",
    "for k, v in enumerate(\n",
    "    [i for i in make_df(gen.get_group(\"HOMBRE\"), \"carr_especialidades\")[\"count\"]]\n",
    "):\n",
    "    if v < 10:\n",
    "        # If count its less than 10, value will be painted in 'red'.\n",
    "        carr_hombres_df.annotate(v, (v, k), va=\"center\", color=\"red\")\n",
    "    else:\n",
    "        # If count its greather than 10, value will be painted in 'blue'.\n",
    "        carr_hombres_df.annotate(v, (v, k), va=\"center\", color=\"blue\")\n",
    "plt.show()"
   ]
  },
  {
   "cell_type": "markdown",
   "id": "572598de-8261-4f93-96c7-c775442f673c",
   "metadata": {},
   "source": [
    " - NOTE: There is a theoretical or scope conflict within the content of this column. A career is an academic degree and a specialty is a branch of knowledge within a career. Within the column the category \"programacion, ninguna, Otras\" are presented. It makes no sense to consider them."
   ]
  },
  {
   "cell_type": "markdown",
   "id": "56440a2f",
   "metadata": {},
   "source": [
    "### Importance of formal education. - HOMBRES"
   ]
  },
  {
   "cell_type": "code",
   "execution_count": null,
   "id": "5c529a48",
   "metadata": {},
   "outputs": [],
   "source": [
    "# Print the 'normal count' of values in the column.\n",
    "df[\"imp_ed_formal\"].value_counts()"
   ]
  },
  {
   "cell_type": "code",
   "execution_count": null,
   "id": "db57dec8-dee0-4662-8fde-ae78a6702f50",
   "metadata": {},
   "outputs": [],
   "source": [
    "# Any null value?\n",
    "df[\"imp_ed_formal\"].isna().sum()"
   ]
  },
  {
   "cell_type": "code",
   "execution_count": null,
   "id": "ea1a29d5",
   "metadata": {},
   "outputs": [],
   "source": [
    "# Making a chart for this column.\n",
    "fig = plt.figure(figsize=(9, 5))\n",
    "ax1 = plt.subplot(111)\n",
    "# Plot\n",
    "import_df = (\n",
    "    df[\"imp_ed_formal\"]\n",
    "    .value_counts()\n",
    "    .plot(\n",
    "        kind=\"barh\",\n",
    "        title=\"Importancia de la educacion formal. - HOMBRES\",\n",
    "    )\n",
    ")\n",
    "# Plot annotations.\n",
    "for k, v in enumerate(df[\"imp_ed_formal\"].value_counts().values):\n",
    "    if v < 10:\n",
    "        import_df.annotate(v, (v, k), va=\"center\", color=\"red\")\n",
    "    else:\n",
    "        import_df.annotate(v, (v, k), va=\"center\", color=\"black\")\n",
    "plt.show()"
   ]
  },
  {
   "cell_type": "markdown",
   "id": "101893e5",
   "metadata": {},
   "source": [
    "### EDUCACION - MUJERES"
   ]
  },
  {
   "cell_type": "code",
   "execution_count": null,
   "id": "edccbaad",
   "metadata": {},
   "outputs": [],
   "source": [
    "#'educación'\n",
    "#'carreras_o_especialidades'\n",
    "#'importancia_educación_formal'"
   ]
  },
  {
   "cell_type": "markdown",
   "id": "b0fc8424-f2fd-4a11-959c-b95e3dc1f741",
   "metadata": {},
   "source": [
    " - Grouped in this way, the content of the column makes no sense. We will try to separate each \"category\"."
   ]
  },
  {
   "cell_type": "code",
   "execution_count": null,
   "id": "3823535b",
   "metadata": {},
   "outputs": [],
   "source": [
    "gen.get_group(\"MUJER\")[\"educacion\"].value_counts()"
   ]
  },
  {
   "cell_type": "code",
   "execution_count": null,
   "id": "2b6e54ad",
   "metadata": {},
   "outputs": [],
   "source": [
    "fig = plt.figure(figsize=(9, 5))\n",
    "\n",
    "\n",
    "ed_mujeres_df = make_df(gen.get_group(\"MUJER\"), \"educacion\").plot(\n",
    "    kind=\"barh\",\n",
    "    title=\"Level of Education - MUJERES\",\n",
    "    xlabel=\"Education Level\",\n",
    "    legend=False,\n",
    ")\n",
    "\n",
    "\n",
    "for k, v in enumerate(\n",
    "    [i for i in make_df(gen.get_group(\"MUJER\"), \"educacion\")[\"count\"]]\n",
    "):\n",
    "    if v < 10:\n",
    "        ed_mujeres_df.annotate(v, (v, k), va=\"center\", color=\"red\")\n",
    "    else:\n",
    "        ed_mujeres_df.annotate(v, (v, k), va=\"center\", color=\"black\")\n",
    "\n",
    "plt.show()"
   ]
  },
  {
   "cell_type": "markdown",
   "id": "1158e1b5",
   "metadata": {},
   "source": [
    "### Carreras o especialidades. - MUJERES\n",
    " - column name : 'carr_especialidades'"
   ]
  },
  {
   "cell_type": "code",
   "execution_count": null,
   "id": "889f3372",
   "metadata": {},
   "outputs": [],
   "source": [
    "fig = plt.figure(figsize=(9, 5))\n",
    "\n",
    "\n",
    "carr_mujeres_df = make_df(gen.get_group(\"MUJER\"), \"carr_especialidades\").plot(\n",
    "    kind=\"barh\",\n",
    "    xlabel=\"Carers / Specialties\",\n",
    "    title=\"Carreras o especialidades. - MUJERES\",\n",
    "    legend=False,\n",
    ")\n",
    "\n",
    "\n",
    "for k, v in enumerate(\n",
    "    [i for i in make_df(gen.get_group(\"MUJER\"), \"carr_especialidades\")[\"count\"]]\n",
    "):\n",
    "    if v < 10:\n",
    "        carr_mujeres_df.annotate(v, (v, k), va=\"center\", color=\"red\")\n",
    "    else:\n",
    "        carr_mujeres_df.annotate(v, (v, k), va=\"center\", color=\"blue\")\n",
    "\n",
    "plt.show()"
   ]
  },
  {
   "cell_type": "markdown",
   "id": "1c3db3af",
   "metadata": {},
   "source": [
    "# Importancia de la educacion formal. - MUJERES"
   ]
  },
  {
   "cell_type": "markdown",
   "id": "19a30ef3-8268-41b8-b05c-89fdbec6095d",
   "metadata": {},
   "source": [
    " - column name : 'imp_ed_formal'"
   ]
  },
  {
   "cell_type": "code",
   "execution_count": null,
   "id": "55b7d552",
   "metadata": {},
   "outputs": [],
   "source": [
    "fig = plt.figure(figsize=(9, 5))\n",
    "\n",
    "muj_import_df = (\n",
    "    gen.get_group(\"MUJER\")[\"imp_ed_formal\"]\n",
    "    .value_counts()\n",
    "    .plot(kind=\"barh\", title=\"Inportancia de la educacion formal. - MUJERES\")\n",
    ")\n",
    "\n",
    "for k, v in enumerate(gen.get_group(\"MUJER\")[\"imp_ed_formal\"].value_counts().values):\n",
    "    if v < 10:\n",
    "        muj_import_df.annotate(v, (v, k), va=\"center\", color=\"red\")\n",
    "    else:\n",
    "        muj_import_df.annotate(v, (v, k), va=\"center\", color=\"blue\")\n",
    "\n",
    "plt.show()"
   ]
  },
  {
   "cell_type": "markdown",
   "id": "322e5939",
   "metadata": {},
   "source": [
    "### EDUCACION - NO COMPARTO"
   ]
  },
  {
   "cell_type": "code",
   "execution_count": null,
   "id": "29016524",
   "metadata": {},
   "outputs": [],
   "source": [
    "#'educación'\n",
    "#'carreras_o_especialidades'\n",
    "#'importancia_educación_formal'"
   ]
  },
  {
   "cell_type": "code",
   "execution_count": null,
   "id": "496f4eec",
   "metadata": {},
   "outputs": [],
   "source": [
    "fig = plt.figure(figsize=(9, 5))\n",
    "ed_no_comp_df = make_df(gen.get_group(\"NO COMPARTO\"), \"educacion\").plot(\n",
    "    kind=\"barh\", title=\"Educacion - NO COMPARTO\", color=color_neutro_light\n",
    ")\n",
    "for k, v in enumerate(\n",
    "    [i for i in make_df(gen.get_group(\"NO COMPARTO\"), \"educacion\")[\"count\"]]\n",
    "):\n",
    "    ed_no_comp_df.annotate(v, (v, k), va=\"center\", color=\"blue\")\n",
    "\n",
    "plt.show()"
   ]
  },
  {
   "cell_type": "markdown",
   "id": "992b1f73",
   "metadata": {},
   "source": [
    "### Carreras o especialidades. - NO DEFINIDO"
   ]
  },
  {
   "cell_type": "code",
   "execution_count": null,
   "id": "4da7a353",
   "metadata": {},
   "outputs": [],
   "source": [
    "fig = plt.figure(figsize=(9, 5))\n",
    "\n",
    "\n",
    "carr_no_comp_df = make_df(gen.get_group(\"NO COMPARTO\"), \"carr_especialidades\").plot(\n",
    "    kind=\"barh\",\n",
    "    title=\"Carreras o especialidades. - NO COMPARTO\",\n",
    "    color=color_neutro_light,\n",
    ")\n",
    "\n",
    "\n",
    "for k, v in enumerate(\n",
    "    [i for i in make_df(gen.get_group(\"NO COMPARTO\"), \"carr_especialidades\")[\"count\"]]\n",
    "):\n",
    "    carr_no_comp_df.annotate(v, (v, k), va=\"center\", color=\"blue\")\n",
    "\n",
    "plt.show()"
   ]
  },
  {
   "cell_type": "markdown",
   "id": "fdb2b504",
   "metadata": {},
   "source": [
    "### Importancia de la educacion formal. - NO DEFINIDO"
   ]
  },
  {
   "cell_type": "code",
   "execution_count": null,
   "id": "700e7b60",
   "metadata": {},
   "outputs": [],
   "source": [
    "fig = plt.figure(figsize=(9, 5))\n",
    "imp_ed_no_comp = (\n",
    "    gen.get_group(\"NO COMPARTO\")[\"imp_ed_formal\"]\n",
    "    .value_counts()\n",
    "    .plot(\n",
    "        kind=\"barh\",\n",
    "        title=\"Importancia de la educacion formal. - NO COMPARTO\",\n",
    "        color=color_neutro_light,\n",
    "    )\n",
    ")\n",
    "\n",
    "for k, v in enumerate(\n",
    "    [i for i in gen.get_group(\"NO COMPARTO\")[\"imp_ed_formal\"].value_counts().values]\n",
    "):\n",
    "    imp_ed_no_comp.annotate(v, (v, k), va=\"center\", color=\"blue\")\n",
    "\n",
    "plt.show()"
   ]
  },
  {
   "cell_type": "code",
   "execution_count": null,
   "id": "dd37a956-ed9f-4974-864d-22d0329cdc3f",
   "metadata": {},
   "outputs": [],
   "source": [
    "df.columns"
   ]
  },
  {
   "cell_type": "code",
   "execution_count": null,
   "id": "e732df07-551d-470d-b2a4-1be876ce7fbd",
   "metadata": {},
   "outputs": [],
   "source": []
  },
  {
   "cell_type": "code",
   "execution_count": null,
   "id": "806912e1-8253-45ff-be1a-1fd6abdfadd6",
   "metadata": {},
   "outputs": [],
   "source": []
  },
  {
   "cell_type": "code",
   "execution_count": null,
   "id": "ee63d150-8451-4d15-b820-9e1ab52b2e80",
   "metadata": {},
   "outputs": [],
   "source": []
  },
  {
   "cell_type": "code",
   "execution_count": null,
   "id": "c8891d2b-7448-4915-9d20-113033bad66e",
   "metadata": {},
   "outputs": [],
   "source": []
  },
  {
   "cell_type": "code",
   "execution_count": null,
   "id": "40af8834-85ff-4246-b2f2-d97a11ca6593",
   "metadata": {},
   "outputs": [],
   "source": []
  },
  {
   "cell_type": "code",
   "execution_count": null,
   "id": "016fc1c2-e6c1-4379-87ff-593d0ac04f06",
   "metadata": {},
   "outputs": [],
   "source": []
  },
  {
   "cell_type": "code",
   "execution_count": null,
   "id": "96964fd1-48f3-4d65-8dcc-fbb5863493aa",
   "metadata": {},
   "outputs": [],
   "source": []
  },
  {
   "cell_type": "code",
   "execution_count": null,
   "id": "452682e6-9124-488d-8185-6fe89e9850e2",
   "metadata": {},
   "outputs": [],
   "source": []
  },
  {
   "cell_type": "code",
   "execution_count": null,
   "id": "0ecd1926-b3cd-4255-a31a-4737e2d57c74",
   "metadata": {},
   "outputs": [],
   "source": []
  },
  {
   "cell_type": "code",
   "execution_count": null,
   "id": "8c79d570-9738-4177-a8be-d04ae60d6664",
   "metadata": {},
   "outputs": [],
   "source": []
  },
  {
   "cell_type": "code",
   "execution_count": null,
   "id": "1a4f0188-3d13-4ea0-acc1-4d280c5ed8fd",
   "metadata": {},
   "outputs": [],
   "source": []
  },
  {
   "cell_type": "code",
   "execution_count": null,
   "id": "298d2748-1746-4d60-91bd-6787bb9ba672",
   "metadata": {},
   "outputs": [],
   "source": []
  },
  {
   "cell_type": "code",
   "execution_count": null,
   "id": "8707cf57-5246-49bf-a966-7d1fea5e6da7",
   "metadata": {},
   "outputs": [],
   "source": []
  },
  {
   "cell_type": "code",
   "execution_count": null,
   "id": "f8e3a6c2-0234-4198-81e9-6a5d4e14a4dc",
   "metadata": {},
   "outputs": [],
   "source": []
  },
  {
   "cell_type": "code",
   "execution_count": null,
   "id": "a254a7d0-7edc-4480-bb59-7af64f765921",
   "metadata": {},
   "outputs": [],
   "source": []
  },
  {
   "cell_type": "code",
   "execution_count": null,
   "id": "698ac2b9-8ab8-4fe9-bd72-38af0a7b2fb4",
   "metadata": {},
   "outputs": [],
   "source": []
  },
  {
   "cell_type": "code",
   "execution_count": null,
   "id": "d5240635-195e-487c-92a4-138edcf3bc95",
   "metadata": {},
   "outputs": [],
   "source": []
  },
  {
   "cell_type": "code",
   "execution_count": null,
   "id": "b1388137-829e-4a6b-ba09-a4295396e628",
   "metadata": {},
   "outputs": [],
   "source": []
  },
  {
   "cell_type": "code",
   "execution_count": null,
   "id": "ca07b3ce-0d51-40ed-a109-53b0e4ea3d73",
   "metadata": {},
   "outputs": [],
   "source": []
  }
 ],
 "metadata": {
  "kernelspec": {
   "display_name": "Python 3 (ipykernel)",
   "language": "python",
   "name": "python3"
  },
  "language_info": {
   "codemirror_mode": {
    "name": "ipython",
    "version": 3
   },
   "file_extension": ".py",
   "mimetype": "text/x-python",
   "name": "python",
   "nbconvert_exporter": "python",
   "pygments_lexer": "ipython3",
   "version": "3.8.10"
  }
 },
 "nbformat": 4,
 "nbformat_minor": 5
}
