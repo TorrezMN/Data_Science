{
 "cells": [
  {
   "cell_type": "code",
   "execution_count": 1,
   "id": "06d7d3c3",
   "metadata": {},
   "outputs": [],
   "source": [
    "# Importing Libs\n",
    "import pandas as pd\n",
    "import matplotlib.pyplot as plt\n",
    "%matplotlib inline"
   ]
  },
  {
   "cell_type": "code",
   "execution_count": 2,
   "id": "0faabd39",
   "metadata": {},
   "outputs": [],
   "source": [
    "plt.rcParams['figure.figsize'] = [12, 7]"
   ]
  },
  {
   "cell_type": "code",
   "execution_count": 3,
   "id": "671eeca3",
   "metadata": {},
   "outputs": [],
   "source": [
    "df = pd.read_csv('../enc_devs_py.csv')"
   ]
  },
  {
   "cell_type": "code",
   "execution_count": 4,
   "id": "57fbeaf5",
   "metadata": {},
   "outputs": [
    {
     "data": {
      "text/html": [
       " <style>\n",
       ".output_png {\n",
       "    display: table-cell;\n",
       "    text-align: center;\n",
       "    vertical-align: middle;\n",
       "}\n",
       "</style> "
      ],
      "text/plain": [
       "<IPython.core.display.HTML object>"
      ]
     },
     "execution_count": 4,
     "metadata": {},
     "output_type": "execute_result"
    }
   ],
   "source": [
    "from IPython.core.display import HTML as Center\n",
    "\n",
    "Center(\"\"\" <style>\n",
    ".output_png {\n",
    "    display: table-cell;\n",
    "    text-align: center;\n",
    "    vertical-align: middle;\n",
    "}\n",
    "</style> \"\"\")"
   ]
  },
  {
   "cell_type": "markdown",
   "id": "5f437e8f",
   "metadata": {},
   "source": [
    "# Modalidad\n",
    "---\n",
    "- Modalidad de trabajo de los encuestados."
   ]
  },
  {
   "cell_type": "code",
   "execution_count": 5,
   "id": "2a6e6af5",
   "metadata": {},
   "outputs": [
    {
     "data": {
      "text/plain": [
       "(342,)"
      ]
     },
     "execution_count": 5,
     "metadata": {},
     "output_type": "execute_result"
    }
   ],
   "source": [
    "# Cantidad de respuestas.\n",
    "df['Modalidad'].shape"
   ]
  },
  {
   "cell_type": "code",
   "execution_count": 6,
   "id": "f57b7f63",
   "metadata": {},
   "outputs": [
    {
     "data": {
      "text/plain": [
       "0"
      ]
     },
     "execution_count": 6,
     "metadata": {},
     "output_type": "execute_result"
    }
   ],
   "source": [
    "# Conteo de respuestas vacias.\n",
    "df['Modalidad'].isna().sum()"
   ]
  },
  {
   "cell_type": "code",
   "execution_count": 7,
   "id": "9cc9f296",
   "metadata": {},
   "outputs": [
    {
     "data": {
      "text/plain": [
       "Remoto                       145\n",
       "Hibrído                      110\n",
       "Presencial                    78\n",
       "Ninguna de las anteriores      9\n",
       "Name: Modalidad, dtype: int64"
      ]
     },
     "execution_count": 7,
     "metadata": {},
     "output_type": "execute_result"
    }
   ],
   "source": [
    "df['Modalidad'].value_counts()"
   ]
  },
  {
   "cell_type": "code",
   "execution_count": 8,
   "id": "ef781cdd",
   "metadata": {},
   "outputs": [
    {
     "data": {
      "text/plain": [
       "Remoto                       0.423977\n",
       "Hibrído                      0.321637\n",
       "Presencial                   0.228070\n",
       "Ninguna de las anteriores    0.026316\n",
       "Name: Modalidad, dtype: float64"
      ]
     },
     "execution_count": 8,
     "metadata": {},
     "output_type": "execute_result"
    }
   ],
   "source": [
    "df['Modalidad'].value_counts(normalize=True)"
   ]
  },
  {
   "cell_type": "code",
   "execution_count": 9,
   "id": "4d95373a",
   "metadata": {},
   "outputs": [
    {
     "data": {
      "text/plain": [
       "<AxesSubplot:title={'center':'Modalidad de Trabajo'}>"
      ]
     },
     "execution_count": 9,
     "metadata": {},
     "output_type": "execute_result"
    },
    {
     "data": {
      "image/png": "[encoded data removed]",
      "text/plain": [
       "<Figure size 864x504 with 1 Axes>"
      ]
     },
     "metadata": {},
     "output_type": "display_data"
    }
   ],
   "source": [
    "df['Modalidad'].value_counts(normalize=True).plot(\n",
    "    kind = 'pie',\n",
    "    title = 'Modalidad de Trabajo',\n",
    "    ylabel = '')"
   ]
  },
  {
   "cell_type": "code",
   "execution_count": 10,
   "id": "eaee98f6",
   "metadata": {},
   "outputs": [
    {
     "data": {
      "text/plain": [
       "Index(['Remoto', 'Hibrído', 'Presencial', 'Ninguna de las anteriores'], dtype='object')"
      ]
     },
     "execution_count": 10,
     "metadata": {},
     "output_type": "execute_result"
    }
   ],
   "source": [
    "df['Modalidad'].value_counts().keys()"
   ]
  },
  {
   "cell_type": "code",
   "execution_count": 11,
   "id": "ba359e5a",
   "metadata": {},
   "outputs": [],
   "source": [
    "df['Modalidad'].replace({\n",
    "    'Ninguna de las anteriores':'Ninguna'\n",
    "}, inplace =True)"
   ]
  },
  {
   "cell_type": "code",
   "execution_count": 12,
   "id": "1d373ade",
   "metadata": {},
   "outputs": [
    {
     "data": {
      "text/plain": [
       "Index(['Remoto', 'Hibrído', 'Presencial', 'Ninguna'], dtype='object')"
      ]
     },
     "execution_count": 12,
     "metadata": {},
     "output_type": "execute_result"
    }
   ],
   "source": [
    "df['Modalidad'].value_counts().keys()"
   ]
  },
  {
   "cell_type": "markdown",
   "id": "e11376dd",
   "metadata": {},
   "source": [
    "# Modalidad de trabajo por genero.\n",
    "---"
   ]
  },
  {
   "cell_type": "code",
   "execution_count": 13,
   "id": "09cf5119",
   "metadata": {},
   "outputs": [
    {
     "data": {
      "text/plain": [
       "Index(['Hombre', 'Mujer', 'Prefiero no compartir', 'Otros', 'Género'], dtype='object')"
      ]
     },
     "execution_count": 13,
     "metadata": {},
     "output_type": "execute_result"
    }
   ],
   "source": [
    "df['Género'].value_counts().keys()"
   ]
  },
  {
   "cell_type": "markdown",
   "id": "a99face4",
   "metadata": {},
   "source": [
    "## Genero no definido."
   ]
  },
  {
   "cell_type": "code",
   "execution_count": 14,
   "id": "f198e3f3",
   "metadata": {},
   "outputs": [
    {
     "data": {
      "text/plain": [
       "0       Remoto\n",
       "78     Hibrído\n",
       "146    Ninguna\n",
       "147     Remoto\n",
       "158     Remoto\n",
       "301     Remoto\n",
       "Name: Modalidad, dtype: object"
      ]
     },
     "execution_count": 14,
     "metadata": {},
     "output_type": "execute_result"
    }
   ],
   "source": [
    "df[df['Género'].isin(['Prefiero no compartir', 'Otros','Género' ])]['Modalidad']"
   ]
  },
  {
   "cell_type": "code",
   "execution_count": 15,
   "id": "e1963a5d",
   "metadata": {},
   "outputs": [
    {
     "data": {
      "text/plain": [
       "Remoto     4\n",
       "Ninguna    1\n",
       "Hibrído    1\n",
       "Name: Modalidad, dtype: int64"
      ]
     },
     "execution_count": 15,
     "metadata": {},
     "output_type": "execute_result"
    }
   ],
   "source": [
    "df[df['Género'].isin(['Prefiero no compartir', 'Otros','Género' ])]['Modalidad'].value_counts()"
   ]
  },
  {
   "cell_type": "code",
   "execution_count": 16,
   "id": "1bddcbea",
   "metadata": {},
   "outputs": [
    {
     "data": {
      "text/plain": [
       "0"
      ]
     },
     "execution_count": 16,
     "metadata": {},
     "output_type": "execute_result"
    }
   ],
   "source": [
    "df[df['Género'].isin(['Prefiero no compartir', 'Otros','Género' ])]['Modalidad'].isna().sum()"
   ]
  },
  {
   "cell_type": "code",
   "execution_count": 17,
   "id": "4e82921c",
   "metadata": {},
   "outputs": [
    {
     "data": {
      "text/plain": [
       "<AxesSubplot:title={'center':'Genero Indefinido - Modalidad de Trabajo'}>"
      ]
     },
     "execution_count": 17,
     "metadata": {},
     "output_type": "execute_result"
    },
    {
     "data": {
      "image/png": "[encoded data removed]",
      "text/plain": [
       "<Figure size 864x504 with 1 Axes>"
      ]
     },
     "metadata": {},
     "output_type": "display_data"
    }
   ],
   "source": [
    "df[df['Género'].isin(['Prefiero no compartir', 'Otros','Género' ])]['Modalidad'].value_counts(normalize=True).plot(\n",
    "    kind='pie',\n",
    "    title='Genero Indefinido - Modalidad de Trabajo',\n",
    "    ylabel = '')"
   ]
  },
  {
   "cell_type": "markdown",
   "id": "dbb9aa1c",
   "metadata": {},
   "source": [
    "## Hombres"
   ]
  },
  {
   "cell_type": "code",
   "execution_count": 18,
   "id": "9d66448a",
   "metadata": {},
   "outputs": [
    {
     "data": {
      "text/plain": [
       "Remoto        117\n",
       "Hibrído        94\n",
       "Presencial     60\n",
       "Ninguna         8\n",
       "Name: Modalidad, dtype: int64"
      ]
     },
     "execution_count": 18,
     "metadata": {},
     "output_type": "execute_result"
    }
   ],
   "source": [
    "df.groupby('Género').get_group('Hombre')['Modalidad'].value_counts()"
   ]
  },
  {
   "cell_type": "code",
   "execution_count": 19,
   "id": "af467474",
   "metadata": {},
   "outputs": [
    {
     "data": {
      "text/plain": [
       "Remoto        0.419355\n",
       "Hibrído       0.336918\n",
       "Presencial    0.215054\n",
       "Ninguna       0.028674\n",
       "Name: Modalidad, dtype: float64"
      ]
     },
     "execution_count": 19,
     "metadata": {},
     "output_type": "execute_result"
    }
   ],
   "source": [
    "df.groupby('Género').get_group('Hombre')['Modalidad'].value_counts(normalize=True)"
   ]
  },
  {
   "cell_type": "code",
   "execution_count": 20,
   "id": "a115098d",
   "metadata": {},
   "outputs": [
    {
     "name": "stderr",
     "output_type": "stream",
     "text": [
      "/home/torrezmn/Documents/DS_ENV/lib/python3.6/site-packages/pandas/plotting/_matplotlib/core.py:1547: MatplotlibDeprecationWarning: normalize=None does not normalize if the sum is less than 1 but this behavior is deprecated since 3.3 until two minor releases later. After the deprecation period the default value will be normalize=True. To prevent normalization pass normalize=False \n",
      "  results = ax.pie(y, labels=blabels, **kwds)\n"
     ]
    },
    {
     "data": {
      "text/plain": [
       "<AxesSubplot:title={'center':'Modalidad de Trabajo de Hombres'}>"
      ]
     },
     "execution_count": 20,
     "metadata": {},
     "output_type": "execute_result"
    },
    {
     "data": {
      "image/png": "[encoded data removed]",
      "text/plain": [
       "<Figure size 864x504 with 1 Axes>"
      ]
     },
     "metadata": {},
     "output_type": "display_data"
    }
   ],
   "source": [
    "df.groupby('Género').get_group('Hombre')['Modalidad'].value_counts(normalize=True).plot(\n",
    "    kind = 'pie',\n",
    "    title = 'Modalidad de Trabajo de Hombres', \n",
    "    ylabel = '')"
   ]
  },
  {
   "cell_type": "markdown",
   "id": "047938b3",
   "metadata": {},
   "source": [
    "## Mujer"
   ]
  },
  {
   "cell_type": "code",
   "execution_count": 21,
   "id": "a6b698f9",
   "metadata": {},
   "outputs": [
    {
     "data": {
      "text/plain": [
       "Remoto        20\n",
       "Presencial    18\n",
       "Hibrído       11\n",
       "Name: Modalidad, dtype: int64"
      ]
     },
     "execution_count": 21,
     "metadata": {},
     "output_type": "execute_result"
    }
   ],
   "source": [
    "df.groupby('Género').get_group('Mujer')['Modalidad'].value_counts()"
   ]
  },
  {
   "cell_type": "code",
   "execution_count": 22,
   "id": "b36af8ce",
   "metadata": {},
   "outputs": [
    {
     "data": {
      "text/plain": [
       "Remoto        0.408163\n",
       "Presencial    0.367347\n",
       "Hibrído       0.224490\n",
       "Name: Modalidad, dtype: float64"
      ]
     },
     "execution_count": 22,
     "metadata": {},
     "output_type": "execute_result"
    }
   ],
   "source": [
    "df.groupby('Género').get_group('Mujer')['Modalidad'].value_counts(normalize=True)"
   ]
  },
  {
   "cell_type": "code",
   "execution_count": 23,
   "id": "123dbe1c",
   "metadata": {},
   "outputs": [
    {
     "data": {
      "text/plain": [
       "<AxesSubplot:title={'center':'Modalidad de trabajo de mujeres.'}>"
      ]
     },
     "execution_count": 23,
     "metadata": {},
     "output_type": "execute_result"
    },
    {
     "data": {
      "image/png": "[encoded data removed]",
      "text/plain": [
       "<Figure size 864x504 with 1 Axes>"
      ]
     },
     "metadata": {},
     "output_type": "display_data"
    }
   ],
   "source": [
    "df.groupby('Género').get_group('Mujer')['Modalidad'].value_counts(normalize=True).plot(\n",
    "    kind='pie',\n",
    "    title='Modalidad de trabajo de mujeres.',\n",
    "    ylabel='')"
   ]
  },
  {
   "cell_type": "markdown",
   "id": "116e539f",
   "metadata": {},
   "source": [
    "## COMPARATIVA TODOS LOS GENEROS"
   ]
  },
  {
   "cell_type": "code",
   "execution_count": 24,
   "id": "ad433039",
   "metadata": {},
   "outputs": [
    {
     "data": {
      "image/png": "[encoded data removed]",
      "text/plain": [
       "<Figure size 864x504 with 3 Axes>"
      ]
     },
     "metadata": {
      "needs_background": "light"
     },
     "output_type": "display_data"
    }
   ],
   "source": [
    "plt.figure() \n",
    "plt.subplot(3,1,1)\n",
    "\n",
    "\n",
    "df.groupby('Género').get_group('Mujer')['Modalidad'].value_counts(normalize=True).plot(\n",
    "    kind='barh',\n",
    "    title='Modalidad de trabajo de mujeres.',\n",
    "    ylabel='',\n",
    "    color='pink'\n",
    "    )\n",
    "\n",
    "\n",
    "plt.subplot(3,1,2)\n",
    "df.groupby('Género').get_group('Hombre')['Modalidad'].value_counts(normalize=True).plot(\n",
    "    kind = 'barh',\n",
    "    title = 'Modalidad de Trabajo de Hombres', \n",
    "    ylabel = '',\n",
    "    color='blue')\n",
    "\n",
    "plt.subplot(3,1,3)\n",
    "df[df['Género'].isin(['Prefiero no compartir', 'Otros','Género' ])]['Modalidad'].value_counts(normalize=True).plot(\n",
    "    kind='barh',\n",
    "    title='Genero Indefinido - Modalidad de Trabajo',\n",
    "    ylabel = '',\n",
    "    color='gray',\n",
    "    )\n",
    "\n",
    "\n",
    "plt.subplots_adjust(left=0.1,\n",
    "                    bottom=0.1, \n",
    "                    right=0.9, \n",
    "                    top=0.9, \n",
    "                    wspace=0.4, \n",
    "                    hspace=0.4)"
   ]
  },
  {
   "cell_type": "markdown",
   "id": "09006ef9",
   "metadata": {},
   "source": [
    "# Modalida de Trabajo por edad\n",
    "---"
   ]
  },
  {
   "cell_type": "code",
   "execution_count": 25,
   "id": "41db458a",
   "metadata": {},
   "outputs": [
    {
     "data": {
      "text/plain": [
       "30 a 34 años    120\n",
       "25 a 29 años     98\n",
       "35 a 39 años     51\n",
       "20 a 24 años     42\n",
       "40 a 44 años     16\n",
       "15 a 19 años      6\n",
       "45 a 49 años      3\n",
       "55 a 59 años      3\n",
       "50 a 54 años      3\n",
       "Name: Edad actual , dtype: int64"
      ]
     },
     "execution_count": 25,
     "metadata": {},
     "output_type": "execute_result"
    }
   ],
   "source": [
    "df['Edad actual '].value_counts()"
   ]
  },
  {
   "cell_type": "code",
   "execution_count": 26,
   "id": "1bf09cb9",
   "metadata": {},
   "outputs": [
    {
     "data": {
      "text/plain": [
       "0"
      ]
     },
     "execution_count": 26,
     "metadata": {},
     "output_type": "execute_result"
    }
   ],
   "source": [
    "df['Edad actual '].isna().sum()"
   ]
  },
  {
   "cell_type": "code",
   "execution_count": 27,
   "id": "ef14e07f",
   "metadata": {},
   "outputs": [],
   "source": [
    "grupos_etarios = [i for i in df['Edad actual '].value_counts().keys()]"
   ]
  },
  {
   "cell_type": "code",
   "execution_count": 28,
   "id": "d77fd076",
   "metadata": {},
   "outputs": [],
   "source": [
    "# df.loc[df['Edad actual '] == '30 a 34 años'].shape[0]"
   ]
  },
  {
   "cell_type": "code",
   "execution_count": 29,
   "id": "1d546451",
   "metadata": {},
   "outputs": [
    {
     "data": {
      "image/png": "[encoded data removed]",
      "text/plain": [
       "<Figure size 864x504 with 9 Axes>"
      ]
     },
     "metadata": {
      "needs_background": "light"
     },
     "output_type": "display_data"
    }
   ],
   "source": [
    "plt.figure() \n",
    "\n",
    "for k,v in enumerate(grupos_etarios):\n",
    "    plt.subplot(3,3,k+1)\n",
    "    df.groupby('Edad actual ').get_group(v)['Modalidad'].value_counts().plot(\n",
    "        kind='barh',\n",
    "        title='Mod de Trabajo {0} |{1}'.format(v,df.loc[df['Edad actual '] == v].shape[0]))\n",
    "    \n",
    "\n",
    "plt.subplots_adjust(left=0.1,\n",
    "                    bottom=0.1, \n",
    "                    right=0.9, \n",
    "                    top=0.9, \n",
    "                    wspace=0.4, \n",
    "                    hspace=0.4)"
   ]
  },
  {
   "cell_type": "markdown",
   "id": "6952bb21",
   "metadata": {},
   "source": [
    "# Modalidad segun Salario mensual\n",
    "---"
   ]
  },
  {
   "cell_type": "code",
   "execution_count": 30,
   "id": "eaba1138",
   "metadata": {},
   "outputs": [
    {
     "data": {
      "text/plain": [
       "Index(['Remoto', 'Hibrído', 'Presencial', 'Ninguna'], dtype='object')"
      ]
     },
     "execution_count": 30,
     "metadata": {},
     "output_type": "execute_result"
    }
   ],
   "source": [
    "df['Modalidad'].value_counts().keys()"
   ]
  },
  {
   "cell_type": "code",
   "execution_count": 31,
   "id": "0f4bbf51",
   "metadata": {},
   "outputs": [
    {
     "data": {
      "text/plain": [
       "Entre 5.000.000 a 7.000.000 gs              27\n",
       "Entre 3.500.000 a 5.000.000 gs              22\n",
       "Entre 7.000.000 a 9.000.000 gs              19\n",
       "Entre 9.000.000 a 12.000.000 gs             18\n",
       "Más de 27.000.000 gs                        15\n",
       "Entre 2.192.839 gs a 3.500.000 gs           11\n",
       "Entre 12.000.000 a 15.000.000 gs             7\n",
       "Menos del salario mínimo ( 2.192.839 gs)     7\n",
       "Entre 15.000.000 a 18.000.000 gs             6\n",
       "Entre 18.000.000 a 21.000.000 gs             5\n",
       "Entre 24.000.000 a 27.000.000 gs             3\n",
       "Entre 21.000.000 a 24.000.000 gs             3\n",
       "Salario mínimo 2.192.839 gs                  2\n",
       "Name: Salario mensual, dtype: int64"
      ]
     },
     "execution_count": 31,
     "metadata": {},
     "output_type": "execute_result"
    }
   ],
   "source": [
    "df.groupby('Modalidad').get_group('Remoto')['Salario mensual'].value_counts()"
   ]
  },
  {
   "cell_type": "code",
   "execution_count": 32,
   "id": "7c6f78f7",
   "metadata": {},
   "outputs": [
    {
     "data": {
      "text/plain": [
       "Entre 5.000.000 a 7.000.000 gs              20\n",
       "Entre 12.000.000 a 15.000.000 gs            16\n",
       "Entre 9.000.000 a 12.000.000 gs             15\n",
       "Entre 7.000.000 a 9.000.000 gs              15\n",
       "Entre 3.500.000 a 5.000.000 gs              14\n",
       "Entre 2.192.839 gs a 3.500.000 gs           11\n",
       "Entre 15.000.000 a 18.000.000 gs             7\n",
       "Entre 18.000.000 a 21.000.000 gs             3\n",
       "Entre 21.000.000 a 24.000.000 gs             3\n",
       "Menos del salario mínimo ( 2.192.839 gs)     2\n",
       "Salario mínimo 2.192.839 gs                  2\n",
       "Más de 27.000.000 gs                         1\n",
       "Entre 24.000.000 a 27.000.000 gs             1\n",
       "Name: Salario mensual, dtype: int64"
      ]
     },
     "execution_count": 32,
     "metadata": {},
     "output_type": "execute_result"
    }
   ],
   "source": [
    "df.groupby('Modalidad').get_group('Hibrído')['Salario mensual'].value_counts()"
   ]
  },
  {
   "cell_type": "code",
   "execution_count": 33,
   "id": "1c62be6e",
   "metadata": {},
   "outputs": [
    {
     "data": {
      "text/plain": [
       "Entre 7.000.000 a 9.000.000 gs       16\n",
       "Entre 2.192.839 gs a 3.500.000 gs    15\n",
       "Entre 5.000.000 a 7.000.000 gs       14\n",
       "Entre 9.000.000 a 12.000.000 gs      12\n",
       "Entre 3.500.000 a 5.000.000 gs        9\n",
       "Entre 12.000.000 a 15.000.000 gs      5\n",
       "Salario mínimo 2.192.839 gs           4\n",
       "Entre 15.000.000 a 18.000.000 gs      1\n",
       "Entre 18.000.000 a 21.000.000 gs      1\n",
       "Entre 21.000.000 a 24.000.000 gs      1\n",
       "Name: Salario mensual, dtype: int64"
      ]
     },
     "execution_count": 33,
     "metadata": {},
     "output_type": "execute_result"
    }
   ],
   "source": [
    "df.groupby('Modalidad').get_group('Presencial')['Salario mensual'].value_counts()"
   ]
  },
  {
   "cell_type": "code",
   "execution_count": 34,
   "id": "a1fcbe95",
   "metadata": {},
   "outputs": [
    {
     "data": {
      "text/plain": [
       "Menos del salario mínimo ( 2.192.839 gs)    4\n",
       "Entre 2.192.839 gs a 3.500.000 gs           2\n",
       "Entre 3.500.000 a 5.000.000 gs              1\n",
       "Más de 27.000.000 gs                        1\n",
       "Entre 5.000.000 a 7.000.000 gs              1\n",
       "Name: Salario mensual, dtype: int64"
      ]
     },
     "execution_count": 34,
     "metadata": {},
     "output_type": "execute_result"
    }
   ],
   "source": [
    "df.groupby('Modalidad').get_group('Ninguna')['Salario mensual'].value_counts()"
   ]
  },
  {
   "cell_type": "code",
   "execution_count": 35,
   "id": "3d6ce9c6",
   "metadata": {},
   "outputs": [
    {
     "data": {
      "text/plain": [
       "Index(['Marca temporal', 'Modalidad', 'Trabajo', 'Tipo de trabajo', 'DevOps',\n",
       "       'Codificar por trabajo', 'Experiencia en TI',\n",
       "       'Experiencia en codificación ',\n",
       "       'Primera línea de código en una máquina', 'Educación',\n",
       "       'Carreras o especialidades', 'Importancia educación formal', 'Género',\n",
       "       'Edad actual ', 'Salario mensual',\n",
       "       'Programación, scripting y lenguajes de marcado',\n",
       "       'Librerías o web frameworks',\n",
       "       'Otras frameworks, librerías y herramientas', 'Base de datos',\n",
       "       'Plataformas', 'Lenguaje favorito', 'Lenguaje más odiado',\n",
       "       'Framework favorito', 'Framework más odiado', 'Herramientas'],\n",
       "      dtype='object')"
      ]
     },
     "execution_count": 35,
     "metadata": {},
     "output_type": "execute_result"
    }
   ],
   "source": [
    "df.columns"
   ]
  },
  {
   "cell_type": "markdown",
   "id": "54b60b11",
   "metadata": {},
   "source": [
    "# Modalidad de Trabajo segun Educacion"
   ]
  },
  {
   "cell_type": "code",
   "execution_count": null,
   "id": "23b599d4",
   "metadata": {},
   "outputs": [],
   "source": []
  },
  {
   "cell_type": "code",
   "execution_count": 36,
   "id": "854ab0b3",
   "metadata": {},
   "outputs": [
    {
     "data": {
      "text/plain": [
       "Index(['Marca temporal', 'Modalidad', 'Trabajo', 'Tipo de trabajo', 'DevOps',\n",
       "       'Codificar por trabajo', 'Experiencia en TI',\n",
       "       'Experiencia en codificación ',\n",
       "       'Primera línea de código en una máquina', 'Educación',\n",
       "       'Carreras o especialidades', 'Importancia educación formal', 'Género',\n",
       "       'Edad actual ', 'Salario mensual',\n",
       "       'Programación, scripting y lenguajes de marcado',\n",
       "       'Librerías o web frameworks',\n",
       "       'Otras frameworks, librerías y herramientas', 'Base de datos',\n",
       "       'Plataformas', 'Lenguaje favorito', 'Lenguaje más odiado',\n",
       "       'Framework favorito', 'Framework más odiado', 'Herramientas'],\n",
       "      dtype='object')"
      ]
     },
     "execution_count": 36,
     "metadata": {},
     "output_type": "execute_result"
    }
   ],
   "source": [
    "df.columns"
   ]
  },
  {
   "cell_type": "markdown",
   "id": "4c998da7",
   "metadata": {},
   "source": [
    "# Modalidad segun tipo de trabajo"
   ]
  },
  {
   "cell_type": "code",
   "execution_count": 37,
   "id": "5593d766",
   "metadata": {},
   "outputs": [
    {
     "data": {
      "text/plain": [
       "['Remoto', 'Hibrído', 'Presencial', 'Ninguna']"
      ]
     },
     "execution_count": 37,
     "metadata": {},
     "output_type": "execute_result"
    }
   ],
   "source": [
    "modalidad = [i for i in df['Modalidad'].value_counts().keys()]\n",
    "modalidad"
   ]
  },
  {
   "cell_type": "markdown",
   "id": "4feda70c",
   "metadata": {},
   "source": [
    "### Tipo de trabajo MODALIDAD REMOTA"
   ]
  },
  {
   "cell_type": "code",
   "execution_count": 38,
   "id": "6754089e",
   "metadata": {},
   "outputs": [
    {
     "data": {
      "text/plain": [
       "0                                           QA o testing\n",
       "4                                   Desarrollador mobile\n",
       "5                                   Desarrollador mobile\n",
       "6         Desarrollador back-end;Desarrollador front-end\n",
       "8                                 Desarrollador back-end\n",
       "                             ...                        \n",
       "329           Aplicaciones de escritorio o empresariales\n",
       "332                             Desarrollador full-stack\n",
       "333    Desarrollador de sistemas embebidos;Aplicacion...\n",
       "334    Desarrollador back-end;Desarrollador front-end...\n",
       "337    Desarrollador full-stack;Aplicaciones de escri...\n",
       "Name: Tipo de trabajo, Length: 145, dtype: object"
      ]
     },
     "execution_count": 38,
     "metadata": {},
     "output_type": "execute_result"
    }
   ],
   "source": [
    "df.groupby('Modalidad').get_group('Remoto')['Tipo de trabajo']"
   ]
  },
  {
   "cell_type": "code",
   "execution_count": 39,
   "id": "3eb98b5a",
   "metadata": {},
   "outputs": [],
   "source": [
    "tipo_trabajo_remoto = {}\n",
    "def set_tipo_trabajo_remoto(tipo):\n",
    "    for i in tipo.split(';'):\n",
    "        tipo_trabajo_remoto[i]=0\n",
    "        \n",
    "def count_tipo_trabajo_remoto(tipo):\n",
    "    for i in tipo.split(';'):\n",
    "        tipo_trabajo_remoto[i]+=1\n",
    "    "
   ]
  },
  {
   "cell_type": "code",
   "execution_count": 40,
   "id": "2c959300",
   "metadata": {},
   "outputs": [
    {
     "data": {
      "text/plain": [
       "0      None\n",
       "4      None\n",
       "5      None\n",
       "6      None\n",
       "8      None\n",
       "       ... \n",
       "329    None\n",
       "332    None\n",
       "333    None\n",
       "334    None\n",
       "337    None\n",
       "Name: Tipo de trabajo, Length: 145, dtype: object"
      ]
     },
     "execution_count": 40,
     "metadata": {},
     "output_type": "execute_result"
    }
   ],
   "source": [
    "df.groupby('Modalidad').get_group('Remoto')['Tipo de trabajo'].map(set_tipo_trabajo_remoto)\n",
    "df.groupby('Modalidad').get_group('Remoto')['Tipo de trabajo'].map(count_tipo_trabajo_remoto)"
   ]
  },
  {
   "cell_type": "code",
   "execution_count": 41,
   "id": "028db8f8",
   "metadata": {},
   "outputs": [
    {
     "data": {
      "text/html": [
       "<div>\n",
       "<style scoped>\n",
       "    .dataframe tbody tr th:only-of-type {\n",
       "        vertical-align: middle;\n",
       "    }\n",
       "\n",
       "    .dataframe tbody tr th {\n",
       "        vertical-align: top;\n",
       "    }\n",
       "\n",
       "    .dataframe thead th {\n",
       "        text-align: right;\n",
       "    }\n",
       "</style>\n",
       "<table border=\"1\" class=\"dataframe\">\n",
       "  <thead>\n",
       "    <tr style=\"text-align: right;\">\n",
       "      <th></th>\n",
       "      <th>conteo</th>\n",
       "    </tr>\n",
       "    <tr>\n",
       "      <th>trabajo</th>\n",
       "      <th></th>\n",
       "    </tr>\n",
       "  </thead>\n",
       "  <tbody>\n",
       "    <tr>\n",
       "      <th>QA o testing</th>\n",
       "      <td>10</td>\n",
       "    </tr>\n",
       "    <tr>\n",
       "      <th>Desarrollador mobile</th>\n",
       "      <td>26</td>\n",
       "    </tr>\n",
       "    <tr>\n",
       "      <th>Desarrollador back-end</th>\n",
       "      <td>56</td>\n",
       "    </tr>\n",
       "    <tr>\n",
       "      <th>Desarrollador front-end</th>\n",
       "      <td>48</td>\n",
       "    </tr>\n",
       "    <tr>\n",
       "      <th>Desarrollador full-stack</th>\n",
       "      <td>68</td>\n",
       "    </tr>\n",
       "    <tr>\n",
       "      <th>Desarrollador de sistemas embebidos</th>\n",
       "      <td>7</td>\n",
       "    </tr>\n",
       "    <tr>\n",
       "      <th>Administrador de base de datos</th>\n",
       "      <td>21</td>\n",
       "    </tr>\n",
       "    <tr>\n",
       "      <th>Project Leader</th>\n",
       "      <td>22</td>\n",
       "    </tr>\n",
       "    <tr>\n",
       "      <th>Desarrollador de videojuegos</th>\n",
       "      <td>4</td>\n",
       "    </tr>\n",
       "    <tr>\n",
       "      <th>Aplicaciones de escritorio o empresariales</th>\n",
       "      <td>18</td>\n",
       "    </tr>\n",
       "  </tbody>\n",
       "</table>\n",
       "</div>"
      ],
      "text/plain": [
       "                                            conteo\n",
       "trabajo                                           \n",
       "QA o testing                                    10\n",
       "Desarrollador mobile                            26\n",
       "Desarrollador back-end                          56\n",
       "Desarrollador front-end                         48\n",
       "Desarrollador full-stack                        68\n",
       "Desarrollador de sistemas embebidos              7\n",
       "Administrador de base de datos                  21\n",
       "Project Leader                                  22\n",
       "Desarrollador de videojuegos                     4\n",
       "Aplicaciones de escritorio o empresariales      18"
      ]
     },
     "execution_count": 41,
     "metadata": {},
     "output_type": "execute_result"
    }
   ],
   "source": [
    "pd.DataFrame(\n",
    "    data = tipo_trabajo_remoto.items(), \n",
    "    columns = ['trabajo','conteo']).set_index('trabajo')"
   ]
  },
  {
   "cell_type": "markdown",
   "id": "2a3a3856",
   "metadata": {},
   "source": [
    "### Tipo de trabajo MODALIDAD HIBRIDA"
   ]
  },
  {
   "cell_type": "code",
   "execution_count": 42,
   "id": "c974d1b7",
   "metadata": {},
   "outputs": [
    {
     "data": {
      "text/plain": [
       "1      Desarrollador full-stack;Aplicaciones de escri...\n",
       "2                                Desarrollador front-end\n",
       "3                               Desarrollador full-stack\n",
       "10                              Desarrollador full-stack\n",
       "15     Desarrollador back-end;Desarrollador mobile;Ap...\n",
       "                             ...                        \n",
       "327           Aplicaciones de escritorio o empresariales\n",
       "328    Desarrollador full-stack;Aplicaciones de escri...\n",
       "330    Aplicaciones de escritorio o empresariales;Adm...\n",
       "336                             Desarrollador full-stack\n",
       "341    Desarrollador back-end;Desarrollador front-end...\n",
       "Name: Tipo de trabajo, Length: 110, dtype: object"
      ]
     },
     "execution_count": 42,
     "metadata": {},
     "output_type": "execute_result"
    }
   ],
   "source": [
    "df.groupby('Modalidad').get_group('Hibrído')['Tipo de trabajo']"
   ]
  },
  {
   "cell_type": "code",
   "execution_count": 43,
   "id": "a333618e",
   "metadata": {},
   "outputs": [],
   "source": [
    "tipo_trabajo_hibrido = {}\n",
    "\n",
    "def set_tipo_trabajo_hibrido(tipo):\n",
    "    for i in tipo.split(';'):\n",
    "        tipo_trabajo_hibrido[i]=0\n",
    "def count_tipo_trabajo_hibrido(tipo):\n",
    "    for i in tipo.split(';'):\n",
    "        tipo_trabajo_hibrido[i]+=1"
   ]
  },
  {
   "cell_type": "code",
   "execution_count": 44,
   "id": "1f7c8778",
   "metadata": {},
   "outputs": [
    {
     "data": {
      "text/plain": [
       "1      None\n",
       "2      None\n",
       "3      None\n",
       "10     None\n",
       "15     None\n",
       "       ... \n",
       "327    None\n",
       "328    None\n",
       "330    None\n",
       "336    None\n",
       "341    None\n",
       "Name: Tipo de trabajo, Length: 110, dtype: object"
      ]
     },
     "execution_count": 44,
     "metadata": {},
     "output_type": "execute_result"
    }
   ],
   "source": [
    "df.groupby('Modalidad').get_group('Hibrído')['Tipo de trabajo'].map(set_tipo_trabajo_hibrido)\n",
    "df.groupby('Modalidad').get_group('Hibrído')['Tipo de trabajo'].map(count_tipo_trabajo_hibrido)"
   ]
  },
  {
   "cell_type": "code",
   "execution_count": 45,
   "id": "22d41053",
   "metadata": {},
   "outputs": [
    {
     "data": {
      "text/plain": [
       "{'Desarrollador full-stack': 51,\n",
       " 'Aplicaciones de escritorio o empresariales': 29,\n",
       " 'Project Leader': 27,\n",
       " 'Desarrollador front-end': 25,\n",
       " 'Desarrollador back-end': 46,\n",
       " 'Desarrollador mobile': 17,\n",
       " 'Desarrollador de sistemas embebidos': 8,\n",
       " 'QA o testing': 16,\n",
       " 'Administrador de base de datos': 28}"
      ]
     },
     "execution_count": 45,
     "metadata": {},
     "output_type": "execute_result"
    }
   ],
   "source": [
    "tipo_trabajo_hibrido"
   ]
  },
  {
   "cell_type": "code",
   "execution_count": 46,
   "id": "482c6069",
   "metadata": {},
   "outputs": [
    {
     "data": {
      "text/html": [
       "<div>\n",
       "<style scoped>\n",
       "    .dataframe tbody tr th:only-of-type {\n",
       "        vertical-align: middle;\n",
       "    }\n",
       "\n",
       "    .dataframe tbody tr th {\n",
       "        vertical-align: top;\n",
       "    }\n",
       "\n",
       "    .dataframe thead th {\n",
       "        text-align: right;\n",
       "    }\n",
       "</style>\n",
       "<table border=\"1\" class=\"dataframe\">\n",
       "  <thead>\n",
       "    <tr style=\"text-align: right;\">\n",
       "      <th></th>\n",
       "      <th>conteo</th>\n",
       "    </tr>\n",
       "    <tr>\n",
       "      <th>trabajo</th>\n",
       "      <th></th>\n",
       "    </tr>\n",
       "  </thead>\n",
       "  <tbody>\n",
       "    <tr>\n",
       "      <th>Desarrollador full-stack</th>\n",
       "      <td>51</td>\n",
       "    </tr>\n",
       "    <tr>\n",
       "      <th>Aplicaciones de escritorio o empresariales</th>\n",
       "      <td>29</td>\n",
       "    </tr>\n",
       "    <tr>\n",
       "      <th>Project Leader</th>\n",
       "      <td>27</td>\n",
       "    </tr>\n",
       "    <tr>\n",
       "      <th>Desarrollador front-end</th>\n",
       "      <td>25</td>\n",
       "    </tr>\n",
       "    <tr>\n",
       "      <th>Desarrollador back-end</th>\n",
       "      <td>46</td>\n",
       "    </tr>\n",
       "    <tr>\n",
       "      <th>Desarrollador mobile</th>\n",
       "      <td>17</td>\n",
       "    </tr>\n",
       "    <tr>\n",
       "      <th>Desarrollador de sistemas embebidos</th>\n",
       "      <td>8</td>\n",
       "    </tr>\n",
       "    <tr>\n",
       "      <th>QA o testing</th>\n",
       "      <td>16</td>\n",
       "    </tr>\n",
       "    <tr>\n",
       "      <th>Administrador de base de datos</th>\n",
       "      <td>28</td>\n",
       "    </tr>\n",
       "  </tbody>\n",
       "</table>\n",
       "</div>"
      ],
      "text/plain": [
       "                                            conteo\n",
       "trabajo                                           \n",
       "Desarrollador full-stack                        51\n",
       "Aplicaciones de escritorio o empresariales      29\n",
       "Project Leader                                  27\n",
       "Desarrollador front-end                         25\n",
       "Desarrollador back-end                          46\n",
       "Desarrollador mobile                            17\n",
       "Desarrollador de sistemas embebidos              8\n",
       "QA o testing                                    16\n",
       "Administrador de base de datos                  28"
      ]
     },
     "execution_count": 46,
     "metadata": {},
     "output_type": "execute_result"
    }
   ],
   "source": [
    "pd.DataFrame(\n",
    "    data = tipo_trabajo_hibrido.items(), \n",
    "    columns = ['trabajo','conteo']).set_index('trabajo')"
   ]
  },
  {
   "cell_type": "markdown",
   "id": "a17c1dd2",
   "metadata": {},
   "source": [
    "### Tipo de trabajo MODALIDAD PRESENCIAL"
   ]
  },
  {
   "cell_type": "code",
   "execution_count": 47,
   "id": "090cc0af",
   "metadata": {},
   "outputs": [
    {
     "data": {
      "text/plain": [
       "7                                 Desarrollador back-end\n",
       "11                               Desarrollador front-end\n",
       "12     Desarrollador full-stack;Aplicaciones de escri...\n",
       "13     Desarrollador back-end;Desarrollador front-end...\n",
       "18     Desarrollador full-stack;Administrador de base...\n",
       "                             ...                        \n",
       "331    Desarrollador back-end;Desarrollador front-end...\n",
       "335    Desarrollador back-end;Administrador de base d...\n",
       "338                                         QA o testing\n",
       "339    Desarrollador de sistemas embebidos;Aplicacion...\n",
       "340           Aplicaciones de escritorio o empresariales\n",
       "Name: Tipo de trabajo, Length: 78, dtype: object"
      ]
     },
     "execution_count": 47,
     "metadata": {},
     "output_type": "execute_result"
    }
   ],
   "source": [
    "df.groupby('Modalidad').get_group('Presencial')['Tipo de trabajo']"
   ]
  },
  {
   "cell_type": "code",
   "execution_count": 48,
   "id": "f80160cd",
   "metadata": {},
   "outputs": [],
   "source": [
    "tipo_trabajo_presencial = {}\n",
    "def set_tipo_trabajo_presencial(tipo):\n",
    "    for i in tipo.split(';'):\n",
    "        tipo_trabajo_presencial[i]=0\n",
    "def count_tipo_trabajo_presencial(tipo):\n",
    "    for i in tipo.split(';'):\n",
    "        tipo_trabajo_presencial[i]+=1"
   ]
  },
  {
   "cell_type": "code",
   "execution_count": 49,
   "id": "eadb0e6b",
   "metadata": {},
   "outputs": [
    {
     "data": {
      "text/plain": [
       "7      None\n",
       "11     None\n",
       "12     None\n",
       "13     None\n",
       "18     None\n",
       "       ... \n",
       "331    None\n",
       "335    None\n",
       "338    None\n",
       "339    None\n",
       "340    None\n",
       "Name: Tipo de trabajo, Length: 78, dtype: object"
      ]
     },
     "execution_count": 49,
     "metadata": {},
     "output_type": "execute_result"
    }
   ],
   "source": [
    "df.groupby('Modalidad').get_group('Presencial')['Tipo de trabajo'].map(set_tipo_trabajo_presencial)\n",
    "df.groupby('Modalidad').get_group('Presencial')['Tipo de trabajo'].map(count_tipo_trabajo_presencial)"
   ]
  },
  {
   "cell_type": "code",
   "execution_count": 50,
   "id": "00541805",
   "metadata": {},
   "outputs": [
    {
     "data": {
      "text/plain": [
       "{'Desarrollador back-end': 32,\n",
       " 'Desarrollador front-end': 24,\n",
       " 'Desarrollador full-stack': 41,\n",
       " 'Aplicaciones de escritorio o empresariales': 27,\n",
       " 'Administrador de base de datos': 22,\n",
       " 'Desarrollador mobile': 13,\n",
       " 'QA o testing': 7,\n",
       " 'Project Leader': 12,\n",
       " 'Desarrollador de sistemas embebidos': 8}"
      ]
     },
     "execution_count": 50,
     "metadata": {},
     "output_type": "execute_result"
    }
   ],
   "source": [
    "tipo_trabajo_presencial"
   ]
  },
  {
   "cell_type": "code",
   "execution_count": 51,
   "id": "4dbcd5ba",
   "metadata": {},
   "outputs": [
    {
     "data": {
      "text/html": [
       "<div>\n",
       "<style scoped>\n",
       "    .dataframe tbody tr th:only-of-type {\n",
       "        vertical-align: middle;\n",
       "    }\n",
       "\n",
       "    .dataframe tbody tr th {\n",
       "        vertical-align: top;\n",
       "    }\n",
       "\n",
       "    .dataframe thead th {\n",
       "        text-align: right;\n",
       "    }\n",
       "</style>\n",
       "<table border=\"1\" class=\"dataframe\">\n",
       "  <thead>\n",
       "    <tr style=\"text-align: right;\">\n",
       "      <th></th>\n",
       "      <th>conteo</th>\n",
       "    </tr>\n",
       "    <tr>\n",
       "      <th>trabajo</th>\n",
       "      <th></th>\n",
       "    </tr>\n",
       "  </thead>\n",
       "  <tbody>\n",
       "    <tr>\n",
       "      <th>Desarrollador back-end</th>\n",
       "      <td>32</td>\n",
       "    </tr>\n",
       "    <tr>\n",
       "      <th>Desarrollador front-end</th>\n",
       "      <td>24</td>\n",
       "    </tr>\n",
       "    <tr>\n",
       "      <th>Desarrollador full-stack</th>\n",
       "      <td>41</td>\n",
       "    </tr>\n",
       "    <tr>\n",
       "      <th>Aplicaciones de escritorio o empresariales</th>\n",
       "      <td>27</td>\n",
       "    </tr>\n",
       "    <tr>\n",
       "      <th>Administrador de base de datos</th>\n",
       "      <td>22</td>\n",
       "    </tr>\n",
       "    <tr>\n",
       "      <th>Desarrollador mobile</th>\n",
       "      <td>13</td>\n",
       "    </tr>\n",
       "    <tr>\n",
       "      <th>QA o testing</th>\n",
       "      <td>7</td>\n",
       "    </tr>\n",
       "    <tr>\n",
       "      <th>Project Leader</th>\n",
       "      <td>12</td>\n",
       "    </tr>\n",
       "    <tr>\n",
       "      <th>Desarrollador de sistemas embebidos</th>\n",
       "      <td>8</td>\n",
       "    </tr>\n",
       "  </tbody>\n",
       "</table>\n",
       "</div>"
      ],
      "text/plain": [
       "                                            conteo\n",
       "trabajo                                           \n",
       "Desarrollador back-end                          32\n",
       "Desarrollador front-end                         24\n",
       "Desarrollador full-stack                        41\n",
       "Aplicaciones de escritorio o empresariales      27\n",
       "Administrador de base de datos                  22\n",
       "Desarrollador mobile                            13\n",
       "QA o testing                                     7\n",
       "Project Leader                                  12\n",
       "Desarrollador de sistemas embebidos              8"
      ]
     },
     "execution_count": 51,
     "metadata": {},
     "output_type": "execute_result"
    }
   ],
   "source": [
    "pd.DataFrame(\n",
    "    data = tipo_trabajo_presencial.items(), \n",
    "    columns = ['trabajo','conteo']).set_index('trabajo')"
   ]
  },
  {
   "cell_type": "markdown",
   "id": "8c629508",
   "metadata": {},
   "source": [
    "### Tipo de trabajo MODALIDAD NINGUNA"
   ]
  },
  {
   "cell_type": "code",
   "execution_count": 52,
   "id": "3c45cbda",
   "metadata": {},
   "outputs": [
    {
     "data": {
      "text/plain": [
       "29                               Desarrollador front-end\n",
       "100           Aplicaciones de escritorio o empresariales\n",
       "146    Desarrollador back-end;Desarrollador front-end...\n",
       "151                              Desarrollador front-end\n",
       "170         Desarrollador front-end;Desarrollador mobile\n",
       "255                             Desarrollador full-stack\n",
       "319           Aplicaciones de escritorio o empresariales\n",
       "320    Desarrollador back-end;Aplicaciones de escrito...\n",
       "325                              Desarrollador front-end\n",
       "Name: Tipo de trabajo, dtype: object"
      ]
     },
     "execution_count": 52,
     "metadata": {},
     "output_type": "execute_result"
    }
   ],
   "source": [
    "df.groupby('Modalidad').get_group('Ninguna')['Tipo de trabajo']"
   ]
  },
  {
   "cell_type": "code",
   "execution_count": 53,
   "id": "493c668c",
   "metadata": {},
   "outputs": [],
   "source": [
    "tipo_trabajo_ninguna = {}\n",
    "def set_trabajo_ninguno(tipo):\n",
    "    for i in tipo.split(';'):\n",
    "        tipo_trabajo_ninguna[i]=0      \n",
    "def count_trabajo_ninguno(tipo):\n",
    "    for i in tipo.split(';'):\n",
    "        tipo_trabajo_ninguna[i]+=1   "
   ]
  },
  {
   "cell_type": "code",
   "execution_count": 54,
   "id": "c0fb9dd7",
   "metadata": {},
   "outputs": [
    {
     "data": {
      "text/plain": [
       "29     None\n",
       "100    None\n",
       "146    None\n",
       "151    None\n",
       "170    None\n",
       "255    None\n",
       "319    None\n",
       "320    None\n",
       "325    None\n",
       "Name: Tipo de trabajo, dtype: object"
      ]
     },
     "execution_count": 54,
     "metadata": {},
     "output_type": "execute_result"
    }
   ],
   "source": [
    "df.groupby('Modalidad').get_group('Ninguna')['Tipo de trabajo'].map(set_trabajo_ninguno)\n",
    "df.groupby('Modalidad').get_group('Ninguna')['Tipo de trabajo'].map(count_trabajo_ninguno)"
   ]
  },
  {
   "cell_type": "code",
   "execution_count": 55,
   "id": "804e88e5",
   "metadata": {},
   "outputs": [
    {
     "data": {
      "text/plain": [
       "{'Desarrollador front-end': 5,\n",
       " 'Aplicaciones de escritorio o empresariales': 4,\n",
       " 'Desarrollador back-end': 2,\n",
       " 'Desarrollador full-stack': 2,\n",
       " 'Desarrollador de sistemas embebidos': 1,\n",
       " 'Administrador de base de datos': 1,\n",
       " 'Project Leader': 1,\n",
       " 'Desarrollador mobile': 1}"
      ]
     },
     "execution_count": 55,
     "metadata": {},
     "output_type": "execute_result"
    }
   ],
   "source": [
    "tipo_trabajo_ninguna"
   ]
  },
  {
   "cell_type": "code",
   "execution_count": 56,
   "id": "091a2a2f",
   "metadata": {},
   "outputs": [
    {
     "data": {
      "text/html": [
       "<div>\n",
       "<style scoped>\n",
       "    .dataframe tbody tr th:only-of-type {\n",
       "        vertical-align: middle;\n",
       "    }\n",
       "\n",
       "    .dataframe tbody tr th {\n",
       "        vertical-align: top;\n",
       "    }\n",
       "\n",
       "    .dataframe thead th {\n",
       "        text-align: right;\n",
       "    }\n",
       "</style>\n",
       "<table border=\"1\" class=\"dataframe\">\n",
       "  <thead>\n",
       "    <tr style=\"text-align: right;\">\n",
       "      <th></th>\n",
       "      <th>conteo</th>\n",
       "    </tr>\n",
       "    <tr>\n",
       "      <th>trabajo</th>\n",
       "      <th></th>\n",
       "    </tr>\n",
       "  </thead>\n",
       "  <tbody>\n",
       "    <tr>\n",
       "      <th>Desarrollador front-end</th>\n",
       "      <td>5</td>\n",
       "    </tr>\n",
       "    <tr>\n",
       "      <th>Aplicaciones de escritorio o empresariales</th>\n",
       "      <td>4</td>\n",
       "    </tr>\n",
       "    <tr>\n",
       "      <th>Desarrollador back-end</th>\n",
       "      <td>2</td>\n",
       "    </tr>\n",
       "    <tr>\n",
       "      <th>Desarrollador full-stack</th>\n",
       "      <td>2</td>\n",
       "    </tr>\n",
       "    <tr>\n",
       "      <th>Desarrollador de sistemas embebidos</th>\n",
       "      <td>1</td>\n",
       "    </tr>\n",
       "    <tr>\n",
       "      <th>Administrador de base de datos</th>\n",
       "      <td>1</td>\n",
       "    </tr>\n",
       "    <tr>\n",
       "      <th>Project Leader</th>\n",
       "      <td>1</td>\n",
       "    </tr>\n",
       "    <tr>\n",
       "      <th>Desarrollador mobile</th>\n",
       "      <td>1</td>\n",
       "    </tr>\n",
       "  </tbody>\n",
       "</table>\n",
       "</div>"
      ],
      "text/plain": [
       "                                            conteo\n",
       "trabajo                                           \n",
       "Desarrollador front-end                          5\n",
       "Aplicaciones de escritorio o empresariales       4\n",
       "Desarrollador back-end                           2\n",
       "Desarrollador full-stack                         2\n",
       "Desarrollador de sistemas embebidos              1\n",
       "Administrador de base de datos                   1\n",
       "Project Leader                                   1\n",
       "Desarrollador mobile                             1"
      ]
     },
     "execution_count": 56,
     "metadata": {},
     "output_type": "execute_result"
    }
   ],
   "source": [
    "pd.DataFrame(\n",
    "    data = tipo_trabajo_ninguna.items(), \n",
    "    columns = ['trabajo','conteo']).set_index('trabajo')"
   ]
  },
  {
   "cell_type": "code",
   "execution_count": 57,
   "id": "c7155a4b",
   "metadata": {},
   "outputs": [
    {
     "data": {
      "text/plain": [
       "<Figure size 864x504 with 0 Axes>"
      ]
     },
     "metadata": {},
     "output_type": "display_data"
    },
    {
     "data": {
      "image/png": "[encoded data removed]",
      "text/plain": [
       "<Figure size 864x504 with 1 Axes>"
      ]
     },
     "metadata": {
      "needs_background": "light"
     },
     "output_type": "display_data"
    },
    {
     "data": {
      "image/png": "[encoded data removed]",
      "text/plain": [
       "<Figure size 864x504 with 1 Axes>"
      ]
     },
     "metadata": {
      "needs_background": "light"
     },
     "output_type": "display_data"
    },
    {
     "data": {
      "image/png": "[encoded data removed]",
      "text/plain": [
       "<Figure size 864x504 with 1 Axes>"
      ]
     },
     "metadata": {
      "needs_background": "light"
     },
     "output_type": "display_data"
    },
    {
     "data": {
      "image/png": "[encoded data removed]",
      "text/plain": [
       "<Figure size 864x504 with 1 Axes>"
      ]
     },
     "metadata": {
      "needs_background": "light"
     },
     "output_type": "display_data"
    }
   ],
   "source": [
    "plt.figure() \n",
    "\n",
    "\n",
    "\n",
    "\n",
    "\n",
    "pd.DataFrame(\n",
    "    data = tipo_trabajo_remoto.items(), \n",
    "    columns = ['trabajo','conteo']).set_index('trabajo').plot(\n",
    "    kind='barh',\n",
    "    title='TIpo de trabajo segun modalidad REMOTO',\n",
    "    ylabel='',\n",
    "    xlabel='')\n",
    "\n",
    "\n",
    "pd.DataFrame(\n",
    "    data = tipo_trabajo_hibrido.items(), \n",
    "    columns = ['trabajo','conteo']).set_index('trabajo').plot(\n",
    "    kind='barh',\n",
    "    title='Tipo de trabajo segun modalidad HIBRIDA',\n",
    "    ylabel='',\n",
    "    xlabel='')\n",
    "\n",
    "pd.DataFrame(\n",
    "    data = tipo_trabajo_presencial.items(), \n",
    "    columns = ['trabajo','conteo']).set_index('trabajo').plot(\n",
    "    kind='barh',\n",
    "    title='tipo de trabajo segun modalidad PRESENCIAL',\n",
    "    ylabel='',\n",
    "    xlabel='')\n",
    "\n",
    "\n",
    "pd.DataFrame(\n",
    "    data = tipo_trabajo_ninguna.items(), \n",
    "    columns = ['trabajo','conteo']).set_index('trabajo').plot(\n",
    "    kind='barh',\n",
    "    title='Tipo de trabajo segun modalidad NINGUNA',\n",
    "    ylabel='',\n",
    "    xlabel='')\n",
    "   \n",
    "plt.subplots_adjust(left=0.1,\n",
    "                    bottom=0.1, \n",
    "                    right=0.9, \n",
    "                    top=0.9, \n",
    "                    wspace=0.4, \n",
    "                    hspace=0.4)"
   ]
  },
  {
   "cell_type": "code",
   "execution_count": null,
   "id": "d93d34bc",
   "metadata": {},
   "outputs": [],
   "source": [
    " "
   ]
  },
  {
   "cell_type": "code",
   "execution_count": null,
   "id": "7f415773",
   "metadata": {},
   "outputs": [],
   "source": []
  },
  {
   "cell_type": "code",
   "execution_count": null,
   "id": "04688324",
   "metadata": {},
   "outputs": [],
   "source": []
  },
  {
   "cell_type": "code",
   "execution_count": null,
   "id": "81493336",
   "metadata": {},
   "outputs": [],
   "source": []
  },
  {
   "cell_type": "code",
   "execution_count": null,
   "id": "8d8fb950",
   "metadata": {},
   "outputs": [],
   "source": []
  },
  {
   "cell_type": "code",
   "execution_count": null,
   "id": "e8991500",
   "metadata": {},
   "outputs": [],
   "source": []
  }
 ],
 "metadata": {
  "kernelspec": {
   "display_name": "Python 3",
   "language": "python",
   "name": "python3"
  },
  "language_info": {
   "codemirror_mode": {
    "name": "ipython",
    "version": 3
   },
   "file_extension": ".py",
   "mimetype": "text/x-python",
   "name": "python",
   "nbconvert_exporter": "python",
   "pygments_lexer": "ipython3",
   "version": "3.6.9"
  }
 },
 "nbformat": 4,
 "nbformat_minor": 5
}
