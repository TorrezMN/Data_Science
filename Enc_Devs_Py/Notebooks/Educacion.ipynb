{
 "cells": [
  {
   "cell_type": "code",
   "execution_count": 12,
   "id": "b2961b07",
   "metadata": {},
   "outputs": [],
   "source": [
    "# Importing Libs\n",
    "import pandas as pd\n",
    "import matplotlib.pyplot as plt\n",
    "%matplotlib inline"
   ]
  },
  {
   "cell_type": "code",
   "execution_count": 13,
   "id": "65a236df",
   "metadata": {},
   "outputs": [],
   "source": [
    "plt.rcParams['figure.figsize'] = [12, 7]"
   ]
  },
  {
   "cell_type": "code",
   "execution_count": 14,
   "id": "1f2d8431",
   "metadata": {},
   "outputs": [],
   "source": [
    "df = pd.read_csv('../enc_devs_py.csv')"
   ]
  },
  {
   "cell_type": "code",
   "execution_count": 15,
   "id": "905c1f84",
   "metadata": {},
   "outputs": [
    {
     "data": {
      "text/html": [
       " <style>\n",
       ".output_png {\n",
       "    display: table-cell;\n",
       "    text-align: center;\n",
       "    vertical-align: middle;\n",
       "}\n",
       "</style> "
      ],
      "text/plain": [
       "<IPython.core.display.HTML object>"
      ]
     },
     "execution_count": 15,
     "metadata": {},
     "output_type": "execute_result"
    }
   ],
   "source": [
    "from IPython.core.display import HTML as Center\n",
    "\n",
    "Center(\"\"\" <style>\n",
    ".output_png {\n",
    "    display: table-cell;\n",
    "    text-align: center;\n",
    "    vertical-align: middle;\n",
    "}\n",
    "</style> \"\"\")"
   ]
  },
  {
   "cell_type": "markdown",
   "id": "1fc328e4",
   "metadata": {},
   "source": [
    "# EDUCACION\n",
    "- Sobre la EDUCACION DE LOS QUE CONTESTARON LAS PREGUNTAS"
   ]
  },
  {
   "cell_type": "markdown",
   "id": "ccdc9bde",
   "metadata": {},
   "source": [
    "#### Primera línea de código en una máquina"
   ]
  },
  {
   "cell_type": "code",
   "execution_count": 16,
   "id": "d69eb5d6",
   "metadata": {},
   "outputs": [
    {
     "data": {
      "text/plain": [
       "Menos de 10 años    101\n",
       "10 a 11 años         55\n",
       "14 a 15 años         51\n",
       "12 a 13 años         37\n",
       "16 a 17 años         31\n",
       "18 a 19 años         27\n",
       "20 a 21 años         16\n",
       "más de 30 años        6\n",
       "26 a 27 años          4\n",
       "22 a 23 años          4\n",
       "28 a 29 años          3\n",
       "24 a 25 años          3\n",
       "Name: Primera línea de código en una máquina, dtype: int64"
      ]
     },
     "execution_count": 16,
     "metadata": {},
     "output_type": "execute_result"
    }
   ],
   "source": [
    "df['Primera línea de código en una máquina'].value_counts()"
   ]
  },
  {
   "cell_type": "code",
   "execution_count": 17,
   "id": "a040f204",
   "metadata": {},
   "outputs": [
    {
     "data": {
      "text/plain": [
       "Menos de 10 años    0.298817\n",
       "10 a 11 años        0.162722\n",
       "14 a 15 años        0.150888\n",
       "12 a 13 años        0.109467\n",
       "16 a 17 años        0.091716\n",
       "18 a 19 años        0.079882\n",
       "20 a 21 años        0.047337\n",
       "más de 30 años      0.017751\n",
       "26 a 27 años        0.011834\n",
       "22 a 23 años        0.011834\n",
       "28 a 29 años        0.008876\n",
       "24 a 25 años        0.008876\n",
       "Name: Primera línea de código en una máquina, dtype: float64"
      ]
     },
     "execution_count": 17,
     "metadata": {},
     "output_type": "execute_result"
    }
   ],
   "source": [
    "df['Primera línea de código en una máquina'].value_counts(normalize=True)"
   ]
  },
  {
   "cell_type": "code",
   "execution_count": 18,
   "id": "55abe8ac",
   "metadata": {},
   "outputs": [
    {
     "data": {
      "text/plain": [
       "4"
      ]
     },
     "execution_count": 18,
     "metadata": {},
     "output_type": "execute_result"
    }
   ],
   "source": [
    "df['Primera línea de código en una máquina'].isna().sum()"
   ]
  },
  {
   "cell_type": "code",
   "execution_count": 19,
   "id": "58d95ad9",
   "metadata": {},
   "outputs": [
    {
     "data": {
      "text/plain": [
       "342"
      ]
     },
     "execution_count": 19,
     "metadata": {},
     "output_type": "execute_result"
    }
   ],
   "source": [
    "df['Primera línea de código en una máquina'].shape[0]"
   ]
  },
  {
   "cell_type": "code",
   "execution_count": 20,
   "id": "ca201251",
   "metadata": {},
   "outputs": [
    {
     "data": {
      "text/plain": [
       "<AxesSubplot:title={'center':'PRIMERA LINEA DE CODIGO'}>"
      ]
     },
     "execution_count": 20,
     "metadata": {},
     "output_type": "execute_result"
    },
    {
     "data": {
      "image/png": "[encoded data removed]",
      "text/plain": [
       "<Figure size 864x504 with 1 Axes>"
      ]
     },
     "metadata": {
      "needs_background": "light"
     },
     "output_type": "display_data"
    }
   ],
   "source": [
    "df['Primera línea de código en una máquina'].value_counts().plot(kind='barh', title='PRIMERA LINEA DE CODIGO')"
   ]
  },
  {
   "cell_type": "markdown",
   "id": "5e414ea2",
   "metadata": {},
   "source": [
    "###### PRIMERA LINEA DE CODIGO POR GENERO"
   ]
  },
  {
   "cell_type": "code",
   "execution_count": 21,
   "id": "6c9153fd",
   "metadata": {},
   "outputs": [],
   "source": [
    "generos = df.groupby('Género')"
   ]
  },
  {
   "cell_type": "code",
   "execution_count": 22,
   "id": "ab24bc67",
   "metadata": {},
   "outputs": [
    {
     "data": {
      "text/plain": [
       "Hombre                   279\n",
       "Mujer                     49\n",
       "Prefiero no compartir      3\n",
       "Otros                      2\n",
       "Género                     1\n",
       "Name: Género, dtype: int64"
      ]
     },
     "execution_count": 22,
     "metadata": {},
     "output_type": "execute_result"
    }
   ],
   "source": [
    "df['Género'].value_counts()"
   ]
  },
  {
   "cell_type": "markdown",
   "id": "94f8ea9b",
   "metadata": {},
   "source": [
    "- Solo Hombres"
   ]
  },
  {
   "cell_type": "code",
   "execution_count": 23,
   "id": "8c8fac29",
   "metadata": {},
   "outputs": [
    {
     "data": {
      "text/plain": [
       "Menos de 10 años    86\n",
       "10 a 11 años        45\n",
       "14 a 15 años        38\n",
       "16 a 17 años        29\n",
       "12 a 13 años        29\n",
       "18 a 19 años        22\n",
       "20 a 21 años        11\n",
       "más de 30 años       5\n",
       "26 a 27 años         4\n",
       "22 a 23 años         3\n",
       "24 a 25 años         3\n",
       "28 a 29 años         2\n",
       "Name: Primera línea de código en una máquina, dtype: int64"
      ]
     },
     "execution_count": 23,
     "metadata": {},
     "output_type": "execute_result"
    }
   ],
   "source": [
    "generos.get_group('Hombre')['Primera línea de código en una máquina'].value_counts()"
   ]
  },
  {
   "cell_type": "code",
   "execution_count": 24,
   "id": "16b1f114",
   "metadata": {},
   "outputs": [
    {
     "data": {
      "text/plain": [
       "<AxesSubplot:title={'center':'PRIMERA LINEA DE CODIGO - HOMBRES'}>"
      ]
     },
     "execution_count": 24,
     "metadata": {},
     "output_type": "execute_result"
    },
    {
     "data": {
      "image/png": "[encoded data removed]",
      "text/plain": [
       "<Figure size 864x504 with 1 Axes>"
      ]
     },
     "metadata": {
      "needs_background": "light"
     },
     "output_type": "display_data"
    }
   ],
   "source": [
    "generos.get_group('Hombre')['Primera línea de código en una máquina'].value_counts().plot(\n",
    "    kind='barh',\n",
    "    title='PRIMERA LINEA DE CODIGO - HOMBRES',\n",
    "    color='blue')"
   ]
  },
  {
   "cell_type": "markdown",
   "id": "8196c0a0",
   "metadata": {},
   "source": [
    "- SOLO MUJERES"
   ]
  },
  {
   "cell_type": "code",
   "execution_count": 25,
   "id": "0ea963e6",
   "metadata": {},
   "outputs": [
    {
     "data": {
      "text/plain": [
       "Menos de 10 años    13\n",
       "14 a 15 años        12\n",
       "12 a 13 años         7\n",
       "10 a 11 años         6\n",
       "18 a 19 años         4\n",
       "20 a 21 años         2\n",
       "28 a 29 años         1\n",
       "más de 30 años       1\n",
       "16 a 17 años         1\n",
       "Name: Primera línea de código en una máquina, dtype: int64"
      ]
     },
     "execution_count": 25,
     "metadata": {},
     "output_type": "execute_result"
    }
   ],
   "source": [
    "generos.get_group('Mujer')['Primera línea de código en una máquina'].value_counts()"
   ]
  },
  {
   "cell_type": "code",
   "execution_count": 26,
   "id": "db283e8b",
   "metadata": {},
   "outputs": [
    {
     "data": {
      "text/plain": [
       "<AxesSubplot:title={'center':'PRIMERA LINEA DE CODIGO - MUJER'}>"
      ]
     },
     "execution_count": 26,
     "metadata": {},
     "output_type": "execute_result"
    },
    {
     "data": {
      "image/png": "[encoded data removed]",
      "text/plain": [
       "<Figure size 864x504 with 1 Axes>"
      ]
     },
     "metadata": {
      "needs_background": "light"
     },
     "output_type": "display_data"
    }
   ],
   "source": [
    "generos.get_group('Mujer')['Primera línea de código en una máquina'].value_counts().plot(\n",
    "    kind='barh',\n",
    "    title='PRIMERA LINEA DE CODIGO - MUJER',\n",
    "    color='pink')"
   ]
  },
  {
   "cell_type": "code",
   "execution_count": 27,
   "id": "b9c5bef4",
   "metadata": {},
   "outputs": [
    {
     "data": {
      "text/plain": [
       "Text(0.5, 1.0, 'PRIMERA LINEA DE CODIGO')"
      ]
     },
     "execution_count": 27,
     "metadata": {},
     "output_type": "execute_result"
    },
    {
     "data": {
      "image/png": "[encoded data removed]",
      "text/plain": [
       "<Figure size 960x1600 with 1 Axes>"
      ]
     },
     "metadata": {
      "needs_background": "light"
     },
     "output_type": "display_data"
    }
   ],
   "source": [
    "plt.figure(figsize=(12, 20), dpi=80) \n",
    "plt.subplot(3,1,1)\n",
    "generos.get_group('Hombre')['Primera línea de código en una máquina'].value_counts().plot(\n",
    "    kind='barh',\n",
    "    color='blue')\n",
    "\n",
    "generos.get_group('Mujer')['Primera línea de código en una máquina'].value_counts().plot(\n",
    "    kind='barh',\n",
    "    color='pink')\n",
    "plt.legend()\n",
    "plt.title('PRIMERA LINEA DE CODIGO')"
   ]
  },
  {
   "cell_type": "markdown",
   "id": "57eb2984",
   "metadata": {},
   "source": [
    "#### Educación"
   ]
  },
  {
   "cell_type": "markdown",
   "id": "f21117c6",
   "metadata": {},
   "source": [
    "##### GENERAL"
   ]
  },
  {
   "cell_type": "code",
   "execution_count": 28,
   "id": "e157aa95",
   "metadata": {},
   "outputs": [
    {
     "data": {
      "text/plain": [
       "Educación universitaria                                                                       151\n",
       "Educación básica;Educación secundaria;Educación universitaria                                  42\n",
       "Educación básica;Educación secundaria;Educación universitaria;Autodidacta                      36\n",
       "Educación universitaria;Autodidacta                                                            29\n",
       "Master                                                                                         17\n",
       "Educación secundaria                                                                           12\n",
       "Educación básica;Educación secundaria                                                          11\n",
       "Educación básica;Educación secundaria;Autodidacta                                              10\n",
       "Educación secundaria;Autodidacta                                                                8\n",
       "Educación universitaria;Master                                                                  8\n",
       "Educación básica;Educación secundaria;Educación universitaria;Master                            4\n",
       "Educación universitaria;Master;Autodidacta                                                      3\n",
       "Educación básica;Educación secundaria;Educación universitaria;Master;Autodidacta                2\n",
       "Autodidacta                                                                                     2\n",
       "Doctorado                                                                                       1\n",
       "Educación básica;Educación secundaria;Master;Autodidacta                                        1\n",
       "Educación secundaria;Educación universitaria                                                    1\n",
       "Master;Autodidacta                                                                              1\n",
       "Educación secundaria;Educación universitaria;Master                                             1\n",
       "Educación secundaria;Educación universitaria;Autodidacta                                        1\n",
       "Educación básica;Educación secundaria;Educación universitaria;Master;Doctorado;Autodidacta      1\n",
       "Name: Educación, dtype: int64"
      ]
     },
     "execution_count": 28,
     "metadata": {},
     "output_type": "execute_result"
    }
   ],
   "source": [
    "df['Educación'].value_counts()"
   ]
  },
  {
   "cell_type": "code",
   "execution_count": 29,
   "id": "35fb5625",
   "metadata": {},
   "outputs": [
    {
     "data": {
      "text/plain": [
       "Educación universitaria                                                                       0.441520\n",
       "Educación básica;Educación secundaria;Educación universitaria                                 0.122807\n",
       "Educación básica;Educación secundaria;Educación universitaria;Autodidacta                     0.105263\n",
       "Educación universitaria;Autodidacta                                                           0.084795\n",
       "Master                                                                                        0.049708\n",
       "Educación secundaria                                                                          0.035088\n",
       "Educación básica;Educación secundaria                                                         0.032164\n",
       "Educación básica;Educación secundaria;Autodidacta                                             0.029240\n",
       "Educación secundaria;Autodidacta                                                              0.023392\n",
       "Educación universitaria;Master                                                                0.023392\n",
       "Educación básica;Educación secundaria;Educación universitaria;Master                          0.011696\n",
       "Educación universitaria;Master;Autodidacta                                                    0.008772\n",
       "Educación básica;Educación secundaria;Educación universitaria;Master;Autodidacta              0.005848\n",
       "Autodidacta                                                                                   0.005848\n",
       "Doctorado                                                                                     0.002924\n",
       "Educación básica;Educación secundaria;Master;Autodidacta                                      0.002924\n",
       "Educación secundaria;Educación universitaria                                                  0.002924\n",
       "Master;Autodidacta                                                                            0.002924\n",
       "Educación secundaria;Educación universitaria;Master                                           0.002924\n",
       "Educación secundaria;Educación universitaria;Autodidacta                                      0.002924\n",
       "Educación básica;Educación secundaria;Educación universitaria;Master;Doctorado;Autodidacta    0.002924\n",
       "Name: Educación, dtype: float64"
      ]
     },
     "execution_count": 29,
     "metadata": {},
     "output_type": "execute_result"
    }
   ],
   "source": [
    "df['Educación'].value_counts(normalize=True)"
   ]
  },
  {
   "cell_type": "code",
   "execution_count": 30,
   "id": "f4bccf1f",
   "metadata": {},
   "outputs": [
    {
     "data": {
      "text/plain": [
       "<AxesSubplot:title={'center':'NIVEL EDUCATIVO'}>"
      ]
     },
     "execution_count": 30,
     "metadata": {},
     "output_type": "execute_result"
    },
    {
     "data": {
      "image/png": "[encoded data removed]",
      "text/plain": [
       "<Figure size 864x504 with 1 Axes>"
      ]
     },
     "metadata": {
      "needs_background": "light"
     },
     "output_type": "display_data"
    }
   ],
   "source": [
    "df['Educación'].value_counts(normalize=True).plot(kind='barh', title='NIVEL EDUCATIVO')"
   ]
  },
  {
   "cell_type": "markdown",
   "id": "2516f0ea",
   "metadata": {},
   "source": [
    "#### EDUCACION POR CATEGORIAS"
   ]
  },
  {
   "cell_type": "code",
   "execution_count": 31,
   "id": "78ada40e",
   "metadata": {},
   "outputs": [],
   "source": [
    "cat_ed = {}\n",
    "\n",
    "def set_cat_ed(cat):\n",
    "    if(isinstance(cat, str)):\n",
    "        for i in cat.split(';'):\n",
    "            cat_ed[i]=0\n",
    "\n",
    "def sum_cat_ed(cat):\n",
    "    if(isinstance(cat, str)):\n",
    "        for i in cat.split(';'):\n",
    "            cat_ed[i]+=1"
   ]
  },
  {
   "cell_type": "code",
   "execution_count": 32,
   "id": "e6c6328d",
   "metadata": {},
   "outputs": [
    {
     "data": {
      "text/plain": [
       "0      None\n",
       "1      None\n",
       "2      None\n",
       "3      None\n",
       "4      None\n",
       "       ... \n",
       "337    None\n",
       "338    None\n",
       "339    None\n",
       "340    None\n",
       "341    None\n",
       "Name: Educación, Length: 342, dtype: object"
      ]
     },
     "execution_count": 32,
     "metadata": {},
     "output_type": "execute_result"
    }
   ],
   "source": [
    "df['Educación'].map(set_cat_ed)\n",
    "df['Educación'].map(sum_cat_ed)"
   ]
  },
  {
   "cell_type": "code",
   "execution_count": 33,
   "id": "d61d2fd6",
   "metadata": {},
   "outputs": [],
   "source": [
    "cat_ed_df = pd.DataFrame(data = [i for i in cat_ed.items()],columns=['educacion', 'count']).set_index('educacion')"
   ]
  },
  {
   "cell_type": "code",
   "execution_count": 59,
   "id": "6023bbe1",
   "metadata": {},
   "outputs": [
    {
     "data": {
      "text/html": [
       "<div>\n",
       "<style scoped>\n",
       "    .dataframe tbody tr th:only-of-type {\n",
       "        vertical-align: middle;\n",
       "    }\n",
       "\n",
       "    .dataframe tbody tr th {\n",
       "        vertical-align: top;\n",
       "    }\n",
       "\n",
       "    .dataframe thead th {\n",
       "        text-align: right;\n",
       "    }\n",
       "</style>\n",
       "<table border=\"1\" class=\"dataframe\">\n",
       "  <thead>\n",
       "    <tr style=\"text-align: right;\">\n",
       "      <th></th>\n",
       "      <th>count</th>\n",
       "    </tr>\n",
       "    <tr>\n",
       "      <th>educacion</th>\n",
       "      <th></th>\n",
       "    </tr>\n",
       "  </thead>\n",
       "  <tbody>\n",
       "    <tr>\n",
       "      <th>Educación universitaria</th>\n",
       "      <td>279</td>\n",
       "    </tr>\n",
       "    <tr>\n",
       "      <th>Autodidacta</th>\n",
       "      <td>94</td>\n",
       "    </tr>\n",
       "    <tr>\n",
       "      <th>Master</th>\n",
       "      <td>38</td>\n",
       "    </tr>\n",
       "    <tr>\n",
       "      <th>Educación básica</th>\n",
       "      <td>107</td>\n",
       "    </tr>\n",
       "    <tr>\n",
       "      <th>Educación secundaria</th>\n",
       "      <td>130</td>\n",
       "    </tr>\n",
       "  </tbody>\n",
       "</table>\n",
       "</div>"
      ],
      "text/plain": [
       "                         count\n",
       "educacion                     \n",
       "Educación universitaria    279\n",
       "Autodidacta                 94\n",
       "Master                      38\n",
       "Educación básica           107\n",
       "Educación secundaria       130"
      ]
     },
     "execution_count": 59,
     "metadata": {},
     "output_type": "execute_result"
    }
   ],
   "source": [
    "cat_ed_df.head()"
   ]
  },
  {
   "cell_type": "code",
   "execution_count": 60,
   "id": "0356226a",
   "metadata": {},
   "outputs": [
    {
     "data": {
      "text/html": [
       "<div>\n",
       "<style scoped>\n",
       "    .dataframe tbody tr th:only-of-type {\n",
       "        vertical-align: middle;\n",
       "    }\n",
       "\n",
       "    .dataframe tbody tr th {\n",
       "        vertical-align: top;\n",
       "    }\n",
       "\n",
       "    .dataframe thead th {\n",
       "        text-align: right;\n",
       "    }\n",
       "</style>\n",
       "<table border=\"1\" class=\"dataframe\">\n",
       "  <thead>\n",
       "    <tr style=\"text-align: right;\">\n",
       "      <th></th>\n",
       "      <th>count</th>\n",
       "    </tr>\n",
       "    <tr>\n",
       "      <th>educacion</th>\n",
       "      <th></th>\n",
       "    </tr>\n",
       "  </thead>\n",
       "  <tbody>\n",
       "    <tr>\n",
       "      <th>Educación universitaria</th>\n",
       "      <td>279</td>\n",
       "    </tr>\n",
       "    <tr>\n",
       "      <th>Autodidacta</th>\n",
       "      <td>94</td>\n",
       "    </tr>\n",
       "    <tr>\n",
       "      <th>Master</th>\n",
       "      <td>38</td>\n",
       "    </tr>\n",
       "    <tr>\n",
       "      <th>Educación básica</th>\n",
       "      <td>107</td>\n",
       "    </tr>\n",
       "    <tr>\n",
       "      <th>Educación secundaria</th>\n",
       "      <td>130</td>\n",
       "    </tr>\n",
       "    <tr>\n",
       "      <th>Doctorado</th>\n",
       "      <td>2</td>\n",
       "    </tr>\n",
       "  </tbody>\n",
       "</table>\n",
       "</div>"
      ],
      "text/plain": [
       "                         count\n",
       "educacion                     \n",
       "Educación universitaria    279\n",
       "Autodidacta                 94\n",
       "Master                      38\n",
       "Educación básica           107\n",
       "Educación secundaria       130\n",
       "Doctorado                    2"
      ]
     },
     "execution_count": 60,
     "metadata": {},
     "output_type": "execute_result"
    }
   ],
   "source": [
    "cat_ed_df"
   ]
  },
  {
   "cell_type": "code",
   "execution_count": 35,
   "id": "9907ebca",
   "metadata": {},
   "outputs": [
    {
     "data": {
      "text/plain": [
       "<AxesSubplot:title={'center':'CATEGORIA EDUCATIVA'}>"
      ]
     },
     "execution_count": 35,
     "metadata": {},
     "output_type": "execute_result"
    },
    {
     "data": {
      "image/png": "[encoded data removed]",
      "text/plain": [
       "<Figure size 864x504 with 1 Axes>"
      ]
     },
     "metadata": {
      "needs_background": "light"
     },
     "output_type": "display_data"
    }
   ],
   "source": [
    "cat_ed_df.plot(kind='barh', title='CATEGORIA EDUCATIVA', xlabel='')"
   ]
  },
  {
   "cell_type": "markdown",
   "id": "7a50e850",
   "metadata": {},
   "source": [
    "#### Carreras o especialidades"
   ]
  },
  {
   "cell_type": "code",
   "execution_count": 36,
   "id": "6dc066db",
   "metadata": {},
   "outputs": [
    {
     "data": {
      "text/plain": [
       "Ingeniero Informática                                                            107\n",
       "Análisis de sistemas                                                              69\n",
       "Programación;Análisis de sistemas                                                 33\n",
       "Programación;Ingeniero Informática                                                21\n",
       "Programación                                                                      17\n",
       "Programación;Análisis de sistemas;Ingeniero Informática                           17\n",
       "Ninguna                                                                           15\n",
       "Análisis de sistemas;Ingeniero Informática                                        11\n",
       "Ingeniero Electrónica                                                              6\n",
       "Programación;Análisis de sistemas;Otras                                            5\n",
       "Otras                                                                              5\n",
       "Ingeniero Informática;Otras                                                        4\n",
       "Otras ingenerías                                                                   4\n",
       "Programación;Análisis de sistemas;Diseño gráfico                                   3\n",
       "Análisis de sistemas;Otras                                                         3\n",
       "Programación;Ingeniero Informática;Otras                                           2\n",
       "Programación;Análisis de sistemas;Ingeniero Informática;Otras                      2\n",
       "Programación;Diseño gráfico;Otras                                                  2\n",
       "Programación;Otras                                                                 2\n",
       "Programación;Diseño gráfico                                                        2\n",
       "Ingeniero Informática;Diseño gráfico                                               1\n",
       "Diseño gráfico                                                                     1\n",
       "Análisis de sistemas;Diseño gráfico                                                1\n",
       "Análisis de sistemas;Ninguna                                                       1\n",
       "Programación;Análisis de sistemas;Ingeniero Informática;Ingeniero Electrónica      1\n",
       "Programación;Análisis de sistemas;Ingeniero Civil;Otras ingenerías                 1\n",
       "Matemático                                                                         1\n",
       "Análisis de sistemas;Ingeniero Electrónica                                         1\n",
       "Programación;Análisis de sistemas;Ingeniero Informática;Diseño gráfico;Otras       1\n",
       "Programación;Análisis de sistemas;Ingeniero Informática;Matemático                 1\n",
       "Análisis de sistemas;Ingeniero Informática;Diseño gráfico                          1\n",
       "Programación;Otras ingenerías;Diseño gráfico                                       1\n",
       "Name: Carreras o especialidades, dtype: int64"
      ]
     },
     "execution_count": 36,
     "metadata": {},
     "output_type": "execute_result"
    }
   ],
   "source": [
    "df['Carreras o especialidades'].value_counts()"
   ]
  },
  {
   "cell_type": "code",
   "execution_count": 37,
   "id": "6ef56afa",
   "metadata": {},
   "outputs": [
    {
     "data": {
      "text/plain": [
       "Ingeniero Informática                                                            0.312865\n",
       "Análisis de sistemas                                                             0.201754\n",
       "Programación;Análisis de sistemas                                                0.096491\n",
       "Programación;Ingeniero Informática                                               0.061404\n",
       "Programación                                                                     0.049708\n",
       "Programación;Análisis de sistemas;Ingeniero Informática                          0.049708\n",
       "Ninguna                                                                          0.043860\n",
       "Análisis de sistemas;Ingeniero Informática                                       0.032164\n",
       "Ingeniero Electrónica                                                            0.017544\n",
       "Programación;Análisis de sistemas;Otras                                          0.014620\n",
       "Otras                                                                            0.014620\n",
       "Ingeniero Informática;Otras                                                      0.011696\n",
       "Otras ingenerías                                                                 0.011696\n",
       "Programación;Análisis de sistemas;Diseño gráfico                                 0.008772\n",
       "Análisis de sistemas;Otras                                                       0.008772\n",
       "Programación;Ingeniero Informática;Otras                                         0.005848\n",
       "Programación;Análisis de sistemas;Ingeniero Informática;Otras                    0.005848\n",
       "Programación;Diseño gráfico;Otras                                                0.005848\n",
       "Programación;Otras                                                               0.005848\n",
       "Programación;Diseño gráfico                                                      0.005848\n",
       "Ingeniero Informática;Diseño gráfico                                             0.002924\n",
       "Diseño gráfico                                                                   0.002924\n",
       "Análisis de sistemas;Diseño gráfico                                              0.002924\n",
       "Análisis de sistemas;Ninguna                                                     0.002924\n",
       "Programación;Análisis de sistemas;Ingeniero Informática;Ingeniero Electrónica    0.002924\n",
       "Programación;Análisis de sistemas;Ingeniero Civil;Otras ingenerías               0.002924\n",
       "Matemático                                                                       0.002924\n",
       "Análisis de sistemas;Ingeniero Electrónica                                       0.002924\n",
       "Programación;Análisis de sistemas;Ingeniero Informática;Diseño gráfico;Otras     0.002924\n",
       "Programación;Análisis de sistemas;Ingeniero Informática;Matemático               0.002924\n",
       "Análisis de sistemas;Ingeniero Informática;Diseño gráfico                        0.002924\n",
       "Programación;Otras ingenerías;Diseño gráfico                                     0.002924\n",
       "Name: Carreras o especialidades, dtype: float64"
      ]
     },
     "execution_count": 37,
     "metadata": {},
     "output_type": "execute_result"
    }
   ],
   "source": [
    "df['Carreras o especialidades'].value_counts(normalize=True)"
   ]
  },
  {
   "cell_type": "code",
   "execution_count": 38,
   "id": "0c7283ae",
   "metadata": {},
   "outputs": [],
   "source": [
    "especialidades ={}\n",
    "\n",
    "def set_especialidades(esp):\n",
    "    if(isinstance(esp,str)):\n",
    "        for i in esp.split(';'):\n",
    "            especialidades[i]=0;\n",
    "\n",
    "def count_especialidades(esp):\n",
    "    if(isinstance(esp,str)):\n",
    "        for i in esp.split(';'):\n",
    "            especialidades[i]+=1;\n",
    "            \n",
    "            \n",
    "            "
   ]
  },
  {
   "cell_type": "code",
   "execution_count": 39,
   "id": "5d6e7915",
   "metadata": {},
   "outputs": [
    {
     "data": {
      "text/plain": [
       "0      None\n",
       "1      None\n",
       "2      None\n",
       "3      None\n",
       "4      None\n",
       "       ... \n",
       "337    None\n",
       "338    None\n",
       "339    None\n",
       "340    None\n",
       "341    None\n",
       "Name: Carreras o especialidades, Length: 342, dtype: object"
      ]
     },
     "execution_count": 39,
     "metadata": {},
     "output_type": "execute_result"
    }
   ],
   "source": [
    "df['Carreras o especialidades'].map(set_especialidades)\n",
    "df['Carreras o especialidades'].map(count_especialidades)"
   ]
  },
  {
   "cell_type": "code",
   "execution_count": 40,
   "id": "fbcfc157",
   "metadata": {},
   "outputs": [
    {
     "data": {
      "text/plain": [
       "{'Programación': 111,\n",
       " 'Análisis de sistemas': 151,\n",
       " 'Ingeniero Civil': 1,\n",
       " 'Otras ingenerías': 6,\n",
       " 'Ingeniero Informática': 169,\n",
       " 'Ninguna': 16,\n",
       " 'Otras': 26,\n",
       " 'Diseño gráfico': 13,\n",
       " 'Ingeniero Electrónica': 8,\n",
       " 'Matemático': 2}"
      ]
     },
     "execution_count": 40,
     "metadata": {},
     "output_type": "execute_result"
    }
   ],
   "source": [
    "especialidades"
   ]
  },
  {
   "cell_type": "code",
   "execution_count": 41,
   "id": "6773fbe7",
   "metadata": {},
   "outputs": [],
   "source": [
    "esp_df = pd.DataFrame(data= [i for i in especialidades.items()], columns=['especialidad', 'count']).set_index('especialidad')"
   ]
  },
  {
   "cell_type": "code",
   "execution_count": 61,
   "id": "14de79a9",
   "metadata": {},
   "outputs": [
    {
     "data": {
      "text/html": [
       "<div>\n",
       "<style scoped>\n",
       "    .dataframe tbody tr th:only-of-type {\n",
       "        vertical-align: middle;\n",
       "    }\n",
       "\n",
       "    .dataframe tbody tr th {\n",
       "        vertical-align: top;\n",
       "    }\n",
       "\n",
       "    .dataframe thead th {\n",
       "        text-align: right;\n",
       "    }\n",
       "</style>\n",
       "<table border=\"1\" class=\"dataframe\">\n",
       "  <thead>\n",
       "    <tr style=\"text-align: right;\">\n",
       "      <th></th>\n",
       "      <th>count</th>\n",
       "    </tr>\n",
       "    <tr>\n",
       "      <th>especialidad</th>\n",
       "      <th></th>\n",
       "    </tr>\n",
       "  </thead>\n",
       "  <tbody>\n",
       "    <tr>\n",
       "      <th>Programación</th>\n",
       "      <td>111</td>\n",
       "    </tr>\n",
       "    <tr>\n",
       "      <th>Análisis de sistemas</th>\n",
       "      <td>151</td>\n",
       "    </tr>\n",
       "    <tr>\n",
       "      <th>Ingeniero Civil</th>\n",
       "      <td>1</td>\n",
       "    </tr>\n",
       "    <tr>\n",
       "      <th>Otras ingenerías</th>\n",
       "      <td>6</td>\n",
       "    </tr>\n",
       "    <tr>\n",
       "      <th>Ingeniero Informática</th>\n",
       "      <td>169</td>\n",
       "    </tr>\n",
       "  </tbody>\n",
       "</table>\n",
       "</div>"
      ],
      "text/plain": [
       "                       count\n",
       "especialidad                \n",
       "Programación             111\n",
       "Análisis de sistemas     151\n",
       "Ingeniero Civil            1\n",
       "Otras ingenerías           6\n",
       "Ingeniero Informática    169"
      ]
     },
     "execution_count": 61,
     "metadata": {},
     "output_type": "execute_result"
    }
   ],
   "source": [
    "esp_df.head()"
   ]
  },
  {
   "cell_type": "code",
   "execution_count": 62,
   "id": "44141acd",
   "metadata": {},
   "outputs": [
    {
     "data": {
      "text/html": [
       "<div>\n",
       "<style scoped>\n",
       "    .dataframe tbody tr th:only-of-type {\n",
       "        vertical-align: middle;\n",
       "    }\n",
       "\n",
       "    .dataframe tbody tr th {\n",
       "        vertical-align: top;\n",
       "    }\n",
       "\n",
       "    .dataframe thead th {\n",
       "        text-align: right;\n",
       "    }\n",
       "</style>\n",
       "<table border=\"1\" class=\"dataframe\">\n",
       "  <thead>\n",
       "    <tr style=\"text-align: right;\">\n",
       "      <th></th>\n",
       "      <th>count</th>\n",
       "    </tr>\n",
       "    <tr>\n",
       "      <th>especialidad</th>\n",
       "      <th></th>\n",
       "    </tr>\n",
       "  </thead>\n",
       "  <tbody>\n",
       "    <tr>\n",
       "      <th>Programación</th>\n",
       "      <td>111</td>\n",
       "    </tr>\n",
       "    <tr>\n",
       "      <th>Análisis de sistemas</th>\n",
       "      <td>151</td>\n",
       "    </tr>\n",
       "    <tr>\n",
       "      <th>Ingeniero Civil</th>\n",
       "      <td>1</td>\n",
       "    </tr>\n",
       "    <tr>\n",
       "      <th>Otras ingenerías</th>\n",
       "      <td>6</td>\n",
       "    </tr>\n",
       "    <tr>\n",
       "      <th>Ingeniero Informática</th>\n",
       "      <td>169</td>\n",
       "    </tr>\n",
       "    <tr>\n",
       "      <th>Ninguna</th>\n",
       "      <td>16</td>\n",
       "    </tr>\n",
       "    <tr>\n",
       "      <th>Otras</th>\n",
       "      <td>26</td>\n",
       "    </tr>\n",
       "    <tr>\n",
       "      <th>Diseño gráfico</th>\n",
       "      <td>13</td>\n",
       "    </tr>\n",
       "    <tr>\n",
       "      <th>Ingeniero Electrónica</th>\n",
       "      <td>8</td>\n",
       "    </tr>\n",
       "    <tr>\n",
       "      <th>Matemático</th>\n",
       "      <td>2</td>\n",
       "    </tr>\n",
       "  </tbody>\n",
       "</table>\n",
       "</div>"
      ],
      "text/plain": [
       "                       count\n",
       "especialidad                \n",
       "Programación             111\n",
       "Análisis de sistemas     151\n",
       "Ingeniero Civil            1\n",
       "Otras ingenerías           6\n",
       "Ingeniero Informática    169\n",
       "Ninguna                   16\n",
       "Otras                     26\n",
       "Diseño gráfico            13\n",
       "Ingeniero Electrónica      8\n",
       "Matemático                 2"
      ]
     },
     "execution_count": 62,
     "metadata": {},
     "output_type": "execute_result"
    }
   ],
   "source": [
    "esp_df"
   ]
  },
  {
   "cell_type": "code",
   "execution_count": 43,
   "id": "beee6c25",
   "metadata": {},
   "outputs": [
    {
     "data": {
      "text/plain": [
       "<AxesSubplot:title={'center':'ESPECIALIDADES / CARRERAS'}>"
      ]
     },
     "execution_count": 43,
     "metadata": {},
     "output_type": "execute_result"
    },
    {
     "data": {
      "image/png": "[encoded data removed]",
      "text/plain": [
       "<Figure size 864x504 with 1 Axes>"
      ]
     },
     "metadata": {
      "needs_background": "light"
     },
     "output_type": "display_data"
    }
   ],
   "source": [
    "esp_df.plot(kind='barh', title='ESPECIALIDADES / CARRERAS', xlabel='')"
   ]
  },
  {
   "cell_type": "markdown",
   "id": "431822ad",
   "metadata": {},
   "source": [
    "#### Importancia educación formal"
   ]
  },
  {
   "cell_type": "code",
   "execution_count": 44,
   "id": "3d62006e",
   "metadata": {},
   "outputs": [
    {
     "data": {
      "text/plain": [
       "Más o menos importante         109\n",
       "Bastante importante             98\n",
       "Muy importante                  95\n",
       "No importa, no es necesario     23\n",
       "Crítico                         17\n",
       "Name: Importancia educación formal, dtype: int64"
      ]
     },
     "execution_count": 44,
     "metadata": {},
     "output_type": "execute_result"
    }
   ],
   "source": [
    "df['Importancia educación formal'].value_counts()"
   ]
  },
  {
   "cell_type": "code",
   "execution_count": 45,
   "id": "a43372eb",
   "metadata": {},
   "outputs": [
    {
     "data": {
      "text/plain": [
       "Más o menos importante         0.318713\n",
       "Bastante importante            0.286550\n",
       "Muy importante                 0.277778\n",
       "No importa, no es necesario    0.067251\n",
       "Crítico                        0.049708\n",
       "Name: Importancia educación formal, dtype: float64"
      ]
     },
     "execution_count": 45,
     "metadata": {},
     "output_type": "execute_result"
    }
   ],
   "source": [
    "df['Importancia educación formal'].value_counts(normalize=True)"
   ]
  },
  {
   "cell_type": "code",
   "execution_count": 46,
   "id": "56ebf422",
   "metadata": {},
   "outputs": [
    {
     "data": {
      "text/plain": [
       "<AxesSubplot:title={'center':'Importancia de la educacion'}>"
      ]
     },
     "execution_count": 46,
     "metadata": {},
     "output_type": "execute_result"
    },
    {
     "data": {
      "image/png": "[encoded data removed]",
      "text/plain": [
       "<Figure size 864x504 with 1 Axes>"
      ]
     },
     "metadata": {},
     "output_type": "display_data"
    }
   ],
   "source": [
    "df['Importancia educación formal'].value_counts(normalize=True).plot(kind='pie', title='Importancia de la educacion', ylabel='')"
   ]
  },
  {
   "cell_type": "markdown",
   "id": "4ed9622e",
   "metadata": {},
   "source": [
    "#### IMPORTANCIA POR GENERO"
   ]
  },
  {
   "cell_type": "code",
   "execution_count": 47,
   "id": "759ebd27",
   "metadata": {},
   "outputs": [
    {
     "data": {
      "text/plain": [
       "Hombre                   279\n",
       "Mujer                     49\n",
       "Prefiero no compartir      3\n",
       "Otros                      2\n",
       "Género                     1\n",
       "Name: Género, dtype: int64"
      ]
     },
     "execution_count": 47,
     "metadata": {},
     "output_type": "execute_result"
    }
   ],
   "source": [
    "generos = df.groupby('Género')\n",
    "df['Género'].value_counts()"
   ]
  },
  {
   "cell_type": "markdown",
   "id": "9b597d32",
   "metadata": {},
   "source": [
    "- SOLO HOMBRES"
   ]
  },
  {
   "cell_type": "code",
   "execution_count": 48,
   "id": "2d38c5dc",
   "metadata": {},
   "outputs": [
    {
     "data": {
      "text/plain": [
       "Más o menos importante         89\n",
       "Bastante importante            84\n",
       "Muy importante                 73\n",
       "No importa, no es necesario    18\n",
       "Crítico                        15\n",
       "Name: Importancia educación formal, dtype: int64"
      ]
     },
     "execution_count": 48,
     "metadata": {},
     "output_type": "execute_result"
    }
   ],
   "source": [
    "generos.get_group('Hombre')['Importancia educación formal'].value_counts()"
   ]
  },
  {
   "cell_type": "code",
   "execution_count": 49,
   "id": "8bdb7cbe",
   "metadata": {},
   "outputs": [
    {
     "data": {
      "text/plain": [
       "Más o menos importante         0.318996\n",
       "Bastante importante            0.301075\n",
       "Muy importante                 0.261649\n",
       "No importa, no es necesario    0.064516\n",
       "Crítico                        0.053763\n",
       "Name: Importancia educación formal, dtype: float64"
      ]
     },
     "execution_count": 49,
     "metadata": {},
     "output_type": "execute_result"
    }
   ],
   "source": [
    "generos.get_group('Hombre')['Importancia educación formal'].value_counts(normalize=True)"
   ]
  },
  {
   "cell_type": "code",
   "execution_count": 50,
   "id": "6fa97607",
   "metadata": {},
   "outputs": [
    {
     "data": {
      "text/plain": [
       "<AxesSubplot:title={'center':'IMPORTANCIA DE LA EDUCACION FORMAL HOMBRES'}>"
      ]
     },
     "execution_count": 50,
     "metadata": {},
     "output_type": "execute_result"
    },
    {
     "data": {
      "image/png": "[encoded data removed]",
      "text/plain": [
       "<Figure size 864x504 with 1 Axes>"
      ]
     },
     "metadata": {},
     "output_type": "display_data"
    }
   ],
   "source": [
    "generos.get_group('Hombre')['Importancia educación formal'].value_counts(normalize=True).plot(kind='pie', title='IMPORTANCIA DE LA EDUCACION FORMAL HOMBRES', ylabel='')"
   ]
  },
  {
   "cell_type": "markdown",
   "id": "b91aa822",
   "metadata": {},
   "source": [
    "- SOLO MUJERES"
   ]
  },
  {
   "cell_type": "code",
   "execution_count": 51,
   "id": "a933a673",
   "metadata": {},
   "outputs": [
    {
     "data": {
      "text/plain": [
       "Muy importante                 19\n",
       "Bastante importante            14\n",
       "Más o menos importante         14\n",
       "No importa, no es necesario     1\n",
       "Crítico                         1\n",
       "Name: Importancia educación formal, dtype: int64"
      ]
     },
     "execution_count": 51,
     "metadata": {},
     "output_type": "execute_result"
    }
   ],
   "source": [
    "generos.get_group('Mujer')['Importancia educación formal'].value_counts()"
   ]
  },
  {
   "cell_type": "code",
   "execution_count": 52,
   "id": "cbb2b26b",
   "metadata": {},
   "outputs": [
    {
     "data": {
      "text/plain": [
       "Muy importante                 0.387755\n",
       "Bastante importante            0.285714\n",
       "Más o menos importante         0.285714\n",
       "No importa, no es necesario    0.020408\n",
       "Crítico                        0.020408\n",
       "Name: Importancia educación formal, dtype: float64"
      ]
     },
     "execution_count": 52,
     "metadata": {},
     "output_type": "execute_result"
    }
   ],
   "source": [
    "generos.get_group('Mujer')['Importancia educación formal'].value_counts(normalize=True)"
   ]
  },
  {
   "cell_type": "code",
   "execution_count": 53,
   "id": "089873e4",
   "metadata": {},
   "outputs": [
    {
     "data": {
      "text/plain": [
       "<AxesSubplot:title={'center':'IMPORTANCIA DE LA EDUCACION MUJERES'}>"
      ]
     },
     "execution_count": 53,
     "metadata": {},
     "output_type": "execute_result"
    },
    {
     "data": {
      "image/png": "[encoded data removed]",
      "text/plain": [
       "<Figure size 864x504 with 1 Axes>"
      ]
     },
     "metadata": {},
     "output_type": "display_data"
    }
   ],
   "source": [
    "generos.get_group('Mujer')['Importancia educación formal'].value_counts(normalize=True).plot(kind='pie',title='IMPORTANCIA DE LA EDUCACION MUJERES', ylabel='')"
   ]
  },
  {
   "cell_type": "markdown",
   "id": "32add895",
   "metadata": {},
   "source": [
    "- TWO OTHER GENERES"
   ]
  },
  {
   "cell_type": "code",
   "execution_count": 54,
   "id": "39fcbaf2",
   "metadata": {},
   "outputs": [
    {
     "data": {
      "text/plain": [
       "Hombre                   279\n",
       "Mujer                     49\n",
       "Prefiero no compartir      3\n",
       "Otros                      2\n",
       "Género                     1\n",
       "Name: Género, dtype: int64"
      ]
     },
     "execution_count": 54,
     "metadata": {},
     "output_type": "execute_result"
    }
   ],
   "source": [
    "df['Género'].value_counts()"
   ]
  },
  {
   "cell_type": "code",
   "execution_count": 55,
   "id": "f7b29e1e",
   "metadata": {},
   "outputs": [],
   "source": [
    "otros_generos_df = df.loc[df['Género'].isin(['Prefiero no compartir','Otros','Género'])]"
   ]
  },
  {
   "cell_type": "code",
   "execution_count": 56,
   "id": "216a134b",
   "metadata": {},
   "outputs": [
    {
     "data": {
      "text/plain": [
       "No importa, no es necesario    3\n",
       "Más o menos importante         2\n",
       "Muy importante                 1\n",
       "Name: Importancia educación formal, dtype: int64"
      ]
     },
     "execution_count": 56,
     "metadata": {},
     "output_type": "execute_result"
    }
   ],
   "source": [
    "otros_generos_df['Importancia educación formal'].value_counts()"
   ]
  },
  {
   "cell_type": "code",
   "execution_count": 57,
   "id": "fb4f1ec0",
   "metadata": {},
   "outputs": [
    {
     "data": {
      "text/plain": [
       "No importa, no es necesario    0.500000\n",
       "Más o menos importante         0.333333\n",
       "Muy importante                 0.166667\n",
       "Name: Importancia educación formal, dtype: float64"
      ]
     },
     "execution_count": 57,
     "metadata": {},
     "output_type": "execute_result"
    }
   ],
   "source": [
    "otros_generos_df['Importancia educación formal'].value_counts(normalize=True)"
   ]
  },
  {
   "cell_type": "code",
   "execution_count": 58,
   "id": "d0e046eb",
   "metadata": {},
   "outputs": [
    {
     "data": {
      "text/plain": [
       "<AxesSubplot:title={'center':'IMPORTANCIA DE LA EDUCAION _ GENERO INDEFINIDO'}>"
      ]
     },
     "execution_count": 58,
     "metadata": {},
     "output_type": "execute_result"
    },
    {
     "data": {
      "image/png": "[encoded data removed]",
      "text/plain": [
       "<Figure size 864x504 with 1 Axes>"
      ]
     },
     "metadata": {},
     "output_type": "display_data"
    }
   ],
   "source": [
    "otros_generos_df['Importancia educación formal'].value_counts(normalize=True).plot(kind='pie',title='IMPORTANCIA DE LA EDUCAION _ GENERO INDEFINIDO', ylabel='')"
   ]
  },
  {
   "cell_type": "code",
   "execution_count": null,
   "id": "63dea3b8",
   "metadata": {},
   "outputs": [],
   "source": []
  }
 ],
 "metadata": {
  "kernelspec": {
   "display_name": "Python 3",
   "language": "python",
   "name": "python3"
  },
  "language_info": {
   "codemirror_mode": {
    "name": "ipython",
    "version": 3
   },
   "file_extension": ".py",
   "mimetype": "text/x-python",
   "name": "python",
   "nbconvert_exporter": "python",
   "pygments_lexer": "ipython3",
   "version": "3.6.9"
  }
 },
 "nbformat": 4,
 "nbformat_minor": 5
}
