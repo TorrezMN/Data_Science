{
 "cells": [
  {
   "cell_type": "code",
   "execution_count": 2,
   "id": "e0a05485-9e18-41d8-9bcf-97fc5c4380c5",
   "metadata": {},
   "outputs": [],
   "source": [
    "# Importing Libs\n",
    "import pandas as pd\n",
    "import seaborn as sns\n",
    "import matplotlib.pyplot as plt\n",
    "from collections import Counter\n",
    "\n",
    "# My Tools\n",
    "\n",
    "%matplotlib inline"
   ]
  },
  {
   "cell_type": "code",
   "execution_count": 3,
   "id": "7b729ffd-92f9-4cbf-8abc-cc96ba6e017a",
   "metadata": {},
   "outputs": [],
   "source": [
    "# Reseting figure size params.\n",
    "plt.rcParams['figure.figsize'] = [12, 7]"
   ]
  },
  {
   "cell_type": "code",
   "execution_count": 4,
   "id": "5c9129e3-acba-44fa-992d-3642c783d89e",
   "metadata": {},
   "outputs": [],
   "source": [
    "# Creating the dataset.\n",
    "df = pd.read_excel('../Mercado laboral en IT (local y remoto) (respuestas)-2022.xlsx')"
   ]
  },
  {
   "cell_type": "code",
   "execution_count": 5,
   "id": "638c2c9b-3719-4ff7-bfe7-0ffbd607a4a3",
   "metadata": {},
   "outputs": [
    {
     "data": {
      "text/plain": [
       "(340, 27)"
      ]
     },
     "execution_count": 5,
     "metadata": {},
     "output_type": "execute_result"
    }
   ],
   "source": [
    "df.shape"
   ]
  },
  {
   "cell_type": "markdown",
   "id": "c0055ef2-b9ad-42c6-ad72-d33fdc55655d",
   "metadata": {},
   "source": [
    "- Write columns to a separate file."
   ]
  },
  {
   "cell_type": "code",
   "execution_count": 6,
   "id": "2f8b984b-0d43-4749-9866-0df52d19e2b7",
   "metadata": {},
   "outputs": [],
   "source": [
    "with open('preguntas.txt', 'w+', encoding='utf-8') as f:\n",
    "    for i in df.columns:\n",
    "        f.write(f'{i}\\n')"
   ]
  },
  {
   "cell_type": "markdown",
   "id": "e6fee451-d9dd-4622-b161-25a39e258234",
   "metadata": {},
   "source": [
    "# COLUMN EXPLORATION"
   ]
  },
  {
   "cell_type": "code",
   "execution_count": 7,
   "id": "f5ef5f58-ed87-49f6-9d7a-6124c983e693",
   "metadata": {},
   "outputs": [
    {
     "name": "stdout",
     "output_type": "stream",
     "text": [
      "<bound method Series.keys of 2022-09-15 09:15:24.726    1\n",
      "2022-09-16 11:30:23.631    1\n",
      "2022-09-16 12:14:11.118    1\n",
      "2022-09-16 12:13:49.526    1\n",
      "2022-09-16 12:13:25.198    1\n",
      "                          ..\n",
      "2022-09-15 13:07:27.914    1\n",
      "2022-09-15 13:01:07.924    1\n",
      "2022-09-15 12:59:12.534    1\n",
      "2022-09-15 12:57:33.898    1\n",
      "2022-09-29 21:43:52.380    1\n",
      "Name: Marca temporal, Length: 340, dtype: int64>\n",
      "==============================\n",
      "\n",
      "\n",
      "\n",
      "\n",
      "\n",
      "\n",
      "<bound method Series.keys of Empleado fulltime        304\n",
      "Freelance                 13\n",
      "Empleado parttime         12\n",
      "Emprendimiento propio     11\n",
      "Name: 1) Tipo de ocupación:, dtype: int64>\n",
      "==============================\n",
      "\n",
      "\n",
      "\n",
      "\n",
      "\n",
      "\n",
      "<bound method Series.keys of Relación de dependencia                          128\n",
      "Contrato por tiempo indefinido o sin contrato    122\n",
      "Contrato por tiempo definido                      78\n",
      "Emprendimiento propio / relación con clientes     12\n",
      "Name: 2) Tipo de relación contractual , dtype: int64>\n",
      "==============================\n",
      "\n",
      "\n",
      "\n",
      "\n",
      "\n",
      "\n",
      "<bound method Series.keys of Empresa local con clientes locales                                                        187\n",
      "Empresas extranjera con clientes en el extranjero (puede tener también clientes en PY)     85\n",
      "Empresa local con clientes en el extranjero (puede tener también clientes en PY)           60\n",
      "Empresas extranjera con clientes en el extranjero                                           5\n",
      "Empresa local con clientes en el extranjero                                                 2\n",
      "Empresas extranjera con clientes en el extranjero y en Paraguay                             1\n",
      "Name: 3) Mercado en el que se desempeña, dtype: int64>\n",
      "==============================\n",
      "\n",
      "\n",
      "\n",
      "\n",
      "\n",
      "\n",
      "<bound method Series.keys of Software factory o head hunter intermediaria               120\n",
      "Desarrollador de productos tecnológicos propios             69\n",
      "Sector financiero                                           38\n",
      "Telefonía / Networking                                      33\n",
      "Gobierno                                                    19\n",
      "Industria                                                    8\n",
      "Educación                                                    4\n",
      "Salud                                                        4\n",
      "Ecommerce                                                    3\n",
      "Retail                                                       2\n",
      "ONG                                                          2\n",
      "Automotriz/Ganadería/Networking                              1\n",
      "Grupo empresarial                                            1\n",
      "Comercio                                                     1\n",
      "Empresas de marketing, multimedias, publicitarias            1\n",
      "automoviles                                                  1\n",
      "Gastronomia                                                  1\n",
      "Maquinarias                                                  1\n",
      "caja mutual                                                  1\n",
      "Telecomunicaciones y tecnología                              1\n",
      "Educativo                                                    1\n",
      "Consultora y productos propios                               1\n",
      "Energía                                                      1\n",
      "Desarrollador de productos para clientes y propios           1\n",
      "GIS Sistemas de Informacion Geografica -  BD Espaciales      1\n",
      "Energía e industria                                          1\n",
      "música                                                       1\n",
      "startups                                                     1\n",
      "Importaciones y representaciones                             1\n",
      "Seguros                                                      1\n",
      "Soporte técnico                                              1\n",
      "Real Estate                                                  1\n",
      "Educacion (ong)                                              1\n",
      "Monitoreo de seguridad                                       1\n",
      "Centro Comercial                                             1\n",
      "Constructora                                                 1\n",
      "Marketing                                                    1\n",
      "el Estado                                                    1\n",
      "Servicios Portuarios                                         1\n",
      "INTEGRADOR                                                   1\n",
      "Servicios de TI                                              1\n",
      "AGROINDUSTRIAL                                               1\n",
      "Robótica                                                     1\n",
      "Automotriz                                                   1\n",
      "Data analytics and cloud infraestructure                     1\n",
      "Consultoria                                                  1\n",
      "Logística                                                    1\n",
      "Contact Center                                               1\n",
      "Market research                                              1\n",
      "Name: 4) Rubro de la empresa con la que tiene contrato, dtype: int64>\n",
      "==============================\n",
      "\n",
      "\n",
      "\n",
      "\n",
      "\n",
      "\n",
      "<bound method Series.keys of Desarrollador / Software Engineer                                              181\n",
      "Analista de Sistemas / Business Analyst                                         24\n",
      "Administrativo / Gerencial                                                      19\n",
      "Project Manager y/o Program Manager                                             16\n",
      "Arquitecto / Software Architect                                                 16\n",
      "Encargado de infraestructura onprem / SysAdmin                                  13\n",
      "Ingeniero de datos / Data Engineer                                              10\n",
      "Engineering Manager / Team Lead                                                 10\n",
      "Aseguramiento de calidad / Quality Assurance                                     9\n",
      "Encargado de infraestructura cloud / Cloud Architect (puede incluir DevOps)      9\n",
      "Científico de Datos / Data Scientist                                             7\n",
      "DevOps (solo devops, sin architectura e infra, onprem o cloud)                   5\n",
      "Cybersecurity                                                                    5\n",
      "Comercial / Business Development                                                 5\n",
      "Product Manager y/o Product Owner                                                5\n",
      "Product Designer                                                                 3\n",
      "Scrum Master y/o Agile Coach                                                     3\n",
      "Name: 5) Rol principal desempeñado, dtype: int64>\n",
      "==============================\n",
      "\n",
      "\n",
      "\n",
      "\n",
      "\n",
      "\n",
      "<bound method Series.keys of 11 - 15      62\n",
      "hasta 2      39\n",
      "10.0         38\n",
      "5.0          32\n",
      "más de 15    32\n",
      "3.0          28\n",
      "8.0          27\n",
      "6.0          26\n",
      "7.0          25\n",
      "4.0          18\n",
      "9.0          12\n",
      "Name: 6) ¿Cuántos años de experiencia en la industria posee?, dtype: int64>\n",
      "==============================\n",
      "\n",
      "\n",
      "\n",
      "\n",
      "\n",
      "\n",
      "<bound method Series.keys of Senior                   121\n",
      "Semi-senior              108\n",
      "Mid-level o Associate     62\n",
      "Junior                    28\n",
      "Principal                 19\n",
      "Entry level                2\n",
      "Name: 7) Nivel de seniority que Ud. considera que posee:, dtype: int64>\n",
      "==============================\n",
      "\n",
      "\n",
      "\n",
      "\n",
      "\n",
      "\n",
      "<bound method Series.keys of Senior                   152\n",
      "Semi-senior               62\n",
      "Mid-level o Associate     53\n",
      "Junior                    29\n",
      "Principal                 28\n",
      "No puedo saber            12\n",
      "Entry level                4\n",
      "Name: 8) Nivel de seniority que le asignan en su trabajo actual (aunque no sea en forma explícita, si puede inferir igual indique):, dtype: int64>\n",
      "==============================\n",
      "\n",
      "\n",
      "\n",
      "\n",
      "\n",
      "\n",
      "<bound method Series.keys of Grado                                                             182\n",
      "Pre-grado (inicié la universidad pero no obtuve el título aún)    104\n",
      "Maestría                                                           43\n",
      "Bachillerato                                                        9\n",
      "Phd (Doctorado)                                                     2\n",
      "Name: 9) Nivel de educación, dtype: int64>\n",
      "==============================\n",
      "\n",
      "\n",
      "\n",
      "\n",
      "\n",
      "\n",
      "<bound method Series.keys of Universidad Nacional de Asunción         164\n",
      "Universidad privada del Paraguay         146\n",
      "Otra universidad pública del Paraguay     15\n",
      "No aplica (para nivel bachiller)          10\n",
      "Universidad del extranjero                 5\n",
      "Name: 10) Lugar de educación (carrera de grado, incluso si aún está cursando), dtype: int64>\n",
      "==============================\n",
      "\n",
      "\n",
      "\n",
      "\n",
      "\n",
      "\n",
      "<bound method Series.keys of 1000 - 1500     73\n",
      "menor a 1000    73\n",
      "1501 - 2000     59\n",
      "2001 - 2500     44\n",
      "2501 - 3000     29\n",
      "4001 - 5000     16\n",
      "más de 6000     16\n",
      "3501 - 4000     14\n",
      "3001 - 3500     10\n",
      "5001 - 6000      6\n",
      "Name: 11) Nivel de ingreso mensual en USD, dtype: int64>\n",
      "==============================\n",
      "\n",
      "\n",
      "\n",
      "\n",
      "\n",
      "\n",
      "<bound method Series.keys of Vacaciones pagas, Flexibilidad horaria, Trabajo remoto, Días libres                                                                            13\n",
      "Seguro médico, Jubilación, 13er salario o aguinaldo, Vacaciones pagas, Equipos de trabajo (laptop, otros)                                      12\n",
      "Vacaciones pagas, Flexibilidad horaria, Trabajo remoto, Días libres, Equipos de trabajo (laptop, otros)                                        12\n",
      "13er salario o aguinaldo, Vacaciones pagas, Flexibilidad horaria, Trabajo remoto, Días libres, Equipos de trabajo (laptop, otros)              10\n",
      "Trabajo remoto                                                                                                                                  9\n",
      "                                                                                                                                               ..\n",
      "Seguro médico, Jubilación, 13er salario o aguinaldo, Días libres, Equipos de trabajo (laptop, otros), Almuerzo                                  1\n",
      "Seguro médico, Vacaciones pagas, Días libres, Equipos de trabajo (laptop, otros)                                                                1\n",
      "Flexibilidad horaria, Trabajo remoto, Días libres, Equipos de trabajo (laptop, otros), Bono anual                                               1\n",
      "13er salario o aguinaldo, Vacaciones pagas, Trabajo híbrido (remoto y presencial), Equipos de trabajo (laptop, otros), Estacionamiento          1\n",
      "13er salario o aguinaldo, Vacaciones pagas, Flexibilidad horaria, Trabajo híbrido (remoto y presencial), Equipos de trabajo (laptop, otros)     1\n",
      "Name: 12) ¿Percibe alguno de los siguientes beneficios? (múltiples opciones), Length: 160, dtype: int64>\n",
      "==============================\n",
      "\n",
      "\n",
      "\n",
      "\n",
      "\n",
      "\n",
      "<bound method Series.keys of No trabajo para el exterior    157\n",
      "Menor                           90\n",
      "Igual                           67\n",
      "Mayor                           19\n",
      "Name: 13) En caso que trabaje con compañeros extranjeros, ¿cómo percibe su remuneración con relación a los demás compañeros?, dtype: int64>\n",
      "==============================\n",
      "\n",
      "\n",
      "\n",
      "\n",
      "\n",
      "\n",
      "<bound method Series.keys of Desarrollo backend con Java                                         66\n",
      "No estoy directamente relacionado con tecnologías y herramientas    30\n",
      "Desarrollo web con php (backend y/o frontend)                       26\n",
      "Desarrollo web con Python (backend y/o frontend)                    19\n",
      "Administración de servidores y/o infraestructura on premises        18\n",
      "                                                                    ..\n",
      "Backend desarrollando en C++ y Python                                1\n",
      "Productos Oracle                                                     1\n",
      "Data engineering/Fullstack                                           1\n",
      "Fullstack Django y React / React Native                              1\n",
      "Soluciones BI                                                        1\n",
      "Name: 14) ¿En cuál de las siguientes áreas técnicas mejor encaja el desarrollo de sus actividades profesionales? - Seleccionar la principal., Length: 84, dtype: int64>\n",
      "==============================\n",
      "\n",
      "\n",
      "\n",
      "\n",
      "\n",
      "\n",
      "<bound method Series.keys of menos de 5    133\n",
      "no sé          75\n",
      "5 - 10         73\n",
      "11 - 20        27\n",
      "21 - 30        12\n",
      "31 - 100       10\n",
      "más de 100     10\n",
      "Name: 15) En su lugar actual de trabajo, ¿cuántas vacantes para el área de tecnología estima que existen actualmente?, dtype: int64>\n",
      "==============================\n",
      "\n",
      "\n",
      "\n",
      "\n",
      "\n",
      "\n",
      "<bound method Series.keys of Sí    179\n",
      "No    156\n",
      "Name: 16) En la empresa para la que trabaja, ¿existen políticas orientadas a la retención y/o captación del capital humano especialmente del área de IT?, dtype: int64>\n",
      "==============================\n",
      "\n",
      "\n",
      "\n",
      "\n",
      "\n",
      "\n",
      "<bound method Series.keys of Remuneración económica                   103\n",
      "Oportunidad de crecimiento económico      58\n",
      "Espacio para crecimiento profesional      56\n",
      "Modalidad de trabajo remota o híbrida     44\n",
      "Ambiente laboral                          28\n",
      "Estabilidad laboral                       20\n",
      "Oportunidad de aprendizaje                13\n",
      "Flexibilidad horaria                      11\n",
      "Desafíos                                   7\n",
      "Name: 17) ¿Cuál de los siguientes factores considera el más importante al elegir una opción laboral?, dtype: int64>\n",
      "==============================\n",
      "\n",
      "\n",
      "\n",
      "\n",
      "\n",
      "\n",
      "<bound method Series.keys of Oportunidad de crecimiento económico           79\n",
      "Espacio para crecimiento profesional           63\n",
      "Remuneración inmediata                         43\n",
      "Ambiente laboral                               41\n",
      "Modalidad de trabajo remota o híbrida          35\n",
      "Estabilidad laboral                            22\n",
      "Flexibilidad horaria                           20\n",
      "Oportunidad de aprendizaje                     19\n",
      "Seguro social y plan de retiro (jubilación)     8\n",
      "Desafíos                                        8\n",
      "Name: 18) ¿Cuál de los siguientes factores considera el segundo más importante al elegir una opción laboral?, dtype: int64>\n",
      "==============================\n",
      "\n",
      "\n",
      "\n",
      "\n",
      "\n",
      "\n",
      "<bound method Series.keys of Sí    200\n",
      "No    139\n",
      "Name: 19) ¿Ha participado en procesos de selección para empresas internacionales? (directamente o a través de empresas locales), dtype: int64>\n",
      "==============================\n",
      "\n",
      "\n",
      "\n",
      "\n",
      "\n",
      "\n",
      "<bound method Series.keys of Más de 10 veces al año    104\n",
      "3 a 5 veces al año        103\n",
      "No más de 2 al año         78\n",
      "6 a 10 veces al año        54\n",
      "Name: 20) ¿Con qué frecuencia recibes ofertas laborales? (por cualquier medio, ofertas locales o internacionales. Las invitaciones a aplicar ya cuentan), dtype: int64>\n",
      "==============================\n",
      "\n",
      "\n",
      "\n",
      "\n",
      "\n",
      "\n",
      "<bound method Series.keys of El idioma                                                              189\n",
      "El conocimiento de tecnologías o metodologías específicas               61\n",
      "La experiencia previa                                                   54\n",
      "Las certificaciones oficiales                                           17\n",
      "La formación académica de especialización (postgrados, cursos, etc)     10\n",
      "La formación académica de base (universidad)                             6\n",
      "Name: 21) ¿Cuál de las siguientes le parece que es la mayor dificultad al aplicar para cargos en empresas internacionales?, dtype: int64>\n",
      "==============================\n",
      "\n",
      "\n",
      "\n",
      "\n",
      "\n",
      "\n",
      "<bound method Series.keys of No trabajo para el exterior.                                                         143\n",
      "En el mercado internacional, hay exigencias mayores para cada nivel de seniority.    136\n",
      "Los criterios son similares.                                                          49\n",
      "En el mercado internacional, hay menores exigencias para cada nivel de seniority.      9\n",
      "Name: 22) Si Ud. trabaja para el exterior, Imagine que está comparando un “senior” paraguayo con lo que en el mercado internacional se espera de un “senior”. ¿Cómo percibe la diferencia de seniority entre el mercado local y el internacional?, dtype: int64>\n",
      "==============================\n",
      "\n",
      "\n",
      "\n",
      "\n",
      "\n",
      "\n",
      "<bound method Series.keys of No trabajo para el exterior                                                                                                      160\n",
      "Un perfil con alto nivel de especialización pero en un rol muy específico como frontend, backend, devops u otro.                 134\n",
      "Un perfil con gran variedad de conocimientos, tal vez sin tanta especialización, pero con capacidad de hacer de todo un poco.     40\n",
      "Name: 23) Si Ud. trabaja para el exterior, ¿cuál considera que es el tipo de perfil más requerido?, dtype: int64>\n",
      "==============================\n",
      "\n",
      "\n",
      "\n",
      "\n",
      "\n",
      "\n",
      "<bound method Series.keys of No he participado en procesos de selección para el exterior                                                                                                                                            128\n",
      "La educación formal otorga las bases para tener éxito en una entrevista técnica, pero necesita ser complementada con la experiencia, cursos de especialización y/o test técnicos para entrevistas .    112\n",
      "La educación formal no tiene incidencia en el proceso de selección, más allá de poder demostrar que se cuenta con un título de grado en carreras afines.                                                81\n",
      "La educación formal local es una desventaja significativa al participar de entrevistas técnicas para el exterior.                                                                                        8\n",
      "La educación formal es suficiente para tener éxito en una entrevista técnica.                                                                                                                            3\n",
      "Name: 24) Si Ud. ya participó en procesos de selección para el exterior, ¿Qué afirmación considera la más acertada en cuanto a la educación formal (carreras de grado o postgrados en universidades locales) de los profesionales paraguayos?, dtype: int64>\n",
      "==============================\n",
      "\n",
      "\n",
      "\n",
      "\n",
      "\n",
      "\n",
      "<bound method Series.keys of No trabajo para el exterior                                                                                                                        184\n",
      "El idioma                                                                                                                                           53\n",
      "La falta de experiencia en escenarios muy demandantes por la complejidad, volumen de datos, nivel de concurrencia, nivel de formalismo u otros.     45\n",
      "La falta de experiencia en herramientas o metodologías específicas.                                                                                 22\n",
      "Las diferencias culturales y las habilidades blandas que se esperan de mí                                                                           17\n",
      "La falta de formación en herramientas o metodologías específicas.                                                                                    7\n",
      "Name: 25) Si Ud. ya está trabajando para el exterior ¿cuál considera el mayor desafío en el desempeño de sus funciones?, dtype: int64>\n",
      "==============================\n",
      "\n",
      "\n",
      "\n",
      "\n",
      "\n",
      "\n",
      "<bound method Series.keys of Poder expresarse plenamente sobre temas técnicos y del dominio del cliente, tanto en forma escrita como verbal. Comprender todo lo que escucha.    109\n",
      "Lo anterior más poder expresarse verbalmente sobre temas técnicos en forma breve y concisa. Entender casi todo lo que escucha.                      97\n",
      "Poder leer materiales técnicos                                                                                                                      67\n",
      "Lo anterior más poder escribir sobre temas técnicos. (mails, chats, documentos)                                                                     52\n",
      "No se necesita.                                                                                                                                     12\n",
      "Name: 26) ¿Cuál es el nivel mínimo de inglés que considera necesario para su función actual? (local o extranjero), dtype: int64>\n",
      "==============================\n",
      "\n",
      "\n",
      "\n",
      "\n",
      "\n",
      "\n"
     ]
    }
   ],
   "source": [
    "for i in df.columns:\n",
    "    print(df[i].value_counts().keys)\n",
    "    print('==='*10)\n",
    "    print('\\n'*5)\n",
    "    "
   ]
  },
  {
   "cell_type": "markdown",
   "id": "69914c80-ad07-43f5-9f5d-a706bab15d9c",
   "metadata": {},
   "source": [
    "## RENAME COLUMN NAMES"
   ]
  },
  {
   "cell_type": "code",
   "execution_count": 8,
   "id": "52553e1d-2725-4884-a6c6-8a268f338618",
   "metadata": {},
   "outputs": [
    {
     "data": {
      "text/plain": [
       "Index(['Marca temporal', '1) Tipo de ocupación:',\n",
       "       '2) Tipo de relación contractual ', '3) Mercado en el que se desempeña',\n",
       "       '4) Rubro de la empresa con la que tiene contrato',\n",
       "       '5) Rol principal desempeñado',\n",
       "       '6) ¿Cuántos años de experiencia en la industria posee?',\n",
       "       '7) Nivel de seniority que Ud. considera que posee:',\n",
       "       '8) Nivel de seniority que le asignan en su trabajo actual (aunque no sea en forma explícita, si puede inferir igual indique):',\n",
       "       '9) Nivel de educación',\n",
       "       '10) Lugar de educación (carrera de grado, incluso si aún está cursando)',\n",
       "       '11) Nivel de ingreso mensual en USD',\n",
       "       '12) ¿Percibe alguno de los siguientes beneficios? (múltiples opciones)',\n",
       "       '13) En caso que trabaje con compañeros extranjeros, ¿cómo percibe su remuneración con relación a los demás compañeros?',\n",
       "       '14) ¿En cuál de las siguientes áreas técnicas mejor encaja el desarrollo de sus actividades profesionales? - Seleccionar la principal.',\n",
       "       '15) En su lugar actual de trabajo, ¿cuántas vacantes para el área de tecnología estima que existen actualmente?',\n",
       "       '16) En la empresa para la que trabaja, ¿existen políticas orientadas a la retención y/o captación del capital humano especialmente del área de IT?',\n",
       "       '17) ¿Cuál de los siguientes factores considera el más importante al elegir una opción laboral?',\n",
       "       '18) ¿Cuál de los siguientes factores considera el segundo más importante al elegir una opción laboral?',\n",
       "       '19) ¿Ha participado en procesos de selección para empresas internacionales? (directamente o a través de empresas locales)',\n",
       "       '20) ¿Con qué frecuencia recibes ofertas laborales? (por cualquier medio, ofertas locales o internacionales. Las invitaciones a aplicar ya cuentan)',\n",
       "       '21) ¿Cuál de las siguientes le parece que es la mayor dificultad al aplicar para cargos en empresas internacionales?',\n",
       "       '22) Si Ud. trabaja para el exterior, Imagine que está comparando un “senior” paraguayo con lo que en el mercado internacional se espera de un “senior”. ¿Cómo percibe la diferencia de seniority entre el mercado local y el internacional?',\n",
       "       '23) Si Ud. trabaja para el exterior, ¿cuál considera que es el tipo de perfil más requerido?',\n",
       "       '24) Si Ud. ya participó en procesos de selección para el exterior, ¿Qué afirmación considera la más acertada en cuanto a la educación formal (carreras de grado o postgrados en universidades locales) de los profesionales paraguayos?',\n",
       "       '25) Si Ud. ya está trabajando para el exterior ¿cuál considera el mayor desafío en el desempeño de sus funciones?',\n",
       "       '26) ¿Cuál es el nivel mínimo de inglés que considera necesario para su función actual? (local o extranjero)'],\n",
       "      dtype='object')"
      ]
     },
     "execution_count": 8,
     "metadata": {},
     "output_type": "execute_result"
    }
   ],
   "source": [
    "df.columns"
   ]
  },
  {
   "cell_type": "code",
   "execution_count": 9,
   "id": "5e3da18b-a49e-4fbc-89b6-7bdb6063467c",
   "metadata": {},
   "outputs": [
    {
     "name": "stdout",
     "output_type": "stream",
     "text": [
      "Marca temporal\n",
      "\n",
      "\n",
      "\n",
      "\n",
      "1) Tipo de ocupación:\n",
      "\n",
      "\n",
      "\n",
      "\n",
      "2) Tipo de relación contractual \n",
      "\n",
      "\n",
      "\n",
      "\n",
      "3) Mercado en el que se desempeña\n",
      "\n",
      "\n",
      "\n",
      "\n",
      "4) Rubro de la empresa con la que tiene contrato\n",
      "\n",
      "\n",
      "\n",
      "\n",
      "5) Rol principal desempeñado\n",
      "\n",
      "\n",
      "\n",
      "\n",
      "6) ¿Cuántos años de experiencia en la industria posee?\n",
      "\n",
      "\n",
      "\n",
      "\n",
      "7) Nivel de seniority que Ud. considera que posee:\n",
      "\n",
      "\n",
      "\n",
      "\n",
      "8) Nivel de seniority que le asignan en su trabajo actual (aunque no sea en forma explícita, si puede inferir igual indique):\n",
      "\n",
      "\n",
      "\n",
      "\n",
      "9) Nivel de educación\n",
      "\n",
      "\n",
      "\n",
      "\n",
      "10) Lugar de educación (carrera de grado, incluso si aún está cursando)\n",
      "\n",
      "\n",
      "\n",
      "\n",
      "11) Nivel de ingreso mensual en USD\n",
      "\n",
      "\n",
      "\n",
      "\n",
      "12) ¿Percibe alguno de los siguientes beneficios? (múltiples opciones)\n",
      "\n",
      "\n",
      "\n",
      "\n",
      "13) En caso que trabaje con compañeros extranjeros, ¿cómo percibe su remuneración con relación a los demás compañeros?\n",
      "\n",
      "\n",
      "\n",
      "\n",
      "14) ¿En cuál de las siguientes áreas técnicas mejor encaja el desarrollo de sus actividades profesionales? - Seleccionar la principal.\n",
      "\n",
      "\n",
      "\n",
      "\n",
      "15) En su lugar actual de trabajo, ¿cuántas vacantes para el área de tecnología estima que existen actualmente?\n",
      "\n",
      "\n",
      "\n",
      "\n",
      "16) En la empresa para la que trabaja, ¿existen políticas orientadas a la retención y/o captación del capital humano especialmente del área de IT?\n",
      "\n",
      "\n",
      "\n",
      "\n",
      "17) ¿Cuál de los siguientes factores considera el más importante al elegir una opción laboral?\n",
      "\n",
      "\n",
      "\n",
      "\n",
      "18) ¿Cuál de los siguientes factores considera el segundo más importante al elegir una opción laboral?\n",
      "\n",
      "\n",
      "\n",
      "\n",
      "19) ¿Ha participado en procesos de selección para empresas internacionales? (directamente o a través de empresas locales)\n",
      "\n",
      "\n",
      "\n",
      "\n",
      "20) ¿Con qué frecuencia recibes ofertas laborales? (por cualquier medio, ofertas locales o internacionales. Las invitaciones a aplicar ya cuentan)\n",
      "\n",
      "\n",
      "\n",
      "\n",
      "21) ¿Cuál de las siguientes le parece que es la mayor dificultad al aplicar para cargos en empresas internacionales?\n",
      "\n",
      "\n",
      "\n",
      "\n",
      "22) Si Ud. trabaja para el exterior, Imagine que está comparando un “senior” paraguayo con lo que en el mercado internacional se espera de un “senior”. ¿Cómo percibe la diferencia de seniority entre el mercado local y el internacional?\n",
      "\n",
      "\n",
      "\n",
      "\n",
      "23) Si Ud. trabaja para el exterior, ¿cuál considera que es el tipo de perfil más requerido?\n",
      "\n",
      "\n",
      "\n",
      "\n",
      "24) Si Ud. ya participó en procesos de selección para el exterior, ¿Qué afirmación considera la más acertada en cuanto a la educación formal (carreras de grado o postgrados en universidades locales) de los profesionales paraguayos?\n",
      "\n",
      "\n",
      "\n",
      "\n",
      "25) Si Ud. ya está trabajando para el exterior ¿cuál considera el mayor desafío en el desempeño de sus funciones?\n",
      "\n",
      "\n",
      "\n",
      "\n",
      "26) ¿Cuál es el nivel mínimo de inglés que considera necesario para su función actual? (local o extranjero)\n",
      "\n",
      "\n",
      "\n",
      "\n"
     ]
    }
   ],
   "source": [
    "for i in df.columns:\n",
    "    print(i)\n",
    "    print('\\n'*3)"
   ]
  },
  {
   "cell_type": "code",
   "execution_count": 10,
   "id": "3433e103-b4c6-4d0b-b839-b414a3703517",
   "metadata": {},
   "outputs": [],
   "source": [
    "new_names = {\n",
    "\"Marca temporal\" : 'marca_temp',\n",
    "\"1) Tipo de ocupación:\": '1_ocupacion',\n",
    "\"2) Tipo de relación contractual \":'2_relacion_contractual',\n",
    "\"3) Mercado en el que se desempeña\":'3_mercado_de_trabajo',\n",
    "\"4) Rubro de la empresa con la que tiene contrato\":'4_rubro_de_trabajo',\n",
    "\"5) Rol principal desempeñado\":'5_ROL_de_trabajo',\n",
    "\"6) ¿Cuántos años de experiencia en la industria posee?\":'6_años_de_experiencia',\n",
    "\"7) Nivel de seniority que Ud. considera que posee\":'7_señority_que_posee',\n",
    "\"8) Nivel de seniority que le asignan en su trabajo actual (aunque no sea en forma explícita, si puede inferir igual indique)\":'8_señority_asignado_actualmente',\n",
    "\"9) Nivel de educación\":'9_nivel_educativo',\n",
    "\"10) Lugar de educación (carrera de grado, incluso si aún está cursando)\":'10_lugar_educativo',\n",
    "\"11) Nivel de ingreso mensual en USD\":'11_ingreso_mensual_en_dolares',\n",
    "\"12) ¿Percibe alguno de los siguientes beneficios? (múltiples opciones)\":'12_beneficios_percibidos',\n",
    "\"13) En caso que trabaje con compañeros extranjeros, ¿cómo percibe su remuneración con relación a los demás compañeros?\":'13_remuneracion_vs_compañeros',\n",
    "\"14) ¿En cuál de las siguientes áreas técnicas mejor encaja el desarrollo de sus actividades profesionales? - Seleccionar la principal.\":'14_habilidades_tecnicas',\n",
    "\"15) En su lugar actual de trabajo, ¿cuántas vacantes para el área de tecnología estima que existen actualmente?\":'15_estimacion_de_vacancias',\n",
    "\"16) En la empresa para la que trabaja, ¿existen políticas orientadas a la retención y/o captación del capital humano especialmente del área de IT?\":'16_politicas_de_retencion_capacitacion',\n",
    "\"17) ¿Cuál de los siguientes factores considera el más importante al elegir una opción laboral?\":'17_1_factores_opciones_lab',\n",
    "\"18) ¿Cuál de los siguientes factores considera el segundo más importante al elegir una opción laboral?\":'18_2_factores_opciones_lab',\n",
    "\"19) ¿Ha participado en procesos de selección para empresas internacionales? (directamente o a través de empresas locales)\":'19_tuvo_entrev_inter',\n",
    "\"20) ¿Con qué frecuencia recibes ofertas laborales? (por cualquier medio, ofertas locales o internacionales. Las invitaciones a aplicar ya cuentan)\":'20_freq_ofert_laboral',\n",
    "\"21) ¿Cuál de las siguientes le parece que es la mayor dificultad al aplicar para cargos en empresas internacionales?\":'21_mayor_dif_x_emp_internacionales',\n",
    "\"22) Si Ud. trabaja para el exterior, Imagine que está comparando un “senior” paraguayo con lo que en el mercado internacional se espera de un “senior”. ¿Cómo percibe la diferencia de seniority entre el mercado local y el internacional?\":'22_percep_señority',\n",
    "\"23) Si Ud. trabaja para el exterior, ¿cuál considera que es el tipo de perfil más requerido?\":'23_perf_mas_req',\n",
    "\"24) Si Ud. ya participó en procesos de selección para el exterior, ¿Qué afirmación considera la más acertada en cuanto a la educación formal (carreras de grado o postgrados en universidades locales) de los profesionales paraguayos?\":'24_educacion_formal_internacionales',\n",
    "\"25) Si Ud. ya está trabajando para el exterior ¿cuál considera el mayor desafío en el desempeño de sus funciones?\":'25_mayor_desafio_exterior',\n",
    "\"26) ¿Cuál es el nivel mínimo de inglés que considera necesario para su función actual? (local o extranjero)\":'26_ingles_nivel_min',\n",
    "}"
   ]
  },
  {
   "cell_type": "code",
   "execution_count": 11,
   "id": "34d58e56-6ae0-41f6-a2df-c0630fd03e0f",
   "metadata": {},
   "outputs": [],
   "source": [
    "# Renamin each column in the df.\n",
    "df.rename(columns=new_names, inplace=True)"
   ]
  },
  {
   "cell_type": "code",
   "execution_count": 12,
   "id": "283cb227-d1e0-4c30-8d6d-01ce2974a03c",
   "metadata": {},
   "outputs": [
    {
     "data": {
      "text/plain": [
       "Index(['marca_temp', '1_ocupacion', '2_relacion_contractual',\n",
       "       '3_mercado_de_trabajo', '4_rubro_de_trabajo', '5_ROL_de_trabajo',\n",
       "       '6_años_de_experiencia',\n",
       "       '7) Nivel de seniority que Ud. considera que posee:',\n",
       "       '8) Nivel de seniority que le asignan en su trabajo actual (aunque no sea en forma explícita, si puede inferir igual indique):',\n",
       "       '9_nivel_educativo', '10_lugar_educativo',\n",
       "       '11_ingreso_mensual_en_dolares', '12_beneficios_percibidos',\n",
       "       '13_remuneracion_vs_compañeros', '14_habilidades_tecnicas',\n",
       "       '15_estimacion_de_vacancias', '16_politicas_de_retencion_capacitacion',\n",
       "       '17_1_factores_opciones_lab', '18_2_factores_opciones_lab',\n",
       "       '19_tuvo_entrev_inter', '20_freq_ofert_laboral',\n",
       "       '21_mayor_dif_x_emp_internacionales', '22_percep_señority',\n",
       "       '23_perf_mas_req', '24_educacion_formal_internacionales',\n",
       "       '25_mayor_desafio_exterior', '26_ingles_nivel_min'],\n",
       "      dtype='object')"
      ]
     },
     "execution_count": 12,
     "metadata": {},
     "output_type": "execute_result"
    }
   ],
   "source": [
    "df.columns"
   ]
  },
  {
   "cell_type": "markdown",
   "id": "50c35f4e-d5be-4544-987b-ceb6b1e50736",
   "metadata": {},
   "source": [
    "## RENAMING EACH COLUMN VALUES"
   ]
  },
  {
   "cell_type": "code",
   "execution_count": 13,
   "id": "ac731852-d2ac-4665-87ad-e3f0ad25582f",
   "metadata": {},
   "outputs": [],
   "source": [
    "#df['modalidad'].replace({\n",
    "#    'Ninguna de las anteriores': 'Ninguna',\n",
    "#}, regex=True, inplace=True)"
   ]
  },
  {
   "cell_type": "markdown",
   "id": "50ff8853-beef-4091-b879-b3e1fd848246",
   "metadata": {},
   "source": [
    "### 1- OCUPACION"
   ]
  },
  {
   "cell_type": "code",
   "execution_count": 14,
   "id": "4304a7b2-1e1f-4dfd-8d93-7e3662076ab2",
   "metadata": {},
   "outputs": [
    {
     "data": {
      "text/plain": [
       "Index(['Empleado fulltime', 'Freelance', 'Empleado parttime',\n",
       "       'Emprendimiento propio'],\n",
       "      dtype='object')"
      ]
     },
     "execution_count": 14,
     "metadata": {},
     "output_type": "execute_result"
    }
   ],
   "source": [
    "df['1_ocupacion'].value_counts().keys()"
   ]
  },
  {
   "cell_type": "code",
   "execution_count": 15,
   "id": "bf8dc5e7-0c13-446f-b3d0-bdfc5553d331",
   "metadata": {},
   "outputs": [],
   "source": [
    "df['1_ocupacion'].replace({\n",
    "    'Empleado fulltime': 'fulltime',\n",
    "    'Freelance':'freelance',\n",
    "    'Empleado parttime': 'parttime',\n",
    "    'Emprendimiento propio':'emprendimiento',\n",
    "}, regex=True, inplace=True)"
   ]
  },
  {
   "cell_type": "code",
   "execution_count": 16,
   "id": "d29c30f4-4736-4e4d-b7c2-bd77b15e77dc",
   "metadata": {},
   "outputs": [
    {
     "data": {
      "text/plain": [
       "Index(['fulltime', 'freelance', 'parttime', 'emprendimiento'], dtype='object')"
      ]
     },
     "execution_count": 16,
     "metadata": {},
     "output_type": "execute_result"
    }
   ],
   "source": [
    "df['1_ocupacion'].value_counts().keys()"
   ]
  },
  {
   "cell_type": "markdown",
   "id": "85b562e9-2100-4721-9ed5-7a17e38595e2",
   "metadata": {},
   "source": [
    "### 2 - Relacion de Contrato"
   ]
  },
  {
   "cell_type": "code",
   "execution_count": 17,
   "id": "3cfdbfbe-6cb3-4d7a-b020-37a6b003ac6b",
   "metadata": {},
   "outputs": [
    {
     "data": {
      "text/plain": [
       "Index(['Relación de dependencia',\n",
       "       'Contrato por tiempo indefinido o sin contrato',\n",
       "       'Contrato por tiempo definido',\n",
       "       'Emprendimiento propio / relación con clientes'],\n",
       "      dtype='object')"
      ]
     },
     "execution_count": 17,
     "metadata": {},
     "output_type": "execute_result"
    }
   ],
   "source": [
    "df['2_relacion_contractual'].value_counts().keys()"
   ]
  },
  {
   "cell_type": "code",
   "execution_count": 18,
   "id": "1ecb3cb5-f629-43ee-a7a5-b0c6c69b11f9",
   "metadata": {},
   "outputs": [],
   "source": [
    "df['2_relacion_contractual'].replace({\n",
    "    'Relación de dependencia': 'r_dependencia',\n",
    "    'Contrato por tiempo indefinido o sin contrato':'indef_sin_contrato',\n",
    "    'Contrato por tiempo definido': 'contrato_temporal',\n",
    "    'Emprendimiento propio / relación con clientes':'emprendedor_c_clientes',\n",
    "}, regex=True, inplace=True)"
   ]
  },
  {
   "cell_type": "code",
   "execution_count": 19,
   "id": "8b720711-c524-4ff1-9146-2b84ef189f07",
   "metadata": {},
   "outputs": [
    {
     "data": {
      "text/plain": [
       "Index(['r_dependencia', 'indef_sin_contrato', 'contrato_temporal',\n",
       "       'emprendedor_c_clientes'],\n",
       "      dtype='object')"
      ]
     },
     "execution_count": 19,
     "metadata": {},
     "output_type": "execute_result"
    }
   ],
   "source": [
    "df['2_relacion_contractual'].value_counts().keys()"
   ]
  },
  {
   "cell_type": "markdown",
   "id": "34bdebbe-aa82-4b2b-8f32-a788c561fb67",
   "metadata": {},
   "source": [
    "### 3_mercado_de_trabajo"
   ]
  },
  {
   "cell_type": "code",
   "execution_count": 20,
   "id": "1e4c35a3-373f-4621-88d1-cd362400ed3c",
   "metadata": {},
   "outputs": [
    {
     "data": {
      "text/plain": [
       "Index(['Empresa local con clientes locales',\n",
       "       'Empresas extranjera con clientes en el extranjero (puede tener también clientes en PY)',\n",
       "       'Empresa local con clientes en el extranjero (puede tener también clientes en PY)',\n",
       "       'Empresas extranjera con clientes en el extranjero',\n",
       "       'Empresa local con clientes en el extranjero',\n",
       "       'Empresas extranjera con clientes en el extranjero y en Paraguay'],\n",
       "      dtype='object')"
      ]
     },
     "execution_count": 20,
     "metadata": {},
     "output_type": "execute_result"
    }
   ],
   "source": [
    "df['3_mercado_de_trabajo'].value_counts().keys()"
   ]
  },
  {
   "cell_type": "code",
   "execution_count": 21,
   "id": "930f4949-a8cd-4d37-b301-05941fb8f00d",
   "metadata": {},
   "outputs": [],
   "source": [
    "df['3_mercado_de_trabajo'].replace({\n",
    "    'Empresa local con clientes locales':'emp_local_cli_local',\n",
    "    'Empresas extranjera con clientes en el extranjero (puede tener también clientes en PY)':'emp_ext_cli_mix',\n",
    "    'Empresa local con clientes en el extranjero (puede tener también clientes en PY)':'emp_loc_cli_mix',\n",
    "    'Empresas extranjera con clientes en el extranjero':'emp_ext_cli_ext',\n",
    "    'Empresa local con clientes en el extranjero':'emp_loc_cli_ext',\n",
    "    'Empresas extranjera con clientes en el extranjero y en Paraguay':'emp_ext_cli_mix',\n",
    "}, regex=True, inplace=True)"
   ]
  },
  {
   "cell_type": "code",
   "execution_count": 22,
   "id": "8ed18f19-2af0-4e10-82e5-acc1f5983af5",
   "metadata": {},
   "outputs": [
    {
     "data": {
      "text/plain": [
       "Index(['emp_local_cli_local',\n",
       "       'emp_ext_cli_ext (puede tener también clientes en PY)',\n",
       "       'emp_loc_cli_ext (puede tener también clientes en PY)',\n",
       "       'emp_ext_cli_ext', 'emp_loc_cli_ext', 'emp_ext_cli_ext y en Paraguay'],\n",
       "      dtype='object')"
      ]
     },
     "execution_count": 22,
     "metadata": {},
     "output_type": "execute_result"
    }
   ],
   "source": [
    "df['3_mercado_de_trabajo'].value_counts().keys()"
   ]
  },
  {
   "cell_type": "code",
   "execution_count": 23,
   "id": "37710cb7-e618-4611-b9c3-5d030416caf6",
   "metadata": {},
   "outputs": [
    {
     "data": {
      "text/plain": [
       "Index(['emp_local_cli_local',\n",
       "       'emp_ext_cli_ext (puede tener también clientes en PY)',\n",
       "       'emp_loc_cli_ext (puede tener también clientes en PY)',\n",
       "       'emp_ext_cli_ext', 'emp_loc_cli_ext', 'emp_ext_cli_ext y en Paraguay'],\n",
       "      dtype='object')"
      ]
     },
     "execution_count": 23,
     "metadata": {},
     "output_type": "execute_result"
    }
   ],
   "source": [
    "df['3_mercado_de_trabajo'].value_counts().keys()"
   ]
  },
  {
   "cell_type": "markdown",
   "id": "07760cef-9e5d-4e58-8f5f-61f4eb410ac7",
   "metadata": {},
   "source": [
    "### RUBRO"
   ]
  },
  {
   "cell_type": "code",
   "execution_count": 24,
   "id": "1a4a041c-265e-45f6-ad8d-7ed4527c5f9f",
   "metadata": {},
   "outputs": [
    {
     "name": "stdout",
     "output_type": "stream",
     "text": [
      "Software factory o head hunter intermediaria\n",
      "Desarrollador de productos tecnológicos propios\n",
      "Sector financiero\n",
      "Telefonía / Networking\n",
      "Gobierno\n",
      "Industria\n",
      "Educación\n",
      "Salud\n",
      "Ecommerce\n",
      "Retail\n",
      "ONG\n",
      "Automotriz/Ganadería/Networking\n",
      "Grupo empresarial\n",
      "Comercio\n",
      "Empresas de marketing, multimedias, publicitarias\n",
      "automoviles\n",
      "Gastronomia\n",
      "Maquinarias\n",
      "caja mutual\n",
      "Telecomunicaciones y tecnología \n",
      "Educativo\n",
      "Consultora y productos propios\n",
      "Energía\n",
      "Desarrollador de productos para clientes y propios\n",
      "GIS Sistemas de Informacion Geografica -  BD Espaciales\n",
      "Energía e industria \n",
      "música \n",
      "startups\n",
      "Importaciones y representaciones\n",
      "Seguros\n",
      "Soporte técnico \n",
      "Real Estate\n",
      "Educacion (ong)\n",
      "Monitoreo de seguridad\n",
      "Centro Comercial\n",
      "Constructora\n",
      "Marketing\n",
      "el Estado\n",
      "Servicios Portuarios\n",
      "INTEGRADOR \n",
      "Servicios de TI\n",
      "AGROINDUSTRIAL\n",
      "Robótica \n",
      "Automotriz\n",
      "Data analytics and cloud infraestructure\n",
      "Consultoria\n",
      "Logística \n",
      "Contact Center\n",
      "Market research \n"
     ]
    }
   ],
   "source": [
    "for i in df['4_rubro_de_trabajo'].value_counts().keys():print(i)"
   ]
  },
  {
   "cell_type": "code",
   "execution_count": 25,
   "id": "f36a5a52-555b-4981-ab97-610de7e27ee8",
   "metadata": {},
   "outputs": [],
   "source": [
    "df['4_rubro_de_trabajo'].replace({\n",
    "\"Software factory o head hunter intermediaria\":'soft. factory / intermediaria',\n",
    "\"Desarrollador de productos tecnológicos propios\":'dev. productos propios',\n",
    "\"Automotriz/Ganadería/Networking\":'autom./ganad./netw.',\n",
    "\"Empresas de marketing, multimedias, publicitarias\":'merketing/multim./publicidad',\n",
    "\"Telecomunicaciones y tecnología \":'telecom. && tec.',\n",
    "\"Consultora y productos propios\":'consultoria && prod. propios',\n",
    "\"Desarrollador de productos para clientes y propios\":'dev. clientes && propios',\n",
    "\"GIS Sistemas de Informacion Geografica -  BD Espaciales\" :'GIS / BD Espaciales',\n",
    "\"Energía e industria \":'Energ. e Ind.',\n",
    "\"Importaciones y representaciones\":'Imp. && Representacion',\n",
    "\"Data analytics and cloud infraestructure\" :'Data anaytics && cloud inf',\n",
    "}, regex=True, inplace=True)"
   ]
  },
  {
   "cell_type": "markdown",
   "id": "57115807-233a-4913-ba1a-51d2b7c684c7",
   "metadata": {},
   "source": [
    "### Rol"
   ]
  },
  {
   "cell_type": "code",
   "execution_count": 26,
   "id": "0f4e3a06-67c7-4603-a5d3-2d16195fd589",
   "metadata": {},
   "outputs": [
    {
     "name": "stdout",
     "output_type": "stream",
     "text": [
      "Desarrollador / Software Engineer\n",
      "Analista de Sistemas / Business Analyst\n",
      "Administrativo / Gerencial\n",
      "Project Manager y/o Program Manager\n",
      "Arquitecto / Software Architect\n",
      "Encargado de infraestructura onprem / SysAdmin\n",
      "Ingeniero de datos / Data Engineer\n",
      "Engineering Manager / Team Lead\n",
      "Aseguramiento de calidad / Quality Assurance\n",
      "Encargado de infraestructura cloud / Cloud Architect (puede incluir DevOps)\n",
      "Científico de Datos / Data Scientist\n",
      "DevOps (solo devops, sin architectura e infra, onprem o cloud)\n",
      "Cybersecurity\n",
      "Comercial / Business Development\n",
      "Product Manager y/o Product Owner\n",
      "Product Designer\n",
      "Scrum Master y/o Agile Coach\n"
     ]
    }
   ],
   "source": [
    "for i in df['5_ROL_de_trabajo'].value_counts().keys(): print (i)"
   ]
  },
  {
   "cell_type": "code",
   "execution_count": 27,
   "id": "4d23f81c-8025-42cf-b9b0-ca80d9372db1",
   "metadata": {},
   "outputs": [],
   "source": [
    "df['5_ROL_de_trabajo'].replace({\n",
    "\"Desarrollador / Software Engineer\":'dev / software eng',\n",
    "\"Analista de Sistemas / Business Analyst\":'Analista de Sist. / Business Analyst',\n",
    "\"Administrativo / Gerencial\":'Admin. / Gerencial',\n",
    "\"Project Manager y/o Program Manager\":'Proj. Manager y/o Prog. Manager',\n",
    "\"Arquitecto / Software Architect\":'Software Arch.',\n",
    "\"Encargado de infraestructura onprem / SysAdmin\":'SysAdmin',\n",
    "\"Ingeniero de datos / Data Engineer\" : 'Data Engineer',\n",
    "\"Engineering Manager / Team Lead\": 'Team Lead',\n",
    "\"Aseguramiento de calidad / Quality Assurance\": 'QA',\n",
    "\"Encargado de infraestructura cloud / Cloud Architect (puede incluir DevOps)\":'Encargado de Infra. Cloud /Cloud Arch./DevOps',\n",
    "\"Científico de Datos / Data Scientist\":'Data Scientist',\n",
    "\"DevOps (solo devops, sin architectura e infra, onprem o cloud)\":'DevOps',\n",
    "}, regex=True, inplace=True)"
   ]
  },
  {
   "cell_type": "code",
   "execution_count": 28,
   "id": "d5058fc7-8daa-4d9c-b572-fbff5cf42072",
   "metadata": {},
   "outputs": [
    {
     "data": {
      "text/plain": [
       "dev / software eng                                                             181\n",
       "Analista de Sist. / Business Analyst                                            24\n",
       "Admin. / Gerencial                                                              19\n",
       "Proj. Manager y/o Prog. Manager                                                 16\n",
       "Software Arch.                                                                  16\n",
       "SysAdmin                                                                        13\n",
       "Data Engineer                                                                   10\n",
       "Team Lead                                                                       10\n",
       "QA                                                                               9\n",
       "Encargado de infraestructura cloud / Cloud Architect (puede incluir DevOps)      9\n",
       "Data Scientist                                                                   7\n",
       "DevOps (solo devops, sin architectura e infra, onprem o cloud)                   5\n",
       "Cybersecurity                                                                    5\n",
       "Comercial / Business Development                                                 5\n",
       "Product Manager y/o Product Owner                                                5\n",
       "Product Designer                                                                 3\n",
       "Scrum Master y/o Agile Coach                                                     3\n",
       "Name: 5_ROL_de_trabajo, dtype: int64"
      ]
     },
     "execution_count": 28,
     "metadata": {},
     "output_type": "execute_result"
    }
   ],
   "source": [
    "df['5_ROL_de_trabajo'].value_counts()"
   ]
  },
  {
   "cell_type": "markdown",
   "id": "a00e709f-ebd1-4352-9253-6a6907b01163",
   "metadata": {},
   "source": [
    "### AÑOS DE EXPERIENCIA"
   ]
  },
  {
   "cell_type": "code",
   "execution_count": 29,
   "id": "cbde7b0d-4ed1-48e5-b4cb-b9ccdef72bf5",
   "metadata": {},
   "outputs": [
    {
     "data": {
      "text/plain": [
       "Index(['11 - 15', 'hasta 2', 10.0, 5.0, 'más de 15', 3.0, 8.0, 6.0, 7.0, 4.0,\n",
       "       9.0],\n",
       "      dtype='object')"
      ]
     },
     "execution_count": 29,
     "metadata": {},
     "output_type": "execute_result"
    }
   ],
   "source": [
    "df['6_años_de_experiencia'].value_counts().keys()"
   ]
  },
  {
   "cell_type": "code",
   "execution_count": 30,
   "id": "a19b2caa-f765-4375-8abe-ff57552ad04d",
   "metadata": {},
   "outputs": [
    {
     "data": {
      "text/plain": [
       "Index(['marca_temp', '1_ocupacion', '2_relacion_contractual',\n",
       "       '3_mercado_de_trabajo', '4_rubro_de_trabajo', '5_ROL_de_trabajo',\n",
       "       '6_años_de_experiencia',\n",
       "       '7) Nivel de seniority que Ud. considera que posee:',\n",
       "       '8) Nivel de seniority que le asignan en su trabajo actual (aunque no sea en forma explícita, si puede inferir igual indique):',\n",
       "       '9_nivel_educativo', '10_lugar_educativo',\n",
       "       '11_ingreso_mensual_en_dolares', '12_beneficios_percibidos',\n",
       "       '13_remuneracion_vs_compañeros', '14_habilidades_tecnicas',\n",
       "       '15_estimacion_de_vacancias', '16_politicas_de_retencion_capacitacion',\n",
       "       '17_1_factores_opciones_lab', '18_2_factores_opciones_lab',\n",
       "       '19_tuvo_entrev_inter', '20_freq_ofert_laboral',\n",
       "       '21_mayor_dif_x_emp_internacionales', '22_percep_señority',\n",
       "       '23_perf_mas_req', '24_educacion_formal_internacionales',\n",
       "       '25_mayor_desafio_exterior', '26_ingles_nivel_min'],\n",
       "      dtype='object')"
      ]
     },
     "execution_count": 30,
     "metadata": {},
     "output_type": "execute_result"
    }
   ],
   "source": [
    "df.columns"
   ]
  },
  {
   "cell_type": "code",
   "execution_count": 31,
   "id": "f2eda572-7b28-4b9e-bd73-645f0f8c33c9",
   "metadata": {},
   "outputs": [
    {
     "data": {
      "text/plain": [
       "Senior                   121\n",
       "Semi-senior              108\n",
       "Mid-level o Associate     62\n",
       "Junior                    28\n",
       "Principal                 19\n",
       "Entry level                2\n",
       "Name: 7) Nivel de seniority que Ud. considera que posee:, dtype: int64"
      ]
     },
     "execution_count": 31,
     "metadata": {},
     "output_type": "execute_result"
    }
   ],
   "source": [
    "df['7) Nivel de seniority que Ud. considera que posee:'].value_counts()"
   ]
  },
  {
   "cell_type": "code",
   "execution_count": 32,
   "id": "997ecb6f-b1f3-4314-802b-00946025bb4a",
   "metadata": {},
   "outputs": [
    {
     "data": {
      "text/plain": [
       "Senior                   152\n",
       "Semi-senior               62\n",
       "Mid-level o Associate     53\n",
       "Junior                    29\n",
       "Principal                 28\n",
       "No puedo saber            12\n",
       "Entry level                4\n",
       "Name: 8) Nivel de seniority que le asignan en su trabajo actual (aunque no sea en forma explícita, si puede inferir igual indique):, dtype: int64"
      ]
     },
     "execution_count": 32,
     "metadata": {},
     "output_type": "execute_result"
    }
   ],
   "source": [
    "df['8) Nivel de seniority que le asignan en su trabajo actual (aunque no sea en forma explícita, si puede inferir igual indique):'].value_counts()"
   ]
  },
  {
   "cell_type": "code",
   "execution_count": 33,
   "id": "15eb5dba-b44a-4b7e-96b9-70297c95a2bf",
   "metadata": {},
   "outputs": [
    {
     "data": {
      "text/plain": [
       "Senior                   152\n",
       "Semi-senior               62\n",
       "Mid-level o Associate     53\n",
       "Junior                    29\n",
       "Principal                 28\n",
       "No puedo saber            12\n",
       "Entry level                4\n",
       "Name: 8) Nivel de seniority que le asignan en su trabajo actual (aunque no sea en forma explícita, si puede inferir igual indique):, dtype: int64"
      ]
     },
     "execution_count": 33,
     "metadata": {},
     "output_type": "execute_result"
    }
   ],
   "source": [
    "df['8) Nivel de seniority que le asignan en su trabajo actual (aunque no sea en forma explícita, si puede inferir igual indique):'].value_counts()"
   ]
  },
  {
   "cell_type": "code",
   "execution_count": 35,
   "id": "e1b85595-115a-4034-9517-b8522543f171",
   "metadata": {},
   "outputs": [
    {
     "name": "stdout",
     "output_type": "stream",
     "text": [
      "-  marca_temp\n",
      "-  1_ocupacion\n",
      "-  2_relacion_contractual\n",
      "-  3_mercado_de_trabajo\n",
      "-  4_rubro_de_trabajo\n",
      "-  5_ROL_de_trabajo\n",
      "-  6_años_de_experiencia\n",
      "-  7) Nivel de seniority que Ud. considera que posee:\n",
      "-  8) Nivel de seniority que le asignan en su trabajo actual (aunque no sea en forma explícita, si puede inferir igual indique):\n",
      "-  9_nivel_educativo\n",
      "-  10_lugar_educativo\n",
      "-  11_ingreso_mensual_en_dolares\n",
      "-  12_beneficios_percibidos\n",
      "-  13_remuneracion_vs_compañeros\n",
      "-  14_habilidades_tecnicas\n",
      "-  15_estimacion_de_vacancias\n",
      "-  16_politicas_de_retencion_capacitacion\n",
      "-  17_1_factores_opciones_lab\n",
      "-  18_2_factores_opciones_lab\n",
      "-  19_tuvo_entrev_inter\n",
      "-  20_freq_ofert_laboral\n",
      "-  21_mayor_dif_x_emp_internacionales\n",
      "-  22_percep_señority\n",
      "-  23_perf_mas_req\n",
      "-  24_educacion_formal_internacionales\n",
      "-  25_mayor_desafio_exterior\n",
      "-  26_ingles_nivel_min\n"
     ]
    }
   ],
   "source": [
    "for i in df.columns: print(f'- ',i)"
   ]
  },
  {
   "cell_type": "code",
   "execution_count": null,
   "id": "02c48b02-ec82-4c34-80e0-c88fb334ce81",
   "metadata": {},
   "outputs": [],
   "source": []
  },
  {
   "cell_type": "code",
   "execution_count": 36,
   "id": "49ebc228-1115-46a9-a5c2-e52fe30a8e64",
   "metadata": {},
   "outputs": [],
   "source": [
    "df.to_csv('data_fixed.csv')"
   ]
  },
  {
   "cell_type": "code",
   "execution_count": null,
   "id": "83bfa3db-ad22-4518-bb7e-d0e8427789db",
   "metadata": {},
   "outputs": [],
   "source": []
  }
 ],
 "metadata": {
  "kernelspec": {
   "display_name": "Python 3 (ipykernel)",
   "language": "python",
   "name": "python3"
  },
  "language_info": {
   "codemirror_mode": {
    "name": "ipython",
    "version": 3
   },
   "file_extension": ".py",
   "mimetype": "text/x-python",
   "name": "python",
   "nbconvert_exporter": "python",
   "pygments_lexer": "ipython3",
   "version": "3.8.10"
  }
 },
 "nbformat": 4,
 "nbformat_minor": 5
}
