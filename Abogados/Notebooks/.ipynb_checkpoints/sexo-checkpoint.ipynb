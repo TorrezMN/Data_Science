{
 "cells": [
  {
   "cell_type": "markdown",
   "id": "2facc66e",
   "metadata": {},
   "source": [
    "# Sexo"
   ]
  },
  {
   "cell_type": "markdown",
   "id": "47592791-6619-4678-81fe-28cd329216d6",
   "metadata": {},
   "source": [
    "- En este notebook se explora el data set en funcion del sexo de los abogados que aparecen en el registro."
   ]
  },
  {
   "cell_type": "code",
   "execution_count": 1,
   "id": "21cbce5b",
   "metadata": {},
   "outputs": [],
   "source": [
    "import pandas as pd\n",
    "import matplotlib.pyplot as plt"
   ]
  },
  {
   "cell_type": "code",
   "execution_count": 2,
   "id": "a76e6fda-4555-4b91-90d8-1f671d1e9092",
   "metadata": {},
   "outputs": [],
   "source": [
    "%matplotlib inline\n",
    "plt.rcParams['figure.figsize'] = [12, 7]"
   ]
  },
  {
   "cell_type": "code",
   "execution_count": 7,
   "id": "66ddb873-fb70-455e-b082-40aa0bcec351",
   "metadata": {},
   "outputs": [
    {
     "data": {
      "text/html": [
       " <style>\n",
       ".output_png {\n",
       "    display: table-cell;\n",
       "    text-align: center;\n",
       "    vertical-align: middle;\n",
       "}\n",
       "</style> "
      ],
      "text/plain": [
       "<IPython.core.display.HTML object>"
      ]
     },
     "execution_count": 7,
     "metadata": {},
     "output_type": "execute_result"
    }
   ],
   "source": [
    "# CENTER CHARTS\n",
    "from IPython.core.display import HTML as Center\n",
    "\n",
    "Center(\"\"\" <style>\n",
    ".output_png {\n",
    "    display: table-cell;\n",
    "    text-align: center;\n",
    "    vertical-align: middle;\n",
    "}\n",
    "</style> \"\"\")"
   ]
  },
  {
   "cell_type": "code",
   "execution_count": 8,
   "id": "9b61cab0",
   "metadata": {},
   "outputs": [],
   "source": [
    "# LOAD DATASET\n",
    "df = pd.read_json('../abogados.json')"
   ]
  },
  {
   "cell_type": "code",
   "execution_count": 10,
   "id": "98557eed",
   "metadata": {},
   "outputs": [],
   "source": [
    "# Helper function\n",
    "def show_columns():\n",
    "    \"\"\" Muestra las columnas del dataset.\"\"\"\n",
    "    for i in df.columns:\n",
    "        print('-> ', i)\n",
    "        \n",
    "        \n",
    "def pie_plot(data_frame, column,title, expl=()):\n",
    "    \"\"\" Genera un pie chart.\n",
    "    \n",
    "        Parameters:\n",
    "        data_frame (DataFrame) : Corresponde al dataframe de donde se sacan los datos para la grafica.\n",
    "        column (str) : Columna de donde se va a sacar los datos para la grafica.\n",
    "        title (str) : Titulo de la grafica.\n",
    "        expl (tuple) : Valores de explocion del grafico para cada porcion. default()\n",
    "    \"\"\"\n",
    "    return (data_frame[column].value_counts(normalize=True).plot(\n",
    "    kind='pie',\n",
    "    title=title,\n",
    "    ylabel='', \n",
    "    explode=expl,\n",
    "    startangle=90,\n",
    "    legend=True))"
   ]
  },
  {
   "cell_type": "code",
   "execution_count": 11,
   "id": "1203ffee",
   "metadata": {},
   "outputs": [],
   "source": [
    "genders = df.groupby('sexo')"
   ]
  },
  {
   "cell_type": "code",
   "execution_count": 12,
   "id": "9aed6f40",
   "metadata": {},
   "outputs": [
    {
     "data": {
      "text/plain": [
       "dict_keys(['Femenino', 'Masculino'])"
      ]
     },
     "execution_count": 12,
     "metadata": {},
     "output_type": "execute_result"
    }
   ],
   "source": [
    "genders.groups.keys()"
   ]
  },
  {
   "cell_type": "code",
   "execution_count": 13,
   "id": "f67978c5-c03e-4ff6-bda4-eec5dfef8f6c",
   "metadata": {},
   "outputs": [
    {
     "name": "stdout",
     "output_type": "stream",
     "text": [
      "->  fechaNacimiento\n",
      "->  estaHabilitado\n",
      "->  fechaJuramento\n",
      "->  nroActaJuramento\n",
      "->  fechaMatricula\n",
      "->  cedula\n",
      "->  nombre\n",
      "->  apellido\n",
      "->  matricula\n",
      "->  sexo\n",
      "->  universidad\n",
      "->  egreso\n"
     ]
    }
   ],
   "source": [
    "show_columns()"
   ]
  },
  {
   "cell_type": "code",
   "execution_count": 16,
   "id": "9b7d3d71-aa59-4279-ad3c-082a946b85f1",
   "metadata": {},
   "outputs": [
    {
     "data": {
      "text/plain": [
       "0"
      ]
     },
     "execution_count": 16,
     "metadata": {},
     "output_type": "execute_result"
    }
   ],
   "source": [
    "# SUMAR VALORES NULOS\n",
    "df['sexo'].isna().sum()"
   ]
  },
  {
   "cell_type": "code",
   "execution_count": 17,
   "id": "81a2282b-6e3a-42c8-960d-592269106946",
   "metadata": {},
   "outputs": [],
   "source": [
    "# REMPLAZAR VALORES NULOS\n",
    "df.sexo.fillna('q?', inplace=True)"
   ]
  },
  {
   "cell_type": "markdown",
   "id": "267951f4-6024-4d0b-b90b-9f3d3b3690e9",
   "metadata": {},
   "source": [
    "### GENERAL"
   ]
  },
  {
   "cell_type": "code",
   "execution_count": 18,
   "id": "64f905c7-bf01-497b-997a-b76322794008",
   "metadata": {},
   "outputs": [
    {
     "data": {
      "text/plain": [
       "Masculino    23826\n",
       "Femenino     23321\n",
       "q?            9811\n",
       "Name: sexo, dtype: int64"
      ]
     },
     "execution_count": 18,
     "metadata": {},
     "output_type": "execute_result"
    }
   ],
   "source": [
    "df['sexo'].value_counts()"
   ]
  },
  {
   "cell_type": "code",
   "execution_count": 19,
   "id": "f23191ce-e0d8-4a6c-86d3-5b3a22958bbb",
   "metadata": {},
   "outputs": [
    {
     "data": {
      "text/plain": [
       "<AxesSubplot:title={'center':'Registros X Sexo'}>"
      ]
     },
     "execution_count": 19,
     "metadata": {},
     "output_type": "execute_result"
    },
    {
     "data": {
      "image/png": "[encoded data removed]",
      "text/plain": [
       "<Figure size 864x504 with 1 Axes>"
      ]
     },
     "metadata": {},
     "output_type": "display_data"
    }
   ],
   "source": [
    "pie_plot(df, 'sexo','Registros X Sexo', expl=(.02,.01,.1))"
   ]
  },
  {
   "cell_type": "code",
   "execution_count": 20,
   "id": "f43e6ab6-b873-436f-a4cf-f73eb90575bc",
   "metadata": {},
   "outputs": [],
   "source": [
    "# AGRUPAR POR SEXO\n",
    "grupo_sexo = df.groupby('sexo')"
   ]
  },
  {
   "cell_type": "code",
   "execution_count": 21,
   "id": "c52d9e9f-8dee-4d7c-8b44-3ddc210ff9d7",
   "metadata": {},
   "outputs": [
    {
     "data": {
      "text/plain": [
       "dict_keys(['Femenino', 'Masculino', 'q?'])"
      ]
     },
     "execution_count": 21,
     "metadata": {},
     "output_type": "execute_result"
    }
   ],
   "source": [
    "grupo_sexo.groups.keys()"
   ]
  },
  {
   "cell_type": "markdown",
   "id": "a90f0b4b-7a0c-4f86-9b76-94d44f06b6ed",
   "metadata": {},
   "source": [
    "## MASCULINO"
   ]
  },
  {
   "cell_type": "code",
   "execution_count": 22,
   "id": "840c6b3e-db48-46a5-827c-3a4f6c36022a",
   "metadata": {},
   "outputs": [],
   "source": [
    "masculinos = grupo_sexo.get_group('Masculino')"
   ]
  },
  {
   "cell_type": "code",
   "execution_count": 23,
   "id": "54aa7499-7117-44b6-aa4c-0e259f8e0772",
   "metadata": {},
   "outputs": [
    {
     "data": {
      "text/html": [
       "<div>\n",
       "<style scoped>\n",
       "    .dataframe tbody tr th:only-of-type {\n",
       "        vertical-align: middle;\n",
       "    }\n",
       "\n",
       "    .dataframe tbody tr th {\n",
       "        vertical-align: top;\n",
       "    }\n",
       "\n",
       "    .dataframe thead th {\n",
       "        text-align: right;\n",
       "    }\n",
       "</style>\n",
       "<table border=\"1\" class=\"dataframe\">\n",
       "  <thead>\n",
       "    <tr style=\"text-align: right;\">\n",
       "      <th></th>\n",
       "      <th>fechaNacimiento</th>\n",
       "      <th>estaHabilitado</th>\n",
       "      <th>fechaJuramento</th>\n",
       "      <th>nroActaJuramento</th>\n",
       "      <th>fechaMatricula</th>\n",
       "      <th>cedula</th>\n",
       "      <th>nombre</th>\n",
       "      <th>apellido</th>\n",
       "      <th>matricula</th>\n",
       "      <th>sexo</th>\n",
       "      <th>universidad</th>\n",
       "      <th>egreso</th>\n",
       "    </tr>\n",
       "  </thead>\n",
       "  <tbody>\n",
       "    <tr>\n",
       "      <th>179</th>\n",
       "      <td>1972-02-09</td>\n",
       "      <td>Si</td>\n",
       "      <td>2006-09-27</td>\n",
       "      <td>930</td>\n",
       "      <td>2006-09-27</td>\n",
       "      <td>1545705</td>\n",
       "      <td>ZULMA                                         ...</td>\n",
       "      <td>SANCHEZ CACERES                               ...</td>\n",
       "      <td>14795</td>\n",
       "      <td>Masculino</td>\n",
       "      <td>None</td>\n",
       "      <td>NaN</td>\n",
       "    </tr>\n",
       "    <tr>\n",
       "      <th>250</th>\n",
       "      <td>1913-12-01</td>\n",
       "      <td>Si</td>\n",
       "      <td>1944-04-19</td>\n",
       "      <td>479</td>\n",
       "      <td>1944-04-19</td>\n",
       "      <td>29238</td>\n",
       "      <td>ZULEIK OMAR</td>\n",
       "      <td>AYALA CABEDA</td>\n",
       "      <td>3097</td>\n",
       "      <td>Masculino</td>\n",
       "      <td>None</td>\n",
       "      <td>NaN</td>\n",
       "    </tr>\n",
       "    <tr>\n",
       "      <th>287</th>\n",
       "      <td>1964-02-13</td>\n",
       "      <td>Si</td>\n",
       "      <td>1996-11-01</td>\n",
       "      <td>156</td>\n",
       "      <td>1996-11-01</td>\n",
       "      <td>794745</td>\n",
       "      <td>ZOILO VICTORIANO</td>\n",
       "      <td>PAVON SALDIVAR</td>\n",
       "      <td>5989</td>\n",
       "      <td>Masculino</td>\n",
       "      <td>None</td>\n",
       "      <td>NaN</td>\n",
       "    </tr>\n",
       "    <tr>\n",
       "      <th>288</th>\n",
       "      <td>1935-06-27</td>\n",
       "      <td>Si</td>\n",
       "      <td>1985-05-09</td>\n",
       "      <td>279</td>\n",
       "      <td>1985-05-09</td>\n",
       "      <td>201871</td>\n",
       "      <td>ZOILO COSME</td>\n",
       "      <td>FLORES LESCANO</td>\n",
       "      <td>2476</td>\n",
       "      <td>Masculino</td>\n",
       "      <td>None</td>\n",
       "      <td>NaN</td>\n",
       "    </tr>\n",
       "    <tr>\n",
       "      <th>289</th>\n",
       "      <td>1970-06-27</td>\n",
       "      <td>Si</td>\n",
       "      <td>2009-09-09</td>\n",
       "      <td>1666</td>\n",
       "      <td>2009-09-09</td>\n",
       "      <td>1737640</td>\n",
       "      <td>ZOILO</td>\n",
       "      <td>GOMEZ FRANCO</td>\n",
       "      <td>21041</td>\n",
       "      <td>Masculino</td>\n",
       "      <td>Universidad del Norte</td>\n",
       "      <td>2008.0</td>\n",
       "    </tr>\n",
       "    <tr>\n",
       "      <th>...</th>\n",
       "      <td>...</td>\n",
       "      <td>...</td>\n",
       "      <td>...</td>\n",
       "      <td>...</td>\n",
       "      <td>...</td>\n",
       "      <td>...</td>\n",
       "      <td>...</td>\n",
       "      <td>...</td>\n",
       "      <td>...</td>\n",
       "      <td>...</td>\n",
       "      <td>...</td>\n",
       "      <td>...</td>\n",
       "    </tr>\n",
       "    <tr>\n",
       "      <th>56952</th>\n",
       "      <td>1967-09-16</td>\n",
       "      <td>Si</td>\n",
       "      <td>2021-09-29</td>\n",
       "      <td>0</td>\n",
       "      <td>1993-05-04</td>\n",
       "      <td>1007657</td>\n",
       "      <td>ABDEL ALBERTO</td>\n",
       "      <td>LAMARQUE FERREIRA</td>\n",
       "      <td>4571</td>\n",
       "      <td>Masculino</td>\n",
       "      <td>None</td>\n",
       "      <td>NaN</td>\n",
       "    </tr>\n",
       "    <tr>\n",
       "      <th>56953</th>\n",
       "      <td>1990-12-10</td>\n",
       "      <td>Si</td>\n",
       "      <td>1899-12-30</td>\n",
       "      <td>0</td>\n",
       "      <td>2016-06-01</td>\n",
       "      <td>4705691</td>\n",
       "      <td>AARON MISAEL</td>\n",
       "      <td>PEREIRA ALFONSO</td>\n",
       "      <td>43964</td>\n",
       "      <td>Masculino</td>\n",
       "      <td>Universidad Nacional de Asunción</td>\n",
       "      <td>2015.0</td>\n",
       "    </tr>\n",
       "    <tr>\n",
       "      <th>56954</th>\n",
       "      <td>1993-04-30</td>\n",
       "      <td>Si</td>\n",
       "      <td>2017-04-10</td>\n",
       "      <td>3727</td>\n",
       "      <td>2017-04-10</td>\n",
       "      <td>3942865</td>\n",
       "      <td>AARON ITAMAR BERNABE</td>\n",
       "      <td>VALDEZ CACERES</td>\n",
       "      <td>46573</td>\n",
       "      <td>Masculino</td>\n",
       "      <td>None</td>\n",
       "      <td>NaN</td>\n",
       "    </tr>\n",
       "    <tr>\n",
       "      <th>56955</th>\n",
       "      <td>1976-04-28</td>\n",
       "      <td>Si</td>\n",
       "      <td>2008-03-19</td>\n",
       "      <td>1267</td>\n",
       "      <td>2008-03-19</td>\n",
       "      <td>2022821</td>\n",
       "      <td>AARON HERMINIO</td>\n",
       "      <td>RUIZ DIAZ ROLON</td>\n",
       "      <td>17267</td>\n",
       "      <td>Masculino</td>\n",
       "      <td>None</td>\n",
       "      <td>NaN</td>\n",
       "    </tr>\n",
       "    <tr>\n",
       "      <th>56957</th>\n",
       "      <td>1991-06-24</td>\n",
       "      <td>Si</td>\n",
       "      <td>2021-07-21</td>\n",
       "      <td>4785</td>\n",
       "      <td>2021-07-21</td>\n",
       "      <td>3543443</td>\n",
       "      <td>AARON</td>\n",
       "      <td>BRUNSTEIN PEDROZO</td>\n",
       "      <td>59859</td>\n",
       "      <td>Masculino</td>\n",
       "      <td>Universidad Nacional de Asunción</td>\n",
       "      <td>2018.0</td>\n",
       "    </tr>\n",
       "  </tbody>\n",
       "</table>\n",
       "<p>23826 rows × 12 columns</p>\n",
       "</div>"
      ],
      "text/plain": [
       "      fechaNacimiento estaHabilitado fechaJuramento  nroActaJuramento  \\\n",
       "179        1972-02-09             Si     2006-09-27               930   \n",
       "250        1913-12-01             Si     1944-04-19               479   \n",
       "287        1964-02-13             Si     1996-11-01               156   \n",
       "288        1935-06-27             Si     1985-05-09               279   \n",
       "289        1970-06-27             Si     2009-09-09              1666   \n",
       "...               ...            ...            ...               ...   \n",
       "56952      1967-09-16             Si     2021-09-29                 0   \n",
       "56953      1990-12-10             Si     1899-12-30                 0   \n",
       "56954      1993-04-30             Si     2017-04-10              3727   \n",
       "56955      1976-04-28             Si     2008-03-19              1267   \n",
       "56957      1991-06-24             Si     2021-07-21              4785   \n",
       "\n",
       "      fechaMatricula   cedula  \\\n",
       "179       2006-09-27  1545705   \n",
       "250       1944-04-19    29238   \n",
       "287       1996-11-01   794745   \n",
       "288       1985-05-09   201871   \n",
       "289       2009-09-09  1737640   \n",
       "...              ...      ...   \n",
       "56952     1993-05-04  1007657   \n",
       "56953     2016-06-01  4705691   \n",
       "56954     2017-04-10  3942865   \n",
       "56955     2008-03-19  2022821   \n",
       "56957     2021-07-21  3543443   \n",
       "\n",
       "                                                  nombre  \\\n",
       "179    ZULMA                                         ...   \n",
       "250                                          ZULEIK OMAR   \n",
       "287                                     ZOILO VICTORIANO   \n",
       "288                                          ZOILO COSME   \n",
       "289                                                ZOILO   \n",
       "...                                                  ...   \n",
       "56952                                      ABDEL ALBERTO   \n",
       "56953                                       AARON MISAEL   \n",
       "56954                               AARON ITAMAR BERNABE   \n",
       "56955                                     AARON HERMINIO   \n",
       "56957                                              AARON   \n",
       "\n",
       "                                                apellido  matricula  \\\n",
       "179    SANCHEZ CACERES                               ...      14795   \n",
       "250                                         AYALA CABEDA       3097   \n",
       "287                                       PAVON SALDIVAR       5989   \n",
       "288                                       FLORES LESCANO       2476   \n",
       "289                                         GOMEZ FRANCO      21041   \n",
       "...                                                  ...        ...   \n",
       "56952                                  LAMARQUE FERREIRA       4571   \n",
       "56953                                    PEREIRA ALFONSO      43964   \n",
       "56954                                     VALDEZ CACERES      46573   \n",
       "56955                                    RUIZ DIAZ ROLON      17267   \n",
       "56957                                  BRUNSTEIN PEDROZO      59859   \n",
       "\n",
       "            sexo                       universidad  egreso  \n",
       "179    Masculino                              None     NaN  \n",
       "250    Masculino                              None     NaN  \n",
       "287    Masculino                              None     NaN  \n",
       "288    Masculino                              None     NaN  \n",
       "289    Masculino             Universidad del Norte  2008.0  \n",
       "...          ...                               ...     ...  \n",
       "56952  Masculino                              None     NaN  \n",
       "56953  Masculino  Universidad Nacional de Asunción  2015.0  \n",
       "56954  Masculino                              None     NaN  \n",
       "56955  Masculino                              None     NaN  \n",
       "56957  Masculino  Universidad Nacional de Asunción  2018.0  \n",
       "\n",
       "[23826 rows x 12 columns]"
      ]
     },
     "execution_count": 23,
     "metadata": {},
     "output_type": "execute_result"
    }
   ],
   "source": [
    "masculinos"
   ]
  },
  {
   "cell_type": "code",
   "execution_count": 24,
   "id": "fee955b6-3315-4b84-a4a7-d07ea288755e",
   "metadata": {},
   "outputs": [],
   "source": [
    "# MASCULINOS HABILITADOS"
   ]
  },
  {
   "cell_type": "code",
   "execution_count": 25,
   "id": "221a7ee9-418d-4547-bbd4-4894fdd9aae0",
   "metadata": {},
   "outputs": [
    {
     "data": {
      "text/plain": [
       "Si    23466\n",
       "No      360\n",
       "Name: estaHabilitado, dtype: int64"
      ]
     },
     "execution_count": 25,
     "metadata": {},
     "output_type": "execute_result"
    }
   ],
   "source": [
    "masculinos['estaHabilitado'].value_counts()"
   ]
  },
  {
   "cell_type": "code",
   "execution_count": 26,
   "id": "6a0bdbea-73d1-47b3-809b-2c1124107c15",
   "metadata": {},
   "outputs": [
    {
     "data": {
      "text/plain": [
       "Si    0.98489\n",
       "No    0.01511\n",
       "Name: estaHabilitado, dtype: float64"
      ]
     },
     "execution_count": 26,
     "metadata": {},
     "output_type": "execute_result"
    }
   ],
   "source": [
    "masculinos['estaHabilitado'].value_counts(normalize=True)"
   ]
  },
  {
   "cell_type": "code",
   "execution_count": 27,
   "id": "0d53c574-c5d5-421e-8947-2e88a215fdee",
   "metadata": {},
   "outputs": [
    {
     "data": {
      "text/plain": [
       "<AxesSubplot:title={'center':'Masculinos Habilitados'}>"
      ]
     },
     "execution_count": 27,
     "metadata": {},
     "output_type": "execute_result"
    },
    {
     "data": {
      "image/png": "[encoded data removed]",
      "text/plain": [
       "<Figure size 864x504 with 1 Axes>"
      ]
     },
     "metadata": {},
     "output_type": "display_data"
    }
   ],
   "source": [
    "pie_plot(masculinos, 'estaHabilitado', 'Masculinos Habilitados',(0.1,0.1))"
   ]
  },
  {
   "cell_type": "code",
   "execution_count": 28,
   "id": "03e85202-c52e-46db-bda9-84d394c20010",
   "metadata": {},
   "outputs": [
    {
     "name": "stdout",
     "output_type": "stream",
     "text": [
      "->  fechaNacimiento\n",
      "->  estaHabilitado\n",
      "->  fechaJuramento\n",
      "->  nroActaJuramento\n",
      "->  fechaMatricula\n",
      "->  cedula\n",
      "->  nombre\n",
      "->  apellido\n",
      "->  matricula\n",
      "->  sexo\n",
      "->  universidad\n",
      "->  egreso\n"
     ]
    }
   ],
   "source": [
    "show_columns()"
   ]
  },
  {
   "cell_type": "markdown",
   "id": "c54f8482-61d3-4843-a6d3-1ed887b62637",
   "metadata": {},
   "source": [
    "## Universidad"
   ]
  },
  {
   "cell_type": "code",
   "execution_count": 29,
   "id": "bbeb442c-21d1-4950-ae54-aafff5b37121",
   "metadata": {},
   "outputs": [
    {
     "data": {
      "text/plain": [
       "Universidad Nacional de Asunción                                             3928\n",
       "Universidad del Norte                                                        1448\n",
       "Universidad Tecnológica Internacional (UTIC)                                 1210\n",
       "Universidad Católica Nuestra Sra. de la Asunción                              877\n",
       "Universidad Tecnica de Comercialización y Desarrollo                          773\n",
       "Universidad Nacional del Este                                                 451\n",
       "Universidad Tecnológica Intercontinental                                      403\n",
       "UNIVERSIDAD SAN LORENZO,UNISAL                                                391\n",
       "Universidad Privada del Este                                                  340\n",
       "UNIVERSIDAD PRIVADA DEL GUAIRA                                                285\n",
       "Universidad Politécnica y Artística del Py.                                   282\n",
       "Universidad Autónoma de Luque                                                 205\n",
       "ESCUELA DE DERECHO Y OTRAS UNIDADES PEDAGOGICAS EDUPCA                        194\n",
       "Universidad Américana                                                         177\n",
       "Universidad Nacional de Pilar                                                 164\n",
       "Universidad Columbia del Paraguay                                             144\n",
       "Universidad Autónoma de Asunción                                              144\n",
       "UNIVERSIDAD INTERNACIONAL TRES FRONTERAS                                      141\n",
       "Universidad Nacional de Itapúa                                                131\n",
       "Universidad Interamericana                                                    101\n",
       "Universidad Técnica de Comercialización y Desarrollo (UTCD)                    97\n",
       "Universidad del Pacífico                                                       95\n",
       "Universidad Católica de Villarrica                                             90\n",
       "Universidad Nordeste del Paraguay                                              74\n",
       "UNIVERSIDAD SUDAMERICANA                                                       68\n",
       "Universidad de la Integración de las Américas                                  62\n",
       "UNIVERSIDAD METROPOLITANA DE ASUNCION                                          61\n",
       "UNIVERSIDAD AUTONOMA DEL SUR                                                   41\n",
       "Universidad Iberoamericana                                                     35\n",
       "Universidad Autónoma San Sebastián de San Lorenzo \"UASS\"                       27\n",
       "Universidad Privada Maria Serrana                                              23\n",
       "UNIVERSIDAD NIHON GAKKO                                                        18\n",
       "Universidad del chaco                                                          18\n",
       "UNIVERSIDAD GRAL ASUNCIÓN.UNIGRAN                                              17\n",
       "Universidad Metropolitana Alma Mater                                            9\n",
       "Universidad Nacional de Caaguazú                                                7\n",
       "Universidad Leonardo Da Vinci                                                   7\n",
       "Universidad del Sol                                                             4\n",
       "UNIVERSIDAD AUTONOMA DEL PARAGUAY                                               2\n",
       "Universidad Central del Paraguay                                                2\n",
       "Universidad Hispano Guarani                                                     2\n",
       "Instituto Superior en Ciencias Juridicas Escuela de Derecho y otros EDUCA       2\n",
       "Universidad de Desarrollo Sustentable                                           2\n",
       "Universidad Nacional de Canindeyu                                               1\n",
       "USCA                                                                            1\n",
       "Name: universidad, dtype: int64"
      ]
     },
     "execution_count": 29,
     "metadata": {},
     "output_type": "execute_result"
    }
   ],
   "source": [
    "masculinos['universidad'].value_counts()"
   ]
  },
  {
   "cell_type": "code",
   "execution_count": 30,
   "id": "e79209e1-16c0-4191-a6c1-ece5704f7048",
   "metadata": {},
   "outputs": [
    {
     "name": "stderr",
     "output_type": "stream",
     "text": [
      "/home/torrezmn/Documents/DS_ENV/lib/python3.6/site-packages/pandas/core/series.py:4582: SettingWithCopyWarning: \n",
      "A value is trying to be set on a copy of a slice from a DataFrame\n",
      "\n",
      "See the caveats in the documentation: https://pandas.pydata.org/pandas-docs/stable/user_guide/indexing.html#returning-a-view-versus-a-copy\n",
      "  method=method,\n"
     ]
    }
   ],
   "source": [
    " # REMPLASAR ALGUNAS PALABRAS\n",
    "replace_dict = {\n",
    "    'UNIVERSIDAD' : 'Univ.',\n",
    "    'Universidad': 'Univ.',\n",
    "    'Paraguay': 'Py.',\n",
    "    'AUTONOMA': 'Auto.',\n",
    "    'Autónoma': 'Auto.',   \n",
    "}\n",
    "masculinos['universidad'].replace(replace_dict, regex=True, inplace=True)"
   ]
  },
  {
   "cell_type": "code",
   "execution_count": 104,
   "id": "e3576dc8-ee75-44be-9237-7ecb85309260",
   "metadata": {},
   "outputs": [
    {
     "data": {
      "image/png": "[encoded data removed]",
      "text/plain": [
       "<Figure size 648x1080 with 1 Axes>"
      ]
     },
     "metadata": {
      "needs_background": "light"
     },
     "output_type": "display_data"
    }
   ],
   "source": [
    "fig = plt.figure(figsize=(9,15))\n",
    "nv_ed = masculinos['universidad'].value_counts().plot(\n",
    "    kind='barh',\n",
    "    title='Masculinos egresados X Universidad'\n",
    ")\n",
    "plt.show()"
   ]
  },
  {
   "cell_type": "markdown",
   "id": "2702fd44-2f3d-4434-989c-10711ed0bd07",
   "metadata": {},
   "source": [
    "## Egreso"
   ]
  },
  {
   "cell_type": "code",
   "execution_count": 105,
   "id": "30b08bb7-501d-45aa-9950-b13b6f6afce3",
   "metadata": {},
   "outputs": [
    {
     "data": {
      "text/plain": [
       "11352"
      ]
     },
     "execution_count": 105,
     "metadata": {},
     "output_type": "execute_result"
    }
   ],
   "source": [
    "# CUANTOS VALORES NO DEFINIDOS?\n",
    "masculinos['egreso'].isna().sum()"
   ]
  },
  {
   "cell_type": "code",
   "execution_count": 107,
   "id": "b2178c22-d44a-4dcb-9c7c-c8ca806e241d",
   "metadata": {},
   "outputs": [],
   "source": [
    "# REMPLAZAR VALORES NULOS\n",
    "masculinos.egreso.fillna(0, inplace=True)"
   ]
  },
  {
   "cell_type": "code",
   "execution_count": 108,
   "id": "be9d2f72-9299-49fd-9354-cd62ae7d07bd",
   "metadata": {},
   "outputs": [
    {
     "data": {
      "text/plain": [
       "0        11352\n",
       "2013      1697\n",
       "2012      1658\n",
       "2010      1636\n",
       "2011      1586\n",
       "         ...  \n",
       "1976         1\n",
       "2793         1\n",
       "200          1\n",
       "1965         1\n",
       "22013        1\n",
       "Name: egreso, Length: 63, dtype: int64"
      ]
     },
     "execution_count": 108,
     "metadata": {},
     "output_type": "execute_result"
    }
   ],
   "source": [
    "masculinos['egreso'].astype(int).value_counts()"
   ]
  },
  {
   "cell_type": "code",
   "execution_count": 109,
   "id": "17b0395d-fceb-40ff-8067-09fb4c52fca4",
   "metadata": {},
   "outputs": [
    {
     "data": {
      "text/plain": [
       "0        0.476454\n",
       "2013     0.071225\n",
       "2012     0.069588\n",
       "2010     0.068664\n",
       "2011     0.066566\n",
       "           ...   \n",
       "1976     0.000042\n",
       "2793     0.000042\n",
       "200      0.000042\n",
       "1965     0.000042\n",
       "22013    0.000042\n",
       "Name: egreso, Length: 63, dtype: float64"
      ]
     },
     "execution_count": 109,
     "metadata": {},
     "output_type": "execute_result"
    }
   ],
   "source": [
    "masculinos['egreso'].astype(int).value_counts(normalize=True)"
   ]
  },
  {
   "cell_type": "code",
   "execution_count": 110,
   "id": "751f9dbe-201e-4440-863f-453ffe8ac8e8",
   "metadata": {},
   "outputs": [
    {
     "data": {
      "image/png": "[encoded data removed]",
      "text/plain": [
       "<Figure size 648x1080 with 1 Axes>"
      ]
     },
     "metadata": {
      "needs_background": "light"
     },
     "output_type": "display_data"
    }
   ],
   "source": [
    "fig = plt.figure(figsize=(9,15))\n",
    "masculinos['egreso'].astype(int).value_counts().plot(\n",
    "    kind='barh',\n",
    "    title='Egresados por Año',\n",
    ")\n",
    "plt.show()"
   ]
  },
  {
   "cell_type": "code",
   "execution_count": 111,
   "id": "30c45731-428f-42fd-b102-d38f7b5b5cc4",
   "metadata": {},
   "outputs": [
    {
     "data": {
      "text/plain": [
       "0       11352\n",
       "2013     1697\n",
       "2012     1658\n",
       "2010     1636\n",
       "2011     1586\n",
       "2009     1317\n",
       "2014     1182\n",
       "2008     1125\n",
       "2015      594\n",
       "2007      384\n",
       "Name: egreso, dtype: int64"
      ]
     },
     "execution_count": 111,
     "metadata": {},
     "output_type": "execute_result"
    }
   ],
   "source": [
    "masculinos['egreso'].astype(int).value_counts()[0:10]"
   ]
  },
  {
   "cell_type": "markdown",
   "id": "c6459637-2555-41bd-b3d4-06dc6483e5e8",
   "metadata": {},
   "source": [
    "## EGRESO PENDIENTE X UNIVERSIDAD"
   ]
  },
  {
   "cell_type": "code",
   "execution_count": 112,
   "id": "9d9bc56b-8aca-403b-a7c8-6e2bc97562cf",
   "metadata": {},
   "outputs": [
    {
     "data": {
      "text/plain": [
       "Univ. Nacional de Asunción                                118\n",
       "Univ. Católica Nuestra Sra. de la Asunción                 22\n",
       "Univ. Nacional del Este                                    19\n",
       "Univ. Tecnológica Internacional (UTIC)                     18\n",
       "Univ. Politécnica y Artística del Py.                      13\n",
       "Univ. Privada del Este                                     12\n",
       "Univ. del Norte                                            10\n",
       "Univ. Nacional de Itapúa                                    9\n",
       "Univ. METROPOLITANA DE ASUNCION                             6\n",
       "Univ. Tecnológica Intercontinental                          6\n",
       "Univ. Tecnica de Comercialización y Desarrollo              5\n",
       "Univ. PRIVADA DEL GUAIRA                                    4\n",
       "Univ. SAN LORENZO,UNISAL                                    4\n",
       "Univ. Columbia del Py.                                      4\n",
       "Univ. Interamericana                                        3\n",
       "Univ. del Sol                                               3\n",
       "Univ. de la Integración de las Américas                     3\n",
       "Univ. INTERNACIONAL TRES FRONTERAS                          3\n",
       "Univ. Auto. de Asunción                                     2\n",
       "ESCUELA DE DERECHO Y OTRAS UNIDADES PEDAGOGICAS EDUPCA      1\n",
       "Univ. Américana                                             1\n",
       "Univ. Nordeste del Py.                                      1\n",
       "Name: universidad, dtype: int64"
      ]
     },
     "execution_count": 112,
     "metadata": {},
     "output_type": "execute_result"
    }
   ],
   "source": [
    "masculinos.loc[masculinos['egreso']==0]['universidad'].value_counts()"
   ]
  },
  {
   "cell_type": "code",
   "execution_count": 113,
   "id": "f1cb4db2-ff97-4f5b-9d55-e2604e852274",
   "metadata": {},
   "outputs": [
    {
     "data": {
      "text/plain": [
       "<AxesSubplot:title={'center':'Egreso PENDIENTE x Universidad'}>"
      ]
     },
     "execution_count": 113,
     "metadata": {},
     "output_type": "execute_result"
    },
    {
     "data": {
      "image/png": "[encoded data removed]",
      "text/plain": [
       "<Figure size 864x504 with 1 Axes>"
      ]
     },
     "metadata": {
      "needs_background": "light"
     },
     "output_type": "display_data"
    }
   ],
   "source": [
    "masculinos.loc[masculinos['egreso']==0]['universidad'].value_counts().plot(\n",
    "    kind='barh',\n",
    "    title='Egreso PENDIENTE x Universidad',\n",
    "    width=.3\n",
    ")"
   ]
  },
  {
   "cell_type": "markdown",
   "id": "f8167b75-2bf9-4c91-804f-dfe2b6451eed",
   "metadata": {},
   "source": [
    "## EGRESO PENDIENTE VS HABILITACION"
   ]
  },
  {
   "cell_type": "markdown",
   "id": "f5658a14-c7bf-4511-9b49-a38988a91d1b",
   "metadata": {},
   "source": [
    "- No egresados o con egreso pendiente segun habilitacion."
   ]
  },
  {
   "cell_type": "code",
   "execution_count": 114,
   "id": "b9253122-24cf-4e15-b68f-c39bb44764a0",
   "metadata": {},
   "outputs": [
    {
     "data": {
      "text/plain": [
       "(11352, 12)"
      ]
     },
     "execution_count": 114,
     "metadata": {},
     "output_type": "execute_result"
    }
   ],
   "source": [
    "masculinos.loc[masculinos['egreso']==0].shape #(filas, columns)"
   ]
  },
  {
   "cell_type": "code",
   "execution_count": 115,
   "id": "747900a5-19dd-4265-98ca-df3ff3184c5a",
   "metadata": {},
   "outputs": [
    {
     "data": {
      "text/plain": [
       "Si    11036\n",
       "No      316\n",
       "Name: estaHabilitado, dtype: int64"
      ]
     },
     "execution_count": 115,
     "metadata": {},
     "output_type": "execute_result"
    }
   ],
   "source": [
    "masculinos.loc[masculinos['egreso']==0]['estaHabilitado'].value_counts()"
   ]
  },
  {
   "cell_type": "code",
   "execution_count": 116,
   "id": "389a45c2-f9fa-4798-9829-a7c817dbb9b2",
   "metadata": {},
   "outputs": [
    {
     "data": {
      "text/plain": [
       "Si    0.972163\n",
       "No    0.027837\n",
       "Name: estaHabilitado, dtype: float64"
      ]
     },
     "execution_count": 116,
     "metadata": {},
     "output_type": "execute_result"
    }
   ],
   "source": [
    "masculinos.loc[masculinos['egreso']==0]['estaHabilitado'].value_counts(normalize=True)"
   ]
  },
  {
   "cell_type": "markdown",
   "id": "c0f19243-7a91-4324-82a5-32da3e7464b1",
   "metadata": {},
   "source": [
    "- El 97% esta habilitado pero NO tienen fecha de egreso?"
   ]
  },
  {
   "cell_type": "code",
   "execution_count": 117,
   "id": "83a3da47-6fa4-4ec0-87de-e4e40ee0b1df",
   "metadata": {},
   "outputs": [
    {
     "data": {
      "text/plain": [
       "<AxesSubplot:title={'center':'NO EGRESADOS VS HABILITACION'}>"
      ]
     },
     "execution_count": 117,
     "metadata": {},
     "output_type": "execute_result"
    },
    {
     "data": {
      "image/png": "[encoded data removed]",
      "text/plain": [
       "<Figure size 864x504 with 1 Axes>"
      ]
     },
     "metadata": {},
     "output_type": "display_data"
    }
   ],
   "source": [
    "pie_plot(masculinos.loc[masculinos['egreso']==0],'estaHabilitado','NO EGRESADOS VS HABILITACION',(.3,.1))"
   ]
  },
  {
   "cell_type": "code",
   "execution_count": 118,
   "id": "5af4f084-545f-4595-a39e-82fab4268aef",
   "metadata": {},
   "outputs": [
    {
     "name": "stdout",
     "output_type": "stream",
     "text": [
      "->  fechaNacimiento\n",
      "->  estaHabilitado\n",
      "->  fechaJuramento\n",
      "->  nroActaJuramento\n",
      "->  fechaMatricula\n",
      "->  cedula\n",
      "->  nombre\n",
      "->  apellido\n",
      "->  matricula\n",
      "->  sexo\n",
      "->  universidad\n",
      "->  egreso\n"
     ]
    }
   ],
   "source": [
    "show_columns()"
   ]
  },
  {
   "cell_type": "markdown",
   "id": "7ed716bf-16e0-4e51-a2f6-ab01f697f9db",
   "metadata": {},
   "source": [
    "## EGRESO PENDIENTE VS FECHA JURAMENTO"
   ]
  },
  {
   "cell_type": "code",
   "execution_count": 138,
   "id": "c030e345-c4c5-485e-8b88-7df47f1a8e83",
   "metadata": {},
   "outputs": [
    {
     "data": {
      "text/plain": [
       "179      2006-09-27\n",
       "250      1944-04-19\n",
       "287      1996-11-01\n",
       "288      1985-05-09\n",
       "294      2002-05-10\n",
       "            ...    \n",
       "56950    2015-03-19\n",
       "56951    2015-03-19\n",
       "56952    2021-09-29\n",
       "56954    2017-04-10\n",
       "56955    2008-03-19\n",
       "Name: fechaJuramento, Length: 11352, dtype: object"
      ]
     },
     "execution_count": 138,
     "metadata": {},
     "output_type": "execute_result"
    }
   ],
   "source": [
    "masculinos.loc[masculinos['egreso']==0]['fechaJuramento']"
   ]
  },
  {
   "cell_type": "code",
   "execution_count": 139,
   "id": "cd35db1f-b64c-4b48-be9c-230ef036ff30",
   "metadata": {
    "tags": []
   },
   "outputs": [
    {
     "data": {
      "text/plain": [
       "179     1970-01-01 00:00:00.000000000\n",
       "250     1970-01-01 00:00:00.000000000\n",
       "287     1970-01-01 00:00:00.000000000\n",
       "288     1970-01-01 00:00:00.000000000\n",
       "289     1970-01-01 00:00:00.000002008\n",
       "                     ...             \n",
       "56952   1970-01-01 00:00:00.000000000\n",
       "56953   1970-01-01 00:00:00.000002015\n",
       "56954   1970-01-01 00:00:00.000000000\n",
       "56955   1970-01-01 00:00:00.000000000\n",
       "56957   1970-01-01 00:00:00.000002018\n",
       "Name: egreso, Length: 23826, dtype: datetime64[ns]"
      ]
     },
     "execution_count": 139,
     "metadata": {},
     "output_type": "execute_result"
    }
   ],
   "source": [
    "masculinos.egreso.astype('datetime64[ns]')"
   ]
  },
  {
   "cell_type": "code",
   "execution_count": 140,
   "id": "50f479ce-2846-4b33-9951-d28d340110e4",
   "metadata": {
    "tags": []
   },
   "outputs": [
    {
     "data": {
      "text/plain": [
       "0        11352\n",
       "2013      1697\n",
       "2012      1658\n",
       "2010      1636\n",
       "2011      1586\n",
       "         ...  \n",
       "1976         1\n",
       "2793         1\n",
       "200          1\n",
       "1965         1\n",
       "22013        1\n",
       "Name: egreso, Length: 63, dtype: int64"
      ]
     },
     "execution_count": 140,
     "metadata": {},
     "output_type": "execute_result"
    }
   ],
   "source": [
    "masculinos['egreso'].astype(int).value_counts()"
   ]
  },
  {
   "cell_type": "code",
   "execution_count": 141,
   "id": "27b01d2b-1161-4750-82a6-b5e6159af554",
   "metadata": {},
   "outputs": [
    {
     "name": "stdout",
     "output_type": "stream",
     "text": [
      "->  fechaNacimiento\n",
      "->  estaHabilitado\n",
      "->  fechaJuramento\n",
      "->  nroActaJuramento\n",
      "->  fechaMatricula\n",
      "->  cedula\n",
      "->  nombre\n",
      "->  apellido\n",
      "->  matricula\n",
      "->  sexo\n",
      "->  universidad\n",
      "->  egreso\n"
     ]
    }
   ],
   "source": [
    "show_columns()"
   ]
  },
  {
   "cell_type": "code",
   "execution_count": 148,
   "id": "e7fe67d0-9949-4490-8de6-ccc8c9f0c166",
   "metadata": {},
   "outputs": [],
   "source": [
    "años_egreso = masculinos.groupby('egreso')"
   ]
  },
  {
   "cell_type": "code",
   "execution_count": null,
   "id": "4c8f2f15-bd32-4f11-a587-c6c1e0962107",
   "metadata": {},
   "outputs": [],
   "source": []
  },
  {
   "cell_type": "code",
   "execution_count": null,
   "id": "380468a9-c882-4a80-9124-8c11c46c8db0",
   "metadata": {},
   "outputs": [],
   "source": []
  }
 ],
 "metadata": {
  "kernelspec": {
   "display_name": "Python 3",
   "language": "python",
   "name": "python3"
  },
  "language_info": {
   "codemirror_mode": {
    "name": "ipython",
    "version": 3
   },
   "file_extension": ".py",
   "mimetype": "text/x-python",
   "name": "python",
   "nbconvert_exporter": "python",
   "pygments_lexer": "ipython3",
   "version": "3.6.9"
  }
 },
 "nbformat": 4,
 "nbformat_minor": 5
}
