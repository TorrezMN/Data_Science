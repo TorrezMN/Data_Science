{
 "cells": [
  {
   "cell_type": "code",
   "execution_count": 1,
   "id": "f2b2c812-7fe8-4ecd-bdc9-b1ab75c4dd09",
   "metadata": {},
   "outputs": [],
   "source": [
    "# Importing Libs\n",
    "import pandas as pd\n",
    "import seaborn as sns\n",
    "import matplotlib.pyplot as plt\n",
    "from collections import Counter\n",
    "\n",
    "\n",
    "\n",
    "# My Tools\n",
    "from toolkit.tools import get_column_uniques\n",
    "\n",
    "\n",
    "%matplotlib inline"
   ]
  },
  {
   "cell_type": "code",
   "execution_count": 2,
   "id": "ce00b4ce-236a-4e9d-9280-aa1e69418a54",
   "metadata": {},
   "outputs": [],
   "source": [
    "# Reseting figure size params.\n",
    "plt.rcParams['figure.figsize'] = [12, 7]\n",
    "\n",
    "\n",
    "# Setting seaborn as default plotting lib.\n",
    "sns.set()\n",
    "\n",
    "\n",
    "# Creating the dataset.\n",
    "df = pd.read_csv('../enc_devs_py.csv')\n"
   ]
  },
  {
   "cell_type": "code",
   "execution_count": 4,
   "id": "4f7c3165-af50-40be-bec0-8737b68da038",
   "metadata": {},
   "outputs": [],
   "source": [
    "# GET COLUMN UNIQUES\n",
    "unicos_tipo_trabajo = get_column_uniques(df, 'Tipo de trabajo')"
   ]
  },
  {
   "cell_type": "code",
   "execution_count": 5,
   "id": "1bd39ea1-127e-451e-b26e-8afb06420431",
   "metadata": {},
   "outputs": [
    {
     "name": "stdout",
     "output_type": "stream",
     "text": [
      "Desarrollador front-end\n",
      "Desarrollador de sistemas embebidos\n",
      "Desarrollador full-stack\n",
      "Desarrollador back-end\n",
      "QA o testing\n",
      "Project Leader\n",
      "Aplicaciones de escritorio o empresariales\n",
      "Desarrollador mobile\n",
      "Administrador de base de datos\n",
      "Desarrollador de videojuegos\n"
     ]
    }
   ],
   "source": [
    "for i in unicos_tipo_trabajo: print(i)"
   ]
  },
  {
   "cell_type": "code",
   "execution_count": null,
   "id": "405d18b8-1ff1-40f8-b827-bd142f7d993b",
   "metadata": {},
   "outputs": [],
   "source": []
  },
  {
   "cell_type": "code",
   "execution_count": null,
   "id": "fe060556-57ff-4bf7-8604-f9927d90375e",
   "metadata": {},
   "outputs": [],
   "source": []
  },
  {
   "cell_type": "code",
   "execution_count": null,
   "id": "908c5aa2-d225-414c-927b-1404d6f5203f",
   "metadata": {},
   "outputs": [],
   "source": []
  },
  {
   "cell_type": "code",
   "execution_count": null,
   "id": "01cb15fc-b407-4742-a7f7-259793e5b2e7",
   "metadata": {},
   "outputs": [],
   "source": []
  }
 ],
 "metadata": {
  "kernelspec": {
   "display_name": "Python 3 (ipykernel)",
   "language": "python",
   "name": "python3"
  },
  "language_info": {
   "codemirror_mode": {
    "name": "ipython",
    "version": 3
   },
   "file_extension": ".py",
   "mimetype": "text/x-python",
   "name": "python",
   "nbconvert_exporter": "python",
   "pygments_lexer": "ipython3",
   "version": "3.8.10"
  }
 },
 "nbformat": 4,
 "nbformat_minor": 5
}
