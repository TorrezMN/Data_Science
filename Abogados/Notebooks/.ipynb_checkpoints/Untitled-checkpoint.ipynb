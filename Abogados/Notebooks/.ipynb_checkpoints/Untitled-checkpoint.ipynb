{
 "cells": [
  {
   "cell_type": "markdown",
   "id": "b14c19f8",
   "metadata": {},
   "source": [
    "# By Gender"
   ]
  },
  {
   "cell_type": "code",
   "execution_count": 1,
   "id": "f5a5edb4",
   "metadata": {},
   "outputs": [],
   "source": [
    "import pandas as pd"
   ]
  },
  {
   "cell_type": "code",
   "execution_count": 7,
   "id": "228ebead",
   "metadata": {},
   "outputs": [],
   "source": [
    "df = pd.read_json('../abogados.json')"
   ]
  },
  {
   "cell_type": "code",
   "execution_count": 8,
   "id": "bb62b62b",
   "metadata": {},
   "outputs": [
    {
     "data": {
      "text/plain": [
       "Index(['fechaNacimiento', 'estaHabilitado', 'fechaJuramento',\n",
       "       'nroActaJuramento', 'fechaMatricula', 'cedula', 'nombre', 'apellido',\n",
       "       'matricula', 'sexo', 'universidad', 'egreso'],\n",
       "      dtype='object')"
      ]
     },
     "execution_count": 8,
     "metadata": {},
     "output_type": "execute_result"
    }
   ],
   "source": [
    "df.columns"
   ]
  },
  {
   "cell_type": "code",
   "execution_count": 9,
   "id": "9ede72f2",
   "metadata": {},
   "outputs": [],
   "source": [
    "genders = df.groupby('sexo')"
   ]
  },
  {
   "cell_type": "code",
   "execution_count": null,
   "id": "997fc7d2",
   "metadata": {},
   "outputs": [],
   "source": []
  }
 ],
 "metadata": {
  "kernelspec": {
   "display_name": "Python 3",
   "language": "python",
   "name": "python3"
  },
  "language_info": {
   "codemirror_mode": {
    "name": "ipython",
    "version": 3
   },
   "file_extension": ".py",
   "mimetype": "text/x-python",
   "name": "python",
   "nbconvert_exporter": "python",
   "pygments_lexer": "ipython3",
   "version": "3.6.9"
  }
 },
 "nbformat": 4,
 "nbformat_minor": 5
}
