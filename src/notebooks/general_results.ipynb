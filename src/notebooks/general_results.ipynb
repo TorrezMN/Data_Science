{
 "cells": [
  {
   "cell_type": "code",
   "execution_count": 32,
   "id": "ec9a9b34-8805-43a9-9c4a-a19bb76fe8cb",
   "metadata": {},
   "outputs": [],
   "source": [
    "# Importing Libs\n",
    "import pandas as pd\n",
    "import seaborn as sns\n",
    "import matplotlib.pyplot as plt\n",
    "from collections import Counter\n",
    "\n",
    "\n",
    "%matplotlib inline"
   ]
  },
  {
   "cell_type": "code",
   "execution_count": 40,
   "id": "c6d55068-feff-40b7-acb4-80d201bd4db7",
   "metadata": {},
   "outputs": [],
   "source": [
    "# Reseting figure size params.\n",
    "plt.rcParams[\"figure.figsize\"] = [5, 10]\n",
    "\n",
    "# Setting seaborn as default plotting lib.\n",
    "sns.set()\n",
    "\n",
    "sns.set_palette(\"pastel\")\n",
    "\n",
    "df = pd.read_csv(\"./central_df.csv\")"
   ]
  },
  {
   "cell_type": "markdown",
   "id": "027e14db-3bf9-4a71-9d17-32e931b9449e",
   "metadata": {},
   "source": [
    "- Encuesta realizada en el año 2022."
   ]
  },
  {
   "cell_type": "markdown",
   "id": "476fc087-6b9c-45c3-a881-f79747b7c903",
   "metadata": {},
   "source": [
    "# [estado_calles] - Estado de las calles.\n",
    "- Apreciacion de los encuestados sobre el 'estado actual de las calles'."
   ]
  },
  {
   "cell_type": "markdown",
   "id": "f04bbcb0-f992-4f16-9201-9c759f7f66ea",
   "metadata": {},
   "source": [
    "# [problema_baches]\n",
    "- El encuestado 'consideran que tienen un problema de baches' en la ciudad."
   ]
  },
  {
   "cell_type": "markdown",
   "id": "12238371-3e63-4fd3-9a69-48af12556794",
   "metadata": {},
   "source": [
    "# [estimacion_cantidad]\n",
    "- Se les consulto si pueden 'estimar la cantidad de baches' en las calles de la ciudad."
   ]
  },
  {
   "cell_type": "markdown",
   "id": "f2c55863-856d-4f53-a19e-76e2ca536d01",
   "metadata": {},
   "source": [
    "# [tipo_camino]\n",
    "- Corresponde al tipo de camino existente en su lugar de residencia. "
   ]
  },
  {
   "cell_type": "markdown",
   "id": "78110c4d-dbea-4528-908f-7e6ec73ff309",
   "metadata": {},
   "source": [
    "# [tiempo_reparaciones]\n",
    "- Consideracion del encuestado sobre el \"tiempo que demoran las reparaciones\"."
   ]
  },
  {
   "cell_type": "markdown",
   "id": "fb05a8b8-f208-4867-bbe6-abb48ab7b094",
   "metadata": {},
   "source": [
    "# [como_denunciar]\n",
    "- El encuestado 'sabe como denunciar' irregularidades viales?."
   ]
  },
  {
   "cell_type": "markdown",
   "id": "14d2e52e-2c6e-4329-9540-a8d07a52fef3",
   "metadata": {},
   "source": [
    "# [acceso_informacion]\n",
    "- Tiene acceso a informacion relacionada al estado de las calles?."
   ]
  },
  {
   "cell_type": "markdown",
   "id": "9f143029-03ef-4fce-b5dd-d7ee83297e8c",
   "metadata": {},
   "source": [
    "# [sufrio_accidentes]\n",
    "- Sufrio alguna vez accidentes viales a causa de baches o irregularidades viales de otro tipo?."
   ]
  },
  {
   "cell_type": "markdown",
   "id": "e1a0f045-b2e7-459f-9b76-a22aba2661bf",
   "metadata": {},
   "source": [
    "# [frecuencia_mantenimiento]\n",
    "- Si tiene vehiculo, con que frecuencia debe realizar mantenimiento?."
   ]
  },
  {
   "cell_type": "markdown",
   "id": "6fcac6c2-7264-42fb-aa90-07401d83890c",
   "metadata": {},
   "source": [
    "# [util_conocer]\n",
    "- Considera util conocer o tener a disposicion algun tipo de informacion sobre el estado de las calles de la ciudad?."
   ]
  },
  {
   "cell_type": "markdown",
   "id": "9610af50-966b-4dc9-a38c-934dd0657bde",
   "metadata": {},
   "source": [
    "# [respuesta_gubernamental]\n",
    "- Como evalua la respuesta gubernamental?."
   ]
  },
  {
   "cell_type": "markdown",
   "id": "17a19778-a2eb-4ab6-87df-b10717233bc6",
   "metadata": {},
   "source": [
    "# [regularidad_reparaciones]\n",
    "- Apreciacion sobre la regularidad de las reparaciones viales. Cual es la 'frecuencia' en que se realizan las reparaciones?."
   ]
  },
  {
   "cell_type": "markdown",
   "id": "b965a55c-a8ba-4b85-8347-97a10f7d60cf",
   "metadata": {},
   "source": [
    "# [denunciaria_baches]\n",
    "- Si tuviera oportunidad, denunciaria la existencia de baches?"
   ]
  },
  {
   "cell_type": "code",
   "execution_count": null,
   "id": "906dbf2f-8cbb-4c10-a6be-0bbcca2b905f",
   "metadata": {},
   "outputs": [],
   "source": []
  },
  {
   "cell_type": "code",
   "execution_count": null,
   "id": "b812259f-c2c1-4edd-92a6-f9303a72cff3",
   "metadata": {},
   "outputs": [],
   "source": []
  }
 ],
 "metadata": {
  "kernelspec": {
   "display_name": "Python 3 (ipykernel)",
   "language": "python",
   "name": "python3"
  },
  "language_info": {
   "codemirror_mode": {
    "name": "ipython",
    "version": 3
   },
   "file_extension": ".py",
   "mimetype": "text/x-python",
   "name": "python",
   "nbconvert_exporter": "python",
   "pygments_lexer": "ipython3",
   "version": "3.11.1"
  }
 },
 "nbformat": 4,
 "nbformat_minor": 5
}
