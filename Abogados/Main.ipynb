{
 "cells": [
  {
   "cell_type": "markdown",
   "id": "03ecc3bf-59ed-4ce1-a147-fa629444a0e6",
   "metadata": {},
   "source": [
    "# ABOGADOS"
   ]
  },
  {
   "cell_type": "code",
   "execution_count": 83,
   "id": "637980de",
   "metadata": {},
   "outputs": [],
   "source": [
    "import pandas as pd\n",
    "import matplotlib.pyplot as plt"
   ]
  },
  {
   "cell_type": "code",
   "execution_count": 84,
   "id": "e681af8c-b1ad-4913-824c-e2731aeb1dbc",
   "metadata": {},
   "outputs": [],
   "source": [
    "%matplotlib inline\n",
    "plt.rcParams['figure.figsize'] = [12, 7]"
   ]
  },
  {
   "cell_type": "code",
   "execution_count": 91,
   "id": "e1eed080",
   "metadata": {},
   "outputs": [],
   "source": [
    "df = pd.read_json('abogados.json')"
   ]
  },
  {
   "cell_type": "code",
   "execution_count": 92,
   "id": "3e4d7594-39d3-415d-96ab-9922f920525c",
   "metadata": {},
   "outputs": [
    {
     "name": "stdout",
     "output_type": "stream",
     "text": [
      "<class 'pandas.core.frame.DataFrame'>\n",
      "RangeIndex: 56958 entries, 0 to 56957\n",
      "Data columns (total 12 columns):\n",
      " #   Column            Non-Null Count  Dtype  \n",
      "---  ------            --------------  -----  \n",
      " 0   fechaNacimiento   56902 non-null  object \n",
      " 1   estaHabilitado    56958 non-null  object \n",
      " 2   fechaJuramento    56958 non-null  object \n",
      " 3   nroActaJuramento  56958 non-null  int64  \n",
      " 4   fechaMatricula    56958 non-null  object \n",
      " 5   cedula            56958 non-null  int64  \n",
      " 6   nombre            56958 non-null  object \n",
      " 7   apellido          56958 non-null  object \n",
      " 8   matricula         56958 non-null  int64  \n",
      " 9   sexo              47147 non-null  object \n",
      " 10  universidad       31387 non-null  object \n",
      " 11  egreso            31238 non-null  float64\n",
      "dtypes: float64(1), int64(3), object(8)\n",
      "memory usage: 5.2+ MB\n"
     ]
    }
   ],
   "source": [
    "df.info()"
   ]
  },
  {
   "cell_type": "code",
   "execution_count": 86,
   "id": "71de1eb9",
   "metadata": {},
   "outputs": [
    {
     "data": {
      "text/html": [
       "<div>\n",
       "<style scoped>\n",
       "    .dataframe tbody tr th:only-of-type {\n",
       "        vertical-align: middle;\n",
       "    }\n",
       "\n",
       "    .dataframe tbody tr th {\n",
       "        vertical-align: top;\n",
       "    }\n",
       "\n",
       "    .dataframe thead th {\n",
       "        text-align: right;\n",
       "    }\n",
       "</style>\n",
       "<table border=\"1\" class=\"dataframe\">\n",
       "  <thead>\n",
       "    <tr style=\"text-align: right;\">\n",
       "      <th></th>\n",
       "      <th>fechaNacimiento</th>\n",
       "      <th>estaHabilitado</th>\n",
       "      <th>fechaJuramento</th>\n",
       "      <th>nroActaJuramento</th>\n",
       "      <th>fechaMatricula</th>\n",
       "      <th>cedula</th>\n",
       "      <th>nombre</th>\n",
       "      <th>apellido</th>\n",
       "      <th>matricula</th>\n",
       "      <th>sexo</th>\n",
       "      <th>universidad</th>\n",
       "      <th>egreso</th>\n",
       "    </tr>\n",
       "  </thead>\n",
       "  <tbody>\n",
       "    <tr>\n",
       "      <th>0</th>\n",
       "      <td>1973-06-01</td>\n",
       "      <td>Si</td>\n",
       "      <td>2002-11-06</td>\n",
       "      <td>1161</td>\n",
       "      <td>2002-11-06</td>\n",
       "      <td>931761</td>\n",
       "      <td>ZUSAN KARIN</td>\n",
       "      <td>DOMENECH BAEZ</td>\n",
       "      <td>9232</td>\n",
       "      <td>Femenino</td>\n",
       "      <td>None</td>\n",
       "      <td>NaN</td>\n",
       "    </tr>\n",
       "    <tr>\n",
       "      <th>1</th>\n",
       "      <td>1981-07-21</td>\n",
       "      <td>Si</td>\n",
       "      <td>2010-11-10</td>\n",
       "      <td>1976</td>\n",
       "      <td>2010-11-10</td>\n",
       "      <td>2997589</td>\n",
       "      <td>ZURY ANALIZ</td>\n",
       "      <td>VELAZCO VELAZCO</td>\n",
       "      <td>24586</td>\n",
       "      <td>Femenino</td>\n",
       "      <td>Universidad Nacional de Pilar</td>\n",
       "      <td>2009.0</td>\n",
       "    </tr>\n",
       "    <tr>\n",
       "      <th>2</th>\n",
       "      <td>1992-04-01</td>\n",
       "      <td>Si</td>\n",
       "      <td>2020-12-23</td>\n",
       "      <td>4603</td>\n",
       "      <td>2020-12-23</td>\n",
       "      <td>5671015</td>\n",
       "      <td>ZUNY MARLENE</td>\n",
       "      <td>MATTO SOSA</td>\n",
       "      <td>57916</td>\n",
       "      <td>None</td>\n",
       "      <td>None</td>\n",
       "      <td>NaN</td>\n",
       "    </tr>\n",
       "    <tr>\n",
       "      <th>3</th>\n",
       "      <td>1972-06-28</td>\n",
       "      <td>Si</td>\n",
       "      <td>2017-04-10</td>\n",
       "      <td>3727</td>\n",
       "      <td>2017-04-10</td>\n",
       "      <td>1712692</td>\n",
       "      <td>ZUNY GRICELDA</td>\n",
       "      <td>CRISTALDO ORUE</td>\n",
       "      <td>46752</td>\n",
       "      <td>Femenino</td>\n",
       "      <td>None</td>\n",
       "      <td>NaN</td>\n",
       "    </tr>\n",
       "    <tr>\n",
       "      <th>4</th>\n",
       "      <td>1961-01-10</td>\n",
       "      <td>Si</td>\n",
       "      <td>2010-11-04</td>\n",
       "      <td>1973</td>\n",
       "      <td>2010-11-04</td>\n",
       "      <td>806752</td>\n",
       "      <td>ZUNY ELIZABETH</td>\n",
       "      <td>AGUIAR VELAZQUEZ</td>\n",
       "      <td>24497</td>\n",
       "      <td>Femenino</td>\n",
       "      <td>Universidad Nacional de Pilar</td>\n",
       "      <td>2009.0</td>\n",
       "    </tr>\n",
       "  </tbody>\n",
       "</table>\n",
       "</div>"
      ],
      "text/plain": [
       "  fechaNacimiento estaHabilitado fechaJuramento  nroActaJuramento  \\\n",
       "0      1973-06-01             Si     2002-11-06              1161   \n",
       "1      1981-07-21             Si     2010-11-10              1976   \n",
       "2      1992-04-01             Si     2020-12-23              4603   \n",
       "3      1972-06-28             Si     2017-04-10              3727   \n",
       "4      1961-01-10             Si     2010-11-04              1973   \n",
       "\n",
       "  fechaMatricula   cedula          nombre          apellido  matricula  \\\n",
       "0     2002-11-06   931761     ZUSAN KARIN     DOMENECH BAEZ       9232   \n",
       "1     2010-11-10  2997589     ZURY ANALIZ   VELAZCO VELAZCO      24586   \n",
       "2     2020-12-23  5671015    ZUNY MARLENE        MATTO SOSA      57916   \n",
       "3     2017-04-10  1712692   ZUNY GRICELDA    CRISTALDO ORUE      46752   \n",
       "4     2010-11-04   806752  ZUNY ELIZABETH  AGUIAR VELAZQUEZ      24497   \n",
       "\n",
       "       sexo                    universidad  egreso  \n",
       "0  Femenino                           None     NaN  \n",
       "1  Femenino  Universidad Nacional de Pilar  2009.0  \n",
       "2      None                           None     NaN  \n",
       "3  Femenino                           None     NaN  \n",
       "4  Femenino  Universidad Nacional de Pilar  2009.0  "
      ]
     },
     "execution_count": 86,
     "metadata": {},
     "output_type": "execute_result"
    }
   ],
   "source": [
    "df.head()"
   ]
  },
  {
   "cell_type": "code",
   "execution_count": 87,
   "id": "b6e90463",
   "metadata": {},
   "outputs": [],
   "source": [
    "def show_columns():\n",
    "    for i in df.columns:\n",
    "        print('---> ', i)"
   ]
  },
  {
   "cell_type": "code",
   "execution_count": 88,
   "id": "568a27cc-a15c-4eea-864d-81dce4a76ea5",
   "metadata": {},
   "outputs": [
    {
     "name": "stdout",
     "output_type": "stream",
     "text": [
      "--->  fechaNacimiento\n",
      "--->  estaHabilitado\n",
      "--->  fechaJuramento\n",
      "--->  nroActaJuramento\n",
      "--->  fechaMatricula\n",
      "--->  cedula\n",
      "--->  nombre\n",
      "--->  apellido\n",
      "--->  matricula\n",
      "--->  sexo\n",
      "--->  universidad\n",
      "--->  egreso\n"
     ]
    }
   ],
   "source": [
    "show_columns()"
   ]
  },
  {
   "cell_type": "markdown",
   "id": "3711d573-70aa-4fdc-a920-3d5b77e0a077",
   "metadata": {},
   "source": [
    "## VER COLUMNA POR COLUMNA VALORES NULOS"
   ]
  },
  {
   "cell_type": "code",
   "execution_count": 89,
   "id": "a86d6eb7-294a-4cba-90c5-6ee2f5b6a6eb",
   "metadata": {},
   "outputs": [],
   "source": [
    "cols = [i for i in df.columns]"
   ]
  },
  {
   "cell_type": "code",
   "execution_count": 109,
   "id": "dd56a5cf-63f2-4527-9b84-2eea3d649e96",
   "metadata": {},
   "outputs": [
    {
     "name": "stdout",
     "output_type": "stream",
     "text": [
      "VALORES NULOS universidad 25571\n",
      "VALORES NULOS egreso 25720\n"
     ]
    }
   ],
   "source": [
    "# LET'S PRINT ALL THE COLUMNS WITH MISSING VALUES\n",
    "for k,v in enumerate(cols):\n",
    "    s = df[v].isna().sum()\n",
    "    if(s>0):\n",
    "        print(f'VALORES NULOS {v}', s)"
   ]
  },
  {
   "cell_type": "markdown",
   "id": "b96f1ae9-0277-484c-bc1f-83516b13dfee",
   "metadata": {},
   "source": [
    "### FECHA DE NACIMIENTO"
   ]
  },
  {
   "cell_type": "code",
   "execution_count": 110,
   "id": "1fa0fdbb-5c30-4166-85a9-a4e8f783bd89",
   "metadata": {},
   "outputs": [],
   "source": [
    "# Fixing missing values in 'fechaNacimiento'.\n",
    "df['fechaNacimiento'].fillna('?', inplace=True)"
   ]
  },
  {
   "cell_type": "code",
   "execution_count": 113,
   "id": "0b9a7ba4-c424-440c-9ea5-a0060af787bb",
   "metadata": {},
   "outputs": [
    {
     "data": {
      "text/plain": [
       "0"
      ]
     },
     "execution_count": 113,
     "metadata": {},
     "output_type": "execute_result"
    }
   ],
   "source": [
    "# Let's check if values changed. \n",
    "df['fechaNacimiento'].isna().sum()"
   ]
  },
  {
   "cell_type": "markdown",
   "id": "f19e0024-a813-4c06-a3de-3ac38798c403",
   "metadata": {},
   "source": [
    "### SEXO"
   ]
  },
  {
   "cell_type": "code",
   "execution_count": 114,
   "id": "da598de5-5a7f-452c-9acb-78bc372db0b1",
   "metadata": {},
   "outputs": [],
   "source": [
    "# For 'sex' column lets asumme its something related to 'non binary' comunities. So let's replace missing values \n",
    "# with a simple 'Q'.\n",
    "df['sexo'].fillna('Q', inplace=True)"
   ]
  },
  {
   "cell_type": "code",
   "execution_count": 115,
   "id": "108da349-243b-4e9d-a197-2193b30d0631",
   "metadata": {},
   "outputs": [
    {
     "data": {
      "text/plain": [
       "M    23826\n",
       "F    23321\n",
       "q     9811\n",
       "Name: sexo, dtype: int64"
      ]
     },
     "execution_count": 115,
     "metadata": {},
     "output_type": "execute_result"
    }
   ],
   "source": [
    "df['sexo'].value_counts()"
   ]
  },
  {
   "cell_type": "code",
   "execution_count": 116,
   "id": "b9b30168-35b2-4818-82a4-29cc2632263e",
   "metadata": {},
   "outputs": [],
   "source": [
    "# Lets make the values a bit smaller as 'Masculino -> M' and 'Femenino -> F'.\n",
    "df['sexo'].replace({\n",
    "    'Masculino': 'M',\n",
    "    'Femenino': 'F',\n",
    "}, regex=True, inplace=True)"
   ]
  },
  {
   "cell_type": "code",
   "execution_count": 117,
   "id": "6ed63715-4d3e-4c8d-a702-89539eb357cc",
   "metadata": {},
   "outputs": [
    {
     "data": {
      "text/plain": [
       "M    23826\n",
       "F    23321\n",
       "q     9811\n",
       "Name: sexo, dtype: int64"
      ]
     },
     "execution_count": 117,
     "metadata": {},
     "output_type": "execute_result"
    }
   ],
   "source": [
    "df['sexo'].value_counts()"
   ]
  },
  {
   "cell_type": "markdown",
   "id": "b4c498f1-60d4-42ca-a6a6-39fa8cae0fe4",
   "metadata": {},
   "source": [
    "### UNIVERSIDAD"
   ]
  },
  {
   "cell_type": "code",
   "execution_count": 124,
   "id": "ddf97bfb-776d-4c87-80dd-868079f73ce8",
   "metadata": {},
   "outputs": [],
   "source": [
    "# For this i will replace missing values with a simple '-'. Missing 'University' name means two things: \n",
    "# 1- Student did not finish his degre...\n",
    "# 2- It was not loaded properly.\n",
    "df['universidad'].fillna('-', inplace=True)"
   ]
  },
  {
   "cell_type": "code",
   "execution_count": 125,
   "id": "abd1a4bd-5425-4992-a37f-47d8b643bff6",
   "metadata": {},
   "outputs": [
    {
     "data": {
      "text/plain": [
       "-                                                                            25571\n",
       "Universidad Nacional de Asunción                                              9647\n",
       "Universidad del Norte                                                         4014\n",
       "Universidad Tecnológica Internacional (UTIC)                                  2473\n",
       "Universidad Católica Nuestra Sra. de la Asunción                              2368\n",
       "Universidad Tecnica de Comercialización y Desarrollo                          1778\n",
       "UNIVERSIDAD SAN LORENZO,UNISAL                                                1096\n",
       "Universidad Nacional del Este                                                 1088\n",
       "Universidad Tecnológica Intercontinental                                      1009\n",
       "Universidad Politécnica y Artística del Py.                                    884\n",
       "Universidad Privada del Este                                                   766\n",
       "Universidad Américana                                                          600\n",
       "UNIVERSIDAD PRIVADA DEL GUAIRA                                                 572\n",
       "ESCUELA DE DERECHO Y OTRAS UNIDADES PEDAGOGICAS EDUPCA                         548\n",
       "Universidad Nacional de Pilar                                                  529\n",
       "Universidad Autónoma de Luque                                                  437\n",
       "Universidad Columbia del Paraguay                                              391\n",
       "Universidad Nacional de Itapúa                                                 365\n",
       "Universidad Autónoma de Asunción                                               344\n",
       "UNIVERSIDAD INTERNACIONAL TRES FRONTERAS                                       331\n",
       "Universidad Técnica de Comercialización y Desarrollo (UTCD)                    230\n",
       "Universidad Católica de Villarrica                                             197\n",
       "Universidad del Pacífico                                                       188\n",
       "Universidad Nordeste del Paraguay                                              170\n",
       "UNIVERSIDAD METROPOLITANA DE ASUNCION                                          169\n",
       "Universidad de la Integración de las Américas                                  140\n",
       "Universidad Interamericana                                                     136\n",
       "UNIVERSIDAD SUDAMERICANA                                                       131\n",
       "Universidad Iberoamericana                                                     114\n",
       "UNIVERSIDAD AUTONOMA DEL SUR                                                   108\n",
       "Universidad Autónoma San Sebastián de San Lorenzo \"UASS\"                       106\n",
       "UNIVERSIDAD GRAL ASUNCIÓN.UNIGRAN                                               67\n",
       "UNIVERSIDAD NIHON GAKKO                                                         62\n",
       "Universidad Nacional de Caaguazú                                                56\n",
       "Universidad del chaco                                                           55\n",
       "Universidad Privada Maria Serrana                                               45\n",
       "Universidad Autónoma de Encarnación                                             28\n",
       "Universidad Hispano Guarani                                                     25\n",
       "Universidad Metropolitana Alma Mater                                            22\n",
       "Universidad Nacional de Canindeyu                                               18\n",
       "Universidad Leonardo Da Vinci                                                   17\n",
       "Universidad del Sol                                                             16\n",
       "Instituto Superior en Ciencias Juridicas Escuela de Derecho y otros EDUCA       12\n",
       "Universidad Nacional Villarrica del Espiritu Santo                              11\n",
       "Universidad Central del Paraguay                                                 6\n",
       "USCA                                                                             6\n",
       "UNIVERSIDAD AUTONOMA DEL PARAGUAY                                                4\n",
       "UNIVERSDIDAD DE PARANAENSE                                                       3\n",
       "Universidad Inca Garcilaso de la Vega Lima Peru                                  2\n",
       "Universidad de Desarrollo Sustentable                                            2\n",
       "Universidad Comunera                                                             1\n",
       "Name: universidad, dtype: int64"
      ]
     },
     "execution_count": 125,
     "metadata": {},
     "output_type": "execute_result"
    }
   ],
   "source": [
    "# Let's check the values in the column.\n",
    "df['universidad'].value_counts()"
   ]
  },
  {
   "cell_type": "code",
   "execution_count": 126,
   "id": "4e456fd1-8042-4042-be67-db87e76b43b6",
   "metadata": {},
   "outputs": [
    {
     "name": "stdout",
     "output_type": "stream",
     "text": [
      "-\n",
      "Universidad Nacional de Asunción\n",
      "Universidad del Norte\n",
      "Universidad Tecnológica Internacional (UTIC)\n",
      "Universidad Católica Nuestra Sra. de la Asunción\n",
      "Universidad Tecnica de Comercialización y Desarrollo \n",
      "UNIVERSIDAD SAN LORENZO,UNISAL\n",
      "Universidad Nacional del Este\n",
      "Universidad Tecnológica Intercontinental\n",
      "Universidad Politécnica y Artística del Py.\n",
      "Universidad Privada del Este\n",
      "Universidad Américana\n",
      "UNIVERSIDAD PRIVADA DEL GUAIRA\n",
      "ESCUELA DE DERECHO Y OTRAS UNIDADES PEDAGOGICAS EDUPCA\n",
      "Universidad Nacional de Pilar\n",
      "Universidad Autónoma de Luque\n",
      "Universidad Columbia del Paraguay\n",
      "Universidad Nacional de Itapúa\n",
      "Universidad Autónoma de Asunción\n",
      "UNIVERSIDAD INTERNACIONAL TRES FRONTERAS\n",
      "Universidad Técnica de Comercialización y Desarrollo (UTCD)\n",
      "Universidad Católica de Villarrica\n",
      "Universidad del Pacífico\n",
      "Universidad Nordeste del Paraguay\n",
      "UNIVERSIDAD METROPOLITANA DE ASUNCION\n",
      "Universidad de la Integración de las Américas\n",
      "Universidad Interamericana\n",
      "UNIVERSIDAD SUDAMERICANA\n",
      "Universidad Iberoamericana\n",
      "UNIVERSIDAD AUTONOMA DEL SUR\n",
      "Universidad Autónoma San Sebastián de San Lorenzo \"UASS\"\n",
      "UNIVERSIDAD GRAL ASUNCIÓN.UNIGRAN\n",
      "UNIVERSIDAD NIHON GAKKO\n",
      "Universidad Nacional de Caaguazú\n",
      "Universidad del chaco\n",
      "Universidad Privada Maria Serrana\n",
      "Universidad Autónoma de Encarnación\n",
      "Universidad Hispano Guarani\n",
      "Universidad Metropolitana Alma Mater\n",
      "Universidad Nacional de Canindeyu\n",
      "Universidad Leonardo Da Vinci\n",
      "Universidad del Sol\n",
      "Instituto Superior en Ciencias Juridicas Escuela de Derecho y otros EDUCA\n",
      "Universidad Nacional Villarrica del Espiritu Santo\n",
      "Universidad Central del Paraguay\n",
      "USCA\n",
      "UNIVERSIDAD AUTONOMA DEL PARAGUAY\n",
      "UNIVERSDIDAD DE PARANAENSE\n",
      "Universidad Inca Garcilaso de la Vega Lima Peru\n",
      "Universidad de Desarrollo Sustentable\n",
      "Universidad Comunera\n"
     ]
    }
   ],
   "source": [
    "for i in df['universidad'].value_counts().keys(): print(i)"
   ]
  },
  {
   "cell_type": "code",
   "execution_count": null,
   "id": "61883b5e-3e7b-48e4-8193-ee6a1ef8fc47",
   "metadata": {},
   "outputs": [],
   "source": [
    "replace_dict = {\n",
    "\"Universidad Nacional de Asunción\"\n",
    "\"Universidad del Norte\"\n",
    "\"Universidad Tecnológica Internacional (UTIC)\"\n",
    "\"Universidad Católica Nuestra Sra. de la Asunción\"\n",
    "\"Universidad Tecnica de Comercialización y Desarrollo\"\n",
    "\"UNIVERSIDAD SAN LORENZO,UNISAL\"\n",
    "\"Universidad Nacional del Este\"\n",
    "\"Universidad Tecnológica Intercontinental\"\n",
    "\"Universidad Politécnica y Artística del Py.\"\n",
    "\"Universidad Privada del Este\"\n",
    "\"Universidad Américana\"\n",
    "\"UNIVERSIDAD PRIVADA DEL GUAIRA\"\n",
    "\"ESCUELA DE DERECHO Y OTRAS UNIDADES PEDAGOGICAS EDUPCA\"\n",
    "\"Universidad Nacional de Pilar\"\n",
    "\"Universidad Autónoma de Luque\"\n",
    "\"Universidad Columbia del Paraguay\"\n",
    "\"Universidad Nacional de Itapúa\"\n",
    "\"Universidad Autónoma de Asunción\"\n",
    "\"UNIVERSIDAD INTERNACIONAL TRES FRONTERAS\"\n",
    "\"Universidad Técnica de Comercialización y Desarrollo (UTCD)\"\n",
    "\"Universidad Católica de Villarrica\"\n",
    "\"Universidad del Pacífico\"\n",
    "\"Universidad Nordeste del Paraguay\"\n",
    "\"UNIVERSIDAD METROPOLITANA DE ASUNCION\"\n",
    "\"Universidad de la Integración de las Américas\"\n",
    "\"Universidad Interamericana\"\n",
    "\"UNIVERSIDAD SUDAMERICANA\"\n",
    "\"Universidad Iberoamericana\"\n",
    "\"UNIVERSIDAD AUTONOMA DEL SUR\"\n",
    "\"Universidad Autónoma San Sebastián de San Lorenzo 'UASS'\"\n",
    "\"UNIVERSIDAD GRAL ASUNCIÓN.UNIGRAN\"\n",
    "\"UNIVERSIDAD NIHON GAKKO\"\n",
    "\"Universidad Nacional de Caaguazú\"\n",
    "\"Universidad del chaco\"\n",
    "\"Universidad Privada Maria Serrana\"\n",
    "\"Universidad Autónoma de Encarnación\"\n",
    "\"Universidad Hispano Guarani\"\n",
    "\"Universidad Metropolitana Alma Mater\"\n",
    "\"Universidad Nacional de Canindeyu\"\n",
    "\"Universidad Leonardo Da Vinci\"\n",
    "\"Universidad del Sol\"\n",
    "\"Instituto Superior en Ciencias Juridicas Escuela de Derecho y otros EDUCA\"\n",
    "\"Universidad Nacional Villarrica del Espiritu Santo\"\n",
    "\"Universidad Central del Paraguay\"\n",
    "\"USCA\"\n",
    "\"UNIVERSIDAD AUTONOMA DEL PARAGUAY\"\n",
    "\"UNIVERSDIDAD DE PARANAENSE\"\n",
    "\"Universidad Inca Garcilaso de la Vega Lima Peru\"\n",
    "\"Universidad de Desarrollo Sustentable\"\n",
    "\"Universidad Comunera\"\n",
    "}\n",
    "masculinos['universidad'].replace(replace_dict, regex=True, inplace=True)"
   ]
  }
 ],
 "metadata": {
  "kernelspec": {
   "display_name": "Python 3",
   "language": "python",
   "name": "python3"
  },
  "language_info": {
   "codemirror_mode": {
    "name": "ipython",
    "version": 3
   },
   "file_extension": ".py",
   "mimetype": "text/x-python",
   "name": "python",
   "nbconvert_exporter": "python",
   "pygments_lexer": "ipython3",
   "version": "3.6.9"
  }
 },
 "nbformat": 4,
 "nbformat_minor": 5
}
