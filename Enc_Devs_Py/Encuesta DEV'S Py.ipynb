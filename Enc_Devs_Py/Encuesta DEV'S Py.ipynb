{
 "cells": [
  {
   "cell_type": "markdown",
   "id": "46abde53",
   "metadata": {},
   "source": [
    "# Paraguay - Developers Survey year 2021"
   ]
  },
  {
   "cell_type": "code",
   "execution_count": 3,
   "id": "2a86386c",
   "metadata": {},
   "outputs": [],
   "source": [
    "# Importing Libs\n",
    "import pandas as pd\n",
    "import matplotlib.pyplot as plt\n",
    "%matplotlib inline"
   ]
  },
  {
   "cell_type": "code",
   "execution_count": 4,
   "id": "b3b7ee14",
   "metadata": {},
   "outputs": [],
   "source": [
    "plt.rcParams['figure.figsize'] = [10, 5]"
   ]
  },
  {
   "cell_type": "code",
   "execution_count": 6,
   "id": "c960faf7",
   "metadata": {},
   "outputs": [],
   "source": [
    "df = pd.read_csv('enc_devs_py.csv')"
   ]
  },
  {
   "cell_type": "markdown",
   "id": "29f2b4ca",
   "metadata": {},
   "source": [
    "### First lets see what columns we have."
   ]
  },
  {
   "cell_type": "code",
   "execution_count": 161,
   "id": "05cb99b5",
   "metadata": {},
   "outputs": [
    {
     "name": "stdout",
     "output_type": "stream",
     "text": [
      "Marca temporal\n",
      "Modalidad\n",
      "Trabajo\n",
      "Tipo de trabajo\n",
      "DevOps\n",
      "Codificar por trabajo\n",
      "Experiencia en TI\n",
      "Experiencia en codificación \n",
      "Primera línea de código en una máquina\n",
      "Educación\n",
      "Carreras o especialidades\n",
      "Importancia educación formal\n",
      "Género\n",
      "Edad actual \n",
      "Salario mensual\n",
      "Programación, scripting y lenguajes de marcado\n",
      "Librerías o web frameworks\n",
      "Otras frameworks, librerías y herramientas\n",
      "Base de datos\n",
      "Plataformas\n",
      "Lenguaje favorito\n",
      "Lenguaje más odiado\n",
      "Framework favorito\n",
      "Framework más odiado\n",
      "Herramientas\n"
     ]
    }
   ],
   "source": [
    "for i in df.columns:\n",
    "    print(i)"
   ]
  },
  {
   "cell_type": "code",
   "execution_count": 162,
   "id": "bccb5910",
   "metadata": {},
   "outputs": [
    {
     "data": {
      "text/plain": [
       "(342, 25)"
      ]
     },
     "execution_count": 162,
     "metadata": {},
     "output_type": "execute_result"
    }
   ],
   "source": [
    "df.shape"
   ]
  },
  {
   "cell_type": "markdown",
   "id": "58a2189b",
   "metadata": {},
   "source": [
    "- Contamos con un df de 342 filas y 25 columnas."
   ]
  },
  {
   "cell_type": "markdown",
   "id": "42be9c54",
   "metadata": {},
   "source": [
    "# DATA DICTIONARY"
   ]
  },
  {
   "cell_type": "markdown",
   "id": "89975a96",
   "metadata": {},
   "source": [
    "### Modalidad : Tipo de trabajo que realiza. Presencial / Remoto / Hibrido.\n",
    "### Trabajo: Nacional o extranjeros.\n",
    "### Tipo de trabajo: Rol del trabajo que realiza. Dev/Designer\n",
    "### DevOps: Rol del trabajo en DEVOPS.\n",
    "### Codificar por trabajo: Su trabajo requiere programacion?\n",
    "### Experiencia en TI: Años trabajando en TI.\n",
    "### Experiencia en codificación: Años de experiencia en codificacion.\n",
    "### Primera línea de código en una máquina: Edad en la que realizo la primera linea de codigo.\n",
    "### Educación: Tipo de educacion recibida.\n",
    "### Carreras o especialidades: Carrera o especializacion.\n",
    "### Importancia educación formal: Considera que la educacion formal es importante?\n",
    "### Género : Sexo de la persona que responde.\n",
    "### Edad actual : Edad actual al momento de responder la pregunta.\n",
    "### Salario mensual : Salario mensual persivido.\n",
    "### Programación, scripting y lenguajes de marcado: Lenguajes de programacion usados.\n",
    "### Librerías o web frameworks: Librerias uilizadas.\n",
    "### Otras frameworks, librerías y herramientas: Otras librerias utilizadas.\n",
    "### Base de datos: Bases de datos utilizadas.\n",
    "### Plataformas: Plataformas de trabajo.\n",
    "### Lenguaje favorito: Lenguaje favorito.\n",
    "### Lenguaje más odiado: Lenguaje mas odiado.\n",
    "### Framework favorito: Framework favorito.\n",
    "### Framework más odiado: Framework mas odiado.\n",
    "### Herramientas: Herramientas utilizadas para el desarrollo de sus actividades."
   ]
  }
 ],
 "metadata": {
  "kernelspec": {
   "display_name": "Python 3",
   "language": "python",
   "name": "python3"
  },
  "language_info": {
   "codemirror_mode": {
    "name": "ipython",
    "version": 3
   },
   "file_extension": ".py",
   "mimetype": "text/x-python",
   "name": "python",
   "nbconvert_exporter": "python",
   "pygments_lexer": "ipython3",
   "version": "3.6.9"
  }
 },
 "nbformat": 4,
 "nbformat_minor": 5
}
