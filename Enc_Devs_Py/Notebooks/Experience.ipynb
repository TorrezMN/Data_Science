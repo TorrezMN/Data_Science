{
 "cells": [
  {
   "cell_type": "code",
   "execution_count": 1,
   "id": "71accf53",
   "metadata": {},
   "outputs": [],
   "source": [
    "# Importing Libs\n",
    "import pandas as pd\n",
    "import seaborn as sns\n",
    "import matplotlib.pyplot as plt\n",
    "from collections import Counter\n",
    "import numpy\n",
    "\n",
    "# My Tools\n",
    "from toolkit.tools import print_column_uniques, make_df, get_column_uniques\n",
    "\n",
    "\n",
    "%matplotlib inline"
   ]
  },
  {
   "cell_type": "code",
   "execution_count": 2,
   "id": "a4d40d69",
   "metadata": {},
   "outputs": [],
   "source": [
    "plt.rcParams[\"figure.figsize\"] = [12, 7]"
   ]
  },
  {
   "cell_type": "code",
   "execution_count": 3,
   "id": "1c6ff0cc",
   "metadata": {},
   "outputs": [],
   "source": [
    "# Setting seaborn as default plotting lib.\n",
    "sns.set()\n",
    "sns.set_palette(\"pastel\")"
   ]
  },
  {
   "cell_type": "code",
   "execution_count": 4,
   "id": "9ee3cf24",
   "metadata": {},
   "outputs": [],
   "source": [
    "df = pd.read_csv(\"../enc_devs_py_2021_fixed.csv\")"
   ]
  },
  {
   "cell_type": "code",
   "execution_count": 5,
   "id": "1870b4ff-a9e5-4ff3-b245-1375e627b382",
   "metadata": {},
   "outputs": [],
   "source": [
    "# COLORS\n",
    "# ============================\n",
    "# Light\n",
    "color_hombres_light = \"#8ecae6\"\n",
    "color_mujeres_light = \"#ffafcc\"\n",
    "color_neutro_light = \"#d4a373\"\n",
    "# Dark\n",
    "color_hombres_dark = \"#023047\"\n",
    "color_mujeres_dark = \"#ff006e\"\n",
    "color_neutro_dark = \"#ffb703\""
   ]
  },
  {
   "cell_type": "code",
   "execution_count": 6,
   "id": "bbd77f21",
   "metadata": {},
   "outputs": [
    {
     "data": {
      "text/html": [
       " <style>\n",
       ".output_png {\n",
       "    display: table-cell;\n",
       "    text-align: center;\n",
       "    vertical-align: middle;\n",
       "}\n",
       "</style> "
      ],
      "text/plain": [
       "<IPython.core.display.HTML object>"
      ]
     },
     "execution_count": 6,
     "metadata": {},
     "output_type": "execute_result"
    }
   ],
   "source": [
    "from IPython.core.display import HTML as Center\n",
    "\n",
    "Center(\n",
    "    \"\"\" <style>\n",
    ".output_png {\n",
    "    display: table-cell;\n",
    "    text-align: center;\n",
    "    vertical-align: middle;\n",
    "}\n",
    "</style> \"\"\"\n",
    ")"
   ]
  },
  {
   "cell_type": "code",
   "execution_count": 7,
   "id": "1c527fd1",
   "metadata": {},
   "outputs": [],
   "source": [
    "# Light\n",
    "color_hombres_light = (12 / 255, 50 / 255, 196 / 255, 0.5)\n",
    "color_mujeres_light = (255 / 255, 192 / 255, 203 / 255, 0.5)\n",
    "color_neutro_light = (149 / 255, 165 / 255, 166 / 255, 0.5)\n",
    "# Dark\n",
    "color_hombres_dark = (12 / 255, 50 / 255, 196 / 255, 0.8)\n",
    "color_mujeres_dark = (255 / 255, 192 / 255, 203 / 255, 0.8)\n",
    "color_neutro_dark = (149 / 255, 165 / 255, 166 / 255, 0.8)"
   ]
  },
  {
   "cell_type": "markdown",
   "id": "7b00fe16",
   "metadata": {},
   "source": [
    "# EXPERIENCIA\n",
    "\n",
    "    - Sobre la 'experiencia' de las personas que respondieron la encuesta."
   ]
  },
  {
   "cell_type": "markdown",
   "id": "83d548d7",
   "metadata": {},
   "source": [
    "## GENERAL "
   ]
  },
  {
   "cell_type": "code",
   "execution_count": 8,
   "id": "694d6792",
   "metadata": {},
   "outputs": [
    {
     "data": {
      "text/plain": [
       "5-9      124\n",
       "<5        94\n",
       "10-14     82\n",
       "15-19     20\n",
       "20-24      9\n",
       "25-29      5\n",
       "30-34      4\n",
       "35-39      2\n",
       ">50        1\n",
       "45-49      1\n",
       "Name: exp_en_IT, dtype: int64"
      ]
     },
     "execution_count": 8,
     "metadata": {},
     "output_type": "execute_result"
    }
   ],
   "source": [
    "df[\"exp_en_IT\"].value_counts()"
   ]
  },
  {
   "cell_type": "code",
   "execution_count": 9,
   "id": "c20cf43c",
   "metadata": {},
   "outputs": [
    {
     "data": {
      "image/png": "[encoded data removed]",
      "text/plain": [
       "<Figure size 648x360 with 1 Axes>"
      ]
     },
     "metadata": {},
     "output_type": "display_data"
    }
   ],
   "source": [
    "fig = plt.figure(figsize=(9, 5))\n",
    "\n",
    "\n",
    "exp_ti = (\n",
    "    df[\"exp_en_IT\"]\n",
    "    .value_counts()\n",
    "    .plot(\n",
    "        kind=\"barh\",\n",
    "        title=\"Experiencia en TI.\\n (GENERAL)\",\n",
    "        ylabel=\"Años de experiencia.\",\n",
    "        xlabel=\"Conteo\",\n",
    "    )\n",
    ")\n",
    "\n",
    "for k, v in enumerate(df[\"exp_en_IT\"].value_counts().values):\n",
    "    exp_ti.annotate(v, (v, k), va=\"center\", color=\"blue\")\n",
    "\n",
    "plt.show()"
   ]
  },
  {
   "cell_type": "markdown",
   "id": "4ce2fc5e",
   "metadata": {},
   "source": [
    "## Experiencia en TI. POR GENERO"
   ]
  },
  {
   "cell_type": "code",
   "execution_count": 10,
   "id": "2deda032",
   "metadata": {},
   "outputs": [],
   "source": [
    "gen = df.groupby(\"genero\")"
   ]
  },
  {
   "cell_type": "markdown",
   "id": "9d0442f9",
   "metadata": {},
   "source": [
    "### EXPERIENCIA EN TI - HOMBRES"
   ]
  },
  {
   "cell_type": "code",
   "execution_count": 11,
   "id": "0a1eb3ce",
   "metadata": {},
   "outputs": [
    {
     "data": {
      "text/plain": [
       "5-9      98\n",
       "<5       75\n",
       "10-14    71\n",
       "15-19    15\n",
       "20-24     9\n",
       "25-29     5\n",
       "30-34     4\n",
       "35-39     1\n",
       ">50       1\n",
       "Name: exp_en_IT, dtype: int64"
      ]
     },
     "execution_count": 11,
     "metadata": {},
     "output_type": "execute_result"
    }
   ],
   "source": [
    "gen.get_group(\"HOMBRE\")[\"exp_en_IT\"].value_counts()"
   ]
  },
  {
   "cell_type": "code",
   "execution_count": 12,
   "id": "42631a3d",
   "metadata": {},
   "outputs": [
    {
     "data": {
      "image/png": "[encoded data removed]",
      "text/plain": [
       "<Figure size 648x360 with 1 Axes>"
      ]
     },
     "metadata": {},
     "output_type": "display_data"
    }
   ],
   "source": [
    "fig = plt.figure(figsize=(9, 5))\n",
    "\n",
    "homb_exp_ti = (\n",
    "    gen.get_group(\"HOMBRE\")[\"exp_en_IT\"]\n",
    "    .value_counts()\n",
    "    .plot(\n",
    "        kind=\"barh\",\n",
    "        title=\"EXPERIENCIA EN TI - HOMBRES\",\n",
    "        color=color_hombres_light,\n",
    "        ylabel=\"Años de experiencia.\",\n",
    "        xlabel=\"Count\",\n",
    "    )\n",
    ")\n",
    "\n",
    "\n",
    "for k, v in enumerate(gen.get_group(\"HOMBRE\")[\"exp_en_IT\"].value_counts().values):\n",
    "    homb_exp_ti.annotate(v, (v, k), va=\"center\", color=\"blue\")\n",
    "\n",
    "plt.show()"
   ]
  },
  {
   "cell_type": "markdown",
   "id": "a73394ec",
   "metadata": {},
   "source": [
    "### EXPERIENCIA DE TI - MUJERES"
   ]
  },
  {
   "cell_type": "code",
   "execution_count": 13,
   "id": "add1d50c",
   "metadata": {},
   "outputs": [
    {
     "data": {
      "text/plain": [
       "5-9      23\n",
       "<5       14\n",
       "10-14     7\n",
       "15-19     4\n",
       "35-39     1\n",
       "Name: exp_en_IT, dtype: int64"
      ]
     },
     "execution_count": 13,
     "metadata": {},
     "output_type": "execute_result"
    }
   ],
   "source": [
    "gen.get_group(\"MUJER\")[\"exp_en_IT\"].value_counts()"
   ]
  },
  {
   "cell_type": "code",
   "execution_count": 14,
   "id": "a44af202",
   "metadata": {},
   "outputs": [
    {
     "data": {
      "image/png": "[encoded data removed]",
      "text/plain": [
       "<Figure size 648x360 with 1 Axes>"
      ]
     },
     "metadata": {},
     "output_type": "display_data"
    }
   ],
   "source": [
    "fig = plt.figure(figsize=(9, 5))\n",
    "\n",
    "exp_ti_mujer = (\n",
    "    gen.get_group(\"MUJER\")[\"exp_en_IT\"]\n",
    "    .value_counts()\n",
    "    .plot(\n",
    "        kind=\"barh\",\n",
    "        title=\"Experiencia en TI. - MUJERES\",\n",
    "        color=color_mujeres_light,\n",
    "        ylabel=\"años de experiencia\",\n",
    "        xlabel=\"count\",\n",
    "    )\n",
    ")\n",
    "\n",
    "\n",
    "for k, v in enumerate(gen.get_group(\"MUJER\")[\"exp_en_IT\"].value_counts().values):\n",
    "    exp_ti_mujer.annotate(v, (v, k), va=\"center\", color=\"black\")\n",
    "\n",
    "plt.show()"
   ]
  },
  {
   "cell_type": "markdown",
   "id": "dcf5e7fd",
   "metadata": {},
   "source": [
    "### Experiencia en TI. - NO DEFINIDO"
   ]
  },
  {
   "cell_type": "code",
   "execution_count": 15,
   "id": "b6745c5a",
   "metadata": {},
   "outputs": [
    {
     "data": {
      "text/plain": [
       "<5       2\n",
       "10-14    2\n",
       "5-9      1\n",
       "45-49    1\n",
       "Name: exp_en_IT, dtype: int64"
      ]
     },
     "execution_count": 15,
     "metadata": {},
     "output_type": "execute_result"
    }
   ],
   "source": [
    "gen.get_group(\"NO COMPARTO\")[\"exp_en_IT\"].value_counts()"
   ]
  },
  {
   "cell_type": "code",
   "execution_count": 16,
   "id": "23a484e5",
   "metadata": {},
   "outputs": [
    {
     "data": {
      "image/png": "[encoded data removed]",
      "text/plain": [
       "<Figure size 648x360 with 1 Axes>"
      ]
     },
     "metadata": {},
     "output_type": "display_data"
    }
   ],
   "source": [
    "fig = plt.figure(figsize=(9, 5))\n",
    "\n",
    "\n",
    "exp_ti_no_comp = (\n",
    "    gen.get_group(\"NO COMPARTO\")[\"exp_en_IT\"]\n",
    "    .value_counts()\n",
    "    .plot(\n",
    "        kind=\"barh\",\n",
    "        title=\"Experiencia en TI - NO DEFINIDO\",\n",
    "        color=color_neutro_light,\n",
    "        ylabel=\"Años de experiencia.\",\n",
    "        xlabel=\"Conteo\",\n",
    "    )\n",
    ")\n",
    "\n",
    "\n",
    "for k, v in enumerate(gen.get_group(\"NO COMPARTO\")[\"exp_en_IT\"].value_counts().values):\n",
    "    exp_ti_no_comp.annotate(v, (v, k), va=\"center\", color=\"blue\")\n",
    "\n",
    "plt.show()"
   ]
  },
  {
   "cell_type": "code",
   "execution_count": 17,
   "id": "e90d81de-64dd-4d05-a8fb-0eb1ae5e81ba",
   "metadata": {},
   "outputs": [],
   "source": [
    "gen_exp_groups = df.groupby([\"genero\", \"exp_en_IT\"])"
   ]
  },
  {
   "cell_type": "code",
   "execution_count": 18,
   "id": "7b7f7977-4c2a-497b-8bf4-5eeff2ec0624",
   "metadata": {},
   "outputs": [
    {
     "data": {
      "text/plain": [
       "dict_keys([('HOMBRE', '10-14'), ('HOMBRE', '15-19'), ('HOMBRE', '20-24'), ('HOMBRE', '25-29'), ('HOMBRE', '30-34'), ('HOMBRE', '35-39'), ('HOMBRE', '5-9'), ('HOMBRE', '<5'), ('HOMBRE', '>50'), ('MUJER', '10-14'), ('MUJER', '15-19'), ('MUJER', '35-39'), ('MUJER', '5-9'), ('MUJER', '<5'), ('NO COMPARTO', '10-14'), ('NO COMPARTO', '45-49'), ('NO COMPARTO', '5-9'), ('NO COMPARTO', '<5'), (nan, '10-14'), (nan, '15-19'), (nan, '5-9'), (nan, '<5')])"
      ]
     },
     "execution_count": 18,
     "metadata": {},
     "output_type": "execute_result"
    }
   ],
   "source": [
    "gen_exp_groups.groups.keys()"
   ]
  },
  {
   "cell_type": "code",
   "execution_count": 19,
   "id": "50247cfc-4e38-4b4e-b839-c66fddbac073",
   "metadata": {},
   "outputs": [
    {
     "data": {
      "text/plain": [
       "22"
      ]
     },
     "execution_count": 19,
     "metadata": {},
     "output_type": "execute_result"
    }
   ],
   "source": [
    "len(gen_exp_groups.groups.keys())"
   ]
  },
  {
   "cell_type": "markdown",
   "id": "b81cc894",
   "metadata": {},
   "source": [
    "# Experiencia en codificacion - GENERAL"
   ]
  },
  {
   "cell_type": "code",
   "execution_count": 20,
   "id": "da722a84",
   "metadata": {},
   "outputs": [
    {
     "data": {
      "text/plain": [
       "5-9      125\n",
       "<5       111\n",
       "10-14     64\n",
       "15-19     20\n",
       "20-24      7\n",
       "25-29      6\n",
       "30-34      4\n",
       "35-39      2\n",
       "Name: exp_en_programacion, dtype: int64"
      ]
     },
     "execution_count": 20,
     "metadata": {},
     "output_type": "execute_result"
    }
   ],
   "source": [
    "df[\"exp_en_programacion\"].value_counts()"
   ]
  },
  {
   "cell_type": "code",
   "execution_count": 21,
   "id": "4685f17b-4452-477d-8502-86c69d7fb622",
   "metadata": {},
   "outputs": [
    {
     "data": {
      "image/png": "[encoded data removed]",
      "text/plain": [
       "<Figure size 864x504 with 1 Axes>"
      ]
     },
     "metadata": {},
     "output_type": "display_data"
    }
   ],
   "source": [
    "exp_df = df[\"exp_en_programacion\"].value_counts()\n",
    "exp_plot = exp_df.plot(\n",
    "    kind=\"barh\",\n",
    "    title=\"Experiencia en codificacion.\",\n",
    "    ylabel=\"Años de experiencia.\",\n",
    "    xlabel=\"Conteo.\",\n",
    ")\n",
    "\n",
    "\n",
    "# Plot annotations.\n",
    "for k, v in enumerate(exp_df):\n",
    "    exp_plot.annotate(v, (v, k), va=\"center\")"
   ]
  },
  {
   "cell_type": "code",
   "execution_count": 22,
   "id": "b1b57132-2271-4ba2-ae24-5c14ab6770f3",
   "metadata": {},
   "outputs": [
    {
     "name": "stdout",
     "output_type": "stream",
     "text": [
      "5-9      0.368732\n",
      "<5       0.327434\n",
      "10-14    0.188791\n",
      "15-19    0.058997\n",
      "20-24    0.020649\n",
      "25-29    0.017699\n",
      "30-34    0.011799\n",
      "35-39    0.005900\n",
      "Name: exp_en_programacion, dtype: float64\n"
     ]
    }
   ],
   "source": [
    "exp_df = df[\"exp_en_programacion\"].value_counts(normalize=True)\n",
    "print(exp_df)"
   ]
  },
  {
   "cell_type": "code",
   "execution_count": 23,
   "id": "03f88d0d-69b2-4daa-9c16-59d111a34c4f",
   "metadata": {},
   "outputs": [
    {
     "name": "stdout",
     "output_type": "stream",
     "text": [
      "Experiencia : 5-9 | 36.87315634218289 %\n",
      "Experiencia : <5 | 32.743362831858406 %\n",
      "Experiencia : 10-14 | 18.87905604719764 %\n",
      "Experiencia : 15-19 | 5.899705014749262 %\n",
      "Experiencia : 20-24 | 2.0648967551622417 %\n",
      "Experiencia : 25-29 | 1.7699115044247788 %\n",
      "Experiencia : 30-34 | 1.1799410029498525 %\n",
      "Experiencia : 35-39 | 0.5899705014749262 %\n"
     ]
    }
   ],
   "source": [
    "for k, v in enumerate(exp_df.keys()):\n",
    "    print(f\"Experiencia : {v} | {exp_df.values[k]*100} %\")"
   ]
  },
  {
   "cell_type": "code",
   "execution_count": 24,
   "id": "3a1f7476",
   "metadata": {},
   "outputs": [
    {
     "data": {
      "image/png": "[encoded data removed]",
      "text/plain": [
       "<Figure size 648x360 with 1 Axes>"
      ]
     },
     "metadata": {},
     "output_type": "display_data"
    }
   ],
   "source": [
    "fig = plt.figure(figsize=(9, 5))\n",
    "\n",
    "\n",
    "exp_coding = (\n",
    "    df[\"exp_en_programacion\"]\n",
    "    .value_counts()\n",
    "    .plot(kind=\"barh\", title=\"Experiencia en codificaion. - GENERAL\")\n",
    ")\n",
    "\n",
    "\n",
    "for k, v in enumerate(df[\"exp_en_programacion\"].value_counts().values):\n",
    "    exp_coding.annotate(v, (v, k), va=\"center\", color=\"blue\")\n",
    "\n",
    "plt.show()"
   ]
  },
  {
   "cell_type": "markdown",
   "id": "b94af574",
   "metadata": {},
   "source": [
    "### Experiencia en codificacion. - POR GENERO"
   ]
  },
  {
   "cell_type": "markdown",
   "id": "61ff56d4",
   "metadata": {},
   "source": [
    "#### EXPERIENCIA CODIFICANDO - HOMBRES"
   ]
  },
  {
   "cell_type": "code",
   "execution_count": 25,
   "id": "5a7eaa44",
   "metadata": {},
   "outputs": [
    {
     "data": {
      "text/plain": [
       "5-9      97\n",
       "<5       90\n",
       "10-14    57\n",
       "15-19    16\n",
       "20-24     7\n",
       "25-29     6\n",
       "30-34     4\n",
       "35-39     1\n",
       "Name: exp_en_programacion, dtype: int64"
      ]
     },
     "execution_count": 25,
     "metadata": {},
     "output_type": "execute_result"
    }
   ],
   "source": [
    "gen.get_group(\"HOMBRE\")[\"exp_en_programacion\"].value_counts()"
   ]
  },
  {
   "cell_type": "code",
   "execution_count": 26,
   "id": "af716f50-3425-4f6a-8ead-53f3abf6992b",
   "metadata": {},
   "outputs": [
    {
     "data": {
      "text/plain": [
       "5-9      0.348921\n",
       "<5       0.323741\n",
       "10-14    0.205036\n",
       "15-19    0.057554\n",
       "20-24    0.025180\n",
       "25-29    0.021583\n",
       "30-34    0.014388\n",
       "35-39    0.003597\n",
       "Name: exp_en_programacion, dtype: float64"
      ]
     },
     "execution_count": 26,
     "metadata": {},
     "output_type": "execute_result"
    }
   ],
   "source": [
    "gen.get_group(\"HOMBRE\")[\"exp_en_programacion\"].value_counts(normalize=True)"
   ]
  },
  {
   "cell_type": "code",
   "execution_count": 27,
   "id": "2a86e9af",
   "metadata": {},
   "outputs": [
    {
     "data": {
      "image/png": "[encoded data removed]",
      "text/plain": [
       "<Figure size 648x360 with 1 Axes>"
      ]
     },
     "metadata": {},
     "output_type": "display_data"
    }
   ],
   "source": [
    "fig = plt.figure(figsize=(9, 5))\n",
    "\n",
    "homb_exp_coding = (\n",
    "    gen.get_group(\"HOMBRE\")[\"exp_en_programacion\"]\n",
    "    .value_counts()\n",
    "    .plot(\n",
    "        kind=\"barh\",\n",
    "        title=\"Experiencia codificando. - HOMBRES\",\n",
    "        color=color_hombres_light,\n",
    "    )\n",
    ")\n",
    "\n",
    "\n",
    "for k, v in enumerate(\n",
    "    gen.get_group(\"HOMBRE\")[\"exp_en_programacion\"].value_counts().values\n",
    "):\n",
    "    homb_exp_coding.annotate(v, (v, k), va=\"center\", color=\"blue\")\n",
    "\n",
    "plt.show()"
   ]
  },
  {
   "cell_type": "markdown",
   "id": "c0fdeaf9",
   "metadata": {},
   "source": [
    "### EXPERIENCIA CODIFICANDO - MUJERES"
   ]
  },
  {
   "cell_type": "code",
   "execution_count": 28,
   "id": "8cc8fb0b",
   "metadata": {},
   "outputs": [
    {
     "data": {
      "text/plain": [
       "5-9      23\n",
       "<5       17\n",
       "10-14     5\n",
       "15-19     2\n",
       "35-39     1\n",
       "Name: exp_en_programacion, dtype: int64"
      ]
     },
     "execution_count": 28,
     "metadata": {},
     "output_type": "execute_result"
    }
   ],
   "source": [
    "gen.get_group(\"MUJER\")[\"exp_en_programacion\"].value_counts()"
   ]
  },
  {
   "cell_type": "code",
   "execution_count": 29,
   "id": "bc958332-e158-4e2c-bfd8-636eee28de01",
   "metadata": {},
   "outputs": [
    {
     "data": {
      "text/plain": [
       "5-9      0.479167\n",
       "<5       0.354167\n",
       "10-14    0.104167\n",
       "15-19    0.041667\n",
       "35-39    0.020833\n",
       "Name: exp_en_programacion, dtype: float64"
      ]
     },
     "execution_count": 29,
     "metadata": {},
     "output_type": "execute_result"
    }
   ],
   "source": [
    "gen.get_group(\"MUJER\")[\"exp_en_programacion\"].value_counts(normalize=True)"
   ]
  },
  {
   "cell_type": "code",
   "execution_count": 30,
   "id": "a7fab377",
   "metadata": {},
   "outputs": [
    {
     "data": {
      "image/png": "[encoded data removed]",
      "text/plain": [
       "<Figure size 648x360 with 1 Axes>"
      ]
     },
     "metadata": {},
     "output_type": "display_data"
    }
   ],
   "source": [
    "fig = plt.figure(figsize=(9, 5))\n",
    "\n",
    "muj_exp_coding = (\n",
    "    gen.get_group(\"MUJER\")[\"exp_en_programacion\"]\n",
    "    .value_counts()\n",
    "    .plot(\n",
    "        kind=\"barh\",\n",
    "        title=\"Experiencia codificando. - MUJERES\",\n",
    "        color=color_mujeres_light,\n",
    "    )\n",
    ")\n",
    "\n",
    "\n",
    "for k, v in enumerate(\n",
    "    gen.get_group(\"MUJER\")[\"exp_en_programacion\"].value_counts().values\n",
    "):\n",
    "    muj_exp_coding.annotate(v, (v, k), va=\"center\", color=\"blue\")\n",
    "\n",
    "plt.show()"
   ]
  },
  {
   "cell_type": "markdown",
   "id": "1d12b0b3",
   "metadata": {},
   "source": [
    "### EXPERIENCIA CODIFICANDO - NO COMPARTO"
   ]
  },
  {
   "cell_type": "code",
   "execution_count": 31,
   "id": "5ad078a3",
   "metadata": {},
   "outputs": [
    {
     "data": {
      "text/plain": [
       "10-14    2\n",
       "5-9      1\n",
       "15-19    1\n",
       "<5       1\n",
       "Name: exp_en_programacion, dtype: int64"
      ]
     },
     "execution_count": 31,
     "metadata": {},
     "output_type": "execute_result"
    }
   ],
   "source": [
    "gen.get_group(\"NO COMPARTO\")[\"exp_en_programacion\"].value_counts()"
   ]
  },
  {
   "cell_type": "code",
   "execution_count": 32,
   "id": "49e5e64f",
   "metadata": {},
   "outputs": [
    {
     "data": {
      "image/png": "[encoded data removed]",
      "text/plain": [
       "<Figure size 648x360 with 1 Axes>"
      ]
     },
     "metadata": {},
     "output_type": "display_data"
    }
   ],
   "source": [
    "fig = plt.figure(figsize=(9, 5))\n",
    "\n",
    "\n",
    "no_comp_exp_coding = (\n",
    "    gen.get_group(\"NO COMPARTO\")[\"exp_en_programacion\"]\n",
    "    .value_counts()\n",
    "    .plot(\n",
    "        kind=\"barh\", title=\"Experiencia en TI. - NO COMPARTO\", color=color_neutro_light\n",
    "    )\n",
    ")\n",
    "\n",
    "\n",
    "for k, v in enumerate(\n",
    "    gen.get_group(\"NO COMPARTO\")[\"exp_en_programacion\"].value_counts().values\n",
    "):\n",
    "    no_comp_exp_coding.annotate(v, (v, k), va=\"center\", color=\"blue\")\n",
    "\n",
    "plt.show()"
   ]
  },
  {
   "cell_type": "markdown",
   "id": "362c1874",
   "metadata": {},
   "source": [
    "# Primera linea de codigo en maquina. - GENERAL"
   ]
  },
  {
   "cell_type": "code",
   "execution_count": 33,
   "id": "d4fd7ab8",
   "metadata": {},
   "outputs": [
    {
     "data": {
      "text/plain": [
       "<10      101\n",
       "10-11     55\n",
       "14-15     51\n",
       "12-13     37\n",
       "16-17     31\n",
       "18-19     27\n",
       "20-21     16\n",
       ">30        6\n",
       "22-23      4\n",
       "26-27      4\n",
       "24-25      3\n",
       "28-29      3\n",
       "Name: 1_linea_de_codigo, dtype: int64"
      ]
     },
     "execution_count": 33,
     "metadata": {},
     "output_type": "execute_result"
    }
   ],
   "source": [
    "df[\"1_linea_de_codigo\"].value_counts()"
   ]
  },
  {
   "cell_type": "code",
   "execution_count": 34,
   "id": "6c2b9b27",
   "metadata": {},
   "outputs": [
    {
     "data": {
      "image/png": "[encoded data removed]",
      "text/plain": [
       "<Figure size 648x360 with 1 Axes>"
      ]
     },
     "metadata": {},
     "output_type": "display_data"
    }
   ],
   "source": [
    "fig = plt.figure(figsize=(9, 5))\n",
    "\n",
    "prim_linea_coding = (\n",
    "    df[\"1_linea_de_codigo\"]\n",
    "    .value_counts()\n",
    "    .plot(kind=\"barh\", title=\"Primera linea de codigo en maquina. - GENERAL\")\n",
    ")\n",
    "\n",
    "\n",
    "for k, v in enumerate(df[\"1_linea_de_codigo\"].value_counts().values):\n",
    "    prim_linea_coding.annotate(v, (v, k), va=\"center\", color=\"blue\")\n",
    "\n",
    "plt.show()"
   ]
  },
  {
   "cell_type": "markdown",
   "id": "762ba003",
   "metadata": {},
   "source": [
    "# PRIMERA LINEA DE CODIGO EN MAQUINA - POR GENERO"
   ]
  },
  {
   "cell_type": "markdown",
   "id": "1fdeae9c",
   "metadata": {},
   "source": [
    "\n",
    "### PRIMERA LINEA EN MAQUINA - SOLO HOMBRES"
   ]
  },
  {
   "cell_type": "code",
   "execution_count": 35,
   "id": "9f015319",
   "metadata": {},
   "outputs": [
    {
     "data": {
      "text/plain": [
       "<10      86\n",
       "10-11    45\n",
       "14-15    38\n",
       "16-17    29\n",
       "12-13    29\n",
       "18-19    22\n",
       "20-21    11\n",
       ">30       5\n",
       "26-27     4\n",
       "24-25     3\n",
       "22-23     3\n",
       "28-29     2\n",
       "Name: 1_linea_de_codigo, dtype: int64"
      ]
     },
     "execution_count": 35,
     "metadata": {},
     "output_type": "execute_result"
    }
   ],
   "source": [
    "gen.get_group(\"HOMBRE\")[\"1_linea_de_codigo\"].value_counts()"
   ]
  },
  {
   "cell_type": "code",
   "execution_count": 36,
   "id": "03d8b5f1",
   "metadata": {},
   "outputs": [
    {
     "data": {
      "image/png": "[encoded data removed]",
      "text/plain": [
       "<Figure size 648x360 with 1 Axes>"
      ]
     },
     "metadata": {},
     "output_type": "display_data"
    }
   ],
   "source": [
    "fig = plt.figure(figsize=(9, 5))\n",
    "\n",
    "prim_linea_coding_hombres = (\n",
    "    gen.get_group(\"HOMBRE\")[\"1_linea_de_codigo\"]\n",
    "    .value_counts()\n",
    "    .plot(\n",
    "        kind=\"barh\",\n",
    "        title=\"PRIMERA LINEA DE CODIGO - HOMBRES\",\n",
    "        color=color_hombres_light,\n",
    "    )\n",
    ")\n",
    "\n",
    "for k, v in enumerate(\n",
    "    gen.get_group(\"HOMBRE\")[\"1_linea_de_codigo\"].value_counts().values\n",
    "):\n",
    "    prim_linea_coding_hombres.annotate(v, (v, k), va=\"center\", color=\"blue\")\n",
    "\n",
    "plt.show()"
   ]
  },
  {
   "cell_type": "markdown",
   "id": "74abc8e0",
   "metadata": {},
   "source": [
    "### PRIMERA LINEA EN MAQUINA - MUJERES"
   ]
  },
  {
   "cell_type": "code",
   "execution_count": 37,
   "id": "84be25a6",
   "metadata": {},
   "outputs": [
    {
     "data": {
      "text/plain": [
       "<10      13\n",
       "14-15    12\n",
       "12-13     7\n",
       "10-11     6\n",
       "18-19     4\n",
       "20-21     2\n",
       "16-17     1\n",
       "28-29     1\n",
       ">30       1\n",
       "Name: 1_linea_de_codigo, dtype: int64"
      ]
     },
     "execution_count": 37,
     "metadata": {},
     "output_type": "execute_result"
    }
   ],
   "source": [
    "gen.get_group(\"MUJER\")[\"1_linea_de_codigo\"].value_counts()"
   ]
  },
  {
   "cell_type": "code",
   "execution_count": 38,
   "id": "4c18b2a7",
   "metadata": {},
   "outputs": [
    {
     "data": {
      "image/png": "[encoded data removed]",
      "text/plain": [
       "<Figure size 648x360 with 1 Axes>"
      ]
     },
     "metadata": {},
     "output_type": "display_data"
    }
   ],
   "source": [
    "fig = plt.figure(figsize=(9, 5))\n",
    "\n",
    "prim_linea_coding_mujeres = (\n",
    "    gen.get_group(\"MUJER\")[\"1_linea_de_codigo\"]\n",
    "    .value_counts()\n",
    "    .plot(\n",
    "        kind=\"barh\", title=\"PRIMERA LINEA DE CODIGO - MUJER\", color=color_mujeres_light\n",
    "    )\n",
    ")\n",
    "\n",
    "for k, v in enumerate(\n",
    "    gen.get_group(\"MUJER\")[\"1_linea_de_codigo\"].value_counts().values\n",
    "):\n",
    "    prim_linea_coding_mujeres.annotate(v, (v, k), va=\"center\", color=\"blue\")\n",
    "\n",
    "plt.show()"
   ]
  },
  {
   "cell_type": "markdown",
   "id": "95f98c82",
   "metadata": {},
   "source": [
    "# PRIMERA LINEA EN MAQUINA - NO DEFINIDO"
   ]
  },
  {
   "cell_type": "code",
   "execution_count": 39,
   "id": "177d1e7b",
   "metadata": {},
   "outputs": [
    {
     "data": {
      "text/plain": [
       "10-11    2\n",
       "22-23    1\n",
       "18-19    1\n",
       "14-15    1\n",
       "20-21    1\n",
       "Name: 1_linea_de_codigo, dtype: int64"
      ]
     },
     "execution_count": 39,
     "metadata": {},
     "output_type": "execute_result"
    }
   ],
   "source": [
    "gen.get_group(\"NO COMPARTO\")[\"1_linea_de_codigo\"].value_counts()"
   ]
  },
  {
   "cell_type": "code",
   "execution_count": 40,
   "id": "1aa556d4",
   "metadata": {},
   "outputs": [
    {
     "data": {
      "image/png": "[encoded data removed]",
      "text/plain": [
       "<Figure size 648x360 with 1 Axes>"
      ]
     },
     "metadata": {},
     "output_type": "display_data"
    }
   ],
   "source": [
    "fig = plt.figure(figsize=(9, 5))\n",
    "\n",
    "prim_linea_cod_no_comp = (\n",
    "    gen.get_group(\"NO COMPARTO\")[\"1_linea_de_codigo\"]\n",
    "    .value_counts()\n",
    "    .plot(\n",
    "        kind=\"barh\",\n",
    "        title=\"PRIMERA LINEA EN MAQUINA - NO DEFINIDO\",\n",
    "        color=color_neutro_light,\n",
    "    )\n",
    ")\n",
    "\n",
    "\n",
    "for k, v in enumerate(\n",
    "    gen.get_group(\"NO COMPARTO\")[\"1_linea_de_codigo\"].value_counts().values\n",
    "):\n",
    "    prim_linea_cod_no_comp.annotate(v, (v, k), va=\"center\", color=\"blue\")\n",
    "\n",
    "plt.show()"
   ]
  },
  {
   "cell_type": "markdown",
   "id": "907ff03a",
   "metadata": {},
   "source": [
    "# GENERAL"
   ]
  },
  {
   "cell_type": "markdown",
   "id": "cb281906",
   "metadata": {},
   "source": [
    "### EXPERIENCIA VS MODALIDAD"
   ]
  },
  {
   "cell_type": "markdown",
   "id": "9e02cc3f",
   "metadata": {},
   "source": [
    "- Se pretende explorar el tipo de trabajo que realizan segun la experiencia en TI."
   ]
  },
  {
   "cell_type": "code",
   "execution_count": 41,
   "id": "a29a4bfb",
   "metadata": {},
   "outputs": [],
   "source": [
    "exp = df.groupby(\"exp_en_IT\")"
   ]
  },
  {
   "cell_type": "code",
   "execution_count": 42,
   "id": "bf388d2f",
   "metadata": {},
   "outputs": [],
   "source": [
    "exp_cats = [i for i in exp.groups.keys()]"
   ]
  },
  {
   "cell_type": "code",
   "execution_count": 43,
   "id": "65c759ba",
   "metadata": {},
   "outputs": [
    {
     "data": {
      "image/png": "[encoded data removed]",
      "text/plain": [
       "<Figure size 800x2400 with 10 Axes>"
      ]
     },
     "metadata": {},
     "output_type": "display_data"
    }
   ],
   "source": [
    "plt.figure(figsize=(10, 30), dpi=80)\n",
    "\n",
    "\n",
    "for k, v in enumerate(exp_cats):\n",
    "    plt.subplot(8, 2, k + 1)\n",
    "    mod = (\n",
    "        exp.get_group(v)[\"modalidad\"]\n",
    "        .value_counts()\n",
    "        .plot(\n",
    "            kind=\"barh\",\n",
    "            ylabel=\"\",\n",
    "            # autopct='%1.1f%%',\n",
    "            title=\"{0} AÑOS DE EXPERIENCIA - MODALIDAD\".format(v),\n",
    "        )\n",
    "    )\n",
    "    for l, m in enumerate(exp.get_group(v)[\"modalidad\"].value_counts().values):\n",
    "        mod.annotate(m, (m, l), va=\"center\", color=\"blue\")\n",
    "\n",
    "\n",
    "plt.subplots_adjust(left=0.1, bottom=0.1, right=0.9, top=0.9, wspace=0.4, hspace=0.4)\n",
    "plt.show()"
   ]
  },
  {
   "cell_type": "code",
   "execution_count": 44,
   "id": "fb423384-ed37-4d8c-823d-9332088a4916",
   "metadata": {},
   "outputs": [
    {
     "name": "stdout",
     "output_type": "stream",
     "text": [
      "10-14 AÑOS DE EXPERIENCIA - MODALIDAD\n",
      "=======================================\n",
      "Remoto        0.426829\n",
      "Hibrído       0.353659\n",
      "Presencial    0.219512\n",
      "Name: modalidad, dtype: float64\n",
      "\n",
      "\n",
      "\n",
      "\n",
      "15-19 AÑOS DE EXPERIENCIA - MODALIDAD\n",
      "=======================================\n",
      "Remoto        0.50\n",
      "Hibrído       0.40\n",
      "Ninguna       0.05\n",
      "Presencial    0.05\n",
      "Name: modalidad, dtype: float64\n",
      "\n",
      "\n",
      "\n",
      "\n",
      "20-24 AÑOS DE EXPERIENCIA - MODALIDAD\n",
      "=======================================\n",
      "Hibrído    0.555556\n",
      "Remoto     0.444444\n",
      "Name: modalidad, dtype: float64\n",
      "\n",
      "\n",
      "\n",
      "\n",
      "25-29 AÑOS DE EXPERIENCIA - MODALIDAD\n",
      "=======================================\n",
      "Hibrído       0.6\n",
      "Presencial    0.4\n",
      "Name: modalidad, dtype: float64\n",
      "\n",
      "\n",
      "\n",
      "\n",
      "30-34 AÑOS DE EXPERIENCIA - MODALIDAD\n",
      "=======================================\n",
      "Remoto    1.0\n",
      "Name: modalidad, dtype: float64\n",
      "\n",
      "\n",
      "\n",
      "\n",
      "35-39 AÑOS DE EXPERIENCIA - MODALIDAD\n",
      "=======================================\n",
      "Remoto        0.5\n",
      "Presencial    0.5\n",
      "Name: modalidad, dtype: float64\n",
      "\n",
      "\n",
      "\n",
      "\n",
      "45-49 AÑOS DE EXPERIENCIA - MODALIDAD\n",
      "=======================================\n",
      "Ninguna    1.0\n",
      "Name: modalidad, dtype: float64\n",
      "\n",
      "\n",
      "\n",
      "\n",
      "5-9 AÑOS DE EXPERIENCIA - MODALIDAD\n",
      "=======================================\n",
      "Remoto        0.419355\n",
      "Hibrído       0.306452\n",
      "Presencial    0.266129\n",
      "Ninguna       0.008065\n",
      "Name: modalidad, dtype: float64\n",
      "\n",
      "\n",
      "\n",
      "\n",
      "<5 AÑOS DE EXPERIENCIA - MODALIDAD\n",
      "=======================================\n",
      "Remoto        0.414894\n",
      "Hibrído       0.276596\n",
      "Presencial    0.244681\n",
      "Ninguna       0.063830\n",
      "Name: modalidad, dtype: float64\n",
      "\n",
      "\n",
      "\n",
      "\n",
      ">50 AÑOS DE EXPERIENCIA - MODALIDAD\n",
      "=======================================\n",
      "Hibrído    1.0\n",
      "Name: modalidad, dtype: float64\n",
      "\n",
      "\n",
      "\n",
      "\n"
     ]
    }
   ],
   "source": [
    "for k, v in enumerate(exp_cats):\n",
    "    mod = exp.get_group(v)[\"modalidad\"].value_counts(normalize=True)\n",
    "\n",
    "    print(\"{0} AÑOS DE EXPERIENCIA - MODALIDAD\".format(v))\n",
    "    print(\"=\" * 39)\n",
    "    print(mod)\n",
    "    print(\"\\n\" * 3)"
   ]
  },
  {
   "cell_type": "code",
   "execution_count": 45,
   "id": "f021ebbe-37f7-43bf-9dd9-3474abe47939",
   "metadata": {},
   "outputs": [
    {
     "name": "stdout",
     "output_type": "stream",
     "text": [
      "__________________________________\n",
      "Años de experiencia:10-14\n",
      "__________________________________\n",
      "Remoto        0.426829\n",
      "Hibrído       0.353659\n",
      "Presencial    0.219512\n",
      "Name: modalidad, dtype: float64\n",
      "\n",
      "\n",
      "\n",
      "\n",
      "__________________________________\n",
      "Años de experiencia:15-19\n",
      "__________________________________\n",
      "Remoto        0.50\n",
      "Hibrído       0.40\n",
      "Ninguna       0.05\n",
      "Presencial    0.05\n",
      "Name: modalidad, dtype: float64\n",
      "\n",
      "\n",
      "\n",
      "\n",
      "__________________________________\n",
      "Años de experiencia:20-24\n",
      "__________________________________\n",
      "Hibrído    0.555556\n",
      "Remoto     0.444444\n",
      "Name: modalidad, dtype: float64\n",
      "\n",
      "\n",
      "\n",
      "\n",
      "__________________________________\n",
      "Años de experiencia:25-29\n",
      "__________________________________\n",
      "Hibrído       0.6\n",
      "Presencial    0.4\n",
      "Name: modalidad, dtype: float64\n",
      "\n",
      "\n",
      "\n",
      "\n",
      "__________________________________\n",
      "Años de experiencia:30-34\n",
      "__________________________________\n",
      "Remoto    1.0\n",
      "Name: modalidad, dtype: float64\n",
      "\n",
      "\n",
      "\n",
      "\n",
      "__________________________________\n",
      "Años de experiencia:35-39\n",
      "__________________________________\n",
      "Remoto        0.5\n",
      "Presencial    0.5\n",
      "Name: modalidad, dtype: float64\n",
      "\n",
      "\n",
      "\n",
      "\n",
      "__________________________________\n",
      "Años de experiencia:45-49\n",
      "__________________________________\n",
      "Ninguna    1.0\n",
      "Name: modalidad, dtype: float64\n",
      "\n",
      "\n",
      "\n",
      "\n",
      "__________________________________\n",
      "Años de experiencia:5-9\n",
      "__________________________________\n",
      "Remoto        0.419355\n",
      "Hibrído       0.306452\n",
      "Presencial    0.266129\n",
      "Ninguna       0.008065\n",
      "Name: modalidad, dtype: float64\n",
      "\n",
      "\n",
      "\n",
      "\n",
      "__________________________________\n",
      "Años de experiencia:<5\n",
      "__________________________________\n",
      "Remoto        0.414894\n",
      "Hibrído       0.276596\n",
      "Presencial    0.244681\n",
      "Ninguna       0.063830\n",
      "Name: modalidad, dtype: float64\n",
      "\n",
      "\n",
      "\n",
      "\n",
      "__________________________________\n",
      "Años de experiencia:>50\n",
      "__________________________________\n",
      "Hibrído    1.0\n",
      "Name: modalidad, dtype: float64\n",
      "\n",
      "\n",
      "\n",
      "\n"
     ]
    }
   ],
   "source": [
    "for k, v in enumerate(exp_cats):\n",
    "    d = exp.get_group(v)[\"modalidad\"].value_counts(normalize=True)\n",
    "    print(\"_\" * 34)\n",
    "    print(f\"Años de experiencia:{v}\")\n",
    "    print(\"_\" * 34)\n",
    "    print(d)\n",
    "    print(\"\\n\" * 3)"
   ]
  },
  {
   "cell_type": "markdown",
   "id": "12193dfe",
   "metadata": {},
   "source": [
    "### EXPERIENCIA EN TI  VS IMPORTANCIA DE LA EDUCACION FORMAL\n",
    "    - Postura sobre la \"importancia de la educacion formal\" de los que respondieron la\n",
    "    encuesta segun los años de experiencia en TI."
   ]
  },
  {
   "cell_type": "code",
   "execution_count": 46,
   "id": "fb7beac8",
   "metadata": {},
   "outputs": [
    {
     "ename": "NameError",
     "evalue": "name 'explode_pie' is not defined",
     "output_type": "error",
     "traceback": [
      "\u001b[0;31m---------------------------------------------------------------------------\u001b[0m",
      "\u001b[0;31mNameError\u001b[0m                                 Traceback (most recent call last)",
      "Input \u001b[0;32mIn [46]\u001b[0m, in \u001b[0;36m<cell line: 4>\u001b[0;34m()\u001b[0m\n\u001b[1;32m      1\u001b[0m \u001b[38;5;66;03m#plt.figure(figsize=(10, 60), dpi=80)\u001b[39;00m\n\u001b[1;32m      4\u001b[0m \u001b[38;5;28;01mfor\u001b[39;00m k, v \u001b[38;5;129;01min\u001b[39;00m \u001b[38;5;28menumerate\u001b[39m(exp_cats):\n\u001b[1;32m      5\u001b[0m     \u001b[38;5;66;03m#plt.subplot(18, 2, k + 1)\u001b[39;00m\n\u001b[1;32m      6\u001b[0m     imp \u001b[38;5;241m=\u001b[39m (\n\u001b[1;32m      7\u001b[0m         exp\u001b[38;5;241m.\u001b[39mget_group(v)[\u001b[38;5;124m\"\u001b[39m\u001b[38;5;124mimp_ed_formal\u001b[39m\u001b[38;5;124m\"\u001b[39m]\n\u001b[1;32m      8\u001b[0m         \u001b[38;5;241m.\u001b[39mvalue_counts(normalize\u001b[38;5;241m=\u001b[39m\u001b[38;5;28;01mTrue\u001b[39;00m)\n\u001b[1;32m      9\u001b[0m         \u001b[38;5;241m.\u001b[39mplot(\n\u001b[1;32m     10\u001b[0m             kind\u001b[38;5;241m=\u001b[39m\u001b[38;5;124m\"\u001b[39m\u001b[38;5;124mpie\u001b[39m\u001b[38;5;124m\"\u001b[39m,\n\u001b[1;32m     11\u001b[0m             title\u001b[38;5;241m=\u001b[39m\u001b[38;5;124m\"\u001b[39m\u001b[38;5;132;01m{0}\u001b[39;00m\u001b[38;5;124m AÑOS DE EXPERIENCIA \u001b[39m\u001b[38;5;130;01m\\n\u001b[39;00m\u001b[38;5;124m IMPORTANCIA EDUCACION FORMAL\u001b[39m\u001b[38;5;124m\"\u001b[39m\u001b[38;5;241m.\u001b[39mformat(v),\n\u001b[1;32m     12\u001b[0m             ylabel\u001b[38;5;241m=\u001b[39m\u001b[38;5;124m'\u001b[39m\u001b[38;5;124m'\u001b[39m,\n\u001b[1;32m     13\u001b[0m              autopct\u001b[38;5;241m=\u001b[39m\u001b[38;5;124m\"\u001b[39m\u001b[38;5;132;01m%1.1f\u001b[39;00m\u001b[38;5;132;01m%%\u001b[39;00m\u001b[38;5;124m\"\u001b[39m,\n\u001b[1;32m     14\u001b[0m             textprops\u001b[38;5;241m=\u001b[39m{\u001b[38;5;124m\"\u001b[39m\u001b[38;5;124mfontsize\u001b[39m\u001b[38;5;124m\"\u001b[39m:\u001b[38;5;241m12\u001b[39m},\n\u001b[0;32m---> 15\u001b[0m             explode\u001b[38;5;241m=\u001b[39m\u001b[43mexplode_pie\u001b[49m()\n\u001b[1;32m     16\u001b[0m         )\n\u001b[1;32m     17\u001b[0m     )\n\u001b[1;32m     18\u001b[0m     plt\u001b[38;5;241m.\u001b[39mshow()\n",
      "\u001b[0;31mNameError\u001b[0m: name 'explode_pie' is not defined"
     ]
    }
   ],
   "source": [
    "# plt.figure(figsize=(10, 60), dpi=80)\n",
    "\n",
    "\n",
    "for k, v in enumerate(exp_cats):\n",
    "    # plt.subplot(18, 2, k + 1)\n",
    "    imp = (\n",
    "        exp.get_group(v)[\"imp_ed_formal\"]\n",
    "        .value_counts(normalize=True)\n",
    "        .plot(\n",
    "            kind=\"pie\",\n",
    "            title=\"{0} AÑOS DE EXPERIENCIA \\n IMPORTANCIA EDUCACION FORMAL\".format(v),\n",
    "            ylabel=\"\",\n",
    "            autopct=\"%1.1f%%\",\n",
    "            textprops={\"fontsize\": 12},\n",
    "            explode=explode_pie(),\n",
    "        )\n",
    "    )\n",
    "    plt.show()\n",
    "\n",
    "    # for l, m in enumerate(exp.get_group(v)[\"imp_ed_formal\"].value_counts().values):\n",
    "    #   imp.annotate(m, (m, l), va=\"center\", color=\"blue\")\n",
    "\n",
    "\n",
    "# plt.subplots_adjust(left=0.1, bottom=0.1, right=0.9, top=0.9, wspace=0.4, hspace=1)"
   ]
  },
  {
   "cell_type": "markdown",
   "id": "e426a1ff",
   "metadata": {},
   "source": [
    "### EXPERIENCIA EN TI VS LENGUAJE FAVORITO\n",
    "  - Se explora la relacion entre los años de experiencia en TI vs el lenguaje favorito."
   ]
  },
  {
   "cell_type": "code",
   "execution_count": null,
   "id": "53ab404e",
   "metadata": {},
   "outputs": [],
   "source": [
    "# plt.figure(figsize=(10, 90), dpi=80)\n",
    "\n",
    "\n",
    "for k, v in enumerate(exp_cats):\n",
    "    # plt.subplot(18, 1, k + 1)\n",
    "    leng = (\n",
    "        exp.get_group(v)[\"leng_fav\"]\n",
    "        .value_counts()\n",
    "        .plot(\n",
    "            kind=\"barh\",\n",
    "            title=\"{0} AÑOS DE EXPERIENCIA - LENGUAJE FAVORITO | {1}\".format(\n",
    "                v, exp.get_group(v)[\"leng_fav\"].shape[0]\n",
    "            ),\n",
    "        )\n",
    "    )\n",
    "\n",
    "    for l, m in enumerate(exp.get_group(v)[\"leng_fav\"].value_counts().values):\n",
    "        leng.annotate(m, (m, l), va=\"center\", color=\"blue\")\n",
    "    plt.show()\n",
    "    print(\"\\n\" * 3)\n",
    "\n",
    "\n",
    "# plt.subplots_adjust(left=0.1, bottom=0.1, right=0.9, top=0.9, wspace=0.4, hspace=0.4)"
   ]
  },
  {
   "cell_type": "markdown",
   "id": "06add71a",
   "metadata": {},
   "source": [
    "### EXPERIENCIA EN TI VS LENGUAJE MAS ODIADO\n",
    "  - Se explora la relacion entre los años de experiencia en TI vs el lenguaje mas odiado."
   ]
  },
  {
   "cell_type": "code",
   "execution_count": null,
   "id": "5757756a",
   "metadata": {},
   "outputs": [],
   "source": [
    "exp.get_group(\"35-39\")[\"leng_mas_odiado\"].value_counts()"
   ]
  },
  {
   "cell_type": "code",
   "execution_count": null,
   "id": "ff8b37c7",
   "metadata": {},
   "outputs": [],
   "source": [
    "exp.get_group(\"35-39\")[\"leng_mas_odiado\"]"
   ]
  },
  {
   "cell_type": "code",
   "execution_count": null,
   "id": "7bb44acc",
   "metadata": {},
   "outputs": [],
   "source": [
    "# plt.figure(figsize=(10, 90), dpi=80)\n",
    "\n",
    "\n",
    "for k, v in enumerate(exp_cats):\n",
    "    #   plt.subplot(18, 1, k + 1)\n",
    "    if len(exp.get_group(v)[\"leng_mas_odiado\"].value_counts()) > 0:\n",
    "        hated_lang = (\n",
    "            exp.get_group(v)[\"leng_mas_odiado\"]\n",
    "            .value_counts()\n",
    "            .plot(\n",
    "                kind=\"barh\",\n",
    "                color=\"red\",\n",
    "                title=\"{0} AÑOS DE EXPERIENCIA - LENGUAJE MAS ODIADO | {1}\".format(\n",
    "                    v, exp.get_group(v)[\"leng_mas_odiado\"].shape[0]\n",
    "                ),\n",
    "            )\n",
    "        )\n",
    "        for l, m in enumerate(\n",
    "            exp.get_group(v)[\"leng_mas_odiado\"].value_counts().values\n",
    "        ):\n",
    "            hated_lang.annotate(m, (m, l), va=\"center\", color=\"blue\")\n",
    "\n",
    "        plt.show()\n",
    "        print(\"\\n\" * 3)\n",
    "# plt.subplots_adjust(left=0.1, bottom=0.1, right=0.9, top=0.9, wspace=0.4, hspace=0.4#)"
   ]
  },
  {
   "cell_type": "markdown",
   "id": "180d5521",
   "metadata": {},
   "source": [
    "### EXPERIENCIA EN TI VS ORIGEN DEL TRABAJO\n",
    "  - Se explora la experiencia en TI vs el origen del trabajo que realiza el encuestado."
   ]
  },
  {
   "cell_type": "code",
   "execution_count": null,
   "id": "7a5dfcf2",
   "metadata": {},
   "outputs": [],
   "source": [
    "# plt.figure(figsize=(10, 90), dpi=80)\n",
    "\n",
    "\n",
    "for k, v in enumerate(exp_cats):\n",
    "    #   plt.subplot(18, 1, k + 1)\n",
    "    if len(exp.get_group(v)[\"trabajo\"].value_counts()) != 0:\n",
    "        trab_exp = (\n",
    "            exp.get_group(v)[\"trabajo\"]\n",
    "            .value_counts()\n",
    "            .plot(\n",
    "                kind=\"barh\",\n",
    "                title=\"{0} AÑOS DE EXPERIENCIA - ORIGEN DEL TRABAJO | {1}\".format(\n",
    "                    v, exp.get_group(v)[\"trabajo\"].shape[0]\n",
    "                ),\n",
    "            )\n",
    "        )\n",
    "        for l, m in enumerate(exp.get_group(v)[\"trabajo\"].value_counts().values):\n",
    "            trab_exp.annotate(m, (m, l), va=\"center\", color=\"blue\")\n",
    "\n",
    "        plt.show()\n",
    "        print(\"\\n\" * 3)\n",
    "# plt.subplots_adjust(left=0.1, bottom=0.1, right=0.9, top=0.9, wspace=0.4, hspace=0.4)"
   ]
  },
  {
   "cell_type": "markdown",
   "id": "8f72a940",
   "metadata": {},
   "source": [
    "### EXPERIENCIA EN TI VS TIPO DE TRABAJO\n",
    "  - Se explora la experiencia en TI vs el tipo de trabajo que realizan los encuestados."
   ]
  },
  {
   "cell_type": "code",
   "execution_count": null,
   "id": "6406837d-861a-4bc0-895c-c7957dd859a2",
   "metadata": {},
   "outputs": [],
   "source": [
    "tt = get_column_uniques(df, \"tipo_de_trabajo\")"
   ]
  },
  {
   "cell_type": "code",
   "execution_count": null,
   "id": "309743ae-84dd-4d18-86bb-1229cc24114b",
   "metadata": {},
   "outputs": [],
   "source": [
    "df.columns"
   ]
  },
  {
   "cell_type": "code",
   "execution_count": null,
   "id": "68460ec0-88d2-4019-a8e8-5a53a47d138f",
   "metadata": {},
   "outputs": [],
   "source": [
    "for i in tt:\n",
    "    d = df[df[\"tipo_de_trabajo\"].str.contains(i)]\n",
    "    print(\"Tipo de trabajo. -> \", i)\n",
    "    print(\"=\" * 35)\n",
    "    print(d[\"exp_en_IT\"].value_counts())\n",
    "    print(\"=\" * 29)\n",
    "    print(\"\\n\" * 3)"
   ]
  },
  {
   "cell_type": "markdown",
   "id": "65e7b808",
   "metadata": {},
   "source": [
    "### PRIMERA LINEA DE CODIGO VS OCUPACION"
   ]
  },
  {
   "cell_type": "code",
   "execution_count": null,
   "id": "162f7223-cb30-4b20-9792-09cf27a31c75",
   "metadata": {},
   "outputs": [],
   "source": [
    "df.columns"
   ]
  },
  {
   "cell_type": "code",
   "execution_count": null,
   "id": "4d6eaa5b",
   "metadata": {},
   "outputs": [],
   "source": [
    "carers = df.groupby(\"carr_especialidades\")"
   ]
  },
  {
   "cell_type": "code",
   "execution_count": null,
   "id": "95f340b9",
   "metadata": {},
   "outputs": [],
   "source": [
    "carreras = df[\"carr_especialidades\"].value_counts().keys()"
   ]
  },
  {
   "cell_type": "code",
   "execution_count": null,
   "id": "3abb8b5b-5ff9-41ea-803b-a618b2f1811a",
   "metadata": {},
   "outputs": [],
   "source": [
    "len(carreras)"
   ]
  },
  {
   "cell_type": "code",
   "execution_count": null,
   "id": "f45a9782-4380-482c-97cd-11c645a12c22",
   "metadata": {},
   "outputs": [],
   "source": [
    "# plt.figure(figsize=(10, 90), dpi=80)\n",
    "\n",
    "\n",
    "for k, v in enumerate(carreras):\n",
    "    #   plt.subplot(35, 1, k + 1)\n",
    "    a_df = carers.get_group(v)[\"1_linea_de_codigo\"].value_counts(normalize=True)\n",
    "    print(a_df)\n",
    "    print(\"\\n\" * 3)\n",
    "    a_plot = a_df.plot(title=f\"-> {v} <- \\n (Primera linea de codigo.)\", kind=\"barh\")\n",
    "\n",
    "    for l, m in enumerate(a_df.values):\n",
    "        a_plot.annotate(\"{0:.1f}\".format(m * 100), (m, l), va=\"center\", color=\"blue\")\n",
    "    plt.show()\n",
    "    print(\"\\n\" * 3)\n",
    "\n",
    "\n",
    "# plt.subplots_adjust(left=0.1, bottom=0.1, right=0.9, top=0.9, wspace=0.4, hspace=1)"
   ]
  },
  {
   "cell_type": "markdown",
   "id": "b45c62b7-d6bf-46cd-a49b-767b9366240c",
   "metadata": {},
   "source": [
    "# Genero vs. 1 linea de codigo."
   ]
  },
  {
   "cell_type": "code",
   "execution_count": null,
   "id": "51422c03-9464-4f8e-8d0f-f4baa452ec39",
   "metadata": {},
   "outputs": [],
   "source": [
    "df.columns"
   ]
  },
  {
   "cell_type": "code",
   "execution_count": null,
   "id": "cabc99bd-59c4-4fd7-8011-262decedaf3d",
   "metadata": {},
   "outputs": [],
   "source": [
    "df[\"1_linea_de_codigo\"].fillna(\"\", inplace=True)\n",
    "df[\"genero\"].fillna(\"Q\", inplace=True)"
   ]
  },
  {
   "cell_type": "code",
   "execution_count": null,
   "id": "865f45f4-131e-43d2-a120-fbf649caa226",
   "metadata": {},
   "outputs": [],
   "source": [
    "gen_linea_cod_groups = df.groupby([\"genero\", \"1_linea_de_codigo\"])"
   ]
  },
  {
   "cell_type": "code",
   "execution_count": null,
   "id": "bc5ebf49-c86f-41ff-b341-8b9303f1d6f7",
   "metadata": {},
   "outputs": [],
   "source": [
    "print(len(gen_linea_cod_groups.groups.keys()))"
   ]
  },
  {
   "cell_type": "code",
   "execution_count": null,
   "id": "818caa61-d48c-432d-9351-5b5bcd5784f3",
   "metadata": {},
   "outputs": [],
   "source": [
    "for i in gen_linea_cod_groups.groups.keys():\n",
    "    g = gen_linea_cod_groups.get_group(i)\n",
    "    print(\"Primera linea de codigo vs experiencia en IT. ------------> \", i)\n",
    "    print(g[\"exp_en_IT\"].value_counts(normalize=True))\n",
    "    print(\"\\n\" * 3)"
   ]
  },
  {
   "cell_type": "code",
   "execution_count": null,
   "id": "61f17f09-634c-47dc-a2ad-5bafc98e9dfc",
   "metadata": {},
   "outputs": [],
   "source": []
  }
 ],
 "metadata": {
  "kernelspec": {
   "display_name": "Python 3 (ipykernel)",
   "language": "python",
   "name": "python3"
  },
  "language_info": {
   "codemirror_mode": {
    "name": "ipython",
    "version": 3
   },
   "file_extension": ".py",
   "mimetype": "text/x-python",
   "name": "python",
   "nbconvert_exporter": "python",
   "pygments_lexer": "ipython3",
   "version": "3.8.10"
  }
 },
 "nbformat": 4,
 "nbformat_minor": 5
}
