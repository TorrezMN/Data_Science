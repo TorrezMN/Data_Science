{
 "cells": [
  {
   "cell_type": "code",
   "execution_count": 1,
   "id": "c6fdbdfd-496f-4131-8d24-bf465e4385a8",
   "metadata": {},
   "outputs": [],
   "source": [
    "# Importing Libs\n",
    "import pandas as pd\n",
    "import seaborn as sns\n",
    "import matplotlib.pyplot as plt\n",
    "from collections import Counter\n",
    "# My Tools\n",
    "%matplotlib inline"
   ]
  },
  {
   "cell_type": "code",
   "execution_count": 2,
   "id": "419d5cde-105f-45b6-9c90-d2278cdf2b07",
   "metadata": {},
   "outputs": [],
   "source": [
    "# Reseting figure size params.\n",
    "plt.rcParams['figure.figsize'] = [12, 7]"
   ]
  },
  {
   "cell_type": "code",
   "execution_count": 3,
   "id": "2b067714-66f6-4433-b4f0-da906daf0781",
   "metadata": {},
   "outputs": [],
   "source": [
    "# Setting seaborn as default plotting lib.\n",
    "sns.set()"
   ]
  },
  {
   "cell_type": "code",
   "execution_count": 4,
   "id": "175faa3e-a138-4286-a670-41393d2242c2",
   "metadata": {},
   "outputs": [],
   "source": [
    "# Reading data.\n",
    "df = pd.read_csv('encuesta_baches.csv')"
   ]
  },
  {
   "cell_type": "markdown",
   "id": "f356a509-4acb-4c92-a470-7b0abffbb674",
   "metadata": {},
   "source": [
    "## Showing df."
   ]
  },
  {
   "cell_type": "code",
   "execution_count": 5,
   "id": "7699dd9d-39b5-47ae-99fa-5309b9a7f84f",
   "metadata": {},
   "outputs": [
    {
     "data": {
      "text/html": [
       "<div>\n",
       "<style scoped>\n",
       "    .dataframe tbody tr th:only-of-type {\n",
       "        vertical-align: middle;\n",
       "    }\n",
       "\n",
       "    .dataframe tbody tr th {\n",
       "        vertical-align: top;\n",
       "    }\n",
       "\n",
       "    .dataframe thead th {\n",
       "        text-align: right;\n",
       "    }\n",
       "</style>\n",
       "<table border=\"1\" class=\"dataframe\">\n",
       "  <thead>\n",
       "    <tr style=\"text-align: right;\">\n",
       "      <th></th>\n",
       "      <th>Marca temporal</th>\n",
       "      <th>Lugar de residencia.</th>\n",
       "      <th>Si selecciono PARAGUAY como lugar de residencia. Puede indicar el departamento en el que vive actualmente.</th>\n",
       "      <th>Como calificaría el estado de las calles en su lugar de residencia.</th>\n",
       "      <th>Considera que exista un problema de baches en su lugar de residencia.</th>\n",
       "      <th>Puede hacer una estimación de la cantidad de baches en su lugar de residencia.</th>\n",
       "      <th>Tipo de camino en su lugar de residencia.</th>\n",
       "      <th>Cuanto tiempo cree que demora la reparación de baches en su lugar de residencia.</th>\n",
       "      <th>Conoce algún método para denunciar la existencia de baches en su lugar de residencia.</th>\n",
       "      <th>Puede acceder a información sobre los baches de su lugar de residencia. (Denuncias, ubicación y tareas de reparación de baches.)</th>\n",
       "      <th>Usted sufrió accidentes a causa de baches en su lugar de residencia.</th>\n",
       "      <th>Si tiene vehículo. Cuan frecuentemente debe hacer mantenimiento a causa del estado de las calles o baches de su lugar de residencia.</th>\n",
       "      <th>Denunciaría la existencia de baches en su lugar de residencia.</th>\n",
       "      <th>Cree que seria util conocer la ubicación y otros datos de los baches en su lugar de residencia.</th>\n",
       "      <th>Si considera que su lugar de residencia tiene un problema de baches. Como califica la repuesta gubernamental al problema.</th>\n",
       "      <th>Puede estimar la regularidad con la que se reparan las calles en su lugar de residencia actual.</th>\n",
       "    </tr>\n",
       "  </thead>\n",
       "  <tbody>\n",
       "    <tr>\n",
       "      <th>0</th>\n",
       "      <td>29/10/2022 21:02:13</td>\n",
       "      <td>Venezuela</td>\n",
       "      <td>NaN</td>\n",
       "      <td>Malo</td>\n",
       "      <td>SI</td>\n",
       "      <td>MUCHOS</td>\n",
       "      <td>ASFALTO</td>\n",
       "      <td>MUCHO</td>\n",
       "      <td>NO</td>\n",
       "      <td>NO</td>\n",
       "      <td>SI</td>\n",
       "      <td>REGULARMENTE</td>\n",
       "      <td>SI</td>\n",
       "      <td>SI</td>\n",
       "      <td>LAMENTABLE</td>\n",
       "      <td>NUNCA</td>\n",
       "    </tr>\n",
       "    <tr>\n",
       "      <th>1</th>\n",
       "      <td>30/10/2022 9:28:12</td>\n",
       "      <td>Argentina</td>\n",
       "      <td>NaN</td>\n",
       "      <td>Bueno</td>\n",
       "      <td>SI</td>\n",
       "      <td>POCOS</td>\n",
       "      <td>ASFALTO</td>\n",
       "      <td>MUCHO</td>\n",
       "      <td>SI</td>\n",
       "      <td>NO</td>\n",
       "      <td>NO</td>\n",
       "      <td>FRECUENTEMENTE</td>\n",
       "      <td>SI</td>\n",
       "      <td>SI</td>\n",
       "      <td>LAMENTABLE</td>\n",
       "      <td>REGULARMENTE</td>\n",
       "    </tr>\n",
       "    <tr>\n",
       "      <th>2</th>\n",
       "      <td>30/10/2022 10:05:24</td>\n",
       "      <td>Mexico</td>\n",
       "      <td>NaN</td>\n",
       "      <td>Lamentable</td>\n",
       "      <td>SI</td>\n",
       "      <td>MUCHOS</td>\n",
       "      <td>ASFALTO</td>\n",
       "      <td>MUCHO</td>\n",
       "      <td>SI</td>\n",
       "      <td>SI</td>\n",
       "      <td>SI</td>\n",
       "      <td>REGULARMENTE</td>\n",
       "      <td>SI NO ME LLEVA MUCHO TIEMPO.</td>\n",
       "      <td>SI</td>\n",
       "      <td>LAMENTABLE</td>\n",
       "      <td>REGULARMENTE</td>\n",
       "    </tr>\n",
       "    <tr>\n",
       "      <th>3</th>\n",
       "      <td>30/10/2022 10:12:40</td>\n",
       "      <td>Spain</td>\n",
       "      <td>NaN</td>\n",
       "      <td>Bueno</td>\n",
       "      <td>SI</td>\n",
       "      <td>POCOS</td>\n",
       "      <td>ASFALTO</td>\n",
       "      <td>MUCHO</td>\n",
       "      <td>SI</td>\n",
       "      <td>NO</td>\n",
       "      <td>NO</td>\n",
       "      <td>REGULARMENTE</td>\n",
       "      <td>SI</td>\n",
       "      <td>SI</td>\n",
       "      <td>BUENA</td>\n",
       "      <td>REGULARMENTE</td>\n",
       "    </tr>\n",
       "    <tr>\n",
       "      <th>4</th>\n",
       "      <td>30/10/2022 10:21:56</td>\n",
       "      <td>Singapore</td>\n",
       "      <td>Central</td>\n",
       "      <td>Exelente</td>\n",
       "      <td>NO</td>\n",
       "      <td>NaN</td>\n",
       "      <td>ASFALTO</td>\n",
       "      <td>POCO</td>\n",
       "      <td>SI</td>\n",
       "      <td>SI</td>\n",
       "      <td>NO NUNCA</td>\n",
       "      <td>FRECUENTEMENTE</td>\n",
       "      <td>SI</td>\n",
       "      <td>NO</td>\n",
       "      <td>EXELENTE</td>\n",
       "      <td>REGULARMENTE</td>\n",
       "    </tr>\n",
       "  </tbody>\n",
       "</table>\n",
       "</div>"
      ],
      "text/plain": [
       "        Marca temporal Lugar de residencia.  \\\n",
       "0  29/10/2022 21:02:13            Venezuela   \n",
       "1   30/10/2022 9:28:12            Argentina   \n",
       "2  30/10/2022 10:05:24               Mexico   \n",
       "3  30/10/2022 10:12:40                Spain   \n",
       "4  30/10/2022 10:21:56            Singapore   \n",
       "\n",
       "  Si selecciono PARAGUAY como lugar de residencia. Puede indicar el departamento en el que vive actualmente.  \\\n",
       "0                                                NaN                                                           \n",
       "1                                                NaN                                                           \n",
       "2                                                NaN                                                           \n",
       "3                                                NaN                                                           \n",
       "4                                            Central                                                           \n",
       "\n",
       "  Como calificaría el estado de las calles en su lugar de residencia.  \\\n",
       "0                                               Malo                    \n",
       "1                                              Bueno                    \n",
       "2                                         Lamentable                    \n",
       "3                                              Bueno                    \n",
       "4                                           Exelente                    \n",
       "\n",
       "  Considera que exista un problema de baches en su lugar de residencia.  \\\n",
       "0                                                 SI                      \n",
       "1                                                 SI                      \n",
       "2                                                 SI                      \n",
       "3                                                 SI                      \n",
       "4                                                 NO                      \n",
       "\n",
       "  Puede hacer una estimación de la cantidad de baches en su lugar de residencia.  \\\n",
       "0                                             MUCHOS                               \n",
       "1                                              POCOS                               \n",
       "2                                             MUCHOS                               \n",
       "3                                              POCOS                               \n",
       "4                                                NaN                               \n",
       "\n",
       "  Tipo de camino en su lugar de residencia.  \\\n",
       "0                                   ASFALTO   \n",
       "1                                   ASFALTO   \n",
       "2                                   ASFALTO   \n",
       "3                                   ASFALTO   \n",
       "4                                   ASFALTO   \n",
       "\n",
       "  Cuanto tiempo cree que demora la reparación de baches en su lugar de residencia.  \\\n",
       "0                                              MUCHO                                 \n",
       "1                                              MUCHO                                 \n",
       "2                                              MUCHO                                 \n",
       "3                                              MUCHO                                 \n",
       "4                                               POCO                                 \n",
       "\n",
       "  Conoce algún método para denunciar la existencia de baches en su lugar de residencia.  \\\n",
       "0                                                 NO                                      \n",
       "1                                                 SI                                      \n",
       "2                                                 SI                                      \n",
       "3                                                 SI                                      \n",
       "4                                                 SI                                      \n",
       "\n",
       "  Puede acceder a información sobre los baches de su lugar de residencia. (Denuncias, ubicación y tareas de reparación de baches.)  \\\n",
       "0                                                 NO                                                                                 \n",
       "1                                                 NO                                                                                 \n",
       "2                                                 SI                                                                                 \n",
       "3                                                 NO                                                                                 \n",
       "4                                                 SI                                                                                 \n",
       "\n",
       "  Usted sufrió accidentes a causa de baches en su lugar de residencia.  \\\n",
       "0                                                 SI                     \n",
       "1                                                 NO                     \n",
       "2                                                 SI                     \n",
       "3                                                 NO                     \n",
       "4                                           NO NUNCA                     \n",
       "\n",
       "  Si tiene vehículo. Cuan frecuentemente debe hacer mantenimiento a causa del estado de las calles o baches de su lugar de residencia.  \\\n",
       "0                                       REGULARMENTE                                                                                     \n",
       "1                                     FRECUENTEMENTE                                                                                     \n",
       "2                                       REGULARMENTE                                                                                     \n",
       "3                                       REGULARMENTE                                                                                     \n",
       "4                                     FRECUENTEMENTE                                                                                     \n",
       "\n",
       "  Denunciaría la existencia de baches en su lugar de residencia.  \\\n",
       "0                                                 SI               \n",
       "1                                                 SI               \n",
       "2                       SI NO ME LLEVA MUCHO TIEMPO.               \n",
       "3                                                 SI               \n",
       "4                                                 SI               \n",
       "\n",
       "  Cree que seria util conocer la ubicación y otros datos de los baches en su lugar de residencia.  \\\n",
       "0                                                 SI                                                \n",
       "1                                                 SI                                                \n",
       "2                                                 SI                                                \n",
       "3                                                 SI                                                \n",
       "4                                                 NO                                                \n",
       "\n",
       "  Si considera que su lugar de residencia tiene un problema de baches. Como califica la repuesta gubernamental al problema.  \\\n",
       "0                                         LAMENTABLE                                                                          \n",
       "1                                         LAMENTABLE                                                                          \n",
       "2                                         LAMENTABLE                                                                          \n",
       "3                                              BUENA                                                                          \n",
       "4                                           EXELENTE                                                                          \n",
       "\n",
       "  Puede estimar la regularidad con la que se reparan las calles en su lugar de residencia actual.  \n",
       "0                                              NUNCA                                               \n",
       "1                                       REGULARMENTE                                               \n",
       "2                                       REGULARMENTE                                               \n",
       "3                                       REGULARMENTE                                               \n",
       "4                                       REGULARMENTE                                               "
      ]
     },
     "execution_count": 5,
     "metadata": {},
     "output_type": "execute_result"
    }
   ],
   "source": [
    "df.head()"
   ]
  },
  {
   "cell_type": "code",
   "execution_count": 6,
   "id": "d90ee802-5938-4a49-bed7-ac923f2e83f4",
   "metadata": {},
   "outputs": [
    {
     "name": "stdout",
     "output_type": "stream",
     "text": [
      "Marca temporal\n",
      "Lugar de residencia.\n",
      "Si selecciono PARAGUAY como lugar de residencia. Puede indicar el departamento en el que vive actualmente.\n",
      "Como calificaría el estado de las calles en su lugar de residencia.\n",
      "Considera que exista un problema de baches en su lugar de residencia.\n",
      "Puede hacer una estimación de la cantidad de baches en su lugar de residencia.\n",
      "Tipo de camino en su lugar de residencia.\n",
      "Cuanto tiempo cree que demora la reparación de baches en su lugar de residencia.\n",
      "Conoce algún método para denunciar la existencia de baches en su lugar de residencia.\n",
      "Puede acceder a información sobre los baches de su lugar de residencia. (Denuncias, ubicación y tareas de reparación de baches.)\n",
      "Usted sufrió accidentes a causa de baches en su lugar de residencia.\n",
      "Si tiene vehículo. Cuan frecuentemente debe hacer mantenimiento a causa del estado de las calles o baches de su lugar de residencia.\n",
      "Denunciaría la existencia de baches en su lugar de residencia.\n",
      "Cree que seria util conocer la ubicación y otros datos de los baches en su lugar de residencia.\n",
      "Si considera que su lugar de residencia tiene un problema de baches. Como califica la repuesta gubernamental al problema.\n",
      "Puede estimar la regularidad con la que se reparan las calles en su lugar de residencia actual.\n"
     ]
    }
   ],
   "source": [
    "# Showing columns.\n",
    "for i in df.columns: print(i)"
   ]
  },
  {
   "cell_type": "markdown",
   "id": "bd679de1-b8a0-42fc-963c-e6543925479e",
   "metadata": {},
   "source": [
    "## Saving questions to a new file."
   ]
  },
  {
   "cell_type": "code",
   "execution_count": 7,
   "id": "008bc37e-08e5-4c20-87bb-44c8e5298070",
   "metadata": {},
   "outputs": [],
   "source": [
    "with open(\"preguntas.txt\", \"a\") as file:\n",
    "    for k,v in enumerate(df.columns): \n",
    "        file.write(f\"{k}) {v} \\n \\n \\n\")\n",
    "    file.close()\n",
    "    "
   ]
  },
  {
   "cell_type": "markdown",
   "id": "19150c47-7e45-43df-b67f-4eed3b4528dc",
   "metadata": {},
   "source": [
    "## Renaming columns"
   ]
  },
  {
   "cell_type": "code",
   "execution_count": 8,
   "id": "fc61cea4-0a50-46bf-a435-d4d01d9a3b58",
   "metadata": {},
   "outputs": [],
   "source": [
    "new_names = {\n",
    "'Marca temporal':'marca_temporal',\n",
    "'Lugar de residencia.':'lugar_residencia',\n",
    "'Si selecciono PARAGUAY como lugar de residencia. Puede indicar el departamento en el que vive actualmente.':'lugar_residencia_py',\n",
    "'Como calificaría el estado de las calles en su lugar de residencia.':'estado_calles',\n",
    "'Considera que exista un problema de baches en su lugar de residencia.':'problema_baches',\n",
    "'Puede hacer una estimación de la cantidad de baches en su lugar de residencia.':'estimacion_cantidad',\n",
    "'Tipo de camino en su lugar de residencia.':'tipo_camino',\n",
    "'Cuanto tiempo cree que demora la reparación de baches en su lugar de residencia.':'tiempo_reparaciones',\n",
    "'Conoce algún método para denunciar la existencia de baches en su lugar de residencia.':'como_denunciar',\n",
    "'Puede acceder a información sobre los baches de su lugar de residencia. (Denuncias, ubicación y tareas de reparación de baches.)':'acceso_informacion',\n",
    "'Usted sufrió accidentes a causa de baches en su lugar de residencia.':'sufrio_accidentes',\n",
    "'Si tiene vehículo. Cuan frecuentemente debe hacer mantenimiento a causa del estado de las calles o baches de su lugar de residencia.':'frecuencia_mantenimiento',\n",
    "'Denunciaría la existencia de baches en su lugar de residencia.':'denunciaria_baches',\n",
    "'Cree que seria util conocer la ubicación y otros datos de los baches en su lugar de residencia.':'util_conocer',\n",
    "'Si considera que su lugar de residencia tiene un problema de baches. Como califica la repuesta gubernamental al problema.':'respuesta_gubernamental',\n",
    "'Puede estimar la regularidad con la que se reparan las calles en su lugar de residencia actual.':'regularidad_reparaciones',\n",
    "}"
   ]
  },
  {
   "cell_type": "code",
   "execution_count": 9,
   "id": "e5812d67-ba71-4f3e-b9bf-0579ddb41a75",
   "metadata": {},
   "outputs": [],
   "source": [
    "df.rename(columns=new_names, inplace=True)"
   ]
  },
  {
   "cell_type": "code",
   "execution_count": 12,
   "id": "7522544b-d27a-4855-9264-740166b634c5",
   "metadata": {},
   "outputs": [
    {
     "name": "stdout",
     "output_type": "stream",
     "text": [
      "marca_temporal\n",
      "=============\n",
      "lugar_residencia\n",
      "=============\n",
      "lugar_residencia_py\n",
      "=============\n",
      "estado_calles\n",
      "=============\n",
      "problema_baches\n",
      "=============\n",
      "estimacion_cantidad\n",
      "=============\n",
      "tipo_camino\n",
      "=============\n",
      "tiempo_reparaciones\n",
      "=============\n",
      "como_denunciar\n",
      "=============\n",
      "acceso_informacion\n",
      "=============\n",
      "sufrio_accidentes\n",
      "=============\n",
      "frecuencia_mantenimiento\n",
      "=============\n",
      "denunciaria_baches\n",
      "=============\n",
      "util_conocer\n",
      "=============\n",
      "respuesta_gubernamental\n",
      "=============\n",
      "regularidad_reparaciones\n",
      "=============\n"
     ]
    }
   ],
   "source": [
    "for i in df.columns: \n",
    "    print(i)\n",
    "    print('=============')"
   ]
  },
  {
   "cell_type": "markdown",
   "id": "994fca81-e020-47d9-89e4-5b594b1cc436",
   "metadata": {},
   "source": [
    "# General Inspection"
   ]
  },
  {
   "cell_type": "code",
   "execution_count": 21,
   "id": "69126c93-53b6-424e-957d-e56f30c2a8ae",
   "metadata": {},
   "outputs": [
    {
     "data": {
      "text/plain": [
       "(439, 16)"
      ]
     },
     "execution_count": 21,
     "metadata": {},
     "output_type": "execute_result"
    }
   ],
   "source": [
    "df.shape"
   ]
  },
  {
   "cell_type": "code",
   "execution_count": 22,
   "id": "68a0d785-bb73-4d52-bcd6-5f6cc6f95e9e",
   "metadata": {},
   "outputs": [
    {
     "name": "stdout",
     "output_type": "stream",
     "text": [
      "<class 'pandas.core.frame.DataFrame'>\n",
      "RangeIndex: 439 entries, 0 to 438\n",
      "Data columns (total 16 columns):\n",
      " #   Column                    Non-Null Count  Dtype \n",
      "---  ------                    --------------  ----- \n",
      " 0   marca_temporal            439 non-null    object\n",
      " 1   lugar_residencia          439 non-null    object\n",
      " 2   lugar_residencia_py       247 non-null    object\n",
      " 3   estado_calles             436 non-null    object\n",
      " 4   problema_baches           437 non-null    object\n",
      " 5   estimacion_cantidad       435 non-null    object\n",
      " 6   tipo_camino               438 non-null    object\n",
      " 7   tiempo_reparaciones       437 non-null    object\n",
      " 8   como_denunciar            436 non-null    object\n",
      " 9   acceso_informacion        438 non-null    object\n",
      " 10  sufrio_accidentes         438 non-null    object\n",
      " 11  frecuencia_mantenimiento  386 non-null    object\n",
      " 12  denunciaria_baches        435 non-null    object\n",
      " 13  util_conocer              436 non-null    object\n",
      " 14  respuesta_gubernamental   429 non-null    object\n",
      " 15  regularidad_reparaciones  434 non-null    object\n",
      "dtypes: object(16)\n",
      "memory usage: 55.0+ KB\n"
     ]
    }
   ],
   "source": [
    "df.info()"
   ]
  },
  {
   "cell_type": "markdown",
   "id": "efb1a39c-1c81-49ec-8de3-7d8a01445f7f",
   "metadata": {},
   "source": [
    " - Tenemos 439 respuestas a la encuesta."
   ]
  },
  {
   "cell_type": "markdown",
   "id": "5c349f89-1483-48c1-a934-7a9d479ea9c1",
   "metadata": {},
   "source": [
    "## Contamos valores null por columna."
   ]
  },
  {
   "cell_type": "code",
   "execution_count": 23,
   "id": "0ddc6044-2d4f-468d-8f29-430290df7ffe",
   "metadata": {},
   "outputs": [
    {
     "name": "stdout",
     "output_type": "stream",
     "text": [
      "Columna: marca_temporal -> 0\n",
      "Columna: lugar_residencia -> 0\n",
      "Columna: lugar_residencia_py -> 192\n",
      "Columna: estado_calles -> 3\n",
      "Columna: problema_baches -> 2\n",
      "Columna: estimacion_cantidad -> 4\n",
      "Columna: tipo_camino -> 1\n",
      "Columna: tiempo_reparaciones -> 2\n",
      "Columna: como_denunciar -> 3\n",
      "Columna: acceso_informacion -> 1\n",
      "Columna: sufrio_accidentes -> 1\n",
      "Columna: frecuencia_mantenimiento -> 53\n",
      "Columna: denunciaria_baches -> 4\n",
      "Columna: util_conocer -> 3\n",
      "Columna: respuesta_gubernamental -> 10\n",
      "Columna: regularidad_reparaciones -> 5\n"
     ]
    }
   ],
   "source": [
    "for i in df.columns:\n",
    "    print(f'Columna: {i} -> {df[i].isna().sum()}')\n",
    "    "
   ]
  },
  {
   "cell_type": "markdown",
   "id": "2a426dd5-1eb6-4bc0-b5b5-e9a2a7ee603b",
   "metadata": {},
   "source": [
    "        En el lugar de residencia en paraguay se presenta la mayor cantidad de valores \"null\" esto se debe a que la encuesta la respondieron personas de todas partes del mundo."
   ]
  },
  {
   "cell_type": "markdown",
   "id": "d07f74aa-2fd6-4c9b-a3df-20bcbd0eb157",
   "metadata": {},
   "source": [
    "# Lugar de Residencia "
   ]
  },
  {
   "cell_type": "code",
   "execution_count": 24,
   "id": "e79ba9d3-5fd4-4fbd-a04b-f8641b252ac4",
   "metadata": {},
   "outputs": [
    {
     "data": {
      "text/plain": [
       "Paraguay                       236\n",
       "Mexico                          47\n",
       "Argentina                       34\n",
       "Spain                           21\n",
       "Dominican Republic              19\n",
       "Peru                            15\n",
       "Venezuela                       13\n",
       "Colombia                        12\n",
       "Bolivia                         12\n",
       "Chile                            5\n",
       "Panama                           2\n",
       "Honduras                         2\n",
       "Uruguay                          2\n",
       "Anguilla                         2\n",
       "Guatemala                        2\n",
       "Italy                            1\n",
       "Cuba                             1\n",
       "Papua New Guinea                 1\n",
       "United States                    1\n",
       "Philippines                      1\n",
       "Andorra                          1\n",
       "El Salvador                      1\n",
       "Antarctica                       1\n",
       "Singapore                        1\n",
       "France                           1\n",
       "Brazil                           1\n",
       "Puerto Rico                      1\n",
       "Ecuador                          1\n",
       "Ashmore and Cartier Islands      1\n",
       "Tajikistan                       1\n",
       "Name: lugar_residencia, dtype: int64"
      ]
     },
     "execution_count": 24,
     "metadata": {},
     "output_type": "execute_result"
    }
   ],
   "source": [
    "df['lugar_residencia'].value_counts()"
   ]
  },
  {
   "cell_type": "code",
   "execution_count": 29,
   "id": "db5e89a4-b2d9-4bf9-9348-849291245efc",
   "metadata": {},
   "outputs": [
    {
     "data": {
      "text/plain": [
       "<AxesSubplot:title={'center':'Conteo general por lugar de residencia.\\n Total Respuestas : 439'}>"
      ]
     },
     "execution_count": 29,
     "metadata": {},
     "output_type": "execute_result"
    },
    {
     "data": {
      "image/png": "[encoded data removed]",
      "text/plain": [
       "<Figure size 864x504 with 1 Axes>"
      ]
     },
     "metadata": {},
     "output_type": "display_data"
    }
   ],
   "source": [
    "df['lugar_residencia'].value_counts().plot(\n",
    "    kind ='barh',\n",
    "    title=f\"Conteo general por lugar de residencia.\\n Total Respuestas : {df['lugar_residencia'].size}\",\n",
    ")"
   ]
  },
  {
   "cell_type": "code",
   "execution_count": 31,
   "id": "c01480db-f4b9-47fb-a48b-37ee3f809116",
   "metadata": {},
   "outputs": [],
   "source": [
    "lr = df['lugar_residencia'].value_counts()"
   ]
  },
  {
   "cell_type": "markdown",
   "id": "684d9a7e-b8f2-4083-9754-6214c5ff3028",
   "metadata": {},
   "source": [
    "## Trabajamos con los paises que tienen mas de 2 respuestas."
   ]
  },
  {
   "cell_type": "code",
   "execution_count": 36,
   "id": "ec0d7218-30ab-4032-bdc0-c51da966e725",
   "metadata": {},
   "outputs": [],
   "source": [
    "paises = lr[lr > 1]"
   ]
  },
  {
   "cell_type": "code",
   "execution_count": 38,
   "id": "085c7e98-ede0-44dd-879f-1f4fd111c192",
   "metadata": {},
   "outputs": [
    {
     "data": {
      "text/plain": [
       "<AxesSubplot:title={'center':'Paises con mas de 2 respuestas.'}>"
      ]
     },
     "execution_count": 38,
     "metadata": {},
     "output_type": "execute_result"
    },
    {
     "data": {
      "image/png": "[encoded data removed]",
      "text/plain": [
       "<Figure size 864x504 with 1 Axes>"
      ]
     },
     "metadata": {},
     "output_type": "display_data"
    }
   ],
   "source": [
    "paises.plot(\n",
    "    kind='barh',\n",
    "    title='Paises con mas de 2 respuestas.')"
   ]
  },
  {
   "cell_type": "markdown",
   "id": "926b0b28-e654-4304-9163-2d176f977357",
   "metadata": {},
   "source": [
    "Puede verse que Argentina, Mexico y Paraguay son los paises donde mas se contesto la encuesta."
   ]
  },
  {
   "cell_type": "code",
   "execution_count": null,
   "id": "9dedc66c-a74e-41f8-afa4-52156a0ef655",
   "metadata": {},
   "outputs": [],
   "source": []
  }
 ],
 "metadata": {
  "kernelspec": {
   "display_name": "Python 3 (ipykernel)",
   "language": "python",
   "name": "python3"
  },
  "language_info": {
   "codemirror_mode": {
    "name": "ipython",
    "version": 3
   },
   "file_extension": ".py",
   "mimetype": "text/x-python",
   "name": "python",
   "nbconvert_exporter": "python",
   "pygments_lexer": "ipython3",
   "version": "3.8.10"
  }
 },
 "nbformat": 4,
 "nbformat_minor": 5
}
