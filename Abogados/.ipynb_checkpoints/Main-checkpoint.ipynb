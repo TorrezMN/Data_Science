{
 "cells": [
  {
   "cell_type": "code",
   "execution_count": 1,
   "id": "637980de",
   "metadata": {},
   "outputs": [],
   "source": [
    "import pandas as pd"
   ]
  },
  {
   "cell_type": "code",
   "execution_count": 2,
   "id": "e1eed080",
   "metadata": {},
   "outputs": [],
   "source": [
    "df = pd.read_json('abogados.json')"
   ]
  },
  {
   "cell_type": "code",
   "execution_count": 3,
   "id": "71de1eb9",
   "metadata": {},
   "outputs": [
    {
     "data": {
      "text/html": [
       "<div>\n",
       "<style scoped>\n",
       "    .dataframe tbody tr th:only-of-type {\n",
       "        vertical-align: middle;\n",
       "    }\n",
       "\n",
       "    .dataframe tbody tr th {\n",
       "        vertical-align: top;\n",
       "    }\n",
       "\n",
       "    .dataframe thead th {\n",
       "        text-align: right;\n",
       "    }\n",
       "</style>\n",
       "<table border=\"1\" class=\"dataframe\">\n",
       "  <thead>\n",
       "    <tr style=\"text-align: right;\">\n",
       "      <th></th>\n",
       "      <th>fechaNacimiento</th>\n",
       "      <th>estaHabilitado</th>\n",
       "      <th>fechaJuramento</th>\n",
       "      <th>nroActaJuramento</th>\n",
       "      <th>fechaMatricula</th>\n",
       "      <th>cedula</th>\n",
       "      <th>nombre</th>\n",
       "      <th>apellido</th>\n",
       "      <th>matricula</th>\n",
       "      <th>sexo</th>\n",
       "      <th>universidad</th>\n",
       "      <th>egreso</th>\n",
       "    </tr>\n",
       "  </thead>\n",
       "  <tbody>\n",
       "    <tr>\n",
       "      <th>0</th>\n",
       "      <td>1973-06-01</td>\n",
       "      <td>Si</td>\n",
       "      <td>2002-11-06</td>\n",
       "      <td>1161</td>\n",
       "      <td>2002-11-06</td>\n",
       "      <td>931761</td>\n",
       "      <td>ZUSAN KARIN</td>\n",
       "      <td>DOMENECH BAEZ</td>\n",
       "      <td>9232</td>\n",
       "      <td>Femenino</td>\n",
       "      <td>None</td>\n",
       "      <td>NaN</td>\n",
       "    </tr>\n",
       "    <tr>\n",
       "      <th>1</th>\n",
       "      <td>1981-07-21</td>\n",
       "      <td>Si</td>\n",
       "      <td>2010-11-10</td>\n",
       "      <td>1976</td>\n",
       "      <td>2010-11-10</td>\n",
       "      <td>2997589</td>\n",
       "      <td>ZURY ANALIZ</td>\n",
       "      <td>VELAZCO VELAZCO</td>\n",
       "      <td>24586</td>\n",
       "      <td>Femenino</td>\n",
       "      <td>Universidad Nacional de Pilar</td>\n",
       "      <td>2009.0</td>\n",
       "    </tr>\n",
       "    <tr>\n",
       "      <th>2</th>\n",
       "      <td>1992-04-01</td>\n",
       "      <td>Si</td>\n",
       "      <td>2020-12-23</td>\n",
       "      <td>4603</td>\n",
       "      <td>2020-12-23</td>\n",
       "      <td>5671015</td>\n",
       "      <td>ZUNY MARLENE</td>\n",
       "      <td>MATTO SOSA</td>\n",
       "      <td>57916</td>\n",
       "      <td>None</td>\n",
       "      <td>None</td>\n",
       "      <td>NaN</td>\n",
       "    </tr>\n",
       "    <tr>\n",
       "      <th>3</th>\n",
       "      <td>1972-06-28</td>\n",
       "      <td>Si</td>\n",
       "      <td>2017-04-10</td>\n",
       "      <td>3727</td>\n",
       "      <td>2017-04-10</td>\n",
       "      <td>1712692</td>\n",
       "      <td>ZUNY GRICELDA</td>\n",
       "      <td>CRISTALDO ORUE</td>\n",
       "      <td>46752</td>\n",
       "      <td>Femenino</td>\n",
       "      <td>None</td>\n",
       "      <td>NaN</td>\n",
       "    </tr>\n",
       "    <tr>\n",
       "      <th>4</th>\n",
       "      <td>1961-01-10</td>\n",
       "      <td>Si</td>\n",
       "      <td>2010-11-04</td>\n",
       "      <td>1973</td>\n",
       "      <td>2010-11-04</td>\n",
       "      <td>806752</td>\n",
       "      <td>ZUNY ELIZABETH</td>\n",
       "      <td>AGUIAR VELAZQUEZ</td>\n",
       "      <td>24497</td>\n",
       "      <td>Femenino</td>\n",
       "      <td>Universidad Nacional de Pilar</td>\n",
       "      <td>2009.0</td>\n",
       "    </tr>\n",
       "  </tbody>\n",
       "</table>\n",
       "</div>"
      ],
      "text/plain": [
       "  fechaNacimiento estaHabilitado fechaJuramento  nroActaJuramento  \\\n",
       "0      1973-06-01             Si     2002-11-06              1161   \n",
       "1      1981-07-21             Si     2010-11-10              1976   \n",
       "2      1992-04-01             Si     2020-12-23              4603   \n",
       "3      1972-06-28             Si     2017-04-10              3727   \n",
       "4      1961-01-10             Si     2010-11-04              1973   \n",
       "\n",
       "  fechaMatricula   cedula          nombre          apellido  matricula  \\\n",
       "0     2002-11-06   931761     ZUSAN KARIN     DOMENECH BAEZ       9232   \n",
       "1     2010-11-10  2997589     ZURY ANALIZ   VELAZCO VELAZCO      24586   \n",
       "2     2020-12-23  5671015    ZUNY MARLENE        MATTO SOSA      57916   \n",
       "3     2017-04-10  1712692   ZUNY GRICELDA    CRISTALDO ORUE      46752   \n",
       "4     2010-11-04   806752  ZUNY ELIZABETH  AGUIAR VELAZQUEZ      24497   \n",
       "\n",
       "       sexo                    universidad  egreso  \n",
       "0  Femenino                           None     NaN  \n",
       "1  Femenino  Universidad Nacional de Pilar  2009.0  \n",
       "2      None                           None     NaN  \n",
       "3  Femenino                           None     NaN  \n",
       "4  Femenino  Universidad Nacional de Pilar  2009.0  "
      ]
     },
     "execution_count": 3,
     "metadata": {},
     "output_type": "execute_result"
    }
   ],
   "source": [
    "df.head()"
   ]
  },
  {
   "cell_type": "code",
   "execution_count": 5,
   "id": "b6e90463",
   "metadata": {},
   "outputs": [
    {
     "data": {
      "text/plain": [
       "Index(['fechaNacimiento', 'estaHabilitado', 'fechaJuramento',\n",
       "       'nroActaJuramento', 'fechaMatricula', 'cedula', 'nombre', 'apellido',\n",
       "       'matricula', 'sexo', 'universidad', 'egreso'],\n",
       "      dtype='object')"
      ]
     },
     "execution_count": 5,
     "metadata": {},
     "output_type": "execute_result"
    }
   ],
   "source": [
    "df.columns"
   ]
  },
  {
   "cell_type": "code",
   "execution_count": null,
   "id": "39389c3a",
   "metadata": {},
   "outputs": [],
   "source": []
  }
 ],
 "metadata": {
  "kernelspec": {
   "display_name": "Python 3",
   "language": "python",
   "name": "python3"
  },
  "language_info": {
   "codemirror_mode": {
    "name": "ipython",
    "version": 3
   },
   "file_extension": ".py",
   "mimetype": "text/x-python",
   "name": "python",
   "nbconvert_exporter": "python",
   "pygments_lexer": "ipython3",
   "version": "3.6.9"
  }
 },
 "nbformat": 4,
 "nbformat_minor": 5
}
